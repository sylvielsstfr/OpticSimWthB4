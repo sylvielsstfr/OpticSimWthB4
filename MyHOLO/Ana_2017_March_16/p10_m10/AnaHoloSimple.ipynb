{
 "cells": [
  {
   "cell_type": "markdown",
   "metadata": {
    "deletable": true,
    "editable": true
   },
   "source": [
    "# Simple Analyse the Hologram Data output from Beam4\n",
    "\n",
    "\n",
    "- author : Sylvie Dagoret-Campagne\n",
    "- affiliation : LAL\n",
    "- date March 7th 2017\n",
    "- update March 15th 2017\n",
    "\n",
    "with incident angle of 0.5 arcmin\n"
   ]
  },
  {
   "cell_type": "code",
   "execution_count": 1,
   "metadata": {
    "collapsed": true,
    "deletable": true,
    "editable": true
   },
   "outputs": [],
   "source": [
    "%matplotlib inline\n",
    "import matplotlib.pyplot as plt\n",
    "import numpy as np\n",
    "import os\n",
    "import matplotlib as mpl\n",
    "import pandas as pd\n",
    "import itertools"
   ]
  },
  {
   "cell_type": "code",
   "execution_count": 2,
   "metadata": {
    "collapsed": true,
    "deletable": true,
    "editable": true
   },
   "outputs": [],
   "source": [
    "# to enlarge the sizes\n",
    "params = {'legend.fontsize': 'x-large',\n",
    "          'figure.figsize': (13, 13),\n",
    "         'axes.labelsize': 'x-large',\n",
    "         'axes.titlesize':'x-large',\n",
    "         'xtick.labelsize':'x-large',\n",
    "         'ytick.labelsize':'x-large'}\n",
    "plt.rcParams.update(params)"
   ]
  },
  {
   "cell_type": "markdown",
   "metadata": {
    "deletable": true,
    "editable": true
   },
   "source": [
    "## Constants for conversions"
   ]
  },
  {
   "cell_type": "code",
   "execution_count": 3,
   "metadata": {
    "collapsed": false,
    "deletable": true,
    "editable": true
   },
   "outputs": [],
   "source": [
    "m_to_mm=1000.\n",
    "mm_to_m=1e-3\n",
    "inch_to_mm=25.4\n",
    "mm_to_inch=1./inch_to_mm\n",
    "micr_to_m=1e-6\n",
    "micr_to_mm=1e-3\n",
    "m_to_micr=1./micr_to_m\n",
    "m_to_cm=100.\n",
    "m_to_nm=1e9\n",
    "nm_to_m=1./m_to_nm"
   ]
  },
  {
   "cell_type": "code",
   "execution_count": 4,
   "metadata": {
    "collapsed": true,
    "deletable": true,
    "editable": true
   },
   "outputs": [],
   "source": [
    "arcdeg_to_arcmin=60.\n",
    "arcmin_to_arcdeg=1./arcdeg_to_arcmin\n",
    "arcmin_to_arcsec=60.\n",
    "arcdeg_to_arcsec=arcdeg_to_arcmin*arcmin_to_arcsec\n",
    "arcsec_to_arcdeg=1./arcdeg_to_arcsec"
   ]
  },
  {
   "cell_type": "code",
   "execution_count": 5,
   "metadata": {
    "collapsed": true,
    "deletable": true,
    "editable": true
   },
   "outputs": [],
   "source": [
    "deg_to_rad=np.pi/180."
   ]
  },
  {
   "cell_type": "code",
   "execution_count": 6,
   "metadata": {
    "collapsed": true,
    "deletable": true,
    "editable": true
   },
   "outputs": [],
   "source": [
    "rad_to_deg=1./deg_to_rad\n",
    "rad_to_arcsec=rad_to_deg*arcdeg_to_arcsec\n",
    "rad_to_arcmin=rad_to_deg*arcdeg_to_arcmin\n",
    "arcmin_ro_rad=1./rad_to_arcmin"
   ]
  },
  {
   "cell_type": "markdown",
   "metadata": {
    "deletable": true,
    "editable": true
   },
   "source": [
    "## Configuration parameters at the telescope"
   ]
  },
  {
   "cell_type": "markdown",
   "metadata": {
    "deletable": true,
    "editable": true
   },
   "source": [
    "#### telescope"
   ]
  },
  {
   "cell_type": "code",
   "execution_count": 7,
   "metadata": {
    "collapsed": true,
    "deletable": true,
    "editable": true
   },
   "outputs": [],
   "source": [
    "Tel_Focal_Length=12.6 # m : Focal length of the telescope\n",
    "Tel_Diameter=0.9 # m : Diameter of the telescope    \n",
    "Tel_Fnum=Tel_Focal_Length/Tel_Diameter"
   ]
  },
  {
   "cell_type": "markdown",
   "metadata": {
    "deletable": true,
    "editable": true
   },
   "source": [
    "#### filter"
   ]
  },
  {
   "cell_type": "code",
   "execution_count": 8,
   "metadata": {
    "collapsed": true,
    "deletable": true,
    "editable": true
   },
   "outputs": [],
   "source": [
    "Filt_D=0.05769 # m distance of the filter position wrt CCD plane\n",
    "Filt_size=3*inch_to_mm"
   ]
  },
  {
   "cell_type": "markdown",
   "metadata": {
    "deletable": true,
    "editable": true
   },
   "source": [
    "#### CCD detector"
   ]
  },
  {
   "cell_type": "code",
   "execution_count": 9,
   "metadata": {
    "collapsed": true,
    "deletable": true,
    "editable": true
   },
   "outputs": [],
   "source": [
    "Det_xpic=24.0 # microns per pixel\n",
    "Det_NbPix=2048 # number of pixels per CCD side\n",
    "Det_size=Det_xpic*Det_NbPix*micr_to_mm # CCD size in mm, 5 cm or 2 inch"
   ]
  },
  {
   "cell_type": "markdown",
   "metadata": {
    "deletable": true,
    "editable": true
   },
   "source": [
    "## Input file"
   ]
  },
  {
   "cell_type": "code",
   "execution_count": 10,
   "metadata": {
    "collapsed": false,
    "deletable": true,
    "editable": true
   },
   "outputs": [],
   "source": [
    "# number of rays\n",
    "NBEAM_X=11\n",
    "NBEAM_Y=11\n",
    "NBEAM=NBEAM_X*NBEAM_Y\n",
    "NWL=4\n",
    "NBTOT=NBEAM*NWL"
   ]
  },
  {
   "cell_type": "code",
   "execution_count": 11,
   "metadata": {
    "collapsed": true,
    "deletable": true,
    "editable": true
   },
   "outputs": [],
   "source": [
    "theta_x=1.0  # angle in arcmin\n",
    "theta_y=-1.0  # angle in arcmin "
   ]
  },
  {
   "cell_type": "code",
   "execution_count": 12,
   "metadata": {
    "collapsed": true,
    "deletable": true,
    "editable": true
   },
   "outputs": [],
   "source": [
    "order=\"O0\"\n",
    "order_str=\"0\""
   ]
  },
  {
   "cell_type": "code",
   "execution_count": 13,
   "metadata": {
    "collapsed": true,
    "deletable": true,
    "editable": true
   },
   "outputs": [],
   "source": [
    "theta_x_num=int(theta_x*10)\n",
    "theta_y_num=int(theta_y*10)"
   ]
  },
  {
   "cell_type": "code",
   "execution_count": 14,
   "metadata": {
    "collapsed": true,
    "deletable": true,
    "editable": true
   },
   "outputs": [],
   "source": [
    "if theta_x_num>0:\n",
    "    theta_nstr='{:0>2}'.format(theta_x_num)\n",
    "    theta_x_str=\"p\"+theta_nstr\n",
    "else:\n",
    "    theta_nstr='{:0>2}'.format(-theta_x_num)\n",
    "    theta_x_str=\"m\"+theta_nstr\n"
   ]
  },
  {
   "cell_type": "code",
   "execution_count": 15,
   "metadata": {
    "collapsed": true,
    "deletable": true,
    "editable": true
   },
   "outputs": [],
   "source": [
    "if theta_y_num>0:\n",
    "    theta_nstr='{:0>2}'.format(theta_y_num)\n",
    "    theta_y_str=\"p\"+theta_nstr\n",
    "else:\n",
    "    theta_nstr='{:0>2}'.format(-theta_y_num)\n",
    "    theta_y_str=\"m\"+theta_nstr"
   ]
  },
  {
   "cell_type": "code",
   "execution_count": 16,
   "metadata": {
    "collapsed": false,
    "deletable": true,
    "editable": true
   },
   "outputs": [
    {
     "name": "stdout",
     "output_type": "stream",
     "text": [
      "AnaHoloSimple.ipynb\r\n",
      "Beam4_Rayfile_484_allwl_p10_m10.RAY\r\n",
      "Beam4_Rayfile_484_allwl_p10_m10.xlsx\r\n",
      "Beam4_Rayfile_484_allwl_p10_m10_O0.xlsx\r\n",
      "Beam4_Rayfile_484_allwl_p10_m10_OP1.xlsx\r\n",
      "\u001b[31mHOE_LSSCalyps_O0_07032017.OPT\u001b[m\u001b[m\r\n",
      "\u001b[31mHOE_LSSCalyps_OP1_07032017.OPT\u001b[m\u001b[m\r\n",
      "~$Beam4_Rayfile_484_allwl_p10_m10_OP1.xlsx\r\n"
     ]
    }
   ],
   "source": [
    "!ls"
   ]
  },
  {
   "cell_type": "code",
   "execution_count": 17,
   "metadata": {
    "collapsed": true,
    "deletable": true,
    "editable": true
   },
   "outputs": [],
   "source": [
    "Beam4_Rayfile=\"Beam4_Rayfile_{:d}_allwl_{}_{}_{}.xlsx\".format(NBTOT,theta_x_str,theta_y_str,order)"
   ]
  },
  {
   "cell_type": "code",
   "execution_count": 18,
   "metadata": {
    "collapsed": false,
    "deletable": true,
    "editable": true
   },
   "outputs": [
    {
     "name": "stdout",
     "output_type": "stream",
     "text": [
      "Beam4_Rayfile_484_allwl_p10_m10_OP1.xlsx\n"
     ]
    }
   ],
   "source": [
    "print Beam4_Rayfile"
   ]
  },
  {
   "cell_type": "markdown",
   "metadata": {
    "deletable": true,
    "editable": true
   },
   "source": [
    "### Output file"
   ]
  },
  {
   "cell_type": "code",
   "execution_count": 19,
   "metadata": {
    "collapsed": true,
    "deletable": true,
    "editable": true
   },
   "outputs": [],
   "source": [
    "outputdata_excel=\"DISP_PSF_Beam4_Rayfile_{:d}_allwl_{}_{}_{}_out.xlsx\".format(NBTOT,theta_x_str,theta_y_str,order)"
   ]
  },
  {
   "cell_type": "code",
   "execution_count": 20,
   "metadata": {
    "collapsed": false,
    "deletable": true,
    "editable": true
   },
   "outputs": [],
   "source": [
    "figname1=\"DISP_Beam4_Rayfile_{:d}_allwl_{}_{}_{}.png\".format(NBTOT,theta_x_str,theta_y_str,order)\n",
    "figname2=\"PSF_Beam4_Rayfile_{:d}_allwl_{}_{}_{}.png\".format(NBTOT,theta_x_str,theta_y_str,order)"
   ]
  },
  {
   "cell_type": "code",
   "execution_count": 21,
   "metadata": {
    "collapsed": true,
    "deletable": true,
    "editable": true
   },
   "outputs": [],
   "source": [
    "rayfile=Beam4_Rayfile"
   ]
  },
  {
   "cell_type": "code",
   "execution_count": 22,
   "metadata": {
    "collapsed": false,
    "deletable": true,
    "editable": true
   },
   "outputs": [],
   "source": [
    "input = pd.ExcelFile(rayfile)"
   ]
  },
  {
   "cell_type": "code",
   "execution_count": 23,
   "metadata": {
    "collapsed": false,
    "deletable": true,
    "editable": true
   },
   "outputs": [],
   "source": [
    "sheet_name=input.sheet_names[0]"
   ]
  },
  {
   "cell_type": "code",
   "execution_count": 24,
   "metadata": {
    "collapsed": false,
    "deletable": true,
    "editable": true
   },
   "outputs": [],
   "source": [
    "df_colname = input.parse(sheet_name,index_row=0,header=2,usecols=range(0,14))"
   ]
  },
  {
   "cell_type": "code",
   "execution_count": 25,
   "metadata": {
    "collapsed": false,
    "deletable": true,
    "editable": true
   },
   "outputs": [
    {
     "data": {
      "text/html": [
       "<div>\n",
       "<table border=\"1\" class=\"dataframe\">\n",
       "  <thead>\n",
       "    <tr style=\"text-align: right;\">\n",
       "      <th></th>\n",
       "      <th>---------------</th>\n",
       "      <th>---------------.1</th>\n",
       "      <th>---------------.2</th>\n",
       "      <th>---------------.3</th>\n",
       "      <th>---------------.4</th>\n",
       "      <th>---------------.5</th>\n",
       "      <th>--------</th>\n",
       "      <th>----------</th>\n",
       "      <th>---------------.6</th>\n",
       "      <th>---------------.7</th>\n",
       "      <th>---------------.8</th>\n",
       "      <th>---------------.9</th>\n",
       "      <th>------</th>\n",
       "    </tr>\n",
       "  </thead>\n",
       "  <tbody>\n",
       "    <tr>\n",
       "      <th>0</th>\n",
       "      <td>-6.545414</td>\n",
       "      <td>0.717844</td>\n",
       "      <td>0</td>\n",
       "      <td>0.024947</td>\n",
       "      <td>0.025528</td>\n",
       "      <td>0.999363</td>\n",
       "      <td>0.0004</td>\n",
       "      <td>-0.28972</td>\n",
       "      <td>NaN</td>\n",
       "      <td>NaN</td>\n",
       "      <td>-3.699902</td>\n",
       "      <td>-0.541378</td>\n",
       "      <td>OK 3</td>\n",
       "    </tr>\n",
       "    <tr>\n",
       "      <th>1</th>\n",
       "      <td>-5.962657</td>\n",
       "      <td>0.717844</td>\n",
       "      <td>0</td>\n",
       "      <td>0.019902</td>\n",
       "      <td>0.025531</td>\n",
       "      <td>0.999476</td>\n",
       "      <td>0.0004</td>\n",
       "      <td>-0.25990</td>\n",
       "      <td>NaN</td>\n",
       "      <td>NaN</td>\n",
       "      <td>-3.698127</td>\n",
       "      <td>-0.542707</td>\n",
       "      <td>OK 3</td>\n",
       "    </tr>\n",
       "    <tr>\n",
       "      <th>2</th>\n",
       "      <td>-5.379900</td>\n",
       "      <td>0.717844</td>\n",
       "      <td>0</td>\n",
       "      <td>0.014855</td>\n",
       "      <td>0.025534</td>\n",
       "      <td>0.999564</td>\n",
       "      <td>0.0004</td>\n",
       "      <td>-0.23299</td>\n",
       "      <td>NaN</td>\n",
       "      <td>NaN</td>\n",
       "      <td>-3.696350</td>\n",
       "      <td>-0.544040</td>\n",
       "      <td>OK 3</td>\n",
       "    </tr>\n",
       "    <tr>\n",
       "      <th>3</th>\n",
       "      <td>-4.797143</td>\n",
       "      <td>0.717844</td>\n",
       "      <td>0</td>\n",
       "      <td>0.009807</td>\n",
       "      <td>0.025535</td>\n",
       "      <td>0.999626</td>\n",
       "      <td>0.0004</td>\n",
       "      <td>-0.20900</td>\n",
       "      <td>NaN</td>\n",
       "      <td>NaN</td>\n",
       "      <td>-3.694570</td>\n",
       "      <td>-0.545377</td>\n",
       "      <td>OK 3</td>\n",
       "    </tr>\n",
       "    <tr>\n",
       "      <th>4</th>\n",
       "      <td>-4.214386</td>\n",
       "      <td>0.717844</td>\n",
       "      <td>0</td>\n",
       "      <td>0.004758</td>\n",
       "      <td>0.025536</td>\n",
       "      <td>0.999663</td>\n",
       "      <td>0.0004</td>\n",
       "      <td>-0.18793</td>\n",
       "      <td>NaN</td>\n",
       "      <td>NaN</td>\n",
       "      <td>-3.692787</td>\n",
       "      <td>-0.546718</td>\n",
       "      <td>OK 3</td>\n",
       "    </tr>\n",
       "  </tbody>\n",
       "</table>\n",
       "</div>"
      ],
      "text/plain": [
       "   ---------------  ---------------.1  ---------------.2  ---------------.3  \\\n",
       "0        -6.545414           0.717844                  0           0.024947   \n",
       "1        -5.962657           0.717844                  0           0.019902   \n",
       "2        -5.379900           0.717844                  0           0.014855   \n",
       "3        -4.797143           0.717844                  0           0.009807   \n",
       "4        -4.214386           0.717844                  0           0.004758   \n",
       "\n",
       "   ---------------.4  ---------------.5  --------  ----------  \\\n",
       "0           0.025528           0.999363    0.0004    -0.28972   \n",
       "1           0.025531           0.999476    0.0004    -0.25990   \n",
       "2           0.025534           0.999564    0.0004    -0.23299   \n",
       "3           0.025535           0.999626    0.0004    -0.20900   \n",
       "4           0.025536           0.999663    0.0004    -0.18793   \n",
       "\n",
       "   ---------------.6  ---------------.7  ---------------.8  ---------------.9  \\\n",
       "0                NaN                NaN          -3.699902          -0.541378   \n",
       "1                NaN                NaN          -3.698127          -0.542707   \n",
       "2                NaN                NaN          -3.696350          -0.544040   \n",
       "3                NaN                NaN          -3.694570          -0.545377   \n",
       "4                NaN                NaN          -3.692787          -0.546718   \n",
       "\n",
       "  ------  \n",
       "0   OK 3  \n",
       "1   OK 3  \n",
       "2   OK 3  \n",
       "3   OK 3  \n",
       "4   OK 3  "
      ]
     },
     "execution_count": 25,
     "metadata": {},
     "output_type": "execute_result"
    }
   ],
   "source": [
    "df_colname.head()"
   ]
  },
  {
   "cell_type": "code",
   "execution_count": 26,
   "metadata": {
    "collapsed": false,
    "deletable": true,
    "editable": true
   },
   "outputs": [],
   "source": [
    "df = input.parse(sheet_name,index_row=0,header=2,usecols=range(0,14))\n",
    "#df.columns = [\"X0\",\"Y0\",\"Z0\",\"U0\",\"V0\",\"W0\",\"wave\",\"col\",\"WFE\",\"Xgoal\",\"Ygoal\",\"Xfinal\",\"Yfinal\",\"Notes\"]\n",
    "df.columns = [\"X0\",\"Y0\",\"Z0\",\"U0\",\"V0\",\"W0\",\"wave\",\"WFE\",\"Xgoal\",\"Ygoal\",\"Xfinal\",\"Yfinal\",\"Notes\"]"
   ]
  },
  {
   "cell_type": "code",
   "execution_count": 27,
   "metadata": {
    "collapsed": false,
    "deletable": true,
    "editable": true
   },
   "outputs": [
    {
     "data": {
      "text/html": [
       "<div>\n",
       "<table border=\"1\" class=\"dataframe\">\n",
       "  <thead>\n",
       "    <tr style=\"text-align: right;\">\n",
       "      <th></th>\n",
       "      <th>X0</th>\n",
       "      <th>Y0</th>\n",
       "      <th>Z0</th>\n",
       "      <th>U0</th>\n",
       "      <th>V0</th>\n",
       "      <th>W0</th>\n",
       "      <th>wave</th>\n",
       "      <th>WFE</th>\n",
       "      <th>Xgoal</th>\n",
       "      <th>Ygoal</th>\n",
       "      <th>Xfinal</th>\n",
       "      <th>Yfinal</th>\n",
       "      <th>Notes</th>\n",
       "    </tr>\n",
       "  </thead>\n",
       "  <tbody>\n",
       "    <tr>\n",
       "      <th>0</th>\n",
       "      <td>-6.545414</td>\n",
       "      <td>0.717844</td>\n",
       "      <td>0</td>\n",
       "      <td>0.024947</td>\n",
       "      <td>0.025528</td>\n",
       "      <td>0.999363</td>\n",
       "      <td>0.0004</td>\n",
       "      <td>-0.28972</td>\n",
       "      <td>NaN</td>\n",
       "      <td>NaN</td>\n",
       "      <td>-3.699902</td>\n",
       "      <td>-0.541378</td>\n",
       "      <td>OK 3</td>\n",
       "    </tr>\n",
       "    <tr>\n",
       "      <th>1</th>\n",
       "      <td>-5.962657</td>\n",
       "      <td>0.717844</td>\n",
       "      <td>0</td>\n",
       "      <td>0.019902</td>\n",
       "      <td>0.025531</td>\n",
       "      <td>0.999476</td>\n",
       "      <td>0.0004</td>\n",
       "      <td>-0.25990</td>\n",
       "      <td>NaN</td>\n",
       "      <td>NaN</td>\n",
       "      <td>-3.698127</td>\n",
       "      <td>-0.542707</td>\n",
       "      <td>OK 3</td>\n",
       "    </tr>\n",
       "    <tr>\n",
       "      <th>2</th>\n",
       "      <td>-5.379900</td>\n",
       "      <td>0.717844</td>\n",
       "      <td>0</td>\n",
       "      <td>0.014855</td>\n",
       "      <td>0.025534</td>\n",
       "      <td>0.999564</td>\n",
       "      <td>0.0004</td>\n",
       "      <td>-0.23299</td>\n",
       "      <td>NaN</td>\n",
       "      <td>NaN</td>\n",
       "      <td>-3.696350</td>\n",
       "      <td>-0.544040</td>\n",
       "      <td>OK 3</td>\n",
       "    </tr>\n",
       "    <tr>\n",
       "      <th>3</th>\n",
       "      <td>-4.797143</td>\n",
       "      <td>0.717844</td>\n",
       "      <td>0</td>\n",
       "      <td>0.009807</td>\n",
       "      <td>0.025535</td>\n",
       "      <td>0.999626</td>\n",
       "      <td>0.0004</td>\n",
       "      <td>-0.20900</td>\n",
       "      <td>NaN</td>\n",
       "      <td>NaN</td>\n",
       "      <td>-3.694570</td>\n",
       "      <td>-0.545377</td>\n",
       "      <td>OK 3</td>\n",
       "    </tr>\n",
       "    <tr>\n",
       "      <th>4</th>\n",
       "      <td>-4.214386</td>\n",
       "      <td>0.717844</td>\n",
       "      <td>0</td>\n",
       "      <td>0.004758</td>\n",
       "      <td>0.025536</td>\n",
       "      <td>0.999663</td>\n",
       "      <td>0.0004</td>\n",
       "      <td>-0.18793</td>\n",
       "      <td>NaN</td>\n",
       "      <td>NaN</td>\n",
       "      <td>-3.692787</td>\n",
       "      <td>-0.546718</td>\n",
       "      <td>OK 3</td>\n",
       "    </tr>\n",
       "  </tbody>\n",
       "</table>\n",
       "</div>"
      ],
      "text/plain": [
       "         X0        Y0  Z0        U0        V0        W0    wave      WFE  \\\n",
       "0 -6.545414  0.717844   0  0.024947  0.025528  0.999363  0.0004 -0.28972   \n",
       "1 -5.962657  0.717844   0  0.019902  0.025531  0.999476  0.0004 -0.25990   \n",
       "2 -5.379900  0.717844   0  0.014855  0.025534  0.999564  0.0004 -0.23299   \n",
       "3 -4.797143  0.717844   0  0.009807  0.025535  0.999626  0.0004 -0.20900   \n",
       "4 -4.214386  0.717844   0  0.004758  0.025536  0.999663  0.0004 -0.18793   \n",
       "\n",
       "   Xgoal  Ygoal    Xfinal    Yfinal  Notes  \n",
       "0    NaN    NaN -3.699902 -0.541378   OK 3  \n",
       "1    NaN    NaN -3.698127 -0.542707   OK 3  \n",
       "2    NaN    NaN -3.696350 -0.544040   OK 3  \n",
       "3    NaN    NaN -3.694570 -0.545377   OK 3  \n",
       "4    NaN    NaN -3.692787 -0.546718   OK 3  "
      ]
     },
     "execution_count": 27,
     "metadata": {},
     "output_type": "execute_result"
    }
   ],
   "source": [
    "df.head()"
   ]
  },
  {
   "cell_type": "markdown",
   "metadata": {
    "deletable": true,
    "editable": true
   },
   "source": [
    "### Decoding"
   ]
  },
  {
   "cell_type": "code",
   "execution_count": 28,
   "metadata": {
    "collapsed": false,
    "deletable": true,
    "editable": true
   },
   "outputs": [],
   "source": [
    "wave=df[\"wave\"]"
   ]
  },
  {
   "cell_type": "code",
   "execution_count": 29,
   "metadata": {
    "collapsed": true,
    "deletable": true,
    "editable": true
   },
   "outputs": [],
   "source": [
    "Xfinal=df[\"Xfinal\"]\n",
    "Yfinal=df[\"Yfinal\"]"
   ]
  },
  {
   "cell_type": "code",
   "execution_count": 30,
   "metadata": {
    "collapsed": true,
    "deletable": true,
    "editable": true
   },
   "outputs": [],
   "source": [
    "selected_indexes1=np.where(wave==0.0004)\n",
    "selected_indexes2=np.where(wave==0.0006)\n",
    "selected_indexes3=np.where(wave==0.0008)\n",
    "selected_indexes4=np.where(wave==0.0010)"
   ]
  },
  {
   "cell_type": "code",
   "execution_count": 31,
   "metadata": {
    "collapsed": false,
    "deletable": true,
    "editable": true
   },
   "outputs": [
    {
     "data": {
      "text/plain": [
       "(array([  0,   1,   2,   3,   4,   5,   6,   7,   8,   9,  10,  11,  12,\n",
       "         13,  14,  15,  16,  17,  18,  19,  20,  21,  22,  23,  24,  25,\n",
       "         26,  27,  28,  29,  30,  31,  32,  33,  34,  35,  36,  37,  38,\n",
       "         39,  40,  41,  42,  43,  44,  45,  46,  47,  48,  49,  50,  51,\n",
       "         52,  53,  54,  55,  56,  57,  58,  59,  60,  61,  62,  63,  64,\n",
       "         65,  66,  67,  68,  69,  70,  71,  72,  73,  74,  75,  76,  77,\n",
       "         78,  79,  80,  81,  82,  83,  84,  85,  86,  87,  88,  89,  90,\n",
       "         91,  92,  93,  94,  95,  96,  97,  98,  99, 100, 101, 102, 103,\n",
       "        104, 105, 106, 107, 108, 109, 110, 111, 112, 113, 114, 115, 116,\n",
       "        117, 118, 119, 120]),)"
      ]
     },
     "execution_count": 31,
     "metadata": {},
     "output_type": "execute_result"
    }
   ],
   "source": [
    "selected_indexes1"
   ]
  },
  {
   "cell_type": "code",
   "execution_count": 32,
   "metadata": {
    "collapsed": true,
    "deletable": true,
    "editable": true
   },
   "outputs": [],
   "source": [
    "def GetInfo(a):\n",
    "    a_av=np.average(a)\n",
    "    a_rms=np.std(a)\n",
    "    a_min=np.min(a)\n",
    "    a_max=np.max(a)\n",
    "    a_width=a_max-a_min\n",
    "    return a_av,a_rms,a_min,a_max,a_width"
   ]
  },
  {
   "cell_type": "code",
   "execution_count": 33,
   "metadata": {
    "collapsed": false,
    "deletable": true,
    "editable": true
   },
   "outputs": [],
   "source": [
    "x1=Xfinal[selected_indexes1[0]]\n",
    "y1=Yfinal[selected_indexes1[0]]"
   ]
  },
  {
   "cell_type": "code",
   "execution_count": 34,
   "metadata": {
    "collapsed": true,
    "deletable": true,
    "editable": true
   },
   "outputs": [],
   "source": [
    "x1av,x1std,x1min,x1max,x1wdt=GetInfo(x1)\n",
    "y1av,y1std,y1min,y1max,y1wdt=GetInfo(y1)"
   ]
  },
  {
   "cell_type": "code",
   "execution_count": 35,
   "metadata": {
    "collapsed": true,
    "deletable": true,
    "editable": true
   },
   "outputs": [],
   "source": [
    "x2=Xfinal[selected_indexes2[0]]\n",
    "y2=Yfinal[selected_indexes2[0]]"
   ]
  },
  {
   "cell_type": "code",
   "execution_count": 36,
   "metadata": {
    "collapsed": true,
    "deletable": true,
    "editable": true
   },
   "outputs": [],
   "source": [
    "x2av,x2std,x2min,x2max,x2wdt=GetInfo(x2)\n",
    "y2av,y2std,y2min,y2max,y2wdt=GetInfo(y2)"
   ]
  },
  {
   "cell_type": "code",
   "execution_count": 37,
   "metadata": {
    "collapsed": true,
    "deletable": true,
    "editable": true
   },
   "outputs": [],
   "source": [
    "x3=Xfinal[selected_indexes3[0]]\n",
    "y3=Yfinal[selected_indexes3[0]]"
   ]
  },
  {
   "cell_type": "code",
   "execution_count": 38,
   "metadata": {
    "collapsed": true,
    "deletable": true,
    "editable": true
   },
   "outputs": [],
   "source": [
    "x3av,x3std,x3min,x3max,x3wdt=GetInfo(x3)\n",
    "y3av,y3std,y3min,y3max,y3wdt=GetInfo(y3)"
   ]
  },
  {
   "cell_type": "code",
   "execution_count": 39,
   "metadata": {
    "collapsed": true,
    "deletable": true,
    "editable": true
   },
   "outputs": [],
   "source": [
    "x4=Xfinal[selected_indexes4[0]]\n",
    "y4=Yfinal[selected_indexes4[0]]"
   ]
  },
  {
   "cell_type": "code",
   "execution_count": 40,
   "metadata": {
    "collapsed": true,
    "deletable": true,
    "editable": true
   },
   "outputs": [],
   "source": [
    "x4av,x4std,x4min,x4max,x4wdt=GetInfo(x4)\n",
    "y4av,y4std,y4min,y4max,y4wdt=GetInfo(y4)"
   ]
  },
  {
   "cell_type": "code",
   "execution_count": 41,
   "metadata": {
    "collapsed": true,
    "deletable": true,
    "editable": true
   },
   "outputs": [],
   "source": [
    "xav=np.array([x1av,x2av,x3av,x4av])\n",
    "xstd=np.array([x1std,x2std,x3std,x4std])\n",
    "xmin=np.array([x1min,x2min,x3min,x4min])\n",
    "xmax=np.array([x1max,x2max,x3max,x4max])\n",
    "xwdt=np.array([x1wdt,x2wdt,x3wdt,x4wdt])\n",
    "yav=np.array([y1av,y2av,y3av,y4av])\n",
    "ystd=np.array([y1std,y2std,y3std,y4std])\n",
    "ymin=np.array([y1min,y2min,y3min,y4min])\n",
    "ymax=np.array([y1max,y2max,y3max,y4max])\n",
    "ywdt=np.array([y1wdt,y2wdt,y3wdt,y4wdt])\n"
   ]
  },
  {
   "cell_type": "code",
   "execution_count": 42,
   "metadata": {
    "collapsed": true,
    "deletable": true,
    "editable": true
   },
   "outputs": [],
   "source": [
    "dataout = {'xav': xav,'xstd' :xstd,'xmin' :xmin,'xmax' :xmax,'xwdt':xwdt,'yav': yav,'ystd' :ystd,'ymin' :ymin,'ymax' :ymax,'ywdt':ywdt}"
   ]
  },
  {
   "cell_type": "code",
   "execution_count": 43,
   "metadata": {
    "collapsed": true,
    "deletable": true,
    "editable": true
   },
   "outputs": [],
   "source": [
    "df = pd.DataFrame(dataout, index = ['400nm', '600nm', '800nm', '1000nm'])"
   ]
  },
  {
   "cell_type": "code",
   "execution_count": 44,
   "metadata": {
    "collapsed": false,
    "deletable": true,
    "editable": true
   },
   "outputs": [
    {
     "data": {
      "text/html": [
       "<div>\n",
       "<table border=\"1\" class=\"dataframe\">\n",
       "  <thead>\n",
       "    <tr style=\"text-align: right;\">\n",
       "      <th></th>\n",
       "      <th>xav</th>\n",
       "      <th>xmax</th>\n",
       "      <th>xmin</th>\n",
       "      <th>xstd</th>\n",
       "      <th>xwdt</th>\n",
       "      <th>yav</th>\n",
       "      <th>ymax</th>\n",
       "      <th>ymin</th>\n",
       "      <th>ystd</th>\n",
       "      <th>ywdt</th>\n",
       "    </tr>\n",
       "  </thead>\n",
       "  <tbody>\n",
       "    <tr>\n",
       "      <th>400nm</th>\n",
       "      <td>-3.697609</td>\n",
       "      <td>-3.682020</td>\n",
       "      <td>-3.712927</td>\n",
       "      <td>0.006989</td>\n",
       "      <td>0.030907</td>\n",
       "      <td>-0.521681</td>\n",
       "      <td>-0.489008</td>\n",
       "      <td>-0.554833</td>\n",
       "      <td>0.017155</td>\n",
       "      <td>0.065825</td>\n",
       "    </tr>\n",
       "    <tr>\n",
       "      <th>600nm</th>\n",
       "      <td>-3.714025</td>\n",
       "      <td>-3.693590</td>\n",
       "      <td>-3.734158</td>\n",
       "      <td>0.009077</td>\n",
       "      <td>0.040568</td>\n",
       "      <td>-2.636394</td>\n",
       "      <td>-2.595617</td>\n",
       "      <td>-2.677665</td>\n",
       "      <td>0.020595</td>\n",
       "      <td>0.082048</td>\n",
       "    </tr>\n",
       "    <tr>\n",
       "      <th>800nm</th>\n",
       "      <td>-3.730672</td>\n",
       "      <td>-3.707311</td>\n",
       "      <td>-3.753742</td>\n",
       "      <td>0.010509</td>\n",
       "      <td>0.046431</td>\n",
       "      <td>-4.777223</td>\n",
       "      <td>-4.733768</td>\n",
       "      <td>-4.821059</td>\n",
       "      <td>0.020843</td>\n",
       "      <td>0.087291</td>\n",
       "    </tr>\n",
       "    <tr>\n",
       "      <th>1000nm</th>\n",
       "      <td>-3.747625</td>\n",
       "      <td>-3.723294</td>\n",
       "      <td>-3.771701</td>\n",
       "      <td>0.011654</td>\n",
       "      <td>0.048408</td>\n",
       "      <td>-6.953758</td>\n",
       "      <td>-6.913184</td>\n",
       "      <td>-6.994485</td>\n",
       "      <td>0.018365</td>\n",
       "      <td>0.081302</td>\n",
       "    </tr>\n",
       "  </tbody>\n",
       "</table>\n",
       "</div>"
      ],
      "text/plain": [
       "             xav      xmax      xmin      xstd      xwdt       yav      ymax  \\\n",
       "400nm  -3.697609 -3.682020 -3.712927  0.006989  0.030907 -0.521681 -0.489008   \n",
       "600nm  -3.714025 -3.693590 -3.734158  0.009077  0.040568 -2.636394 -2.595617   \n",
       "800nm  -3.730672 -3.707311 -3.753742  0.010509  0.046431 -4.777223 -4.733768   \n",
       "1000nm -3.747625 -3.723294 -3.771701  0.011654  0.048408 -6.953758 -6.913184   \n",
       "\n",
       "            ymin      ystd      ywdt  \n",
       "400nm  -0.554833  0.017155  0.065825  \n",
       "600nm  -2.677665  0.020595  0.082048  \n",
       "800nm  -4.821059  0.020843  0.087291  \n",
       "1000nm -6.994485  0.018365  0.081302  "
      ]
     },
     "execution_count": 44,
     "metadata": {},
     "output_type": "execute_result"
    }
   ],
   "source": [
    "df.head()"
   ]
  },
  {
   "cell_type": "code",
   "execution_count": 45,
   "metadata": {
    "collapsed": true,
    "deletable": true,
    "editable": true
   },
   "outputs": [],
   "source": [
    "df.to_excel(outputdata_excel)"
   ]
  },
  {
   "cell_type": "code",
   "execution_count": 46,
   "metadata": {
    "collapsed": false,
    "deletable": true,
    "editable": true
   },
   "outputs": [
    {
     "data": {
      "image/png": "[encoded data removed]",
      "text/plain": [
       "<matplotlib.figure.Figure at 0x10868ef50>"
      ]
     },
     "metadata": {},
     "output_type": "display_data"
    }
   ],
   "source": [
    "plt.plot(x1,y1,\"b.\")\n",
    "plt.plot(x2,y2,\"g.\")\n",
    "plt.plot(x3,y3,\"r.\")\n",
    "plt.plot(x4,y4,\"k.\")\n",
    "plt.xlim(-Det_size/2,Det_size/2.)\n",
    "plt.ylim(-Det_size/2,Det_size/2)\n",
    "plt.grid(True)\n",
    "plt.xlabel(\"x (mm)\")\n",
    "plt.ylabel(\"y (mm)\")\n",
    "fulltitle=\"Dispersion at Focal Plane for angles ({:2.2f} , {:2.2f}) arcmin, order = {}\".format(theta_x,theta_y,order_str)\n",
    "plt.title(fulltitle,fontsize=16)\n",
    "plt.savefig(figname1)"
   ]
  },
  {
   "cell_type": "code",
   "execution_count": 47,
   "metadata": {
    "collapsed": false,
    "deletable": true,
    "editable": true
   },
   "outputs": [
    {
     "data": {
      "image/png": "[encoded data removed]",
      "text/plain": [
       "<matplotlib.figure.Figure at 0x108b163d0>"
      ]
     },
     "metadata": {},
     "output_type": "display_data"
    }
   ],
   "source": [
    "wdt=0.200  # with 50 microns\n",
    "f, ((ax1, ax2), (ax3, ax4)) = plt.subplots(2, 2)\n",
    "ax1.plot(x1, y1,'bo')\n",
    "ax1.set_xlim(x1av-wdt/2,x1av+wdt/2)\n",
    "ax1.set_ylim(y1av-wdt/2,y1av+wdt/2)\n",
    "ax1.set_title('Focal Point Spread : $\\lambda=400$nm')\n",
    "ax1.set_xlabel('x (mm)')\n",
    "ax1.set_ylabel('y (mm)')\n",
    "ax1.grid()\n",
    "ax2.plot(x2, y2,'go')\n",
    "ax2.set_xlim(x2av-wdt/2,x2av+wdt/2)\n",
    "ax2.set_ylim(y2av-wdt/2,y2av+wdt/2)\n",
    "ax2.set_xlabel('x (mm)')\n",
    "ax2.set_ylabel('y (mm)')\n",
    "ax2.grid()\n",
    "ax2.set_title('Focal Point Spread : $\\lambda=600$nm')\n",
    "ax3.plot(x3, y3,'ro')\n",
    "ax3.set_xlim(x3av-wdt/2,x3av+wdt/2)\n",
    "ax3.set_ylim(y3av-wdt/2,y3av+wdt/2)\n",
    "ax3.set_xlabel('x (mm)')\n",
    "ax3.set_ylabel('y (mm)')\n",
    "ax3.grid()\n",
    "ax3.set_title('Focal Point Spread : $\\lambda=800$nm')\n",
    "ax4.plot(x4, y4,'ko')\n",
    "ax4.set_xlim(x4av-wdt/2,x4av+wdt/2)\n",
    "ax4.set_ylim(y4av-wdt/2,y4av+wdt/2)\n",
    "ax4.set_xlabel('x (mm)')\n",
    "ax4.set_ylabel('y (mm)')\n",
    "ax4.grid()\n",
    "ax4.set_title('Focal Point Spread : $\\lambda=1\\mu$m')\n",
    "fulltitle=\"PSF at Focal Plane for file = {}\".format(rayfile)\n",
    "fulltitle=\"PSF at Focal Plane for angles ({:2.2f} , {:2.2f}) arcmin, order = {}\".format(theta_x,theta_y,order_str)\n",
    "plt.suptitle(fulltitle,fontsize=16)\n",
    "plt.savefig(figname2)"
   ]
  },
  {
   "cell_type": "code",
   "execution_count": null,
   "metadata": {
    "collapsed": true,
    "deletable": true,
    "editable": true
   },
   "outputs": [],
   "source": []
  }
 ],
 "metadata": {
  "anaconda-cloud": {},
  "kernelspec": {
   "display_name": "Python [conda env:pyastrophys]",
   "language": "python",
   "name": "conda-env-pyastrophys-py"
  },
  "language_info": {
   "codemirror_mode": {
    "name": "ipython",
    "version": 2
   },
   "file_extension": ".py",
   "mimetype": "text/x-python",
   "name": "python",
   "nbconvert_exporter": "python",
   "pygments_lexer": "ipython2",
   "version": "2.7.12"
  }
 },
 "nbformat": 4,
 "nbformat_minor": 2
}
