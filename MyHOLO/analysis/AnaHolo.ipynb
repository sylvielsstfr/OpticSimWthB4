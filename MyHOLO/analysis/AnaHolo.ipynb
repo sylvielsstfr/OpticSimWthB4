{
 "cells": [
  {
   "cell_type": "code",
   "execution_count": 1,
   "metadata": {
    "collapsed": true
   },
   "outputs": [],
   "source": [
    "%matplotlib inline\n",
    "import matplotlib.pyplot as plt\n",
    "import numpy as np\n",
    "import os\n",
    "import matplotlib as mpl\n",
    "import pandas as pd\n",
    "import itertools\n"
   ]
  },
  {
   "cell_type": "code",
   "execution_count": 2,
   "metadata": {
    "collapsed": true
   },
   "outputs": [],
   "source": [
    "# to enlarge the sizes\n",
    "params = {'legend.fontsize': 'x-large',\n",
    "          'figure.figsize': (8, 8),\n",
    "         'axes.labelsize': 'x-large',\n",
    "         'axes.titlesize':'x-large',\n",
    "         'xtick.labelsize':'x-large',\n",
    "         'ytick.labelsize':'x-large'}\n",
    "plt.rcParams.update(params)"
   ]
  },
  {
   "cell_type": "code",
   "execution_count": 3,
   "metadata": {
    "collapsed": false
   },
   "outputs": [
    {
     "name": "stdout",
     "output_type": "stream",
     "text": [
      " Beam4_Rayfile_484_allwl_0_10.xlsx    \u001b[31mHOE_LSSCalyps_21022017.OPT\u001b[m\u001b[m\r\n",
      "Beam4_Rayfile_121_1000nm_0_0.RAY      \u001b[31mHOE_LSSCalyps_28022017.OPT\u001b[m\u001b[m\r\n",
      "Beam4_Rayfile_121_1000nm_0_0.xlsx     HOE_LSSCalyps_XYZ_1000nm_21022017.RAY\r\n",
      "Beam4_Rayfile_121_1000nm_0_10.RAY     HOE_LSSCalyps_XYZ_400nm_21022017.RAY\r\n",
      "Beam4_Rayfile_121_400nm_0_0.RAY       HOE_LSSCalyps_XYZ_400nm_21022017.RAY~\r\n",
      "Beam4_Rayfile_121_400nm_0_10.RAY      HOE_LSSCalyps_XYZ_600nm_21022017.RAY\r\n",
      "Beam4_Rayfile_121_400nm_10_0.RAY      HOE_LSSCalyps_XYZ_800nm_21022017.RAY\r\n",
      "Beam4_Rayfile_121_400nm_10_10.RAY     HOE_LSSCalyps_XYZ_allwl_21022017.RAY\r\n",
      "Beam4_Rayfile_121_600nm_0_0.RAY       \u001b[31mLENS.RAY\u001b[m\u001b[m\r\n",
      "Beam4_Rayfile_121_600nm_0_10.RAY      Quick1.png\r\n",
      "Beam4_Rayfile_121_800nm_0_0.RAY       Quick2.png\r\n",
      "Beam4_Rayfile_121_800nm_0_10.RAY      RaySingleFocus.RAY\r\n",
      "Beam4_Rayfile_484_allwl_0_0.RAY       \u001b[31mSquareBeam.RAY\u001b[m\u001b[m\r\n",
      "Beam4_Rayfile_484_allwl_0_0.RAY~      \u001b[34manalysis\u001b[m\u001b[m\r\n",
      "Beam4_Rayfile_484_allwl_0_10.RAY      \u001b[34mpython\u001b[m\u001b[m\r\n",
      "Beam4_Rayfile_484_allwl_0_10.RAY~\r\n"
     ]
    }
   ],
   "source": [
    "!ls .."
   ]
  },
  {
   "cell_type": "code",
   "execution_count": 4,
   "metadata": {
    "collapsed": true
   },
   "outputs": [],
   "source": [
    "rayfile=\"../Beam4_Rayfile_484_allwl_0_10.xlsx\""
   ]
  },
  {
   "cell_type": "code",
   "execution_count": 6,
   "metadata": {
    "collapsed": false
   },
   "outputs": [],
   "source": [
    "input = pd.ExcelFile(rayfile)"
   ]
  },
  {
   "cell_type": "code",
   "execution_count": 8,
   "metadata": {
    "collapsed": false
   },
   "outputs": [],
   "source": [
    "sheet_name=input.sheet_names[0]"
   ]
  },
  {
   "cell_type": "code",
   "execution_count": 44,
   "metadata": {
    "collapsed": true
   },
   "outputs": [],
   "source": [
    "df_colname = input.parse(sheet_name,index_row=0,usecols=range(0,13))"
   ]
  },
  {
   "cell_type": "code",
   "execution_count": 46,
   "metadata": {
    "collapsed": false
   },
   "outputs": [
    {
     "data": {
      "text/html": [
       "<div>\n",
       "<table border=\"1\" class=\"dataframe\">\n",
       "  <thead>\n",
       "    <tr style=\"text-align: right;\">\n",
       "      <th></th>\n",
       "      <th>484 rays        Beam4_Rayfile_484_allwl_0_10.RAY</th>\n",
       "      <th>Unnamed: 1</th>\n",
       "      <th>Unnamed: 2</th>\n",
       "      <th>Unnamed: 3</th>\n",
       "      <th>Unnamed: 4</th>\n",
       "      <th>Unnamed: 5</th>\n",
       "      <th>Unnamed: 6</th>\n",
       "      <th>Unnamed: 7</th>\n",
       "      <th>Unnamed: 8</th>\n",
       "      <th>Unnamed: 9</th>\n",
       "      <th>Unnamed: 10</th>\n",
       "      <th>Unnamed: 11</th>\n",
       "      <th>Unnamed: 12</th>\n",
       "    </tr>\n",
       "  </thead>\n",
       "  <tbody>\n",
       "    <tr>\n",
       "      <th>0</th>\n",
       "      <td>X0</td>\n",
       "      <td>Y0</td>\n",
       "      <td>Z0</td>\n",
       "      <td>U0</td>\n",
       "      <td>V0</td>\n",
       "      <td>W0</td>\n",
       "      <td>wave</td>\n",
       "      <td>WFE</td>\n",
       "      <td>Xgoal</td>\n",
       "      <td>Ygoal</td>\n",
       "      <td>Xfinal</td>\n",
       "      <td>Yfinal</td>\n",
       "      <td>Notes</td>\n",
       "    </tr>\n",
       "    <tr>\n",
       "      <th>1</th>\n",
       "      <td>---------------</td>\n",
       "      <td>---------------</td>\n",
       "      <td>---------------</td>\n",
       "      <td>---------------</td>\n",
       "      <td>---------------</td>\n",
       "      <td>---------------</td>\n",
       "      <td>---------------</td>\n",
       "      <td>---------------</td>\n",
       "      <td>---------------</td>\n",
       "      <td>---------------</td>\n",
       "      <td>---------------</td>\n",
       "      <td>---------------</td>\n",
       "      <td>----------</td>\n",
       "    </tr>\n",
       "    <tr>\n",
       "      <th>2</th>\n",
       "      <td>-2.91379</td>\n",
       "      <td>-6.54541</td>\n",
       "      <td>0</td>\n",
       "      <td>0.0252379</td>\n",
       "      <td>0.0249472</td>\n",
       "      <td>0.99937</td>\n",
       "      <td>0.0004</td>\n",
       "      <td>-0.274853</td>\n",
       "      <td>NaN</td>\n",
       "      <td>NaN</td>\n",
       "      <td>0.0029314</td>\n",
       "      <td>-7.93411</td>\n",
       "      <td>OK 3</td>\n",
       "    </tr>\n",
       "    <tr>\n",
       "      <th>3</th>\n",
       "      <td>-2.33103</td>\n",
       "      <td>-6.54541</td>\n",
       "      <td>0</td>\n",
       "      <td>0.0201926</td>\n",
       "      <td>0.0249501</td>\n",
       "      <td>0.999485</td>\n",
       "      <td>0.0004</td>\n",
       "      <td>-0.261615</td>\n",
       "      <td>NaN</td>\n",
       "      <td>NaN</td>\n",
       "      <td>0.0023463</td>\n",
       "      <td>-7.93411</td>\n",
       "      <td>OK 3</td>\n",
       "    </tr>\n",
       "    <tr>\n",
       "      <th>4</th>\n",
       "      <td>-1.74827</td>\n",
       "      <td>-6.54541</td>\n",
       "      <td>0</td>\n",
       "      <td>0.0151458</td>\n",
       "      <td>0.0249523</td>\n",
       "      <td>0.999574</td>\n",
       "      <td>0.0004</td>\n",
       "      <td>-0.251315</td>\n",
       "      <td>NaN</td>\n",
       "      <td>NaN</td>\n",
       "      <td>0.0017604</td>\n",
       "      <td>-7.93411</td>\n",
       "      <td>OK 3</td>\n",
       "    </tr>\n",
       "  </tbody>\n",
       "</table>\n",
       "</div>"
      ],
      "text/plain": [
       "  484 rays        Beam4_Rayfile_484_allwl_0_10.RAY       Unnamed: 1  \\\n",
       "0                                  X0               Y0                \n",
       "1                                  ---------------  ---------------   \n",
       "2                                         -2.91379         -6.54541   \n",
       "3                                         -2.33103         -6.54541   \n",
       "4                                         -1.74827         -6.54541   \n",
       "\n",
       "        Unnamed: 2       Unnamed: 3       Unnamed: 4       Unnamed: 5  \\\n",
       "0  Z0               U0               V0               W0                \n",
       "1  ---------------  ---------------  ---------------  ---------------   \n",
       "2                0        0.0252379        0.0249472          0.99937   \n",
       "3                0        0.0201926        0.0249501         0.999485   \n",
       "4                0        0.0151458        0.0249523         0.999574   \n",
       "\n",
       "        Unnamed: 6       Unnamed: 7       Unnamed: 8       Unnamed: 9  \\\n",
       "0  wave             WFE              Xgoal            Ygoal             \n",
       "1  ---------------  ---------------  ---------------  ---------------   \n",
       "2           0.0004        -0.274853              NaN              NaN   \n",
       "3           0.0004        -0.261615              NaN              NaN   \n",
       "4           0.0004        -0.251315              NaN              NaN   \n",
       "\n",
       "       Unnamed: 10      Unnamed: 11 Unnamed: 12  \n",
       "0  Xfinal           Yfinal                Notes  \n",
       "1  ---------------  ---------------  ----------  \n",
       "2        0.0029314         -7.93411        OK 3  \n",
       "3        0.0023463         -7.93411        OK 3  \n",
       "4        0.0017604         -7.93411        OK 3  "
      ]
     },
     "execution_count": 46,
     "metadata": {},
     "output_type": "execute_result"
    }
   ],
   "source": [
    "df_colname.head()"
   ]
  },
  {
   "cell_type": "code",
   "execution_count": 43,
   "metadata": {
    "collapsed": true
   },
   "outputs": [],
   "source": [
    "df = input.parse(sheet_name,header=2,usecols=range(0,13))\n",
    "df.columns = [\"X0\",\"Y0\",\"Z0\",\"U0\",\"V0\",\"W0\",\"wave\",\"WFE\",\"Xgoal\",\"Ygoal\",\"Xfinal\",\"Yfinal\",\"Notes\"]"
   ]
  },
  {
   "cell_type": "code",
   "execution_count": 47,
   "metadata": {
    "collapsed": false
   },
   "outputs": [
    {
     "data": {
      "text/html": [
       "<div>\n",
       "<table border=\"1\" class=\"dataframe\">\n",
       "  <thead>\n",
       "    <tr style=\"text-align: right;\">\n",
       "      <th></th>\n",
       "      <th>X0</th>\n",
       "      <th>Y0</th>\n",
       "      <th>Z0</th>\n",
       "      <th>U0</th>\n",
       "      <th>V0</th>\n",
       "      <th>W0</th>\n",
       "      <th>wave</th>\n",
       "      <th>WFE</th>\n",
       "      <th>Xgoal</th>\n",
       "      <th>Ygoal</th>\n",
       "      <th>Xfinal</th>\n",
       "      <th>Yfinal</th>\n",
       "      <th>Notes</th>\n",
       "    </tr>\n",
       "  </thead>\n",
       "  <tbody>\n",
       "    <tr>\n",
       "      <th>0</th>\n",
       "      <td>-2.913785</td>\n",
       "      <td>-6.545414</td>\n",
       "      <td>0</td>\n",
       "      <td>0.025238</td>\n",
       "      <td>0.024947</td>\n",
       "      <td>0.999370</td>\n",
       "      <td>0.0004</td>\n",
       "      <td>-0.274853</td>\n",
       "      <td>NaN</td>\n",
       "      <td>NaN</td>\n",
       "      <td>0.002931</td>\n",
       "      <td>-7.934112</td>\n",
       "      <td>OK 3</td>\n",
       "    </tr>\n",
       "    <tr>\n",
       "      <th>1</th>\n",
       "      <td>-2.331028</td>\n",
       "      <td>-6.545414</td>\n",
       "      <td>0</td>\n",
       "      <td>0.020193</td>\n",
       "      <td>0.024950</td>\n",
       "      <td>0.999485</td>\n",
       "      <td>0.0004</td>\n",
       "      <td>-0.261615</td>\n",
       "      <td>NaN</td>\n",
       "      <td>NaN</td>\n",
       "      <td>0.002346</td>\n",
       "      <td>-7.934110</td>\n",
       "      <td>OK 3</td>\n",
       "    </tr>\n",
       "    <tr>\n",
       "      <th>2</th>\n",
       "      <td>-1.748271</td>\n",
       "      <td>-6.545414</td>\n",
       "      <td>0</td>\n",
       "      <td>0.015146</td>\n",
       "      <td>0.024952</td>\n",
       "      <td>0.999574</td>\n",
       "      <td>0.0004</td>\n",
       "      <td>-0.251315</td>\n",
       "      <td>NaN</td>\n",
       "      <td>NaN</td>\n",
       "      <td>0.001760</td>\n",
       "      <td>-7.934108</td>\n",
       "      <td>OK 3</td>\n",
       "    </tr>\n",
       "    <tr>\n",
       "      <th>3</th>\n",
       "      <td>-1.165514</td>\n",
       "      <td>-6.545414</td>\n",
       "      <td>0</td>\n",
       "      <td>0.010098</td>\n",
       "      <td>0.024954</td>\n",
       "      <td>0.999638</td>\n",
       "      <td>0.0004</td>\n",
       "      <td>-0.243956</td>\n",
       "      <td>NaN</td>\n",
       "      <td>NaN</td>\n",
       "      <td>0.001174</td>\n",
       "      <td>-7.934107</td>\n",
       "      <td>OK 3</td>\n",
       "    </tr>\n",
       "    <tr>\n",
       "      <th>4</th>\n",
       "      <td>-0.582757</td>\n",
       "      <td>-6.545414</td>\n",
       "      <td>0</td>\n",
       "      <td>0.005049</td>\n",
       "      <td>0.024955</td>\n",
       "      <td>0.999676</td>\n",
       "      <td>0.0004</td>\n",
       "      <td>-0.239540</td>\n",
       "      <td>NaN</td>\n",
       "      <td>NaN</td>\n",
       "      <td>0.000587</td>\n",
       "      <td>-7.934107</td>\n",
       "      <td>OK 3</td>\n",
       "    </tr>\n",
       "  </tbody>\n",
       "</table>\n",
       "</div>"
      ],
      "text/plain": [
       "         X0        Y0  Z0        U0        V0        W0    wave       WFE  \\\n",
       "0 -2.913785 -6.545414   0  0.025238  0.024947  0.999370  0.0004 -0.274853   \n",
       "1 -2.331028 -6.545414   0  0.020193  0.024950  0.999485  0.0004 -0.261615   \n",
       "2 -1.748271 -6.545414   0  0.015146  0.024952  0.999574  0.0004 -0.251315   \n",
       "3 -1.165514 -6.545414   0  0.010098  0.024954  0.999638  0.0004 -0.243956   \n",
       "4 -0.582757 -6.545414   0  0.005049  0.024955  0.999676  0.0004 -0.239540   \n",
       "\n",
       "   Xgoal  Ygoal    Xfinal    Yfinal  Notes  \n",
       "0    NaN    NaN  0.002931 -7.934112   OK 3  \n",
       "1    NaN    NaN  0.002346 -7.934110   OK 3  \n",
       "2    NaN    NaN  0.001760 -7.934108   OK 3  \n",
       "3    NaN    NaN  0.001174 -7.934107   OK 3  \n",
       "4    NaN    NaN  0.000587 -7.934107   OK 3  "
      ]
     },
     "execution_count": 47,
     "metadata": {},
     "output_type": "execute_result"
    }
   ],
   "source": [
    "df.head()"
   ]
  },
  {
   "cell_type": "code",
   "execution_count": 49,
   "metadata": {
    "collapsed": false
   },
   "outputs": [],
   "source": [
    "wave=df[\"wave\"]"
   ]
  },
  {
   "cell_type": "code",
   "execution_count": 50,
   "metadata": {
    "collapsed": true
   },
   "outputs": [],
   "source": [
    "Xfinal=df[\"Xfinal\"]\n",
    "Yfinal=df[\"Yfinal\"]"
   ]
  },
  {
   "cell_type": "code",
   "execution_count": 53,
   "metadata": {
    "collapsed": true
   },
   "outputs": [],
   "source": [
    "selected_indexes1=np.where(wave==0.0004)\n",
    "selected_indexes2=np.where(wave==0.0006)\n",
    "selected_indexes3=np.where(wave==0.0008)\n",
    "selected_indexes4=np.where(wave==0.0010)"
   ]
  },
  {
   "cell_type": "code",
   "execution_count": 56,
   "metadata": {
    "collapsed": false
   },
   "outputs": [
    {
     "data": {
      "text/plain": [
       "(array([  0,   1,   2,   3,   4,   5,   6,   7,   8,   9,  10,  11,  12,\n",
       "         13,  14,  15,  16,  17,  18,  19,  20,  21,  22,  23,  24,  25,\n",
       "         26,  27,  28,  29,  30,  31,  32,  33,  34,  35,  36,  37,  38,\n",
       "         39,  40,  41,  42,  43,  44,  45,  46,  47,  48,  49,  50,  51,\n",
       "         52,  53,  54,  55,  56,  57,  58,  59,  60,  61,  62,  63,  64,\n",
       "         65,  66,  67,  68,  69,  70,  71,  72,  73,  74,  75,  76,  77,\n",
       "         78,  79,  80,  81,  82,  83,  84,  85,  86,  87,  88,  89,  90,\n",
       "         91,  92,  93,  94,  95,  96,  97,  98,  99, 100, 101, 102, 103,\n",
       "        104, 105, 106, 107, 108, 109, 110, 111, 112, 113, 114, 115, 116,\n",
       "        117, 118, 119, 120]),)"
      ]
     },
     "execution_count": 56,
     "metadata": {},
     "output_type": "execute_result"
    }
   ],
   "source": [
    "selected_indexes1"
   ]
  },
  {
   "cell_type": "code",
   "execution_count": 58,
   "metadata": {
    "collapsed": false
   },
   "outputs": [],
   "source": [
    "x1=Xfinal[selected_indexes1[0]]\n",
    "y1=Yfinal[selected_indexes1[0]]"
   ]
  },
  {
   "cell_type": "code",
   "execution_count": 62,
   "metadata": {
    "collapsed": false
   },
   "outputs": [
    {
     "data": {
      "text/plain": [
       "[<matplotlib.lines.Line2D at 0x10a3a46d0>]"
      ]
     },
     "execution_count": 62,
     "metadata": {},
     "output_type": "execute_result"
    },
    {
     "data": {
      "image/png": "[encoded data removed]",
      "text/plain": [
       "<matplotlib.figure.Figure at 0x1093948d0>"
      ]
     },
     "metadata": {},
     "output_type": "display_data"
    }
   ],
   "source": [
    "plt.plot(x1,y1,\"bo\")"
   ]
  },
  {
   "cell_type": "code",
   "execution_count": 63,
   "metadata": {
    "collapsed": false
   },
   "outputs": [
    {
     "data": {
      "text/plain": [
       "0.0018719627937452883"
      ]
     },
     "execution_count": 63,
     "metadata": {},
     "output_type": "execute_result"
    }
   ],
   "source": [
    "x1.std()"
   ]
  },
  {
   "cell_type": "code",
   "execution_count": 64,
   "metadata": {
    "collapsed": false
   },
   "outputs": [
    {
     "data": {
      "text/plain": [
       "0.008198077394444423"
      ]
     },
     "execution_count": 64,
     "metadata": {},
     "output_type": "execute_result"
    }
   ],
   "source": [
    "y1.std()"
   ]
  },
  {
   "cell_type": "code",
   "execution_count": null,
   "metadata": {
    "collapsed": true
   },
   "outputs": [],
   "source": []
  }
 ],
 "metadata": {
  "anaconda-cloud": {},
  "kernelspec": {
   "display_name": "Python [conda env:pyastrophys]",
   "language": "python",
   "name": "conda-env-pyastrophys-py"
  },
  "language_info": {
   "codemirror_mode": {
    "name": "ipython",
    "version": 2
   },
   "file_extension": ".py",
   "mimetype": "text/x-python",
   "name": "python",
   "nbconvert_exporter": "python",
   "pygments_lexer": "ipython2",
   "version": "2.7.12"
  }
 },
 "nbformat": 4,
 "nbformat_minor": 2
}
