{
 "cells": [
  {
   "cell_type": "markdown",
   "metadata": {},
   "source": [
    "# Simple Analyse the Ronchi Data output from Beam4\n",
    "\n",
    "\n",
    "- author : Sylvie Dagoret-Campagne\n",
    "- affiliation : LAL\n",
    "- date March 10th 2017\n",
    "- update : May 2020\n",
    "\n",
    "\n",
    "\n",
    "- Hologram\n"
   ]
  },
  {
   "cell_type": "code",
   "execution_count": 1,
   "metadata": {},
   "outputs": [],
   "source": [
    "%matplotlib inline\n",
    "import matplotlib.pyplot as plt\n",
    "import numpy as np\n",
    "import os\n",
    "import matplotlib as mpl\n",
    "import pandas as pd\n",
    "import itertools"
   ]
  },
  {
   "cell_type": "code",
   "execution_count": 2,
   "metadata": {},
   "outputs": [],
   "source": [
    "# to enlarge the sizes\n",
    "params = {'legend.fontsize': 'x-large',\n",
    "          'figure.figsize': (13, 13),\n",
    "         'axes.labelsize': 'x-large',\n",
    "         'axes.titlesize':'x-large',\n",
    "         'xtick.labelsize':'x-large',\n",
    "         'ytick.labelsize':'x-large'}\n",
    "plt.rcParams.update(params)"
   ]
  },
  {
   "cell_type": "markdown",
   "metadata": {},
   "source": [
    "## Constants for conversions"
   ]
  },
  {
   "cell_type": "code",
   "execution_count": 3,
   "metadata": {},
   "outputs": [],
   "source": [
    "m_to_mm=1000.\n",
    "mm_to_m=1e-3\n",
    "inch_to_mm=25.4\n",
    "mm_to_inch=1./inch_to_mm\n",
    "micr_to_m=1e-6\n",
    "micr_to_mm=1e-3\n",
    "m_to_micr=1./micr_to_m\n",
    "m_to_cm=100.\n",
    "m_to_nm=1e9\n",
    "nm_to_m=1./m_to_nm"
   ]
  },
  {
   "cell_type": "code",
   "execution_count": 4,
   "metadata": {},
   "outputs": [],
   "source": [
    "arcdeg_to_arcmin=60.\n",
    "arcmin_to_arcdeg=1./arcdeg_to_arcmin\n",
    "arcmin_to_arcsec=60.\n",
    "arcdeg_to_arcsec=arcdeg_to_arcmin*arcmin_to_arcsec\n",
    "arcsec_to_arcdeg=1./arcdeg_to_arcsec"
   ]
  },
  {
   "cell_type": "code",
   "execution_count": 5,
   "metadata": {},
   "outputs": [],
   "source": [
    "deg_to_rad=np.pi/180."
   ]
  },
  {
   "cell_type": "code",
   "execution_count": 6,
   "metadata": {},
   "outputs": [],
   "source": [
    "rad_to_deg=1./deg_to_rad\n",
    "rad_to_arcsec=rad_to_deg*arcdeg_to_arcsec\n",
    "rad_to_arcmin=rad_to_deg*arcdeg_to_arcmin\n",
    "arcmin_ro_rad=1./rad_to_arcmin"
   ]
  },
  {
   "cell_type": "markdown",
   "metadata": {},
   "source": [
    "## Configuration parameters at the telescope"
   ]
  },
  {
   "cell_type": "markdown",
   "metadata": {},
   "source": [
    "#### telescope"
   ]
  },
  {
   "cell_type": "code",
   "execution_count": 7,
   "metadata": {},
   "outputs": [],
   "source": [
    "Tel_Focal_Length=12.6 # m : Focal length of the telescope\n",
    "Tel_Diameter=0.9 # m : Diameter of the telescope    \n",
    "Tel_Fnum=Tel_Focal_Length/Tel_Diameter"
   ]
  },
  {
   "cell_type": "markdown",
   "metadata": {},
   "source": [
    "#### filter"
   ]
  },
  {
   "cell_type": "code",
   "execution_count": 8,
   "metadata": {},
   "outputs": [],
   "source": [
    "Filt_D=0.05769 # m distance of the filter position wrt CCD plane\n",
    "Filt_size=3*inch_to_mm"
   ]
  },
  {
   "cell_type": "markdown",
   "metadata": {},
   "source": [
    "#### CCD detector"
   ]
  },
  {
   "cell_type": "code",
   "execution_count": 9,
   "metadata": {},
   "outputs": [],
   "source": [
    "Det_xpic=24.0 # microns per pixel\n",
    "Det_NbPix=2048 # number of pixels per CCD side\n",
    "#Det_NbPix=2512 # number of pixels per CCD side For 400 only\n",
    "Det_size=Det_xpic*Det_NbPix*micr_to_mm # CCD size in mm, 5 cm or 2 inch"
   ]
  },
  {
   "cell_type": "markdown",
   "metadata": {},
   "source": [
    "## Input file"
   ]
  },
  {
   "cell_type": "code",
   "execution_count": 10,
   "metadata": {},
   "outputs": [],
   "source": [
    "# number of rays\n",
    "NBEAM_X=11\n",
    "NBEAM_Y=11\n",
    "NBEAM=NBEAM_X*NBEAM_Y\n",
    "NWL=4\n",
    "NBTOT=NBEAM*NWL"
   ]
  },
  {
   "cell_type": "code",
   "execution_count": 11,
   "metadata": {},
   "outputs": [],
   "source": [
    "theta_x=0.  # angle in arcmin\n",
    "theta_y=0.  # angle in arcmin "
   ]
  },
  {
   "cell_type": "code",
   "execution_count": 12,
   "metadata": {},
   "outputs": [],
   "source": [
    "order=\"OP1\"\n",
    "order_str=\"+1\""
   ]
  },
  {
   "cell_type": "code",
   "execution_count": 13,
   "metadata": {},
   "outputs": [],
   "source": [
    "theta_x_num=int(theta_x*10)\n",
    "theta_y_num=int(theta_y*10)"
   ]
  },
  {
   "cell_type": "code",
   "execution_count": 14,
   "metadata": {},
   "outputs": [],
   "source": [
    "Beam4_Rayfile=\"HOE_Beam4_Rayfile_{:d}_allwl_{:d}_{:d}_{}.xlsx\".format(NBTOT,theta_x_num,theta_y_num,order)"
   ]
  },
  {
   "cell_type": "code",
   "execution_count": 15,
   "metadata": {},
   "outputs": [],
   "source": [
    "figname1=\"HOE_DISP_Beam4_Rayfile_{:d}_allwl_{:d}_{:d}_{}.pdf\".format(NBTOT,theta_x_num,theta_y_num,order)\n",
    "figname2=\"HOE_PSF_Beam4_Rayfile_{:d}_allwl_{:d}_{:d}_{}.pdf\".format(NBTOT,theta_x_num,theta_y_num,order)"
   ]
  },
  {
   "cell_type": "code",
   "execution_count": 16,
   "metadata": {},
   "outputs": [],
   "source": [
    "outputdata_excel=\"HOE_PSF_Beam4_Rayfile_{:d}_allwl_{:d}_{:d}_{}_out.xlsx\".format(NBTOT,theta_x_num,theta_y_num,order)"
   ]
  },
  {
   "cell_type": "code",
   "execution_count": 17,
   "metadata": {},
   "outputs": [],
   "source": [
    "rayfile=Beam4_Rayfile"
   ]
  },
  {
   "cell_type": "code",
   "execution_count": 18,
   "metadata": {},
   "outputs": [],
   "source": [
    "input = pd.ExcelFile(rayfile)\n",
    "sheet_name=input.sheet_names[0]\n",
    "df_colname = input.parse(sheet_name,index_row=0,header=1,usecols=range(0,14))"
   ]
  },
  {
   "cell_type": "code",
   "execution_count": 19,
   "metadata": {},
   "outputs": [
    {
     "data": {
      "text/html": [
       "<div>\n",
       "<style scoped>\n",
       "    .dataframe tbody tr th:only-of-type {\n",
       "        vertical-align: middle;\n",
       "    }\n",
       "\n",
       "    .dataframe tbody tr th {\n",
       "        vertical-align: top;\n",
       "    }\n",
       "\n",
       "    .dataframe thead th {\n",
       "        text-align: right;\n",
       "    }\n",
       "</style>\n",
       "<table border=\"1\" class=\"dataframe\">\n",
       "  <thead>\n",
       "    <tr style=\"text-align: right;\">\n",
       "      <th></th>\n",
       "      <th>X0</th>\n",
       "      <th>Y0</th>\n",
       "      <th>Z0</th>\n",
       "      <th>U0</th>\n",
       "      <th>V0</th>\n",
       "      <th>W0</th>\n",
       "      <th>wave</th>\n",
       "      <th>Xgoal</th>\n",
       "      <th>Ygoal</th>\n",
       "      <th>Xfinal</th>\n",
       "      <th>Yfinal</th>\n",
       "      <th>Notes</th>\n",
       "      <th>Unnamed: 12</th>\n",
       "    </tr>\n",
       "  </thead>\n",
       "  <tbody>\n",
       "    <tr>\n",
       "      <th>0</th>\n",
       "      <td>---------------</td>\n",
       "      <td>---------------</td>\n",
       "      <td>---------------</td>\n",
       "      <td>---------------</td>\n",
       "      <td>---------------</td>\n",
       "      <td>---------------</td>\n",
       "      <td>--------</td>\n",
       "      <td>--------</td>\n",
       "      <td>-----------</td>\n",
       "      <td>---------</td>\n",
       "      <td>---------</td>\n",
       "      <td>NaN</td>\n",
       "      <td>NaN</td>\n",
       "    </tr>\n",
       "    <tr>\n",
       "      <th>1</th>\n",
       "      <td>-2.91379</td>\n",
       "      <td>-2.91379</td>\n",
       "      <td>0</td>\n",
       "      <td>0.0252377</td>\n",
       "      <td>0.0252377</td>\n",
       "      <td>0.999363</td>\n",
       "      <td>0.0004</td>\n",
       "      <td>0</td>\n",
       "      <td>-4.26</td>\n",
       "      <td>-0.00405</td>\n",
       "      <td>-4.2697</td>\n",
       "      <td>OK</td>\n",
       "      <td>3.0</td>\n",
       "    </tr>\n",
       "    <tr>\n",
       "      <th>2</th>\n",
       "      <td>-2.33103</td>\n",
       "      <td>-2.91379</td>\n",
       "      <td>0</td>\n",
       "      <td>0.0201925</td>\n",
       "      <td>0.0252406</td>\n",
       "      <td>0.999477</td>\n",
       "      <td>0.0004</td>\n",
       "      <td>0</td>\n",
       "      <td>-4.26</td>\n",
       "      <td>-0.00324</td>\n",
       "      <td>-4.2697</td>\n",
       "      <td>OK</td>\n",
       "      <td>3.0</td>\n",
       "    </tr>\n",
       "    <tr>\n",
       "      <th>3</th>\n",
       "      <td>-1.74827</td>\n",
       "      <td>-2.91379</td>\n",
       "      <td>0</td>\n",
       "      <td>0.0151457</td>\n",
       "      <td>0.0252429</td>\n",
       "      <td>0.999567</td>\n",
       "      <td>0.0004</td>\n",
       "      <td>0</td>\n",
       "      <td>-4.26</td>\n",
       "      <td>-0.00243</td>\n",
       "      <td>-4.2697</td>\n",
       "      <td>OK</td>\n",
       "      <td>3.0</td>\n",
       "    </tr>\n",
       "    <tr>\n",
       "      <th>4</th>\n",
       "      <td>-1.16551</td>\n",
       "      <td>-2.91379</td>\n",
       "      <td>0</td>\n",
       "      <td>0.0100978</td>\n",
       "      <td>0.0252445</td>\n",
       "      <td>0.99963</td>\n",
       "      <td>0.0004</td>\n",
       "      <td>0</td>\n",
       "      <td>-4.26</td>\n",
       "      <td>-0.00162</td>\n",
       "      <td>-4.2697</td>\n",
       "      <td>OK</td>\n",
       "      <td>3.0</td>\n",
       "    </tr>\n",
       "    <tr>\n",
       "      <th>...</th>\n",
       "      <td>...</td>\n",
       "      <td>...</td>\n",
       "      <td>...</td>\n",
       "      <td>...</td>\n",
       "      <td>...</td>\n",
       "      <td>...</td>\n",
       "      <td>...</td>\n",
       "      <td>...</td>\n",
       "      <td>...</td>\n",
       "      <td>...</td>\n",
       "      <td>...</td>\n",
       "      <td>...</td>\n",
       "      <td>...</td>\n",
       "    </tr>\n",
       "    <tr>\n",
       "      <th>480</th>\n",
       "      <td>0.582757</td>\n",
       "      <td>2.91379</td>\n",
       "      <td>0</td>\n",
       "      <td>-0.00504909</td>\n",
       "      <td>-0.0252454</td>\n",
       "      <td>0.999669</td>\n",
       "      <td>0.001</td>\n",
       "      <td>0</td>\n",
       "      <td>-4.26</td>\n",
       "      <td>-0.00166</td>\n",
       "      <td>-10.8444</td>\n",
       "      <td>OK</td>\n",
       "      <td>3.0</td>\n",
       "    </tr>\n",
       "    <tr>\n",
       "      <th>481</th>\n",
       "      <td>1.16551</td>\n",
       "      <td>2.91379</td>\n",
       "      <td>0</td>\n",
       "      <td>-0.0100978</td>\n",
       "      <td>-0.0252445</td>\n",
       "      <td>0.99963</td>\n",
       "      <td>0.001</td>\n",
       "      <td>0</td>\n",
       "      <td>-4.26</td>\n",
       "      <td>-0.00333</td>\n",
       "      <td>-10.8444</td>\n",
       "      <td>OK</td>\n",
       "      <td>3.0</td>\n",
       "    </tr>\n",
       "    <tr>\n",
       "      <th>482</th>\n",
       "      <td>1.74827</td>\n",
       "      <td>2.91379</td>\n",
       "      <td>0</td>\n",
       "      <td>-0.0151457</td>\n",
       "      <td>-0.0252429</td>\n",
       "      <td>0.999567</td>\n",
       "      <td>0.001</td>\n",
       "      <td>0</td>\n",
       "      <td>-4.26</td>\n",
       "      <td>-0.00499</td>\n",
       "      <td>-10.8444</td>\n",
       "      <td>OK</td>\n",
       "      <td>3.0</td>\n",
       "    </tr>\n",
       "    <tr>\n",
       "      <th>483</th>\n",
       "      <td>2.33103</td>\n",
       "      <td>2.91379</td>\n",
       "      <td>0</td>\n",
       "      <td>-0.0201925</td>\n",
       "      <td>-0.0252406</td>\n",
       "      <td>0.999477</td>\n",
       "      <td>0.001</td>\n",
       "      <td>0</td>\n",
       "      <td>-4.26</td>\n",
       "      <td>-0.00665</td>\n",
       "      <td>-10.8444</td>\n",
       "      <td>OK</td>\n",
       "      <td>3.0</td>\n",
       "    </tr>\n",
       "    <tr>\n",
       "      <th>484</th>\n",
       "      <td>2.91379</td>\n",
       "      <td>2.91379</td>\n",
       "      <td>0</td>\n",
       "      <td>-0.0252377</td>\n",
       "      <td>-0.0252377</td>\n",
       "      <td>0.999363</td>\n",
       "      <td>0.001</td>\n",
       "      <td>0</td>\n",
       "      <td>-4.26</td>\n",
       "      <td>-0.00831</td>\n",
       "      <td>-10.8443</td>\n",
       "      <td>OK</td>\n",
       "      <td>3.0</td>\n",
       "    </tr>\n",
       "  </tbody>\n",
       "</table>\n",
       "<p>485 rows × 13 columns</p>\n",
       "</div>"
      ],
      "text/plain": [
       "                  X0               Y0               Z0               U0  \\\n",
       "0    ---------------  ---------------  ---------------  ---------------   \n",
       "1           -2.91379         -2.91379                0        0.0252377   \n",
       "2           -2.33103         -2.91379                0        0.0201925   \n",
       "3           -1.74827         -2.91379                0        0.0151457   \n",
       "4           -1.16551         -2.91379                0        0.0100978   \n",
       "..               ...              ...              ...              ...   \n",
       "480         0.582757          2.91379                0      -0.00504909   \n",
       "481          1.16551          2.91379                0       -0.0100978   \n",
       "482          1.74827          2.91379                0       -0.0151457   \n",
       "483          2.33103          2.91379                0       -0.0201925   \n",
       "484          2.91379          2.91379                0       -0.0252377   \n",
       "\n",
       "                  V0               W0      wave     Xgoal        Ygoal  \\\n",
       "0    ---------------  ---------------  --------  --------  -----------   \n",
       "1          0.0252377         0.999363    0.0004         0        -4.26   \n",
       "2          0.0252406         0.999477    0.0004         0        -4.26   \n",
       "3          0.0252429         0.999567    0.0004         0        -4.26   \n",
       "4          0.0252445          0.99963    0.0004         0        -4.26   \n",
       "..               ...              ...       ...       ...          ...   \n",
       "480       -0.0252454         0.999669     0.001         0        -4.26   \n",
       "481       -0.0252445          0.99963     0.001         0        -4.26   \n",
       "482       -0.0252429         0.999567     0.001         0        -4.26   \n",
       "483       -0.0252406         0.999477     0.001         0        -4.26   \n",
       "484       -0.0252377         0.999363     0.001         0        -4.26   \n",
       "\n",
       "        Xfinal     Yfinal Notes  Unnamed: 12  \n",
       "0    ---------  ---------   NaN          NaN  \n",
       "1     -0.00405    -4.2697    OK          3.0  \n",
       "2     -0.00324    -4.2697    OK          3.0  \n",
       "3     -0.00243    -4.2697    OK          3.0  \n",
       "4     -0.00162    -4.2697    OK          3.0  \n",
       "..         ...        ...   ...          ...  \n",
       "480   -0.00166   -10.8444    OK          3.0  \n",
       "481   -0.00333   -10.8444    OK          3.0  \n",
       "482   -0.00499   -10.8444    OK          3.0  \n",
       "483   -0.00665   -10.8444    OK          3.0  \n",
       "484   -0.00831   -10.8443    OK          3.0  \n",
       "\n",
       "[485 rows x 13 columns]"
      ]
     },
     "execution_count": 19,
     "metadata": {},
     "output_type": "execute_result"
    }
   ],
   "source": [
    "df_colname"
   ]
  },
  {
   "cell_type": "code",
   "execution_count": null,
   "metadata": {},
   "outputs": [],
   "source": []
  },
  {
   "cell_type": "code",
   "execution_count": 20,
   "metadata": {},
   "outputs": [
    {
     "data": {
      "text/html": [
       "<div>\n",
       "<style scoped>\n",
       "    .dataframe tbody tr th:only-of-type {\n",
       "        vertical-align: middle;\n",
       "    }\n",
       "\n",
       "    .dataframe tbody tr th {\n",
       "        vertical-align: top;\n",
       "    }\n",
       "\n",
       "    .dataframe thead th {\n",
       "        text-align: right;\n",
       "    }\n",
       "</style>\n",
       "<table border=\"1\" class=\"dataframe\">\n",
       "  <thead>\n",
       "    <tr style=\"text-align: right;\">\n",
       "      <th></th>\n",
       "      <th>X0</th>\n",
       "      <th>Y0</th>\n",
       "      <th>Z0</th>\n",
       "      <th>U0</th>\n",
       "      <th>V0</th>\n",
       "      <th>W0</th>\n",
       "      <th>wave</th>\n",
       "      <th>Xgoal</th>\n",
       "      <th>Ygoal</th>\n",
       "      <th>Xfinal</th>\n",
       "      <th>Yfinal</th>\n",
       "      <th>Notes</th>\n",
       "      <th>Unnamed: 12</th>\n",
       "    </tr>\n",
       "  </thead>\n",
       "  <tbody>\n",
       "    <tr>\n",
       "      <th>0</th>\n",
       "      <td>---------------</td>\n",
       "      <td>---------------</td>\n",
       "      <td>---------------</td>\n",
       "      <td>---------------</td>\n",
       "      <td>---------------</td>\n",
       "      <td>---------------</td>\n",
       "      <td>--------</td>\n",
       "      <td>--------</td>\n",
       "      <td>-----------</td>\n",
       "      <td>---------</td>\n",
       "      <td>---------</td>\n",
       "      <td>NaN</td>\n",
       "      <td>NaN</td>\n",
       "    </tr>\n",
       "    <tr>\n",
       "      <th>1</th>\n",
       "      <td>-2.91379</td>\n",
       "      <td>-2.91379</td>\n",
       "      <td>0</td>\n",
       "      <td>0.0252377</td>\n",
       "      <td>0.0252377</td>\n",
       "      <td>0.999363</td>\n",
       "      <td>0.0004</td>\n",
       "      <td>0</td>\n",
       "      <td>-4.26</td>\n",
       "      <td>-0.00405</td>\n",
       "      <td>-4.2697</td>\n",
       "      <td>OK</td>\n",
       "      <td>3.0</td>\n",
       "    </tr>\n",
       "    <tr>\n",
       "      <th>2</th>\n",
       "      <td>-2.33103</td>\n",
       "      <td>-2.91379</td>\n",
       "      <td>0</td>\n",
       "      <td>0.0201925</td>\n",
       "      <td>0.0252406</td>\n",
       "      <td>0.999477</td>\n",
       "      <td>0.0004</td>\n",
       "      <td>0</td>\n",
       "      <td>-4.26</td>\n",
       "      <td>-0.00324</td>\n",
       "      <td>-4.2697</td>\n",
       "      <td>OK</td>\n",
       "      <td>3.0</td>\n",
       "    </tr>\n",
       "    <tr>\n",
       "      <th>3</th>\n",
       "      <td>-1.74827</td>\n",
       "      <td>-2.91379</td>\n",
       "      <td>0</td>\n",
       "      <td>0.0151457</td>\n",
       "      <td>0.0252429</td>\n",
       "      <td>0.999567</td>\n",
       "      <td>0.0004</td>\n",
       "      <td>0</td>\n",
       "      <td>-4.26</td>\n",
       "      <td>-0.00243</td>\n",
       "      <td>-4.2697</td>\n",
       "      <td>OK</td>\n",
       "      <td>3.0</td>\n",
       "    </tr>\n",
       "    <tr>\n",
       "      <th>4</th>\n",
       "      <td>-1.16551</td>\n",
       "      <td>-2.91379</td>\n",
       "      <td>0</td>\n",
       "      <td>0.0100978</td>\n",
       "      <td>0.0252445</td>\n",
       "      <td>0.99963</td>\n",
       "      <td>0.0004</td>\n",
       "      <td>0</td>\n",
       "      <td>-4.26</td>\n",
       "      <td>-0.00162</td>\n",
       "      <td>-4.2697</td>\n",
       "      <td>OK</td>\n",
       "      <td>3.0</td>\n",
       "    </tr>\n",
       "  </tbody>\n",
       "</table>\n",
       "</div>"
      ],
      "text/plain": [
       "                X0               Y0               Z0               U0  \\\n",
       "0  ---------------  ---------------  ---------------  ---------------   \n",
       "1         -2.91379         -2.91379                0        0.0252377   \n",
       "2         -2.33103         -2.91379                0        0.0201925   \n",
       "3         -1.74827         -2.91379                0        0.0151457   \n",
       "4         -1.16551         -2.91379                0        0.0100978   \n",
       "\n",
       "                V0               W0      wave     Xgoal        Ygoal  \\\n",
       "0  ---------------  ---------------  --------  --------  -----------   \n",
       "1        0.0252377         0.999363    0.0004         0        -4.26   \n",
       "2        0.0252406         0.999477    0.0004         0        -4.26   \n",
       "3        0.0252429         0.999567    0.0004         0        -4.26   \n",
       "4        0.0252445          0.99963    0.0004         0        -4.26   \n",
       "\n",
       "      Xfinal     Yfinal Notes  Unnamed: 12  \n",
       "0  ---------  ---------   NaN          NaN  \n",
       "1   -0.00405    -4.2697    OK          3.0  \n",
       "2   -0.00324    -4.2697    OK          3.0  \n",
       "3   -0.00243    -4.2697    OK          3.0  \n",
       "4   -0.00162    -4.2697    OK          3.0  "
      ]
     },
     "execution_count": 20,
     "metadata": {},
     "output_type": "execute_result"
    }
   ],
   "source": [
    "df_colname.head()"
   ]
  },
  {
   "cell_type": "code",
   "execution_count": 21,
   "metadata": {},
   "outputs": [],
   "source": [
    "df = input.parse(sheet_name,index_row=0,header=3,usecols=range(0,12))\n",
    "#df.columns = [\"X0\",\"Y0\",\"Z0\",\"U0\",\"V0\",\"W0\",\"wave\",\"col\",\"WFE\",\"Xgoal\",\"Ygoal\",\"Xfinal\",\"Yfinal\",\"Notes\"]\n",
    "df.columns = [\"X0\",\"Y0\",\"Z0\",\"U0\",\"V0\",\"W0\",\"wave\",\"Xgoal\",\"Ygoal\",\"Yfinal\",\"Xfinal\",\"Notes\"]"
   ]
  },
  {
   "cell_type": "code",
   "execution_count": 22,
   "metadata": {},
   "outputs": [
    {
     "data": {
      "text/html": [
       "<div>\n",
       "<style scoped>\n",
       "    .dataframe tbody tr th:only-of-type {\n",
       "        vertical-align: middle;\n",
       "    }\n",
       "\n",
       "    .dataframe tbody tr th {\n",
       "        vertical-align: top;\n",
       "    }\n",
       "\n",
       "    .dataframe thead th {\n",
       "        text-align: right;\n",
       "    }\n",
       "</style>\n",
       "<table border=\"1\" class=\"dataframe\">\n",
       "  <thead>\n",
       "    <tr style=\"text-align: right;\">\n",
       "      <th></th>\n",
       "      <th>X0</th>\n",
       "      <th>Y0</th>\n",
       "      <th>Z0</th>\n",
       "      <th>U0</th>\n",
       "      <th>V0</th>\n",
       "      <th>W0</th>\n",
       "      <th>wave</th>\n",
       "      <th>Xgoal</th>\n",
       "      <th>Ygoal</th>\n",
       "      <th>Yfinal</th>\n",
       "      <th>Xfinal</th>\n",
       "      <th>Notes</th>\n",
       "    </tr>\n",
       "  </thead>\n",
       "  <tbody>\n",
       "    <tr>\n",
       "      <th>478</th>\n",
       "      <td>0.582757</td>\n",
       "      <td>2.913785</td>\n",
       "      <td>0</td>\n",
       "      <td>-0.005049</td>\n",
       "      <td>-0.025245</td>\n",
       "      <td>0.999669</td>\n",
       "      <td>0.001</td>\n",
       "      <td>0</td>\n",
       "      <td>-4.26</td>\n",
       "      <td>-0.00166</td>\n",
       "      <td>-10.8444</td>\n",
       "      <td>OK</td>\n",
       "    </tr>\n",
       "    <tr>\n",
       "      <th>479</th>\n",
       "      <td>1.165514</td>\n",
       "      <td>2.913785</td>\n",
       "      <td>0</td>\n",
       "      <td>-0.010098</td>\n",
       "      <td>-0.025244</td>\n",
       "      <td>0.999630</td>\n",
       "      <td>0.001</td>\n",
       "      <td>0</td>\n",
       "      <td>-4.26</td>\n",
       "      <td>-0.00333</td>\n",
       "      <td>-10.8444</td>\n",
       "      <td>OK</td>\n",
       "    </tr>\n",
       "    <tr>\n",
       "      <th>480</th>\n",
       "      <td>1.748271</td>\n",
       "      <td>2.913785</td>\n",
       "      <td>0</td>\n",
       "      <td>-0.015146</td>\n",
       "      <td>-0.025243</td>\n",
       "      <td>0.999567</td>\n",
       "      <td>0.001</td>\n",
       "      <td>0</td>\n",
       "      <td>-4.26</td>\n",
       "      <td>-0.00499</td>\n",
       "      <td>-10.8444</td>\n",
       "      <td>OK</td>\n",
       "    </tr>\n",
       "    <tr>\n",
       "      <th>481</th>\n",
       "      <td>2.331028</td>\n",
       "      <td>2.913785</td>\n",
       "      <td>0</td>\n",
       "      <td>-0.020192</td>\n",
       "      <td>-0.025241</td>\n",
       "      <td>0.999477</td>\n",
       "      <td>0.001</td>\n",
       "      <td>0</td>\n",
       "      <td>-4.26</td>\n",
       "      <td>-0.00665</td>\n",
       "      <td>-10.8444</td>\n",
       "      <td>OK</td>\n",
       "    </tr>\n",
       "    <tr>\n",
       "      <th>482</th>\n",
       "      <td>2.913785</td>\n",
       "      <td>2.913785</td>\n",
       "      <td>0</td>\n",
       "      <td>-0.025238</td>\n",
       "      <td>-0.025238</td>\n",
       "      <td>0.999363</td>\n",
       "      <td>0.001</td>\n",
       "      <td>0</td>\n",
       "      <td>-4.26</td>\n",
       "      <td>-0.00831</td>\n",
       "      <td>-10.8443</td>\n",
       "      <td>OK</td>\n",
       "    </tr>\n",
       "  </tbody>\n",
       "</table>\n",
       "</div>"
      ],
      "text/plain": [
       "           X0        Y0  Z0        U0        V0        W0   wave  Xgoal  \\\n",
       "478  0.582757  2.913785   0 -0.005049 -0.025245  0.999669  0.001      0   \n",
       "479  1.165514  2.913785   0 -0.010098 -0.025244  0.999630  0.001      0   \n",
       "480  1.748271  2.913785   0 -0.015146 -0.025243  0.999567  0.001      0   \n",
       "481  2.331028  2.913785   0 -0.020192 -0.025241  0.999477  0.001      0   \n",
       "482  2.913785  2.913785   0 -0.025238 -0.025238  0.999363  0.001      0   \n",
       "\n",
       "     Ygoal   Yfinal   Xfinal Notes  \n",
       "478  -4.26 -0.00166 -10.8444    OK  \n",
       "479  -4.26 -0.00333 -10.8444    OK  \n",
       "480  -4.26 -0.00499 -10.8444    OK  \n",
       "481  -4.26 -0.00665 -10.8444    OK  \n",
       "482  -4.26 -0.00831 -10.8443    OK  "
      ]
     },
     "execution_count": 22,
     "metadata": {},
     "output_type": "execute_result"
    }
   ],
   "source": [
    "df.tail()"
   ]
  },
  {
   "cell_type": "code",
   "execution_count": 23,
   "metadata": {},
   "outputs": [
    {
     "data": {
      "text/html": [
       "<div>\n",
       "<style scoped>\n",
       "    .dataframe tbody tr th:only-of-type {\n",
       "        vertical-align: middle;\n",
       "    }\n",
       "\n",
       "    .dataframe tbody tr th {\n",
       "        vertical-align: top;\n",
       "    }\n",
       "\n",
       "    .dataframe thead th {\n",
       "        text-align: right;\n",
       "    }\n",
       "</style>\n",
       "<table border=\"1\" class=\"dataframe\">\n",
       "  <thead>\n",
       "    <tr style=\"text-align: right;\">\n",
       "      <th></th>\n",
       "      <th>X0</th>\n",
       "      <th>Y0</th>\n",
       "      <th>Z0</th>\n",
       "      <th>U0</th>\n",
       "      <th>V0</th>\n",
       "      <th>W0</th>\n",
       "      <th>wave</th>\n",
       "      <th>Xgoal</th>\n",
       "      <th>Ygoal</th>\n",
       "      <th>Yfinal</th>\n",
       "      <th>Xfinal</th>\n",
       "      <th>Notes</th>\n",
       "    </tr>\n",
       "  </thead>\n",
       "  <tbody>\n",
       "    <tr>\n",
       "      <th>0</th>\n",
       "      <td>-2.331028</td>\n",
       "      <td>-2.913785</td>\n",
       "      <td>0</td>\n",
       "      <td>0.020192</td>\n",
       "      <td>0.025241</td>\n",
       "      <td>0.999477</td>\n",
       "      <td>0.0004</td>\n",
       "      <td>0</td>\n",
       "      <td>-4.26</td>\n",
       "      <td>-0.00324</td>\n",
       "      <td>-4.2697</td>\n",
       "      <td>OK</td>\n",
       "    </tr>\n",
       "    <tr>\n",
       "      <th>1</th>\n",
       "      <td>-1.748271</td>\n",
       "      <td>-2.913785</td>\n",
       "      <td>0</td>\n",
       "      <td>0.015146</td>\n",
       "      <td>0.025243</td>\n",
       "      <td>0.999567</td>\n",
       "      <td>0.0004</td>\n",
       "      <td>0</td>\n",
       "      <td>-4.26</td>\n",
       "      <td>-0.00243</td>\n",
       "      <td>-4.2697</td>\n",
       "      <td>OK</td>\n",
       "    </tr>\n",
       "    <tr>\n",
       "      <th>2</th>\n",
       "      <td>-1.165514</td>\n",
       "      <td>-2.913785</td>\n",
       "      <td>0</td>\n",
       "      <td>0.010098</td>\n",
       "      <td>0.025244</td>\n",
       "      <td>0.999630</td>\n",
       "      <td>0.0004</td>\n",
       "      <td>0</td>\n",
       "      <td>-4.26</td>\n",
       "      <td>-0.00162</td>\n",
       "      <td>-4.2697</td>\n",
       "      <td>OK</td>\n",
       "    </tr>\n",
       "    <tr>\n",
       "      <th>3</th>\n",
       "      <td>-0.582757</td>\n",
       "      <td>-2.913785</td>\n",
       "      <td>0</td>\n",
       "      <td>0.005049</td>\n",
       "      <td>0.025245</td>\n",
       "      <td>0.999669</td>\n",
       "      <td>0.0004</td>\n",
       "      <td>0</td>\n",
       "      <td>-4.26</td>\n",
       "      <td>-0.00081</td>\n",
       "      <td>-4.2697</td>\n",
       "      <td>OK</td>\n",
       "    </tr>\n",
       "    <tr>\n",
       "      <th>4</th>\n",
       "      <td>0.000000</td>\n",
       "      <td>-2.913785</td>\n",
       "      <td>0</td>\n",
       "      <td>0.000000</td>\n",
       "      <td>0.025246</td>\n",
       "      <td>0.999681</td>\n",
       "      <td>0.0004</td>\n",
       "      <td>0</td>\n",
       "      <td>-4.26</td>\n",
       "      <td>0.00000</td>\n",
       "      <td>-4.2697</td>\n",
       "      <td>OK</td>\n",
       "    </tr>\n",
       "    <tr>\n",
       "      <th>...</th>\n",
       "      <td>...</td>\n",
       "      <td>...</td>\n",
       "      <td>...</td>\n",
       "      <td>...</td>\n",
       "      <td>...</td>\n",
       "      <td>...</td>\n",
       "      <td>...</td>\n",
       "      <td>...</td>\n",
       "      <td>...</td>\n",
       "      <td>...</td>\n",
       "      <td>...</td>\n",
       "      <td>...</td>\n",
       "    </tr>\n",
       "    <tr>\n",
       "      <th>478</th>\n",
       "      <td>0.582757</td>\n",
       "      <td>2.913785</td>\n",
       "      <td>0</td>\n",
       "      <td>-0.005049</td>\n",
       "      <td>-0.025245</td>\n",
       "      <td>0.999669</td>\n",
       "      <td>0.0010</td>\n",
       "      <td>0</td>\n",
       "      <td>-4.26</td>\n",
       "      <td>-0.00166</td>\n",
       "      <td>-10.8444</td>\n",
       "      <td>OK</td>\n",
       "    </tr>\n",
       "    <tr>\n",
       "      <th>479</th>\n",
       "      <td>1.165514</td>\n",
       "      <td>2.913785</td>\n",
       "      <td>0</td>\n",
       "      <td>-0.010098</td>\n",
       "      <td>-0.025244</td>\n",
       "      <td>0.999630</td>\n",
       "      <td>0.0010</td>\n",
       "      <td>0</td>\n",
       "      <td>-4.26</td>\n",
       "      <td>-0.00333</td>\n",
       "      <td>-10.8444</td>\n",
       "      <td>OK</td>\n",
       "    </tr>\n",
       "    <tr>\n",
       "      <th>480</th>\n",
       "      <td>1.748271</td>\n",
       "      <td>2.913785</td>\n",
       "      <td>0</td>\n",
       "      <td>-0.015146</td>\n",
       "      <td>-0.025243</td>\n",
       "      <td>0.999567</td>\n",
       "      <td>0.0010</td>\n",
       "      <td>0</td>\n",
       "      <td>-4.26</td>\n",
       "      <td>-0.00499</td>\n",
       "      <td>-10.8444</td>\n",
       "      <td>OK</td>\n",
       "    </tr>\n",
       "    <tr>\n",
       "      <th>481</th>\n",
       "      <td>2.331028</td>\n",
       "      <td>2.913785</td>\n",
       "      <td>0</td>\n",
       "      <td>-0.020192</td>\n",
       "      <td>-0.025241</td>\n",
       "      <td>0.999477</td>\n",
       "      <td>0.0010</td>\n",
       "      <td>0</td>\n",
       "      <td>-4.26</td>\n",
       "      <td>-0.00665</td>\n",
       "      <td>-10.8444</td>\n",
       "      <td>OK</td>\n",
       "    </tr>\n",
       "    <tr>\n",
       "      <th>482</th>\n",
       "      <td>2.913785</td>\n",
       "      <td>2.913785</td>\n",
       "      <td>0</td>\n",
       "      <td>-0.025238</td>\n",
       "      <td>-0.025238</td>\n",
       "      <td>0.999363</td>\n",
       "      <td>0.0010</td>\n",
       "      <td>0</td>\n",
       "      <td>-4.26</td>\n",
       "      <td>-0.00831</td>\n",
       "      <td>-10.8443</td>\n",
       "      <td>OK</td>\n",
       "    </tr>\n",
       "  </tbody>\n",
       "</table>\n",
       "<p>483 rows × 12 columns</p>\n",
       "</div>"
      ],
      "text/plain": [
       "           X0        Y0  Z0        U0        V0        W0    wave  Xgoal  \\\n",
       "0   -2.331028 -2.913785   0  0.020192  0.025241  0.999477  0.0004      0   \n",
       "1   -1.748271 -2.913785   0  0.015146  0.025243  0.999567  0.0004      0   \n",
       "2   -1.165514 -2.913785   0  0.010098  0.025244  0.999630  0.0004      0   \n",
       "3   -0.582757 -2.913785   0  0.005049  0.025245  0.999669  0.0004      0   \n",
       "4    0.000000 -2.913785   0  0.000000  0.025246  0.999681  0.0004      0   \n",
       "..        ...       ...  ..       ...       ...       ...     ...    ...   \n",
       "478  0.582757  2.913785   0 -0.005049 -0.025245  0.999669  0.0010      0   \n",
       "479  1.165514  2.913785   0 -0.010098 -0.025244  0.999630  0.0010      0   \n",
       "480  1.748271  2.913785   0 -0.015146 -0.025243  0.999567  0.0010      0   \n",
       "481  2.331028  2.913785   0 -0.020192 -0.025241  0.999477  0.0010      0   \n",
       "482  2.913785  2.913785   0 -0.025238 -0.025238  0.999363  0.0010      0   \n",
       "\n",
       "     Ygoal   Yfinal   Xfinal Notes  \n",
       "0    -4.26 -0.00324  -4.2697    OK  \n",
       "1    -4.26 -0.00243  -4.2697    OK  \n",
       "2    -4.26 -0.00162  -4.2697    OK  \n",
       "3    -4.26 -0.00081  -4.2697    OK  \n",
       "4    -4.26  0.00000  -4.2697    OK  \n",
       "..     ...      ...      ...   ...  \n",
       "478  -4.26 -0.00166 -10.8444    OK  \n",
       "479  -4.26 -0.00333 -10.8444    OK  \n",
       "480  -4.26 -0.00499 -10.8444    OK  \n",
       "481  -4.26 -0.00665 -10.8444    OK  \n",
       "482  -4.26 -0.00831 -10.8443    OK  \n",
       "\n",
       "[483 rows x 12 columns]"
      ]
     },
     "execution_count": 23,
     "metadata": {},
     "output_type": "execute_result"
    }
   ],
   "source": [
    "df"
   ]
  },
  {
   "cell_type": "code",
   "execution_count": 24,
   "metadata": {},
   "outputs": [],
   "source": [
    "df[\"Xfinal\"]=-df[\"Xfinal\"]"
   ]
  },
  {
   "cell_type": "markdown",
   "metadata": {},
   "source": [
    "### Decoding"
   ]
  },
  {
   "cell_type": "code",
   "execution_count": 25,
   "metadata": {},
   "outputs": [],
   "source": [
    "wave=df[\"wave\"]"
   ]
  },
  {
   "cell_type": "code",
   "execution_count": 26,
   "metadata": {},
   "outputs": [],
   "source": [
    "Xfinal=df[\"Xfinal\"]\n",
    "Yfinal=df[\"Yfinal\"]"
   ]
  },
  {
   "cell_type": "code",
   "execution_count": 27,
   "metadata": {},
   "outputs": [],
   "source": [
    "selected_indexes1=np.where(wave==0.0004)\n",
    "selected_indexes2=np.where(wave==0.0006)\n",
    "selected_indexes3=np.where(wave==0.0008)\n",
    "selected_indexes4=np.where(wave==0.0010)"
   ]
  },
  {
   "cell_type": "code",
   "execution_count": 28,
   "metadata": {},
   "outputs": [
    {
     "data": {
      "text/plain": [
       "(array([  0,   1,   2,   3,   4,   5,   6,   7,   8,   9,  10,  11,  12,\n",
       "         13,  14,  15,  16,  17,  18,  19,  20,  21,  22,  23,  24,  25,\n",
       "         26,  27,  28,  29,  30,  31,  32,  33,  34,  35,  36,  37,  38,\n",
       "         39,  40,  41,  42,  43,  44,  45,  46,  47,  48,  49,  50,  51,\n",
       "         52,  53,  54,  55,  56,  57,  58,  59,  60,  61,  62,  63,  64,\n",
       "         65,  66,  67,  68,  69,  70,  71,  72,  73,  74,  75,  76,  77,\n",
       "         78,  79,  80,  81,  82,  83,  84,  85,  86,  87,  88,  89,  90,\n",
       "         91,  92,  93,  94,  95,  96,  97,  98,  99, 100, 101, 102, 103,\n",
       "        104, 105, 106, 107, 108, 109, 110, 111, 112, 113, 114, 115, 116,\n",
       "        117, 118, 119]),)"
      ]
     },
     "execution_count": 28,
     "metadata": {},
     "output_type": "execute_result"
    }
   ],
   "source": [
    "selected_indexes1"
   ]
  },
  {
   "cell_type": "code",
   "execution_count": 29,
   "metadata": {},
   "outputs": [
    {
     "data": {
      "text/plain": [
       "(array([120, 121, 122, 123, 124, 125, 126, 127, 128, 129, 130, 131, 132,\n",
       "        133, 134, 135, 136, 137, 138, 139, 140, 141, 142, 143, 144, 145,\n",
       "        146, 147, 148, 149, 150, 151, 152, 153, 154, 155, 156, 157, 158,\n",
       "        159, 160, 161, 162, 163, 164, 165, 166, 167, 168, 169, 170, 171,\n",
       "        172, 173, 174, 175, 176, 177, 178, 179, 180, 181, 182, 183, 184,\n",
       "        185, 186, 187, 188, 189, 190, 191, 192, 193, 194, 195, 196, 197,\n",
       "        198, 199, 200, 201, 202, 203, 204, 205, 206, 207, 208, 209, 210,\n",
       "        211, 212, 213, 214, 215, 216, 217, 218, 219, 220, 221, 222, 223,\n",
       "        224, 225, 226, 227, 228, 229, 230, 231, 232, 233, 234, 235, 236,\n",
       "        237, 238, 239, 240]),)"
      ]
     },
     "execution_count": 29,
     "metadata": {},
     "output_type": "execute_result"
    }
   ],
   "source": [
    "selected_indexes2"
   ]
  },
  {
   "cell_type": "code",
   "execution_count": 30,
   "metadata": {},
   "outputs": [
    {
     "data": {
      "text/plain": [
       "(array([241, 242, 243, 244, 245, 246, 247, 248, 249, 250, 251, 252, 253,\n",
       "        254, 255, 256, 257, 258, 259, 260, 261, 262, 263, 264, 265, 266,\n",
       "        267, 268, 269, 270, 271, 272, 273, 274, 275, 276, 277, 278, 279,\n",
       "        280, 281, 282, 283, 284, 285, 286, 287, 288, 289, 290, 291, 292,\n",
       "        293, 294, 295, 296, 297, 298, 299, 300, 301, 302, 303, 304, 305,\n",
       "        306, 307, 308, 309, 310, 311, 312, 313, 314, 315, 316, 317, 318,\n",
       "        319, 320, 321, 322, 323, 324, 325, 326, 327, 328, 329, 330, 331,\n",
       "        332, 333, 334, 335, 336, 337, 338, 339, 340, 341, 342, 343, 344,\n",
       "        345, 346, 347, 348, 349, 350, 351, 352, 353, 354, 355, 356, 357,\n",
       "        358, 359, 360, 361]),)"
      ]
     },
     "execution_count": 30,
     "metadata": {},
     "output_type": "execute_result"
    }
   ],
   "source": [
    "selected_indexes3"
   ]
  },
  {
   "cell_type": "code",
   "execution_count": 31,
   "metadata": {},
   "outputs": [
    {
     "data": {
      "text/plain": [
       "(array([362, 363, 364, 365, 366, 367, 368, 369, 370, 371, 372, 373, 374,\n",
       "        375, 376, 377, 378, 379, 380, 381, 382, 383, 384, 385, 386, 387,\n",
       "        388, 389, 390, 391, 392, 393, 394, 395, 396, 397, 398, 399, 400,\n",
       "        401, 402, 403, 404, 405, 406, 407, 408, 409, 410, 411, 412, 413,\n",
       "        414, 415, 416, 417, 418, 419, 420, 421, 422, 423, 424, 425, 426,\n",
       "        427, 428, 429, 430, 431, 432, 433, 434, 435, 436, 437, 438, 439,\n",
       "        440, 441, 442, 443, 444, 445, 446, 447, 448, 449, 450, 451, 452,\n",
       "        453, 454, 455, 456, 457, 458, 459, 460, 461, 462, 463, 464, 465,\n",
       "        466, 467, 468, 469, 470, 471, 472, 473, 474, 475, 476, 477, 478,\n",
       "        479, 480, 481, 482]),)"
      ]
     },
     "execution_count": 31,
     "metadata": {},
     "output_type": "execute_result"
    }
   ],
   "source": [
    "selected_indexes4"
   ]
  },
  {
   "cell_type": "code",
   "execution_count": 32,
   "metadata": {},
   "outputs": [],
   "source": [
    "def GetInfo(a):\n",
    "    a_av=np.average(a)\n",
    "    a_rms=np.std(a)\n",
    "    a_min=np.min(a)\n",
    "    a_max=np.max(a)\n",
    "    a_width=a_max-a_min\n",
    "    return a_av,a_rms,a_min,a_max,a_width"
   ]
  },
  {
   "cell_type": "code",
   "execution_count": 33,
   "metadata": {},
   "outputs": [],
   "source": [
    "x1=Xfinal[selected_indexes1[0]]\n",
    "y1=Yfinal[selected_indexes1[0]]"
   ]
  },
  {
   "cell_type": "code",
   "execution_count": 34,
   "metadata": {},
   "outputs": [],
   "source": [
    "x1av,x1std,x1min,x1max,x1wdt=GetInfo(x1)\n",
    "y1av,y1std,y1min,y1max,y1wdt=GetInfo(y1)"
   ]
  },
  {
   "cell_type": "code",
   "execution_count": 35,
   "metadata": {},
   "outputs": [],
   "source": [
    "x2=Xfinal[selected_indexes2[0]]\n",
    "y2=Yfinal[selected_indexes2[0]]"
   ]
  },
  {
   "cell_type": "code",
   "execution_count": 36,
   "metadata": {},
   "outputs": [],
   "source": [
    "x2av,x2std,x2min,x2max,x2wdt=GetInfo(x2)\n",
    "y2av,y2std,y2min,y2max,y2wdt=GetInfo(y2)"
   ]
  },
  {
   "cell_type": "code",
   "execution_count": 37,
   "metadata": {},
   "outputs": [],
   "source": [
    "x3=Xfinal[selected_indexes3[0]]\n",
    "y3=Yfinal[selected_indexes3[0]]"
   ]
  },
  {
   "cell_type": "code",
   "execution_count": 38,
   "metadata": {},
   "outputs": [],
   "source": [
    "x3av,x3std,x3min,x3max,x3wdt=GetInfo(x3)\n",
    "y3av,y3std,y3min,y3max,y3wdt=GetInfo(y3)"
   ]
  },
  {
   "cell_type": "code",
   "execution_count": 39,
   "metadata": {},
   "outputs": [],
   "source": [
    "x4=Xfinal[selected_indexes4[0]]\n",
    "y4=Yfinal[selected_indexes4[0]]"
   ]
  },
  {
   "cell_type": "code",
   "execution_count": 40,
   "metadata": {},
   "outputs": [],
   "source": [
    "x4av,x4std,x4min,x4max,x4wdt=GetInfo(x4)\n",
    "y4av,y4std,y4min,y4max,y4wdt=GetInfo(y4)"
   ]
  },
  {
   "cell_type": "code",
   "execution_count": 41,
   "metadata": {},
   "outputs": [],
   "source": [
    "xav=np.array([x1av,x2av,x3av,x4av])\n",
    "xstd=np.array([x1std,x2std,x3std,x4std])\n",
    "xmin=np.array([x1min,x2min,x3min,x4min])\n",
    "xmax=np.array([x1max,x2max,x3max,x4max])\n",
    "xwdt=np.array([x1wdt,x2wdt,x3wdt,x4wdt])\n",
    "yav=np.array([y1av,y2av,y3av,y4av])\n",
    "ystd=np.array([y1std,y2std,y3std,y4std])\n",
    "ymin=np.array([y1min,y2min,y3min,y4min])\n",
    "ymax=np.array([y1max,y2max,y3max,y4max])\n",
    "ywdt=np.array([y1wdt,y2wdt,y3wdt,y4wdt])"
   ]
  },
  {
   "cell_type": "code",
   "execution_count": 42,
   "metadata": {},
   "outputs": [],
   "source": [
    "dataout = {'xav': xav,'xstd' :xstd,'xmin' :xmin,'xmax' :xmax,'xwdt':xwdt,'yav': yav,'ystd' :ystd,'ymin' :ymin,'ymax' :ymax,'ywdt':ywdt}"
   ]
  },
  {
   "cell_type": "code",
   "execution_count": 43,
   "metadata": {},
   "outputs": [],
   "source": [
    "df = pd.DataFrame(dataout, index = ['400nm', '600nm', '800nm', '1000nm'])"
   ]
  },
  {
   "cell_type": "code",
   "execution_count": 44,
   "metadata": {},
   "outputs": [
    {
     "data": {
      "text/html": [
       "<div>\n",
       "<style scoped>\n",
       "    .dataframe tbody tr th:only-of-type {\n",
       "        vertical-align: middle;\n",
       "    }\n",
       "\n",
       "    .dataframe tbody tr th {\n",
       "        vertical-align: top;\n",
       "    }\n",
       "\n",
       "    .dataframe thead th {\n",
       "        text-align: right;\n",
       "    }\n",
       "</style>\n",
       "<table border=\"1\" class=\"dataframe\">\n",
       "  <thead>\n",
       "    <tr style=\"text-align: right;\">\n",
       "      <th></th>\n",
       "      <th>xav</th>\n",
       "      <th>xstd</th>\n",
       "      <th>xmin</th>\n",
       "      <th>xmax</th>\n",
       "      <th>xwdt</th>\n",
       "      <th>yav</th>\n",
       "      <th>ystd</th>\n",
       "      <th>ymin</th>\n",
       "      <th>ymax</th>\n",
       "      <th>ywdt</th>\n",
       "    </tr>\n",
       "  </thead>\n",
       "  <tbody>\n",
       "    <tr>\n",
       "      <th>400nm</th>\n",
       "      <td>4.261560</td>\n",
       "      <td>0.005097</td>\n",
       "      <td>4.2535</td>\n",
       "      <td>4.2697</td>\n",
       "      <td>0.0162</td>\n",
       "      <td>3.375000e-05</td>\n",
       "      <td>0.002555</td>\n",
       "      <td>-0.00409</td>\n",
       "      <td>0.00409</td>\n",
       "      <td>0.00818</td>\n",
       "    </tr>\n",
       "    <tr>\n",
       "      <th>600nm</th>\n",
       "      <td>6.415099</td>\n",
       "      <td>0.001347</td>\n",
       "      <td>6.4129</td>\n",
       "      <td>6.4172</td>\n",
       "      <td>0.0043</td>\n",
       "      <td>0.000000e+00</td>\n",
       "      <td>0.001296</td>\n",
       "      <td>-0.00208</td>\n",
       "      <td>0.00208</td>\n",
       "      <td>0.00416</td>\n",
       "    </tr>\n",
       "    <tr>\n",
       "      <th>800nm</th>\n",
       "      <td>8.596301</td>\n",
       "      <td>0.006422</td>\n",
       "      <td>8.5861</td>\n",
       "      <td>8.6064</td>\n",
       "      <td>0.0203</td>\n",
       "      <td>3.584139e-21</td>\n",
       "      <td>0.001301</td>\n",
       "      <td>-0.00209</td>\n",
       "      <td>0.00209</td>\n",
       "      <td>0.00418</td>\n",
       "    </tr>\n",
       "    <tr>\n",
       "      <th>1000nm</th>\n",
       "      <td>10.815425</td>\n",
       "      <td>0.018368</td>\n",
       "      <td>10.7863</td>\n",
       "      <td>10.8444</td>\n",
       "      <td>0.0581</td>\n",
       "      <td>-4.300967e-20</td>\n",
       "      <td>0.005270</td>\n",
       "      <td>-0.00834</td>\n",
       "      <td>0.00834</td>\n",
       "      <td>0.01668</td>\n",
       "    </tr>\n",
       "  </tbody>\n",
       "</table>\n",
       "</div>"
      ],
      "text/plain": [
       "              xav      xstd     xmin     xmax    xwdt           yav      ystd  \\\n",
       "400nm    4.261560  0.005097   4.2535   4.2697  0.0162  3.375000e-05  0.002555   \n",
       "600nm    6.415099  0.001347   6.4129   6.4172  0.0043  0.000000e+00  0.001296   \n",
       "800nm    8.596301  0.006422   8.5861   8.6064  0.0203  3.584139e-21  0.001301   \n",
       "1000nm  10.815425  0.018368  10.7863  10.8444  0.0581 -4.300967e-20  0.005270   \n",
       "\n",
       "           ymin     ymax     ywdt  \n",
       "400nm  -0.00409  0.00409  0.00818  \n",
       "600nm  -0.00208  0.00208  0.00416  \n",
       "800nm  -0.00209  0.00209  0.00418  \n",
       "1000nm -0.00834  0.00834  0.01668  "
      ]
     },
     "execution_count": 44,
     "metadata": {},
     "output_type": "execute_result"
    }
   ],
   "source": [
    "df.head()"
   ]
  },
  {
   "cell_type": "code",
   "execution_count": 45,
   "metadata": {},
   "outputs": [],
   "source": [
    "df.to_excel(outputdata_excel)"
   ]
  },
  {
   "cell_type": "code",
   "execution_count": 46,
   "metadata": {},
   "outputs": [
    {
     "data": {
      "image/png": "[encoded data removed]",
      "text/plain": [
       "<Figure size 576x576 with 1 Axes>"
      ]
     },
     "metadata": {
      "needs_background": "light"
     },
     "output_type": "display_data"
    }
   ],
   "source": [
    "plt.figure(figsize=(8,8))\n",
    "plt.axhline(y=0,color=\"k\")\n",
    "plt.axvline(x=0,color=\"k\")\n",
    "plt.plot(x1,y1,\"b.\")\n",
    "plt.plot(x2,y2,\"g.\")\n",
    "plt.plot(x3,y3,\"r.\")\n",
    "plt.plot(x4,y4,\"k.\")\n",
    "\n",
    "plt.xlim(-Det_size/2,Det_size/2.)\n",
    "plt.ylim(-Det_size/2,Det_size/2)\n",
    "plt.grid(True)\n",
    "plt.xlabel(\"x (mm)\",fontweight='bold')\n",
    "plt.ylabel(\"y (mm)\",fontweight='bold')\n",
    "fulltitle=\"Dispersion at Focal Plane for angles ({:2.2f} , {:2.2f}) arcmin, order = {}\".format(theta_x,theta_y,order_str)\n",
    "plt.title(fulltitle,fontsize=16,fontweight='bold')\n",
    "plt.savefig(figname1)"
   ]
  },
  {
   "cell_type": "code",
   "execution_count": 47,
   "metadata": {},
   "outputs": [],
   "source": [
    "def Showscale(x,y,w,label,ax):\n",
    "    xmin=x-w/2\n",
    "    xmax=x+w/2\n",
    "    ymin=y-w/2\n",
    "    ymax=y+w/2\n",
    "    xscale=xmax-xmin\n",
    "    yscale=ymax-ymin\n",
    "    ax.axhline(y=y,color=\"k\")\n",
    "    ax.axvline(x=x,color=\"k\")\n",
    "    ax.plot([xmin+xscale*.1,xmin+xscale*.1+wdt/10.],[ymin+yscale*0.8,ymin+yscale*0.8],'k-',lw=2)\n",
    "    ax.text(xmin+xscale*.1, ymin+yscale*0.85, label,fontsize=16, fontweight='bold')"
   ]
  },
  {
   "cell_type": "code",
   "execution_count": 48,
   "metadata": {},
   "outputs": [],
   "source": [
    "def Showstat(x,y,w,xstd,ystd,ax):\n",
    "    \n",
    "    xmin=x-w/2\n",
    "    xmax=x+w/2\n",
    "    ymin=y-w/2\n",
    "    ymax=y+w/2\n",
    "    xscale=xmax-xmin\n",
    "    yscale=ymax-ymin\n",
    "    stat_str_x=\"$\\\\sigma_x=${:2.2f} $\\\\mu$ m\".format(xstd*1000)\n",
    "    stat_str_y=\"$\\\\sigma_y=${:2.2f} $\\\\mu$ m\".format(ystd*1000)\n",
    "    print(stat_str_x)\n",
    "    ax.text(xmax-xscale*.4, ymin+yscale*0.85, stat_str_x,fontsize=16, fontweight='bold')\n",
    "    ax.text(xmax-xscale*.4, ymin+yscale*0.80, stat_str_y,fontsize=16, fontweight='bold')"
   ]
  },
  {
   "cell_type": "code",
   "execution_count": 49,
   "metadata": {},
   "outputs": [
    {
     "name": "stdout",
     "output_type": "stream",
     "text": [
      "$\\sigma_x=$5.10 $\\mu$ m\n",
      "$\\sigma_x=$1.35 $\\mu$ m\n",
      "$\\sigma_x=$6.42 $\\mu$ m\n",
      "$\\sigma_x=$18.37 $\\mu$ m\n"
     ]
    },
    {
     "data": {
      "image/png": "[encoded data removed]",
      "text/plain": [
       "<Figure size 936x936 with 4 Axes>"
      ]
     },
     "metadata": {
      "needs_background": "light"
     },
     "output_type": "display_data"
    }
   ],
   "source": [
    "wdt=1.00  # with 100 microns\n",
    "scalelabel=\"100 $\\mu$m\"\n",
    "f, ((ax1, ax2), (ax3, ax4)) = plt.subplots(2, 2)\n",
    "ax1.plot(x1, y1,'bo')\n",
    "\n",
    "xmin=x1av-wdt/2\n",
    "xmax=x1av+wdt/2\n",
    "ymin=y1av-wdt/2\n",
    "ymax=y1av+wdt/2\n",
    "xscale=xmax-xmin\n",
    "yscale=ymax-ymin\n",
    "\n",
    "#ax1.plot([xmin+xscale*.1,xmin+xscale*.1+wdt/10.],[ymin+yscale*0.8,ymin+yscale*0.8],'k-',lw=2)\n",
    "#ax1.text(xmin+xscale*.1, ymin+yscale*0.85, scalelabel,fontsize=16, fontweight='bold')\n",
    "\n",
    "Showscale(x1av,y1av,wdt,scalelabel,ax1)\n",
    "Showstat(x1av,y1av,wdt,x1std,y1std,ax1)\n",
    "\n",
    "ax1.set_xlim(x1av-wdt/2,x1av+wdt/2)\n",
    "ax1.set_ylim(y1av-wdt/2,y1av+wdt/2)\n",
    "ax1.set_title('Focal Point Spread : $\\lambda=400$nm',fontweight='bold')\n",
    "ax1.set_xlabel('x (mm)',fontweight='bold')\n",
    "ax1.set_ylabel('y (mm)',fontweight='bold')\n",
    "ax1.grid()\n",
    "#----\n",
    "ax2.plot(x2, y2,'go')\n",
    "Showscale(x2av,y2av,wdt,scalelabel,ax2)\n",
    "Showstat(x2av,y2av,wdt,x2std,y2std,ax2)\n",
    "ax2.set_xlim(x2av-wdt/2,x2av+wdt/2)\n",
    "ax2.set_ylim(y2av-wdt/2,y2av+wdt/2)\n",
    "ax2.set_xlabel('x (mm)',fontweight='bold')\n",
    "ax2.set_ylabel('y (mm)',fontweight='bold')\n",
    "ax2.grid()\n",
    "ax2.set_title('Focal Point Spread : $\\lambda=600$nm',fontweight='bold')\n",
    "#--------\n",
    "ax3.plot(x3, y3,'ro')\n",
    "Showscale(x3av,y3av,wdt,scalelabel,ax3)\n",
    "Showstat(x3av,y3av,wdt,x3std,y3std,ax3)\n",
    "ax3.set_xlim(x3av-wdt/2,x3av+wdt/2)\n",
    "ax3.set_ylim(y3av-wdt/2,y3av+wdt/2)\n",
    "ax3.set_xlabel('x (mm)',fontweight='bold')\n",
    "ax3.set_ylabel('y (mm)',fontweight='bold')\n",
    "ax3.grid()\n",
    "ax3.set_title('Focal Point Spread : $\\lambda=800$nm',fontweight='bold')\n",
    "#-----\n",
    "ax4.plot(x4, y4,'ko')\n",
    "Showscale(x4av,y4av,wdt,scalelabel,ax4)\n",
    "Showstat(x4av,y4av,wdt,x4std,y4std,ax4)\n",
    "ax4.set_xlim(x4av-wdt/2,x4av+wdt/2)\n",
    "ax4.set_ylim(y4av-wdt/2,y4av+wdt/2)\n",
    "ax4.set_xlabel('x (mm)',fontweight='bold')\n",
    "ax4.set_ylabel('y (mm)',fontweight='bold')\n",
    "ax4.grid()\n",
    "ax4.set_title('Focal Point Spread : $\\lambda=1\\mu$m',fontweight='bold')\n",
    "fulltitle=\"PSF at Focal Plane for file = {}\".format(rayfile)\n",
    "fulltitle=\"HOE : PSF at Focal Plane for angles ({:2.2f} , {:2.2f}) arcmin, order = {}\".format(theta_x,theta_y,order_str)\n",
    "plt.suptitle(fulltitle,fontsize=16,fontweight='bold',y=1.02)\n",
    "plt.tight_layout()\n",
    "plt.savefig(figname2)"
   ]
  },
  {
   "cell_type": "code",
   "execution_count": null,
   "metadata": {},
   "outputs": [],
   "source": []
  },
  {
   "cell_type": "code",
   "execution_count": null,
   "metadata": {},
   "outputs": [],
   "source": []
  }
 ],
 "metadata": {
  "anaconda-cloud": {},
  "kernelspec": {
   "display_name": "Python 3",
   "language": "python",
   "name": "python3"
  },
  "language_info": {
   "codemirror_mode": {
    "name": "ipython",
    "version": 3
   },
   "file_extension": ".py",
   "mimetype": "text/x-python",
   "name": "python",
   "nbconvert_exporter": "python",
   "pygments_lexer": "ipython3",
   "version": "3.7.6"
  },
  "toc": {
   "nav_menu": {},
   "number_sections": true,
   "sideBar": true,
   "skip_h1_title": false,
   "toc_cell": false,
   "toc_position": {},
   "toc_section_display": "block",
   "toc_window_display": false
  }
 },
 "nbformat": 4,
 "nbformat_minor": 2
}
