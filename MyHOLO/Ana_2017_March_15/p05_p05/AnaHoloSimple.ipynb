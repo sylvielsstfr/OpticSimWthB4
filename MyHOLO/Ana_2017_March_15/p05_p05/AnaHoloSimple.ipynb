{
 "cells": [
  {
   "cell_type": "markdown",
   "metadata": {
    "deletable": true,
    "editable": true
   },
   "source": [
    "# Simple Analyse the Hologram Data output from Beam4\n",
    "\n",
    "\n",
    "- author : Sylvie Dagoret-Campagne\n",
    "- affiliation : LAL\n",
    "- date March 7th 2017\n",
    "- update March 15th 2017\n",
    "\n",
    "with incident angle of 0.5 arcmin\n"
   ]
  },
  {
   "cell_type": "code",
   "execution_count": 95,
   "metadata": {
    "collapsed": true,
    "deletable": true,
    "editable": true
   },
   "outputs": [],
   "source": [
    "%matplotlib inline\n",
    "import matplotlib.pyplot as plt\n",
    "import numpy as np\n",
    "import os\n",
    "import matplotlib as mpl\n",
    "import pandas as pd\n",
    "import itertools"
   ]
  },
  {
   "cell_type": "code",
   "execution_count": 96,
   "metadata": {
    "collapsed": true,
    "deletable": true,
    "editable": true
   },
   "outputs": [],
   "source": [
    "# to enlarge the sizes\n",
    "params = {'legend.fontsize': 'x-large',\n",
    "          'figure.figsize': (13, 13),\n",
    "         'axes.labelsize': 'x-large',\n",
    "         'axes.titlesize':'x-large',\n",
    "         'xtick.labelsize':'x-large',\n",
    "         'ytick.labelsize':'x-large'}\n",
    "plt.rcParams.update(params)"
   ]
  },
  {
   "cell_type": "markdown",
   "metadata": {
    "deletable": true,
    "editable": true
   },
   "source": [
    "## Constants for conversions"
   ]
  },
  {
   "cell_type": "code",
   "execution_count": 97,
   "metadata": {
    "collapsed": false,
    "deletable": true,
    "editable": true
   },
   "outputs": [],
   "source": [
    "m_to_mm=1000.\n",
    "mm_to_m=1e-3\n",
    "inch_to_mm=25.4\n",
    "mm_to_inch=1./inch_to_mm\n",
    "micr_to_m=1e-6\n",
    "micr_to_mm=1e-3\n",
    "m_to_micr=1./micr_to_m\n",
    "m_to_cm=100.\n",
    "m_to_nm=1e9\n",
    "nm_to_m=1./m_to_nm"
   ]
  },
  {
   "cell_type": "code",
   "execution_count": 98,
   "metadata": {
    "collapsed": true,
    "deletable": true,
    "editable": true
   },
   "outputs": [],
   "source": [
    "arcdeg_to_arcmin=60.\n",
    "arcmin_to_arcdeg=1./arcdeg_to_arcmin\n",
    "arcmin_to_arcsec=60.\n",
    "arcdeg_to_arcsec=arcdeg_to_arcmin*arcmin_to_arcsec\n",
    "arcsec_to_arcdeg=1./arcdeg_to_arcsec"
   ]
  },
  {
   "cell_type": "code",
   "execution_count": 99,
   "metadata": {
    "collapsed": true,
    "deletable": true,
    "editable": true
   },
   "outputs": [],
   "source": [
    "deg_to_rad=np.pi/180."
   ]
  },
  {
   "cell_type": "code",
   "execution_count": 100,
   "metadata": {
    "collapsed": true,
    "deletable": true,
    "editable": true
   },
   "outputs": [],
   "source": [
    "rad_to_deg=1./deg_to_rad\n",
    "rad_to_arcsec=rad_to_deg*arcdeg_to_arcsec\n",
    "rad_to_arcmin=rad_to_deg*arcdeg_to_arcmin\n",
    "arcmin_ro_rad=1./rad_to_arcmin"
   ]
  },
  {
   "cell_type": "markdown",
   "metadata": {
    "deletable": true,
    "editable": true
   },
   "source": [
    "## Configuration parameters at the telescope"
   ]
  },
  {
   "cell_type": "markdown",
   "metadata": {
    "deletable": true,
    "editable": true
   },
   "source": [
    "#### telescope"
   ]
  },
  {
   "cell_type": "code",
   "execution_count": 101,
   "metadata": {
    "collapsed": true,
    "deletable": true,
    "editable": true
   },
   "outputs": [],
   "source": [
    "Tel_Focal_Length=12.6 # m : Focal length of the telescope\n",
    "Tel_Diameter=0.9 # m : Diameter of the telescope    \n",
    "Tel_Fnum=Tel_Focal_Length/Tel_Diameter"
   ]
  },
  {
   "cell_type": "markdown",
   "metadata": {
    "deletable": true,
    "editable": true
   },
   "source": [
    "#### filter"
   ]
  },
  {
   "cell_type": "code",
   "execution_count": 102,
   "metadata": {
    "collapsed": true,
    "deletable": true,
    "editable": true
   },
   "outputs": [],
   "source": [
    "Filt_D=0.05769 # m distance of the filter position wrt CCD plane\n",
    "Filt_size=3*inch_to_mm"
   ]
  },
  {
   "cell_type": "markdown",
   "metadata": {
    "deletable": true,
    "editable": true
   },
   "source": [
    "#### CCD detector"
   ]
  },
  {
   "cell_type": "code",
   "execution_count": 103,
   "metadata": {
    "collapsed": true,
    "deletable": true,
    "editable": true
   },
   "outputs": [],
   "source": [
    "Det_xpic=24.0 # microns per pixel\n",
    "Det_NbPix=2048 # number of pixels per CCD side\n",
    "Det_size=Det_xpic*Det_NbPix*micr_to_mm # CCD size in mm, 5 cm or 2 inch"
   ]
  },
  {
   "cell_type": "markdown",
   "metadata": {
    "deletable": true,
    "editable": true
   },
   "source": [
    "## Input file"
   ]
  },
  {
   "cell_type": "code",
   "execution_count": 104,
   "metadata": {
    "collapsed": false,
    "deletable": true,
    "editable": true
   },
   "outputs": [],
   "source": [
    "# number of rays\n",
    "NBEAM_X=11\n",
    "NBEAM_Y=11\n",
    "NBEAM=NBEAM_X*NBEAM_Y\n",
    "NWL=4\n",
    "NBTOT=NBEAM*NWL"
   ]
  },
  {
   "cell_type": "code",
   "execution_count": 105,
   "metadata": {
    "collapsed": true,
    "deletable": true,
    "editable": true
   },
   "outputs": [],
   "source": [
    "theta_x=0.5  # angle in arcmin\n",
    "theta_y=0.5  # angle in arcmin "
   ]
  },
  {
   "cell_type": "code",
   "execution_count": 106,
   "metadata": {
    "collapsed": true,
    "deletable": true,
    "editable": true
   },
   "outputs": [],
   "source": [
    "order=\"OP1\"\n",
    "order_str=\"+1\""
   ]
  },
  {
   "cell_type": "code",
   "execution_count": 107,
   "metadata": {
    "collapsed": true,
    "deletable": true,
    "editable": true
   },
   "outputs": [],
   "source": [
    "theta_x_num=int(theta_x*10)\n",
    "theta_y_num=int(theta_y*10)"
   ]
  },
  {
   "cell_type": "code",
   "execution_count": 108,
   "metadata": {
    "collapsed": true,
    "deletable": true,
    "editable": true
   },
   "outputs": [],
   "source": [
    "if theta_x_num>0:\n",
    "    theta_nstr='{:0>2}'.format(theta_x_num)\n",
    "    theta_x_str=\"p\"+theta_nstr\n",
    "else:\n",
    "    theta_nstr='{:0>2}'.format(-theta_x_num)\n",
    "    theta_x_str=\"m\"+theta_nstr\n"
   ]
  },
  {
   "cell_type": "code",
   "execution_count": 109,
   "metadata": {
    "collapsed": true,
    "deletable": true,
    "editable": true
   },
   "outputs": [],
   "source": [
    "if theta_y_num>0:\n",
    "    theta_nstr='{:0>2}'.format(theta_y_num)\n",
    "    theta_y_str=\"p\"+theta_nstr\n",
    "else:\n",
    "    theta_nstr='{:0>2}'.format(-theta_y_num)\n",
    "    theta_y_str=\"m\"+theta_nstr"
   ]
  },
  {
   "cell_type": "code",
   "execution_count": 110,
   "metadata": {
    "collapsed": false,
    "deletable": true,
    "editable": true
   },
   "outputs": [
    {
     "name": "stdout",
     "output_type": "stream",
     "text": [
      "AnaHoloSimple.ipynb\r\n",
      "Beam4_Rayfile_484_allwl_p05_p05.xlsx\r\n",
      "Beam4_Rayfile_484_allwl_p05_p05_O0.xlsx\r\n",
      "Beam4_Rayfile_484_allwl_p05_p05_OP1.RAY\r\n",
      "Beam4_Rayfile_484_allwl_p05_p05_OP1.xlsx\r\n",
      "Beam_Rayfile_484_allwl_p05_p05_O0.RAY\r\n",
      "DISP_Beam4_Rayfile_484_allwl_p05_p05_O0.png\r\n",
      "DISP_Beam4_Rayfile_484_allwl_p05_p05_OP1.png\r\n",
      "DISP_PSF_Beam4_Rayfile_484_allwl_p05_p05_O0_out.xlsx\r\n",
      "DISP_PSF_Beam4_Rayfile_484_allwl_p05_p05_OP1_out.xlsx\r\n",
      "\u001b[31mHOE_LSSCalyps_O0_07032017.OPT\u001b[m\u001b[m\r\n",
      "\u001b[31mHOE_LSSCalyps_OP1_07032017.OPT\u001b[m\u001b[m\r\n",
      "PSF_Beam4_Rayfile_484_allwl_p05_p05_O0.png\r\n",
      "PSF_Beam4_Rayfile_484_allwl_p05_p05_OP1.png\r\n"
     ]
    }
   ],
   "source": [
    "!ls"
   ]
  },
  {
   "cell_type": "code",
   "execution_count": 111,
   "metadata": {
    "collapsed": true,
    "deletable": true,
    "editable": true
   },
   "outputs": [],
   "source": [
    "Beam4_Rayfile=\"Beam4_Rayfile_{:d}_allwl_{}_{}_{}.xlsx\".format(NBTOT,theta_x_str,theta_y_str,order)"
   ]
  },
  {
   "cell_type": "markdown",
   "metadata": {
    "deletable": true,
    "editable": true
   },
   "source": [
    "### Output file"
   ]
  },
  {
   "cell_type": "code",
   "execution_count": 112,
   "metadata": {
    "collapsed": true,
    "deletable": true,
    "editable": true
   },
   "outputs": [],
   "source": [
    "outputdata_excel=\"DISP_PSF_Beam4_Rayfile_{:d}_allwl_{}_{}_{}_out.xlsx\".format(NBTOT,theta_x_str,theta_y_str,order)"
   ]
  },
  {
   "cell_type": "code",
   "execution_count": 113,
   "metadata": {
    "collapsed": false,
    "deletable": true,
    "editable": true
   },
   "outputs": [],
   "source": [
    "figname1=\"DISP_Beam4_Rayfile_{:d}_allwl_{}_{}_{}.png\".format(NBTOT,theta_x_str,theta_y_str,order)\n",
    "figname2=\"PSF_Beam4_Rayfile_{:d}_allwl_{}_{}_{}.png\".format(NBTOT,theta_x_str,theta_y_str,order)"
   ]
  },
  {
   "cell_type": "code",
   "execution_count": 114,
   "metadata": {
    "collapsed": true,
    "deletable": true,
    "editable": true
   },
   "outputs": [],
   "source": [
    "rayfile=Beam4_Rayfile"
   ]
  },
  {
   "cell_type": "code",
   "execution_count": 115,
   "metadata": {
    "collapsed": false,
    "deletable": true,
    "editable": true
   },
   "outputs": [],
   "source": [
    "input = pd.ExcelFile(rayfile)"
   ]
  },
  {
   "cell_type": "code",
   "execution_count": 116,
   "metadata": {
    "collapsed": false,
    "deletable": true,
    "editable": true
   },
   "outputs": [],
   "source": [
    "sheet_name=input.sheet_names[0]"
   ]
  },
  {
   "cell_type": "code",
   "execution_count": 117,
   "metadata": {
    "collapsed": true,
    "deletable": true,
    "editable": true
   },
   "outputs": [],
   "source": [
    "df_colname = input.parse(sheet_name,index_row=0,header=2,usecols=range(0,14))"
   ]
  },
  {
   "cell_type": "code",
   "execution_count": 118,
   "metadata": {
    "collapsed": false,
    "deletable": true,
    "editable": true
   },
   "outputs": [
    {
     "data": {
      "text/html": [
       "<div>\n",
       "<table border=\"1\" class=\"dataframe\">\n",
       "  <thead>\n",
       "    <tr style=\"text-align: right;\">\n",
       "      <th></th>\n",
       "      <th>---------------</th>\n",
       "      <th>---------------.1</th>\n",
       "      <th>---------------.2</th>\n",
       "      <th>---------------.3</th>\n",
       "      <th>---------------.4</th>\n",
       "      <th>---------------.5</th>\n",
       "      <th>----------</th>\n",
       "      <th>----------------</th>\n",
       "      <th>---------------.6</th>\n",
       "      <th>---------------.7</th>\n",
       "      <th>---------------.8</th>\n",
       "      <th>---------------.9</th>\n",
       "      <th>---------</th>\n",
       "    </tr>\n",
       "  </thead>\n",
       "  <tbody>\n",
       "    <tr>\n",
       "      <th>0</th>\n",
       "      <td>-4.7296</td>\n",
       "      <td>-4.7296</td>\n",
       "      <td>0</td>\n",
       "      <td>0.025093</td>\n",
       "      <td>0.025093</td>\n",
       "      <td>0.999370</td>\n",
       "      <td>0.0004</td>\n",
       "      <td>-0.243286</td>\n",
       "      <td>NaN</td>\n",
       "      <td>NaN</td>\n",
       "      <td>-1.831147</td>\n",
       "      <td>-6.106554</td>\n",
       "      <td>OK 3</td>\n",
       "    </tr>\n",
       "    <tr>\n",
       "      <th>1</th>\n",
       "      <td>-4.14684</td>\n",
       "      <td>-4.7296</td>\n",
       "      <td>0</td>\n",
       "      <td>0.020047</td>\n",
       "      <td>0.025095</td>\n",
       "      <td>0.999484</td>\n",
       "      <td>0.0004</td>\n",
       "      <td>-0.231717</td>\n",
       "      <td>NaN</td>\n",
       "      <td>NaN</td>\n",
       "      <td>-1.831407</td>\n",
       "      <td>-6.107253</td>\n",
       "      <td>OK 3</td>\n",
       "    </tr>\n",
       "    <tr>\n",
       "      <th>2</th>\n",
       "      <td>-3.56409</td>\n",
       "      <td>-4.7296</td>\n",
       "      <td>0</td>\n",
       "      <td>0.015000</td>\n",
       "      <td>0.025098</td>\n",
       "      <td>0.999572</td>\n",
       "      <td>0.0004</td>\n",
       "      <td>-0.223097</td>\n",
       "      <td>NaN</td>\n",
       "      <td>NaN</td>\n",
       "      <td>-1.831669</td>\n",
       "      <td>-6.107952</td>\n",
       "      <td>OK 3</td>\n",
       "    </tr>\n",
       "    <tr>\n",
       "      <th>3</th>\n",
       "      <td>-2.98133</td>\n",
       "      <td>-4.7296</td>\n",
       "      <td>0</td>\n",
       "      <td>0.009952</td>\n",
       "      <td>0.025099</td>\n",
       "      <td>0.999635</td>\n",
       "      <td>0.0004</td>\n",
       "      <td>-0.217425</td>\n",
       "      <td>NaN</td>\n",
       "      <td>NaN</td>\n",
       "      <td>-1.831932</td>\n",
       "      <td>-6.108653</td>\n",
       "      <td>OK 3</td>\n",
       "    </tr>\n",
       "    <tr>\n",
       "      <th>4</th>\n",
       "      <td>-2.39857</td>\n",
       "      <td>-4.7296</td>\n",
       "      <td>0</td>\n",
       "      <td>0.004904</td>\n",
       "      <td>0.025100</td>\n",
       "      <td>0.999673</td>\n",
       "      <td>0.0004</td>\n",
       "      <td>-0.214704</td>\n",
       "      <td>NaN</td>\n",
       "      <td>NaN</td>\n",
       "      <td>-1.832195</td>\n",
       "      <td>-6.109353</td>\n",
       "      <td>OK 3</td>\n",
       "    </tr>\n",
       "  </tbody>\n",
       "</table>\n",
       "</div>"
      ],
      "text/plain": [
       "  --------------- ---------------.1 ---------------.2  ---------------.3  \\\n",
       "0         -4.7296           -4.7296                 0           0.025093   \n",
       "1        -4.14684           -4.7296                 0           0.020047   \n",
       "2        -3.56409           -4.7296                 0           0.015000   \n",
       "3        -2.98133           -4.7296                 0           0.009952   \n",
       "4        -2.39857           -4.7296                 0           0.004904   \n",
       "\n",
       "   ---------------.4  ---------------.5  ----------  ----------------  \\\n",
       "0           0.025093           0.999370      0.0004         -0.243286   \n",
       "1           0.025095           0.999484      0.0004         -0.231717   \n",
       "2           0.025098           0.999572      0.0004         -0.223097   \n",
       "3           0.025099           0.999635      0.0004         -0.217425   \n",
       "4           0.025100           0.999673      0.0004         -0.214704   \n",
       "\n",
       "   ---------------.6  ---------------.7  ---------------.8  ---------------.9  \\\n",
       "0                NaN                NaN          -1.831147          -6.106554   \n",
       "1                NaN                NaN          -1.831407          -6.107253   \n",
       "2                NaN                NaN          -1.831669          -6.107952   \n",
       "3                NaN                NaN          -1.831932          -6.108653   \n",
       "4                NaN                NaN          -1.832195          -6.109353   \n",
       "\n",
       "  ---------  \n",
       "0      OK 3  \n",
       "1      OK 3  \n",
       "2      OK 3  \n",
       "3      OK 3  \n",
       "4      OK 3  "
      ]
     },
     "execution_count": 118,
     "metadata": {},
     "output_type": "execute_result"
    }
   ],
   "source": [
    "df_colname.head()"
   ]
  },
  {
   "cell_type": "code",
   "execution_count": 119,
   "metadata": {
    "collapsed": false,
    "deletable": true,
    "editable": true
   },
   "outputs": [],
   "source": [
    "df = input.parse(sheet_name,index_row=0,header=2,usecols=range(0,14))\n",
    "#df.columns = [\"X0\",\"Y0\",\"Z0\",\"U0\",\"V0\",\"W0\",\"wave\",\"col\",\"WFE\",\"Xgoal\",\"Ygoal\",\"Xfinal\",\"Yfinal\",\"Notes\"]\n",
    "df.columns = [\"X0\",\"Y0\",\"Z0\",\"U0\",\"V0\",\"W0\",\"wave\",\"WFE\",\"Xgoal\",\"Ygoal\",\"Xfinal\",\"Yfinal\",\"Notes\"]"
   ]
  },
  {
   "cell_type": "code",
   "execution_count": 120,
   "metadata": {
    "collapsed": false,
    "deletable": true,
    "editable": true
   },
   "outputs": [
    {
     "data": {
      "text/html": [
       "<div>\n",
       "<table border=\"1\" class=\"dataframe\">\n",
       "  <thead>\n",
       "    <tr style=\"text-align: right;\">\n",
       "      <th></th>\n",
       "      <th>X0</th>\n",
       "      <th>Y0</th>\n",
       "      <th>Z0</th>\n",
       "      <th>U0</th>\n",
       "      <th>V0</th>\n",
       "      <th>W0</th>\n",
       "      <th>wave</th>\n",
       "      <th>WFE</th>\n",
       "      <th>Xgoal</th>\n",
       "      <th>Ygoal</th>\n",
       "      <th>Xfinal</th>\n",
       "      <th>Yfinal</th>\n",
       "      <th>Notes</th>\n",
       "    </tr>\n",
       "  </thead>\n",
       "  <tbody>\n",
       "    <tr>\n",
       "      <th>0</th>\n",
       "      <td>-4.7296</td>\n",
       "      <td>-4.7296</td>\n",
       "      <td>0</td>\n",
       "      <td>0.025093</td>\n",
       "      <td>0.025093</td>\n",
       "      <td>0.999370</td>\n",
       "      <td>0.0004</td>\n",
       "      <td>-0.243286</td>\n",
       "      <td>NaN</td>\n",
       "      <td>NaN</td>\n",
       "      <td>-1.831147</td>\n",
       "      <td>-6.106554</td>\n",
       "      <td>OK 3</td>\n",
       "    </tr>\n",
       "    <tr>\n",
       "      <th>1</th>\n",
       "      <td>-4.14684</td>\n",
       "      <td>-4.7296</td>\n",
       "      <td>0</td>\n",
       "      <td>0.020047</td>\n",
       "      <td>0.025095</td>\n",
       "      <td>0.999484</td>\n",
       "      <td>0.0004</td>\n",
       "      <td>-0.231717</td>\n",
       "      <td>NaN</td>\n",
       "      <td>NaN</td>\n",
       "      <td>-1.831407</td>\n",
       "      <td>-6.107253</td>\n",
       "      <td>OK 3</td>\n",
       "    </tr>\n",
       "    <tr>\n",
       "      <th>2</th>\n",
       "      <td>-3.56409</td>\n",
       "      <td>-4.7296</td>\n",
       "      <td>0</td>\n",
       "      <td>0.015000</td>\n",
       "      <td>0.025098</td>\n",
       "      <td>0.999572</td>\n",
       "      <td>0.0004</td>\n",
       "      <td>-0.223097</td>\n",
       "      <td>NaN</td>\n",
       "      <td>NaN</td>\n",
       "      <td>-1.831669</td>\n",
       "      <td>-6.107952</td>\n",
       "      <td>OK 3</td>\n",
       "    </tr>\n",
       "    <tr>\n",
       "      <th>3</th>\n",
       "      <td>-2.98133</td>\n",
       "      <td>-4.7296</td>\n",
       "      <td>0</td>\n",
       "      <td>0.009952</td>\n",
       "      <td>0.025099</td>\n",
       "      <td>0.999635</td>\n",
       "      <td>0.0004</td>\n",
       "      <td>-0.217425</td>\n",
       "      <td>NaN</td>\n",
       "      <td>NaN</td>\n",
       "      <td>-1.831932</td>\n",
       "      <td>-6.108653</td>\n",
       "      <td>OK 3</td>\n",
       "    </tr>\n",
       "    <tr>\n",
       "      <th>4</th>\n",
       "      <td>-2.39857</td>\n",
       "      <td>-4.7296</td>\n",
       "      <td>0</td>\n",
       "      <td>0.004904</td>\n",
       "      <td>0.025100</td>\n",
       "      <td>0.999673</td>\n",
       "      <td>0.0004</td>\n",
       "      <td>-0.214704</td>\n",
       "      <td>NaN</td>\n",
       "      <td>NaN</td>\n",
       "      <td>-1.832195</td>\n",
       "      <td>-6.109353</td>\n",
       "      <td>OK 3</td>\n",
       "    </tr>\n",
       "  </tbody>\n",
       "</table>\n",
       "</div>"
      ],
      "text/plain": [
       "        X0      Y0 Z0        U0        V0        W0    wave       WFE  Xgoal  \\\n",
       "0  -4.7296 -4.7296  0  0.025093  0.025093  0.999370  0.0004 -0.243286    NaN   \n",
       "1 -4.14684 -4.7296  0  0.020047  0.025095  0.999484  0.0004 -0.231717    NaN   \n",
       "2 -3.56409 -4.7296  0  0.015000  0.025098  0.999572  0.0004 -0.223097    NaN   \n",
       "3 -2.98133 -4.7296  0  0.009952  0.025099  0.999635  0.0004 -0.217425    NaN   \n",
       "4 -2.39857 -4.7296  0  0.004904  0.025100  0.999673  0.0004 -0.214704    NaN   \n",
       "\n",
       "   Ygoal    Xfinal    Yfinal  Notes  \n",
       "0    NaN -1.831147 -6.106554   OK 3  \n",
       "1    NaN -1.831407 -6.107253   OK 3  \n",
       "2    NaN -1.831669 -6.107952   OK 3  \n",
       "3    NaN -1.831932 -6.108653   OK 3  \n",
       "4    NaN -1.832195 -6.109353   OK 3  "
      ]
     },
     "execution_count": 120,
     "metadata": {},
     "output_type": "execute_result"
    }
   ],
   "source": [
    "df.head()"
   ]
  },
  {
   "cell_type": "markdown",
   "metadata": {
    "deletable": true,
    "editable": true
   },
   "source": [
    "### Decoding"
   ]
  },
  {
   "cell_type": "code",
   "execution_count": 121,
   "metadata": {
    "collapsed": false,
    "deletable": true,
    "editable": true
   },
   "outputs": [],
   "source": [
    "wave=df[\"wave\"]"
   ]
  },
  {
   "cell_type": "code",
   "execution_count": 122,
   "metadata": {
    "collapsed": true,
    "deletable": true,
    "editable": true
   },
   "outputs": [],
   "source": [
    "Xfinal=df[\"Xfinal\"]\n",
    "Yfinal=df[\"Yfinal\"]"
   ]
  },
  {
   "cell_type": "code",
   "execution_count": 123,
   "metadata": {
    "collapsed": true,
    "deletable": true,
    "editable": true
   },
   "outputs": [],
   "source": [
    "selected_indexes1=np.where(wave==0.0004)\n",
    "selected_indexes2=np.where(wave==0.0006)\n",
    "selected_indexes3=np.where(wave==0.0008)\n",
    "selected_indexes4=np.where(wave==0.0010)"
   ]
  },
  {
   "cell_type": "code",
   "execution_count": 124,
   "metadata": {
    "collapsed": false,
    "deletable": true,
    "editable": true
   },
   "outputs": [
    {
     "data": {
      "text/plain": [
       "(array([  0,   1,   2,   3,   4,   5,   6,   7,   8,   9,  10,  11,  12,\n",
       "         13,  14,  15,  16,  17,  18,  19,  20,  21,  22,  23,  24,  25,\n",
       "         26,  27,  28,  29,  30,  31,  32,  33,  34,  35,  36,  37,  38,\n",
       "         39,  40,  41,  42,  43,  44,  45,  46,  47,  48,  49,  50,  51,\n",
       "         52,  53,  54,  55,  56,  57,  58,  59,  60,  61,  62,  63,  64,\n",
       "         65,  66,  67,  68,  69,  70,  71,  72,  73,  74,  75,  76,  77,\n",
       "         78,  79,  80,  81,  82,  83,  84,  85,  86,  87,  88,  89,  90,\n",
       "         91,  92,  93,  94,  95,  96,  97,  98,  99, 100, 101, 102, 103,\n",
       "        104, 105, 106, 107, 108, 109, 110, 111, 112, 113, 114, 115, 116,\n",
       "        117, 118, 119, 120]),)"
      ]
     },
     "execution_count": 124,
     "metadata": {},
     "output_type": "execute_result"
    }
   ],
   "source": [
    "selected_indexes1"
   ]
  },
  {
   "cell_type": "code",
   "execution_count": 125,
   "metadata": {
    "collapsed": true,
    "deletable": true,
    "editable": true
   },
   "outputs": [],
   "source": [
    "def GetInfo(a):\n",
    "    a_av=np.average(a)\n",
    "    a_rms=np.std(a)\n",
    "    a_min=np.min(a)\n",
    "    a_max=np.max(a)\n",
    "    a_width=a_max-a_min\n",
    "    return a_av,a_rms,a_min,a_max,a_width"
   ]
  },
  {
   "cell_type": "code",
   "execution_count": 126,
   "metadata": {
    "collapsed": false,
    "deletable": true,
    "editable": true
   },
   "outputs": [],
   "source": [
    "x1=Xfinal[selected_indexes1[0]]\n",
    "y1=Yfinal[selected_indexes1[0]]"
   ]
  },
  {
   "cell_type": "code",
   "execution_count": 127,
   "metadata": {
    "collapsed": true,
    "deletable": true,
    "editable": true
   },
   "outputs": [],
   "source": [
    "x1av,x1std,x1min,x1max,x1wdt=GetInfo(x1)\n",
    "y1av,y1std,y1min,y1max,y1wdt=GetInfo(y1)"
   ]
  },
  {
   "cell_type": "code",
   "execution_count": 128,
   "metadata": {
    "collapsed": true,
    "deletable": true,
    "editable": true
   },
   "outputs": [],
   "source": [
    "x2=Xfinal[selected_indexes2[0]]\n",
    "y2=Yfinal[selected_indexes2[0]]"
   ]
  },
  {
   "cell_type": "code",
   "execution_count": 129,
   "metadata": {
    "collapsed": true,
    "deletable": true,
    "editable": true
   },
   "outputs": [],
   "source": [
    "x2av,x2std,x2min,x2max,x2wdt=GetInfo(x2)\n",
    "y2av,y2std,y2min,y2max,y2wdt=GetInfo(y2)"
   ]
  },
  {
   "cell_type": "code",
   "execution_count": 130,
   "metadata": {
    "collapsed": true,
    "deletable": true,
    "editable": true
   },
   "outputs": [],
   "source": [
    "x3=Xfinal[selected_indexes3[0]]\n",
    "y3=Yfinal[selected_indexes3[0]]"
   ]
  },
  {
   "cell_type": "code",
   "execution_count": 131,
   "metadata": {
    "collapsed": true,
    "deletable": true,
    "editable": true
   },
   "outputs": [],
   "source": [
    "x3av,x3std,x3min,x3max,x3wdt=GetInfo(x3)\n",
    "y3av,y3std,y3min,y3max,y3wdt=GetInfo(y3)"
   ]
  },
  {
   "cell_type": "code",
   "execution_count": 132,
   "metadata": {
    "collapsed": true,
    "deletable": true,
    "editable": true
   },
   "outputs": [],
   "source": [
    "x4=Xfinal[selected_indexes4[0]]\n",
    "y4=Yfinal[selected_indexes4[0]]"
   ]
  },
  {
   "cell_type": "code",
   "execution_count": 133,
   "metadata": {
    "collapsed": true,
    "deletable": true,
    "editable": true
   },
   "outputs": [],
   "source": [
    "x4av,x4std,x4min,x4max,x4wdt=GetInfo(x4)\n",
    "y4av,y4std,y4min,y4max,y4wdt=GetInfo(y4)"
   ]
  },
  {
   "cell_type": "code",
   "execution_count": 134,
   "metadata": {
    "collapsed": true,
    "deletable": true,
    "editable": true
   },
   "outputs": [],
   "source": [
    "xav=np.array([x1av,x2av,x3av,x4av])\n",
    "xstd=np.array([x1std,x2std,x3std,x4std])\n",
    "xmin=np.array([x1min,x2min,x3min,x4min])\n",
    "xmax=np.array([x1max,x2max,x3max,x4max])\n",
    "xwdt=np.array([x1wdt,x2wdt,x3wdt,x4wdt])\n",
    "yav=np.array([y1av,y2av,y3av,y4av])\n",
    "ystd=np.array([y1std,y2std,y3std,y4std])\n",
    "ymin=np.array([y1min,y2min,y3min,y4min])\n",
    "ymax=np.array([y1max,y2max,y3max,y4max])\n",
    "ywdt=np.array([y1wdt,y2wdt,y3wdt,y4wdt])\n"
   ]
  },
  {
   "cell_type": "code",
   "execution_count": 135,
   "metadata": {
    "collapsed": true,
    "deletable": true,
    "editable": true
   },
   "outputs": [],
   "source": [
    "dataout = {'xav': xav,'xstd' :xstd,'xmin' :xmin,'xmax' :xmax,'xwdt':xwdt,'yav': yav,'ystd' :ystd,'ymin' :ymin,'ymax' :ymax,'ywdt':ywdt}"
   ]
  },
  {
   "cell_type": "code",
   "execution_count": 136,
   "metadata": {
    "collapsed": true,
    "deletable": true,
    "editable": true
   },
   "outputs": [],
   "source": [
    "df = pd.DataFrame(dataout, index = ['400nm', '600nm', '800nm', '1000nm'])"
   ]
  },
  {
   "cell_type": "code",
   "execution_count": 137,
   "metadata": {
    "collapsed": false,
    "deletable": true,
    "editable": true
   },
   "outputs": [
    {
     "data": {
      "text/html": [
       "<div>\n",
       "<table border=\"1\" class=\"dataframe\">\n",
       "  <thead>\n",
       "    <tr style=\"text-align: right;\">\n",
       "      <th></th>\n",
       "      <th>xav</th>\n",
       "      <th>xmax</th>\n",
       "      <th>xmin</th>\n",
       "      <th>xstd</th>\n",
       "      <th>xwdt</th>\n",
       "      <th>yav</th>\n",
       "      <th>ymax</th>\n",
       "      <th>ymin</th>\n",
       "      <th>ystd</th>\n",
       "      <th>ywdt</th>\n",
       "    </tr>\n",
       "  </thead>\n",
       "  <tbody>\n",
       "    <tr>\n",
       "      <th>400nm</th>\n",
       "      <td>-1.835958</td>\n",
       "      <td>-1.831147</td>\n",
       "      <td>-1.840767</td>\n",
       "      <td>0.002364</td>\n",
       "      <td>0.009620</td>\n",
       "      <td>-6.114305</td>\n",
       "      <td>-6.106554</td>\n",
       "      <td>-6.122061</td>\n",
       "      <td>0.003487</td>\n",
       "      <td>0.015507</td>\n",
       "    </tr>\n",
       "    <tr>\n",
       "      <th>600nm</th>\n",
       "      <td>-1.837679</td>\n",
       "      <td>-1.827300</td>\n",
       "      <td>-1.848096</td>\n",
       "      <td>0.004655</td>\n",
       "      <td>0.020796</td>\n",
       "      <td>-8.278141</td>\n",
       "      <td>-8.257112</td>\n",
       "      <td>-8.299228</td>\n",
       "      <td>0.010510</td>\n",
       "      <td>0.042116</td>\n",
       "    </tr>\n",
       "    <tr>\n",
       "      <th>800nm</th>\n",
       "      <td>-1.839438</td>\n",
       "      <td>-1.821365</td>\n",
       "      <td>-1.857648</td>\n",
       "      <td>0.008317</td>\n",
       "      <td>0.036283</td>\n",
       "      <td>-10.470093</td>\n",
       "      <td>-10.429215</td>\n",
       "      <td>-10.511145</td>\n",
       "      <td>0.021837</td>\n",
       "      <td>0.081930</td>\n",
       "    </tr>\n",
       "    <tr>\n",
       "      <th>1000nm</th>\n",
       "      <td>-1.841242</td>\n",
       "      <td>-1.813265</td>\n",
       "      <td>-1.869547</td>\n",
       "      <td>0.013419</td>\n",
       "      <td>0.056283</td>\n",
       "      <td>-12.700483</td>\n",
       "      <td>-12.632732</td>\n",
       "      <td>-12.768619</td>\n",
       "      <td>0.037617</td>\n",
       "      <td>0.135886</td>\n",
       "    </tr>\n",
       "  </tbody>\n",
       "</table>\n",
       "</div>"
      ],
      "text/plain": [
       "             xav      xmax      xmin      xstd      xwdt        yav  \\\n",
       "400nm  -1.835958 -1.831147 -1.840767  0.002364  0.009620  -6.114305   \n",
       "600nm  -1.837679 -1.827300 -1.848096  0.004655  0.020796  -8.278141   \n",
       "800nm  -1.839438 -1.821365 -1.857648  0.008317  0.036283 -10.470093   \n",
       "1000nm -1.841242 -1.813265 -1.869547  0.013419  0.056283 -12.700483   \n",
       "\n",
       "             ymax       ymin      ystd      ywdt  \n",
       "400nm   -6.106554  -6.122061  0.003487  0.015507  \n",
       "600nm   -8.257112  -8.299228  0.010510  0.042116  \n",
       "800nm  -10.429215 -10.511145  0.021837  0.081930  \n",
       "1000nm -12.632732 -12.768619  0.037617  0.135886  "
      ]
     },
     "execution_count": 137,
     "metadata": {},
     "output_type": "execute_result"
    }
   ],
   "source": [
    "df.head()"
   ]
  },
  {
   "cell_type": "code",
   "execution_count": 138,
   "metadata": {
    "collapsed": true,
    "deletable": true,
    "editable": true
   },
   "outputs": [],
   "source": [
    "df.to_excel(outputdata_excel)"
   ]
  },
  {
   "cell_type": "code",
   "execution_count": 139,
   "metadata": {
    "collapsed": false,
    "deletable": true,
    "editable": true
   },
   "outputs": [
    {
     "data": {
      "image/png": "[encoded data removed]",
      "text/plain": [
       "<matplotlib.figure.Figure at 0x1054b5f10>"
      ]
     },
     "metadata": {},
     "output_type": "display_data"
    }
   ],
   "source": [
    "plt.plot(x1,y1,\"b.\")\n",
    "plt.plot(x2,y2,\"g.\")\n",
    "plt.plot(x3,y3,\"r.\")\n",
    "plt.plot(x4,y4,\"k.\")\n",
    "plt.xlim(-Det_size/2,Det_size/2.)\n",
    "plt.ylim(-Det_size/2,Det_size/2)\n",
    "plt.grid(True)\n",
    "plt.xlabel(\"x (mm)\",fontweight='bold')\n",
    "plt.ylabel(\"y (mm)\",fontweight='bold')\n",
    "fulltitle=\"Dispersion at Focal Plane for angles ({:2.2f} , {:2.2f}) arcmin, order = {}\".format(theta_x,theta_y,order_str)\n",
    "plt.title(fulltitle,fontsize=16,fontweight='bold')\n",
    "plt.savefig(figname1)"
   ]
  },
  {
   "cell_type": "code",
   "execution_count": 140,
   "metadata": {
    "collapsed": true
   },
   "outputs": [],
   "source": [
    "def Showscale(x,y,w,label,ax):\n",
    "    xmin=x-w/2\n",
    "    xmax=x+w/2\n",
    "    ymin=y-w/2\n",
    "    ymax=y+w/2\n",
    "    xscale=xmax-xmin\n",
    "    yscale=ymax-ymin\n",
    "    ax.plot([xmin+xscale*.1,xmin+xscale*.1+w/10.],[ymin+yscale*0.8,ymin+yscale*0.8],'k-',lw=2)\n",
    "    ax.text(xmin+xscale*.1, ymin+yscale*0.85, label,fontsize=16, fontweight='bold')"
   ]
  },
  {
   "cell_type": "code",
   "execution_count": 141,
   "metadata": {
    "collapsed": false,
    "deletable": true,
    "editable": true
   },
   "outputs": [
    {
     "data": {
      "image/png": "[encoded data removed]",
      "text/plain": [
       "<matplotlib.figure.Figure at 0x106044dd0>"
      ]
     },
     "metadata": {},
     "output_type": "display_data"
    }
   ],
   "source": [
    "wdt=1.000  #1 mm\n",
    "scalelabel=\"100 $\\mu$m\"\n",
    "\n",
    "f, ((ax1, ax2), (ax3, ax4)) = plt.subplots(2, 2)\n",
    "#----------\n",
    "ax1.plot(x1, y1,'bo')\n",
    "Showscale(x1av,y1av,wdt,scalelabel,ax1)\n",
    "ax1.set_xlim(x1av-wdt/2,x1av+wdt/2)\n",
    "ax1.set_ylim(y1av-wdt/2,y1av+wdt/2)\n",
    "ax1.set_title('Focal Point Spread : $\\lambda=400$nm',fontweight='bold')\n",
    "ax1.set_xlabel('x (mm)',fontweight='bold')\n",
    "ax1.set_ylabel('y (mm)',fontweight='bold')\n",
    "ax1.grid()\n",
    "#--------------\n",
    "ax2.plot(x2, y2,'go')\n",
    "Showscale(x2av,y2av,wdt,scalelabel,ax2)\n",
    "ax2.set_xlim(x2av-wdt/2,x2av+wdt/2)\n",
    "ax2.set_ylim(y2av-wdt/2,y2av+wdt/2)\n",
    "ax2.set_xlabel('x (mm)',fontweight='bold')\n",
    "ax2.set_ylabel('y (mm)',fontweight='bold')\n",
    "ax2.grid()\n",
    "ax2.set_title('Focal Point Spread : $\\lambda=600$nm',fontweight='bold')\n",
    "#--------------------\n",
    "ax3.plot(x3, y3,'ro')\n",
    "Showscale(x3av,y3av,wdt,scalelabel,ax3)\n",
    "ax3.set_xlim(x3av-wdt/2,x3av+wdt/2)\n",
    "ax3.set_ylim(y3av-wdt/2,y3av+wdt/2)\n",
    "ax3.set_xlabel('x (mm)',fontweight='bold')\n",
    "ax3.set_ylabel('y (mm)',fontweight='bold')\n",
    "ax3.grid()\n",
    "ax3.set_title('Focal Point Spread : $\\lambda=800$nm',fontweight='bold')\n",
    "#-----------------------------\n",
    "ax4.plot(x4, y4,'ko')\n",
    "Showscale(x4av,y4av,wdt,scalelabel,ax4)\n",
    "ax4.set_xlim(x4av-wdt/2,x4av+wdt/2)\n",
    "ax4.set_ylim(y4av-wdt/2,y4av+wdt/2)\n",
    "ax4.set_xlabel('x (mm)',fontweight='bold')\n",
    "ax4.set_ylabel('y (mm)',fontweight='bold')\n",
    "ax4.grid()\n",
    "ax4.set_title('Focal Point Spread : $\\lambda=1\\mu$m',fontweight='bold')\n",
    "#----------------------\n",
    "fulltitle=\"PSF at Focal Plane for file = {}\".format(rayfile)\n",
    "fulltitle=\"PSF at Focal Plane for angles ({:2.2f} , {:2.2f}) arcmin, order = {}\".format(theta_x,theta_y,order_str)\n",
    "plt.suptitle(fulltitle,fontsize=16,fontweight='bold')\n",
    "plt.savefig(figname2)"
   ]
  },
  {
   "cell_type": "code",
   "execution_count": null,
   "metadata": {
    "collapsed": true,
    "deletable": true,
    "editable": true
   },
   "outputs": [],
   "source": []
  },
  {
   "cell_type": "code",
   "execution_count": null,
   "metadata": {
    "collapsed": true,
    "deletable": true,
    "editable": true
   },
   "outputs": [],
   "source": []
  }
 ],
 "metadata": {
  "anaconda-cloud": {},
  "kernelspec": {
   "display_name": "Python [conda env:pyastrophys]",
   "language": "python",
   "name": "conda-env-pyastrophys-py"
  },
  "language_info": {
   "codemirror_mode": {
    "name": "ipython",
    "version": 2
   },
   "file_extension": ".py",
   "mimetype": "text/x-python",
   "name": "python",
   "nbconvert_exporter": "python",
   "pygments_lexer": "ipython2",
   "version": "2.7.12"
  }
 },
 "nbformat": 4,
 "nbformat_minor": 2
}
