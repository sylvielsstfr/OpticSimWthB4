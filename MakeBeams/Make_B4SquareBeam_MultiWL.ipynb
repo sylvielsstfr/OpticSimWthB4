{
 "cells": [
  {
   "cell_type": "markdown",
   "metadata": {
    "deletable": true,
    "editable": true
   },
   "source": [
    "# Make an Excel Ray file for Beam4\n",
    "\n",
    "\n",
    "- Geometry : Auxiliary Telescope Geometry of Optical for CTIO 0.9 m "
   ]
  },
  {
   "cell_type": "markdown",
   "metadata": {
    "deletable": true,
    "editable": true
   },
   "source": [
    "- author : Sylvie Dagoret-Campagne\n",
    "- affiliation : LAL/IN2P3/CNRS\n",
    "- date : February 28th 2017\n",
    "- update : March 15th 2017\n",
    "\n",
    "Simple 2D optical geometry for the optical setup of CTIO 0.9m telescope with Ronchi Grating.\n",
    "This is a tool to adjust the CCD position wrt Filter wheel.\n",
    "Here 4 wavelength are generated.\n",
    "The source incident angle must be provided in terms of angles $(\\alpha_x,\\alpha_y)$.\n",
    "\n",
    "\n",
    "This is a python notebook (not a sagemath notebook)\n",
    "- command:\n",
    "** ipython notebook **"
   ]
  },
  {
   "cell_type": "code",
   "execution_count": 316,
   "metadata": {
    "collapsed": true,
    "deletable": true,
    "editable": true
   },
   "outputs": [],
   "source": [
    "%matplotlib inline\n",
    "import matplotlib.pyplot as plt\n",
    "import numpy as np\n",
    "import os\n",
    "import matplotlib as mpl\n",
    "import pandas as pd\n",
    "import itertools"
   ]
  },
  {
   "cell_type": "code",
   "execution_count": 317,
   "metadata": {
    "collapsed": true,
    "deletable": true,
    "editable": true
   },
   "outputs": [],
   "source": [
    "# to enlarge the sizes\n",
    "params = {'legend.fontsize': 'x-large',\n",
    "          'figure.figsize': (8, 8),\n",
    "         'axes.labelsize': 'x-large',\n",
    "         'axes.titlesize':'x-large',\n",
    "         'xtick.labelsize':'x-large',\n",
    "         'ytick.labelsize':'x-large'}\n",
    "plt.rcParams.update(params)\n"
   ]
  },
  {
   "cell_type": "markdown",
   "metadata": {
    "deletable": true,
    "editable": true
   },
   "source": [
    "## Output filename and desired wavelength"
   ]
  },
  {
   "cell_type": "code",
   "execution_count": 318,
   "metadata": {
    "collapsed": true,
    "deletable": true,
    "editable": true
   },
   "outputs": [],
   "source": [
    "root_filename=\"Beam4_Rayfile_\""
   ]
  },
  {
   "cell_type": "code",
   "execution_count": 319,
   "metadata": {
    "collapsed": true,
    "deletable": true,
    "editable": true
   },
   "outputs": [],
   "source": [
    "# number of rays\n",
    "NBEAM_X=11\n",
    "NBEAM_Y=11\n",
    "NBEAM=NBEAM_X*NBEAM_Y\n",
    "NWL=4"
   ]
  },
  {
   "cell_type": "code",
   "execution_count": 320,
   "metadata": {
    "collapsed": true,
    "deletable": true,
    "editable": true
   },
   "outputs": [],
   "source": [
    "Wavelength_B=0.0004\n",
    "Wavelength_G=0.0006\n",
    "Wavelength_R=0.0008\n",
    "Wavelength_I=0.001"
   ]
  },
  {
   "cell_type": "code",
   "execution_count": 321,
   "metadata": {
    "collapsed": true,
    "deletable": true,
    "editable": true
   },
   "outputs": [],
   "source": [
    "theta_x=-0.5  # angle in arcmin\n",
    "theta_y=-0.5  # angle in arcmin "
   ]
  },
  {
   "cell_type": "code",
   "execution_count": 322,
   "metadata": {
    "collapsed": true,
    "deletable": true,
    "editable": true
   },
   "outputs": [],
   "source": [
    "theta_x_num=int(theta_x*10)\n",
    "theta_y_num=int(theta_y*10)"
   ]
  },
  {
   "cell_type": "code",
   "execution_count": 323,
   "metadata": {
    "collapsed": false,
    "deletable": true,
    "editable": true
   },
   "outputs": [],
   "source": [
    "if theta_x_num>0:\n",
    "    theta_nstr='{:0>2}'.format(theta_x_num)\n",
    "    theta_x_str=\"p\"+theta_nstr\n",
    "else:\n",
    "    theta_nstr='{:0>2}'.format(-theta_x_num)\n",
    "    theta_x_str=\"m\"+theta_nstr"
   ]
  },
  {
   "cell_type": "code",
   "execution_count": 324,
   "metadata": {
    "collapsed": true
   },
   "outputs": [],
   "source": [
    "if theta_y_num>0:\n",
    "    theta_nstr='{:0>2}'.format(theta_y_num)\n",
    "    theta_y_str=\"p\"+theta_nstr\n",
    "else:\n",
    "    theta_nstr='{:0>2}'.format(-theta_y_num)\n",
    "    theta_y_str=\"m\"+theta_nstr"
   ]
  },
  {
   "cell_type": "code",
   "execution_count": 325,
   "metadata": {
    "collapsed": false,
    "deletable": true,
    "editable": true
   },
   "outputs": [],
   "source": [
    "Beam4_Rayfile=\"Beam4_Rayfile_{:d}_allwl_{}_{}.xlsx\".format(NBEAM*NWL,theta_x_str,theta_y_str)"
   ]
  },
  {
   "cell_type": "code",
   "execution_count": 326,
   "metadata": {
    "collapsed": false,
    "deletable": true,
    "editable": true
   },
   "outputs": [
    {
     "data": {
      "text/plain": [
       "'Beam4_Rayfile_484_allwl_m05_m05.xlsx'"
      ]
     },
     "execution_count": 326,
     "metadata": {},
     "output_type": "execute_result"
    }
   ],
   "source": [
    "Beam4_Rayfile"
   ]
  },
  {
   "cell_type": "markdown",
   "metadata": {
    "deletable": true,
    "editable": true
   },
   "source": [
    "## Constants for conversions"
   ]
  },
  {
   "cell_type": "code",
   "execution_count": 327,
   "metadata": {
    "collapsed": true,
    "deletable": true,
    "editable": true
   },
   "outputs": [],
   "source": [
    "m_to_mm=1000.\n",
    "mm_to_m=1e-3\n",
    "inch_to_mm=25.4\n",
    "mm_to_inch=1./inch_to_mm\n",
    "micr_to_m=1e-6\n",
    "m_to_micr=1./micr_to_m\n",
    "m_to_cm=100.\n",
    "m_to_nm=1e9\n",
    "nm_to_m=1./m_to_nm"
   ]
  },
  {
   "cell_type": "code",
   "execution_count": 328,
   "metadata": {
    "collapsed": true,
    "deletable": true,
    "editable": true
   },
   "outputs": [],
   "source": [
    "arcdeg_to_arcmin=60.\n",
    "arcmin_to_arcdeg=1./arcdeg_to_arcmin\n",
    "arcmin_to_arcsec=60.\n",
    "arcdeg_to_arcsec=arcdeg_to_arcmin*arcmin_to_arcsec\n",
    "arcsec_to_arcdeg=1./arcdeg_to_arcsec"
   ]
  },
  {
   "cell_type": "code",
   "execution_count": 329,
   "metadata": {
    "collapsed": false,
    "deletable": true,
    "editable": true
   },
   "outputs": [],
   "source": [
    "deg_to_rad=np.pi/180."
   ]
  },
  {
   "cell_type": "code",
   "execution_count": 330,
   "metadata": {
    "collapsed": true,
    "deletable": true,
    "editable": true
   },
   "outputs": [],
   "source": [
    "rad_to_deg=1./deg_to_rad\n",
    "rad_to_arcsec=rad_to_deg*arcdeg_to_arcsec\n",
    "rad_to_arcmin=rad_to_deg*arcdeg_to_arcmin\n",
    "arcmin_ro_rad=1./rad_to_arcmin"
   ]
  },
  {
   "cell_type": "markdown",
   "metadata": {
    "deletable": true,
    "editable": true
   },
   "source": [
    "## Configuration parameters at the telescope\n",
    "--------------------------------------------------------"
   ]
  },
  {
   "cell_type": "markdown",
   "metadata": {
    "deletable": true,
    "editable": true
   },
   "source": [
    "#### Telescope"
   ]
  },
  {
   "cell_type": "code",
   "execution_count": 331,
   "metadata": {
    "collapsed": true,
    "deletable": true,
    "editable": true
   },
   "outputs": [],
   "source": [
    "Tel_Focal_Length=12.6 # m : Focal length of the telescope\n",
    "Tel_Diameter=0.9 # m : Diameter of the telescope    "
   ]
  },
  {
   "cell_type": "code",
   "execution_count": 332,
   "metadata": {
    "collapsed": true,
    "deletable": true,
    "editable": true
   },
   "outputs": [],
   "source": [
    "Tel_Fnum=Tel_Focal_Length/Tel_Diameter"
   ]
  },
  {
   "cell_type": "markdown",
   "metadata": {
    "deletable": true,
    "editable": true
   },
   "source": [
    "#### Filter"
   ]
  },
  {
   "cell_type": "code",
   "execution_count": 333,
   "metadata": {
    "collapsed": true,
    "deletable": true,
    "editable": true
   },
   "outputs": [],
   "source": [
    "Filt_D=0.05769 # m distance of the filter position wrt CCD plane\n",
    "Filt_size=3*inch_to_mm"
   ]
  },
  {
   "cell_type": "code",
   "execution_count": 334,
   "metadata": {
    "collapsed": false,
    "deletable": true,
    "editable": true
   },
   "outputs": [
    {
     "data": {
      "text/plain": [
       "76.19999999999999"
      ]
     },
     "execution_count": 334,
     "metadata": {},
     "output_type": "execute_result"
    }
   ],
   "source": [
    "Filt_size"
   ]
  },
  {
   "cell_type": "markdown",
   "metadata": {
    "deletable": true,
    "editable": true
   },
   "source": [
    "#### CCD Detector"
   ]
  },
  {
   "cell_type": "code",
   "execution_count": 335,
   "metadata": {
    "collapsed": false,
    "deletable": true,
    "editable": true
   },
   "outputs": [],
   "source": [
    "Det_xpic=24.0 # microns per pixel\n",
    "Det_NbPix=2048 # number of pixels per CCD side\n",
    "Det_size=Det_xpic*Det_NbPix*1e-3 # CCD size in mm, 5 cm or 2 inches"
   ]
  },
  {
   "cell_type": "code",
   "execution_count": 336,
   "metadata": {
    "collapsed": false,
    "deletable": true,
    "editable": true
   },
   "outputs": [
    {
     "data": {
      "text/plain": [
       "49.152"
      ]
     },
     "execution_count": 336,
     "metadata": {},
     "output_type": "execute_result"
    }
   ],
   "source": [
    "Det_size"
   ]
  },
  {
   "cell_type": "code",
   "execution_count": 337,
   "metadata": {
    "collapsed": true,
    "deletable": true,
    "editable": true
   },
   "outputs": [],
   "source": [
    "Det_pix_angl=Det_xpic*micr_to_m/Tel_Focal_Length   # in radian"
   ]
  },
  {
   "cell_type": "code",
   "execution_count": 338,
   "metadata": {
    "collapsed": false,
    "deletable": true,
    "editable": true
   },
   "outputs": [
    {
     "name": "stdout",
     "output_type": "stream",
     "text": [
      "pixel viewing angle in arcsec =  0.392885345233\n"
     ]
    }
   ],
   "source": [
    "print \"pixel viewing angle in arcsec = \", Det_pix_angl*rad_to_deg*arcdeg_to_arcsec"
   ]
  },
  {
   "cell_type": "markdown",
   "metadata": {
    "deletable": true,
    "editable": true
   },
   "source": [
    "## Location of the source in the field of view\n",
    "\n",
    "The Field of view of the delescope is 13.6 arcmin\n",
    "\n",
    "\n",
    "- ($\\theta_x, \\theta_y$) in arcmin to be specified\n",
    "- ($\\alpha_x, \\alpha_y$) in radian calculated "
   ]
  },
  {
   "cell_type": "code",
   "execution_count": 339,
   "metadata": {
    "collapsed": true,
    "deletable": true,
    "editable": true
   },
   "outputs": [],
   "source": [
    "theta_max=13.6/2.\n",
    "theta_max=-13.6/2."
   ]
  },
  {
   "cell_type": "code",
   "execution_count": 340,
   "metadata": {
    "collapsed": true,
    "deletable": true,
    "editable": true
   },
   "outputs": [],
   "source": [
    "alpha_x=theta_x*arcmin_ro_rad\n",
    "alpha_y=theta_y*arcmin_ro_rad"
   ]
  },
  {
   "cell_type": "markdown",
   "metadata": {
    "deletable": true,
    "editable": true
   },
   "source": [
    "## Where to start the tracking of rays\n",
    "\n",
    "- Units in mm\n",
    "- The origin is where the optical effective conveging system start at O(0,0,0)\n",
    "- (X0,Y0,Z0) : coordinates of Beam rays starting points"
   ]
  },
  {
   "cell_type": "code",
   "execution_count": 341,
   "metadata": {
    "collapsed": true,
    "deletable": true,
    "editable": true
   },
   "outputs": [],
   "source": [
    "D0=Filt_D*m_to_mm  # distance between plane where the trcking beam start"
   ]
  },
  {
   "cell_type": "code",
   "execution_count": 342,
   "metadata": {
    "collapsed": false,
    "deletable": true,
    "editable": true
   },
   "outputs": [],
   "source": [
    "Z0=Tel_Focal_Length*m_to_mm"
   ]
  },
  {
   "cell_type": "code",
   "execution_count": 343,
   "metadata": {
    "collapsed": true,
    "deletable": true,
    "editable": true
   },
   "outputs": [],
   "source": [
    "Z1=Z0-2.*D0  # please set where you want to start the beam"
   ]
  },
  {
   "cell_type": "code",
   "execution_count": 344,
   "metadata": {
    "collapsed": false,
    "deletable": true,
    "editable": true
   },
   "outputs": [],
   "source": [
    "XMIN=-Tel_Diameter*m_to_mm/(2.*np.sqrt(2.))\n",
    "XMAX=Tel_Diameter*m_to_mm/(2.*np.sqrt(2.))"
   ]
  },
  {
   "cell_type": "code",
   "execution_count": 345,
   "metadata": {
    "collapsed": true,
    "deletable": true,
    "editable": true
   },
   "outputs": [],
   "source": [
    "YMIN=-Tel_Diameter*m_to_mm/(2.*np.sqrt(2.))\n",
    "YMAX=Tel_Diameter*m_to_mm/(2.*np.sqrt(2.))"
   ]
  },
  {
   "cell_type": "markdown",
   "metadata": {
    "deletable": true,
    "editable": true
   },
   "source": [
    "# Number of points"
   ]
  },
  {
   "cell_type": "code",
   "execution_count": null,
   "metadata": {
    "collapsed": true,
    "deletable": true,
    "editable": true
   },
   "outputs": [],
   "source": []
  },
  {
   "cell_type": "code",
   "execution_count": null,
   "metadata": {
    "collapsed": false,
    "deletable": true,
    "editable": true
   },
   "outputs": [],
   "source": []
  },
  {
   "cell_type": "code",
   "execution_count": 346,
   "metadata": {
    "collapsed": false,
    "deletable": true,
    "editable": true
   },
   "outputs": [],
   "source": [
    "X = np.linspace(XMIN, XMAX, NBEAM_X)\n",
    "Y = np.linspace(YMIN, YMAX, NBEAM_Y)\n",
    "XX, YY = np.meshgrid(X, Y)"
   ]
  },
  {
   "cell_type": "code",
   "execution_count": 347,
   "metadata": {
    "collapsed": false,
    "deletable": true,
    "editable": true
   },
   "outputs": [],
   "source": [
    "pts = itertools.product(X, Y)"
   ]
  },
  {
   "cell_type": "code",
   "execution_count": 348,
   "metadata": {
    "collapsed": false,
    "deletable": true,
    "editable": true
   },
   "outputs": [
    {
     "data": {
      "text/plain": [
       "<matplotlib.collections.PathCollection at 0x10fea1790>"
      ]
     },
     "execution_count": 348,
     "metadata": {},
     "output_type": "execute_result"
    },
    {
     "data": {
      "image/png": "[encoded data removed]",
      "text/plain": [
       "<matplotlib.figure.Figure at 0x10fbda950>"
      ]
     },
     "metadata": {},
     "output_type": "display_data"
    }
   ],
   "source": [
    "plt.grid()\n",
    "plt.scatter(*zip(*pts), marker='o', s=30, color='red')"
   ]
  },
  {
   "cell_type": "code",
   "execution_count": 349,
   "metadata": {
    "collapsed": false,
    "deletable": true,
    "editable": true
   },
   "outputs": [
    {
     "data": {
      "text/plain": [
       "<matplotlib.text.Text at 0x110064fd0>"
      ]
     },
     "execution_count": 349,
     "metadata": {},
     "output_type": "execute_result"
    },
    {
     "data": {
      "image/png": "[encoded data removed]",
      "text/plain": [
       "<matplotlib.figure.Figure at 0x10fec7290>"
      ]
     },
     "metadata": {},
     "output_type": "display_data"
    }
   ],
   "source": [
    "plt.scatter(XX,YY, marker='o', s=30, color='red')\n",
    "#plt.ylim(YMIN,YMAX)\n",
    "#plt.xlim(XMIN,XMAX)\n",
    "plt.grid()\n",
    "plt.xlabel(\"X (mm)\")\n",
    "plt.ylabel(\"Y (mm)\")\n",
    "plt.title(\"Impact points at telescope aperture\")"
   ]
  },
  {
   "cell_type": "code",
   "execution_count": 350,
   "metadata": {
    "collapsed": true,
    "deletable": true,
    "editable": true
   },
   "outputs": [],
   "source": [
    "def GetCosinusDirector(X,Y,thealpha_x,thealpha_y,f):\n",
    "    \"\"\"\n",
    "    The size of X,Y is the number of Rays\n",
    "    \"\"\"\n",
    "    \n",
    "    \n",
    "    Norm=np.sqrt( np.power(X+f*np.tan(thealpha_x),2) + np.power(Y+f*np.tan(thealpha_y),2)+ f**2)\n",
    "    UX=-(X+f*np.tan(thealpha_x))/Norm\n",
    "    UY=-(Y+f*np.tan(thealpha_y))/Norm\n",
    "    UZ=f/Norm\n",
    "    return UX,UY,UZ    \n",
    "    "
   ]
  },
  {
   "cell_type": "code",
   "execution_count": 351,
   "metadata": {
    "collapsed": false,
    "deletable": true,
    "editable": true
   },
   "outputs": [],
   "source": [
    "UX,UY,UZ=GetCosinusDirector(XX,YY,alpha_x,alpha_y,Z0)"
   ]
  },
  {
   "cell_type": "code",
   "execution_count": 352,
   "metadata": {
    "collapsed": false,
    "deletable": true,
    "editable": true
   },
   "outputs": [
    {
     "data": {
      "text/plain": [
       "<matplotlib.text.Text at 0x110235710>"
      ]
     },
     "execution_count": 352,
     "metadata": {},
     "output_type": "execute_result"
    },
    {
     "data": {
      "image/png": "[encoded data removed]",
      "text/plain": [
       "<matplotlib.figure.Figure at 0x1100bf4d0>"
      ]
     },
     "metadata": {},
     "output_type": "display_data"
    }
   ],
   "source": [
    "\n",
    "plt.grid()\n",
    "q = plt.quiver(XX,YY,UX,UY,angles='xy',scale=0.5,color='r')\n",
    "plt.scatter(XX,YY, marker='o', s=10, color='black')\n",
    "plt.xlabel(\"X (mm)\")\n",
    "plt.ylabel(\"Y (mm)\")\n",
    "plt.title(\"Vector field\")"
   ]
  },
  {
   "cell_type": "code",
   "execution_count": 353,
   "metadata": {
    "collapsed": true,
    "deletable": true,
    "editable": true
   },
   "outputs": [],
   "source": [
    "def GetStartingPoint(X,Y,thealpha_x,the_alpha_y,f,Z0):\n",
    "    theX0=(1-Z0/f)*X-Z0*np.tan(alpha_x)\n",
    "    theY0=(1-Z0/f)*Y-Z0*np.tan(alpha_y)\n",
    "    return theX0,theY0\n",
    "    "
   ]
  },
  {
   "cell_type": "code",
   "execution_count": 354,
   "metadata": {
    "collapsed": false,
    "deletable": true,
    "editable": true
   },
   "outputs": [],
   "source": [
    "(X0,Y0)=GetStartingPoint(XX,YY,alpha_x,alpha_y,Z0,Z1)"
   ]
  },
  {
   "cell_type": "code",
   "execution_count": 355,
   "metadata": {
    "collapsed": false,
    "deletable": true,
    "editable": true
   },
   "outputs": [
    {
     "data": {
      "text/plain": [
       "<matplotlib.text.Text at 0x11030ca90>"
      ]
     },
     "execution_count": 355,
     "metadata": {},
     "output_type": "execute_result"
    },
    {
     "data": {
      "image/png": "[encoded data removed]",
      "text/plain": [
       "<matplotlib.figure.Figure at 0x10f98da90>"
      ]
     },
     "metadata": {},
     "output_type": "display_data"
    }
   ],
   "source": [
    "plt.scatter(X0,Y0, marker='o', s=20, color='red')\n",
    "plt.grid()\n",
    "#plt.ylim(YMIN,YMAX)\n",
    "#plt.xlim(XMIN,XMAX)\n",
    "\n",
    "#plt.xlim(-Filt_size/2, Filt_size/2)\n",
    "#plt.ylim(-Filt_size/2, Filt_size/2)\n",
    "\n",
    "plt.xlabel(\"X (mm)\")\n",
    "plt.ylabel(\"Y (mm)\")\n",
    "plt.title(\"Impact point at selected entrance of Ray tracer\")"
   ]
  },
  {
   "cell_type": "markdown",
   "metadata": {
    "deletable": true,
    "editable": true
   },
   "source": [
    "## Create Dataframe"
   ]
  },
  {
   "cell_type": "code",
   "execution_count": 356,
   "metadata": {
    "collapsed": true,
    "deletable": true,
    "editable": true
   },
   "outputs": [],
   "source": [
    "df = pd.DataFrame()"
   ]
  },
  {
   "cell_type": "code",
   "execution_count": 357,
   "metadata": {
    "collapsed": true,
    "deletable": true,
    "editable": true
   },
   "outputs": [],
   "source": [
    "Xout=X0.flatten()\n",
    "Yout=Y0.flatten()"
   ]
  },
  {
   "cell_type": "code",
   "execution_count": 358,
   "metadata": {
    "collapsed": true,
    "deletable": true,
    "editable": true
   },
   "outputs": [],
   "source": [
    "Uout=UX.flatten()\n",
    "Vout=UY.flatten()\n",
    "Wout=UZ.flatten()"
   ]
  },
  {
   "cell_type": "code",
   "execution_count": 359,
   "metadata": {
    "collapsed": true,
    "deletable": true,
    "editable": true
   },
   "outputs": [],
   "source": [
    "Zout=np.zeros(NBEAM)"
   ]
  },
  {
   "cell_type": "code",
   "execution_count": 360,
   "metadata": {
    "collapsed": false,
    "deletable": true,
    "editable": true
   },
   "outputs": [],
   "source": [
    "allXout=np.concatenate((Xout,Xout,Xout,Xout))\n",
    "allYout=np.concatenate((Yout,Yout,Yout,Yout))\n",
    "allZout=np.concatenate((Zout,Zout,Zout,Zout))"
   ]
  },
  {
   "cell_type": "code",
   "execution_count": 361,
   "metadata": {
    "collapsed": true,
    "deletable": true,
    "editable": true
   },
   "outputs": [],
   "source": [
    "allUout=np.concatenate((Uout,Uout,Uout,Uout))\n",
    "allVout=np.concatenate((Vout,Vout,Vout,Vout))\n",
    "allWout=np.concatenate((Wout,Wout,Wout,Wout))"
   ]
  },
  {
   "cell_type": "code",
   "execution_count": 362,
   "metadata": {
    "collapsed": false,
    "deletable": true,
    "editable": true
   },
   "outputs": [],
   "source": [
    "wave_b=Wavelength_B*np.ones(NBEAM)\n",
    "color_b = np.chararray(NBEAM)\n",
    "color_b[:]='b'"
   ]
  },
  {
   "cell_type": "code",
   "execution_count": 363,
   "metadata": {
    "collapsed": true,
    "deletable": true,
    "editable": true
   },
   "outputs": [],
   "source": [
    "wave_g=Wavelength_G*np.ones(NBEAM)\n",
    "color_g = np.chararray(NBEAM)\n",
    "color_g[:]='g'"
   ]
  },
  {
   "cell_type": "code",
   "execution_count": 364,
   "metadata": {
    "collapsed": false,
    "deletable": true,
    "editable": true
   },
   "outputs": [],
   "source": [
    "wave_r=Wavelength_R*np.ones(NBEAM)\n",
    "color_r = np.chararray(NBEAM)\n",
    "color_r[:]='r'"
   ]
  },
  {
   "cell_type": "code",
   "execution_count": 365,
   "metadata": {
    "collapsed": true,
    "deletable": true,
    "editable": true
   },
   "outputs": [],
   "source": [
    "wave_i=Wavelength_I*np.ones(NBEAM)\n",
    "color_i = np.chararray(NBEAM)\n",
    "color_i[:]='k'"
   ]
  },
  {
   "cell_type": "code",
   "execution_count": 366,
   "metadata": {
    "collapsed": false,
    "deletable": true,
    "editable": true
   },
   "outputs": [],
   "source": [
    "Wave=np.concatenate((wave_b,wave_g,wave_r,wave_i))"
   ]
  },
  {
   "cell_type": "code",
   "execution_count": null,
   "metadata": {
    "collapsed": false,
    "deletable": true,
    "editable": true
   },
   "outputs": [],
   "source": []
  },
  {
   "cell_type": "code",
   "execution_count": 367,
   "metadata": {
    "collapsed": true,
    "deletable": true,
    "editable": true
   },
   "outputs": [],
   "source": [
    "allcolor=np.concatenate((color_b,color_g,color_r,color_i))"
   ]
  },
  {
   "cell_type": "code",
   "execution_count": 368,
   "metadata": {
    "collapsed": false,
    "deletable": true,
    "editable": true
   },
   "outputs": [
    {
     "data": {
      "text/plain": [
       "(484,)"
      ]
     },
     "execution_count": 368,
     "metadata": {},
     "output_type": "execute_result"
    }
   ],
   "source": [
    "allcolor.shape"
   ]
  },
  {
   "cell_type": "code",
   "execution_count": 369,
   "metadata": {
    "collapsed": false,
    "deletable": true,
    "editable": true
   },
   "outputs": [],
   "source": [
    "df[\"X0\"]=allXout\n",
    "df[\"Y0\"]=allYout\n",
    "df[\"Z0\"]=allZout\n",
    "df[\"U0\"]=allUout\n",
    "df[\"V0\"]=allVout\n",
    "df[\"W0\"]=allWout\n",
    "df[\"wave\"]=Wave\n",
    "df[\"col\"]=allcolor"
   ]
  },
  {
   "cell_type": "code",
   "execution_count": 370,
   "metadata": {
    "collapsed": false,
    "deletable": true,
    "editable": true
   },
   "outputs": [
    {
     "data": {
      "text/html": [
       "<div>\n",
       "<table border=\"1\" class=\"dataframe\">\n",
       "  <thead>\n",
       "    <tr style=\"text-align: right;\">\n",
       "      <th></th>\n",
       "      <th>X0</th>\n",
       "      <th>Y0</th>\n",
       "      <th>Z0</th>\n",
       "      <th>U0</th>\n",
       "      <th>V0</th>\n",
       "      <th>W0</th>\n",
       "      <th>wave</th>\n",
       "      <th>col</th>\n",
       "    </tr>\n",
       "  </thead>\n",
       "  <tbody>\n",
       "    <tr>\n",
       "      <th>0</th>\n",
       "      <td>-1.097971</td>\n",
       "      <td>-1.097971</td>\n",
       "      <td>0.0</td>\n",
       "      <td>0.025383</td>\n",
       "      <td>0.025383</td>\n",
       "      <td>0.999356</td>\n",
       "      <td>0.0004</td>\n",
       "      <td>b</td>\n",
       "    </tr>\n",
       "    <tr>\n",
       "      <th>1</th>\n",
       "      <td>-0.515214</td>\n",
       "      <td>-1.097971</td>\n",
       "      <td>0.0</td>\n",
       "      <td>0.020338</td>\n",
       "      <td>0.025386</td>\n",
       "      <td>0.999471</td>\n",
       "      <td>0.0004</td>\n",
       "      <td>b</td>\n",
       "    </tr>\n",
       "    <tr>\n",
       "      <th>2</th>\n",
       "      <td>0.067543</td>\n",
       "      <td>-1.097971</td>\n",
       "      <td>0.0</td>\n",
       "      <td>0.015291</td>\n",
       "      <td>0.025388</td>\n",
       "      <td>0.999561</td>\n",
       "      <td>0.0004</td>\n",
       "      <td>b</td>\n",
       "    </tr>\n",
       "    <tr>\n",
       "      <th>3</th>\n",
       "      <td>0.650300</td>\n",
       "      <td>-1.097971</td>\n",
       "      <td>0.0</td>\n",
       "      <td>0.010243</td>\n",
       "      <td>0.025390</td>\n",
       "      <td>0.999625</td>\n",
       "      <td>0.0004</td>\n",
       "      <td>b</td>\n",
       "    </tr>\n",
       "    <tr>\n",
       "      <th>4</th>\n",
       "      <td>1.233057</td>\n",
       "      <td>-1.097971</td>\n",
       "      <td>0.0</td>\n",
       "      <td>0.005194</td>\n",
       "      <td>0.025391</td>\n",
       "      <td>0.999664</td>\n",
       "      <td>0.0004</td>\n",
       "      <td>b</td>\n",
       "    </tr>\n",
       "    <tr>\n",
       "      <th>5</th>\n",
       "      <td>1.815814</td>\n",
       "      <td>-1.097971</td>\n",
       "      <td>0.0</td>\n",
       "      <td>0.000145</td>\n",
       "      <td>0.025391</td>\n",
       "      <td>0.999678</td>\n",
       "      <td>0.0004</td>\n",
       "      <td>b</td>\n",
       "    </tr>\n",
       "    <tr>\n",
       "      <th>6</th>\n",
       "      <td>2.398571</td>\n",
       "      <td>-1.097971</td>\n",
       "      <td>0.0</td>\n",
       "      <td>-0.004904</td>\n",
       "      <td>0.025391</td>\n",
       "      <td>0.999666</td>\n",
       "      <td>0.0004</td>\n",
       "      <td>b</td>\n",
       "    </tr>\n",
       "    <tr>\n",
       "      <th>7</th>\n",
       "      <td>2.981328</td>\n",
       "      <td>-1.097971</td>\n",
       "      <td>0.0</td>\n",
       "      <td>-0.009952</td>\n",
       "      <td>0.025390</td>\n",
       "      <td>0.999628</td>\n",
       "      <td>0.0004</td>\n",
       "      <td>b</td>\n",
       "    </tr>\n",
       "    <tr>\n",
       "      <th>8</th>\n",
       "      <td>3.564085</td>\n",
       "      <td>-1.097971</td>\n",
       "      <td>0.0</td>\n",
       "      <td>-0.015000</td>\n",
       "      <td>0.025388</td>\n",
       "      <td>0.999565</td>\n",
       "      <td>0.0004</td>\n",
       "      <td>b</td>\n",
       "    </tr>\n",
       "    <tr>\n",
       "      <th>9</th>\n",
       "      <td>4.146842</td>\n",
       "      <td>-1.097971</td>\n",
       "      <td>0.0</td>\n",
       "      <td>-0.020047</td>\n",
       "      <td>0.025386</td>\n",
       "      <td>0.999477</td>\n",
       "      <td>0.0004</td>\n",
       "      <td>b</td>\n",
       "    </tr>\n",
       "    <tr>\n",
       "      <th>10</th>\n",
       "      <td>4.729599</td>\n",
       "      <td>-1.097971</td>\n",
       "      <td>0.0</td>\n",
       "      <td>-0.025092</td>\n",
       "      <td>0.025383</td>\n",
       "      <td>0.999363</td>\n",
       "      <td>0.0004</td>\n",
       "      <td>b</td>\n",
       "    </tr>\n",
       "    <tr>\n",
       "      <th>11</th>\n",
       "      <td>-1.097971</td>\n",
       "      <td>-0.515214</td>\n",
       "      <td>0.0</td>\n",
       "      <td>0.025386</td>\n",
       "      <td>0.020338</td>\n",
       "      <td>0.999471</td>\n",
       "      <td>0.0004</td>\n",
       "      <td>b</td>\n",
       "    </tr>\n",
       "    <tr>\n",
       "      <th>12</th>\n",
       "      <td>-0.515214</td>\n",
       "      <td>-0.515214</td>\n",
       "      <td>0.0</td>\n",
       "      <td>0.020340</td>\n",
       "      <td>0.020340</td>\n",
       "      <td>0.999586</td>\n",
       "      <td>0.0004</td>\n",
       "      <td>b</td>\n",
       "    </tr>\n",
       "    <tr>\n",
       "      <th>13</th>\n",
       "      <td>0.067543</td>\n",
       "      <td>-0.515214</td>\n",
       "      <td>0.0</td>\n",
       "      <td>0.015293</td>\n",
       "      <td>0.020342</td>\n",
       "      <td>0.999676</td>\n",
       "      <td>0.0004</td>\n",
       "      <td>b</td>\n",
       "    </tr>\n",
       "    <tr>\n",
       "      <th>14</th>\n",
       "      <td>0.650300</td>\n",
       "      <td>-0.515214</td>\n",
       "      <td>0.0</td>\n",
       "      <td>0.010244</td>\n",
       "      <td>0.020343</td>\n",
       "      <td>0.999741</td>\n",
       "      <td>0.0004</td>\n",
       "      <td>b</td>\n",
       "    </tr>\n",
       "    <tr>\n",
       "      <th>15</th>\n",
       "      <td>1.233057</td>\n",
       "      <td>-0.515214</td>\n",
       "      <td>0.0</td>\n",
       "      <td>0.005195</td>\n",
       "      <td>0.020344</td>\n",
       "      <td>0.999780</td>\n",
       "      <td>0.0004</td>\n",
       "      <td>b</td>\n",
       "    </tr>\n",
       "    <tr>\n",
       "      <th>16</th>\n",
       "      <td>1.815814</td>\n",
       "      <td>-0.515214</td>\n",
       "      <td>0.0</td>\n",
       "      <td>0.000145</td>\n",
       "      <td>0.020344</td>\n",
       "      <td>0.999793</td>\n",
       "      <td>0.0004</td>\n",
       "      <td>b</td>\n",
       "    </tr>\n",
       "    <tr>\n",
       "      <th>17</th>\n",
       "      <td>2.398571</td>\n",
       "      <td>-0.515214</td>\n",
       "      <td>0.0</td>\n",
       "      <td>-0.004904</td>\n",
       "      <td>0.020344</td>\n",
       "      <td>0.999781</td>\n",
       "      <td>0.0004</td>\n",
       "      <td>b</td>\n",
       "    </tr>\n",
       "    <tr>\n",
       "      <th>18</th>\n",
       "      <td>2.981328</td>\n",
       "      <td>-0.515214</td>\n",
       "      <td>0.0</td>\n",
       "      <td>-0.009954</td>\n",
       "      <td>0.020343</td>\n",
       "      <td>0.999744</td>\n",
       "      <td>0.0004</td>\n",
       "      <td>b</td>\n",
       "    </tr>\n",
       "    <tr>\n",
       "      <th>19</th>\n",
       "      <td>3.564085</td>\n",
       "      <td>-0.515214</td>\n",
       "      <td>0.0</td>\n",
       "      <td>-0.015002</td>\n",
       "      <td>0.020342</td>\n",
       "      <td>0.999681</td>\n",
       "      <td>0.0004</td>\n",
       "      <td>b</td>\n",
       "    </tr>\n",
       "    <tr>\n",
       "      <th>20</th>\n",
       "      <td>4.146842</td>\n",
       "      <td>-0.515214</td>\n",
       "      <td>0.0</td>\n",
       "      <td>-0.020049</td>\n",
       "      <td>0.020340</td>\n",
       "      <td>0.999592</td>\n",
       "      <td>0.0004</td>\n",
       "      <td>b</td>\n",
       "    </tr>\n",
       "    <tr>\n",
       "      <th>21</th>\n",
       "      <td>4.729599</td>\n",
       "      <td>-0.515214</td>\n",
       "      <td>0.0</td>\n",
       "      <td>-0.025095</td>\n",
       "      <td>0.020338</td>\n",
       "      <td>0.999478</td>\n",
       "      <td>0.0004</td>\n",
       "      <td>b</td>\n",
       "    </tr>\n",
       "    <tr>\n",
       "      <th>22</th>\n",
       "      <td>-1.097971</td>\n",
       "      <td>0.067543</td>\n",
       "      <td>0.0</td>\n",
       "      <td>0.025388</td>\n",
       "      <td>0.015291</td>\n",
       "      <td>0.999561</td>\n",
       "      <td>0.0004</td>\n",
       "      <td>b</td>\n",
       "    </tr>\n",
       "    <tr>\n",
       "      <th>23</th>\n",
       "      <td>-0.515214</td>\n",
       "      <td>0.067543</td>\n",
       "      <td>0.0</td>\n",
       "      <td>0.020342</td>\n",
       "      <td>0.015293</td>\n",
       "      <td>0.999676</td>\n",
       "      <td>0.0004</td>\n",
       "      <td>b</td>\n",
       "    </tr>\n",
       "    <tr>\n",
       "      <th>24</th>\n",
       "      <td>0.067543</td>\n",
       "      <td>0.067543</td>\n",
       "      <td>0.0</td>\n",
       "      <td>0.015294</td>\n",
       "      <td>0.015294</td>\n",
       "      <td>0.999766</td>\n",
       "      <td>0.0004</td>\n",
       "      <td>b</td>\n",
       "    </tr>\n",
       "    <tr>\n",
       "      <th>25</th>\n",
       "      <td>0.650300</td>\n",
       "      <td>0.067543</td>\n",
       "      <td>0.0</td>\n",
       "      <td>0.010245</td>\n",
       "      <td>0.015295</td>\n",
       "      <td>0.999831</td>\n",
       "      <td>0.0004</td>\n",
       "      <td>b</td>\n",
       "    </tr>\n",
       "    <tr>\n",
       "      <th>26</th>\n",
       "      <td>1.233057</td>\n",
       "      <td>0.067543</td>\n",
       "      <td>0.0</td>\n",
       "      <td>0.005196</td>\n",
       "      <td>0.015296</td>\n",
       "      <td>0.999870</td>\n",
       "      <td>0.0004</td>\n",
       "      <td>b</td>\n",
       "    </tr>\n",
       "    <tr>\n",
       "      <th>27</th>\n",
       "      <td>1.815814</td>\n",
       "      <td>0.067543</td>\n",
       "      <td>0.0</td>\n",
       "      <td>0.000145</td>\n",
       "      <td>0.015296</td>\n",
       "      <td>0.999883</td>\n",
       "      <td>0.0004</td>\n",
       "      <td>b</td>\n",
       "    </tr>\n",
       "    <tr>\n",
       "      <th>28</th>\n",
       "      <td>2.398571</td>\n",
       "      <td>0.067543</td>\n",
       "      <td>0.0</td>\n",
       "      <td>-0.004905</td>\n",
       "      <td>0.015296</td>\n",
       "      <td>0.999871</td>\n",
       "      <td>0.0004</td>\n",
       "      <td>b</td>\n",
       "    </tr>\n",
       "    <tr>\n",
       "      <th>29</th>\n",
       "      <td>2.981328</td>\n",
       "      <td>0.067543</td>\n",
       "      <td>0.0</td>\n",
       "      <td>-0.009954</td>\n",
       "      <td>0.015295</td>\n",
       "      <td>0.999833</td>\n",
       "      <td>0.0004</td>\n",
       "      <td>b</td>\n",
       "    </tr>\n",
       "    <tr>\n",
       "      <th>...</th>\n",
       "      <td>...</td>\n",
       "      <td>...</td>\n",
       "      <td>...</td>\n",
       "      <td>...</td>\n",
       "      <td>...</td>\n",
       "      <td>...</td>\n",
       "      <td>...</td>\n",
       "      <td>...</td>\n",
       "    </tr>\n",
       "    <tr>\n",
       "      <th>454</th>\n",
       "      <td>0.650300</td>\n",
       "      <td>3.564085</td>\n",
       "      <td>0.0</td>\n",
       "      <td>0.010245</td>\n",
       "      <td>-0.015004</td>\n",
       "      <td>0.999835</td>\n",
       "      <td>0.0010</td>\n",
       "      <td>k</td>\n",
       "    </tr>\n",
       "    <tr>\n",
       "      <th>455</th>\n",
       "      <td>1.233057</td>\n",
       "      <td>3.564085</td>\n",
       "      <td>0.0</td>\n",
       "      <td>0.005196</td>\n",
       "      <td>-0.015005</td>\n",
       "      <td>0.999874</td>\n",
       "      <td>0.0010</td>\n",
       "      <td>k</td>\n",
       "    </tr>\n",
       "    <tr>\n",
       "      <th>456</th>\n",
       "      <td>1.815814</td>\n",
       "      <td>3.564085</td>\n",
       "      <td>0.0</td>\n",
       "      <td>0.000145</td>\n",
       "      <td>-0.015005</td>\n",
       "      <td>0.999887</td>\n",
       "      <td>0.0010</td>\n",
       "      <td>k</td>\n",
       "    </tr>\n",
       "    <tr>\n",
       "      <th>457</th>\n",
       "      <td>2.398571</td>\n",
       "      <td>3.564085</td>\n",
       "      <td>0.0</td>\n",
       "      <td>-0.004905</td>\n",
       "      <td>-0.015005</td>\n",
       "      <td>0.999875</td>\n",
       "      <td>0.0010</td>\n",
       "      <td>k</td>\n",
       "    </tr>\n",
       "    <tr>\n",
       "      <th>458</th>\n",
       "      <td>2.981328</td>\n",
       "      <td>3.564085</td>\n",
       "      <td>0.0</td>\n",
       "      <td>-0.009954</td>\n",
       "      <td>-0.015004</td>\n",
       "      <td>0.999838</td>\n",
       "      <td>0.0010</td>\n",
       "      <td>k</td>\n",
       "    </tr>\n",
       "    <tr>\n",
       "      <th>459</th>\n",
       "      <td>3.564085</td>\n",
       "      <td>3.564085</td>\n",
       "      <td>0.0</td>\n",
       "      <td>-0.015003</td>\n",
       "      <td>-0.015003</td>\n",
       "      <td>0.999775</td>\n",
       "      <td>0.0010</td>\n",
       "      <td>k</td>\n",
       "    </tr>\n",
       "    <tr>\n",
       "      <th>460</th>\n",
       "      <td>4.146842</td>\n",
       "      <td>3.564085</td>\n",
       "      <td>0.0</td>\n",
       "      <td>-0.020051</td>\n",
       "      <td>-0.015002</td>\n",
       "      <td>0.999686</td>\n",
       "      <td>0.0010</td>\n",
       "      <td>k</td>\n",
       "    </tr>\n",
       "    <tr>\n",
       "      <th>461</th>\n",
       "      <td>4.729599</td>\n",
       "      <td>3.564085</td>\n",
       "      <td>0.0</td>\n",
       "      <td>-0.025098</td>\n",
       "      <td>-0.015000</td>\n",
       "      <td>0.999572</td>\n",
       "      <td>0.0010</td>\n",
       "      <td>k</td>\n",
       "    </tr>\n",
       "    <tr>\n",
       "      <th>462</th>\n",
       "      <td>-1.097971</td>\n",
       "      <td>4.146842</td>\n",
       "      <td>0.0</td>\n",
       "      <td>0.025386</td>\n",
       "      <td>-0.020047</td>\n",
       "      <td>0.999477</td>\n",
       "      <td>0.0010</td>\n",
       "      <td>k</td>\n",
       "    </tr>\n",
       "    <tr>\n",
       "      <th>463</th>\n",
       "      <td>-0.515214</td>\n",
       "      <td>4.146842</td>\n",
       "      <td>0.0</td>\n",
       "      <td>0.020340</td>\n",
       "      <td>-0.020049</td>\n",
       "      <td>0.999592</td>\n",
       "      <td>0.0010</td>\n",
       "      <td>k</td>\n",
       "    </tr>\n",
       "    <tr>\n",
       "      <th>464</th>\n",
       "      <td>0.067543</td>\n",
       "      <td>4.146842</td>\n",
       "      <td>0.0</td>\n",
       "      <td>0.015293</td>\n",
       "      <td>-0.020051</td>\n",
       "      <td>0.999682</td>\n",
       "      <td>0.0010</td>\n",
       "      <td>k</td>\n",
       "    </tr>\n",
       "    <tr>\n",
       "      <th>465</th>\n",
       "      <td>0.650300</td>\n",
       "      <td>4.146842</td>\n",
       "      <td>0.0</td>\n",
       "      <td>0.010244</td>\n",
       "      <td>-0.020053</td>\n",
       "      <td>0.999746</td>\n",
       "      <td>0.0010</td>\n",
       "      <td>k</td>\n",
       "    </tr>\n",
       "    <tr>\n",
       "      <th>466</th>\n",
       "      <td>1.233057</td>\n",
       "      <td>4.146842</td>\n",
       "      <td>0.0</td>\n",
       "      <td>0.005195</td>\n",
       "      <td>-0.020053</td>\n",
       "      <td>0.999785</td>\n",
       "      <td>0.0010</td>\n",
       "      <td>k</td>\n",
       "    </tr>\n",
       "    <tr>\n",
       "      <th>467</th>\n",
       "      <td>1.815814</td>\n",
       "      <td>4.146842</td>\n",
       "      <td>0.0</td>\n",
       "      <td>0.000145</td>\n",
       "      <td>-0.020054</td>\n",
       "      <td>0.999799</td>\n",
       "      <td>0.0010</td>\n",
       "      <td>k</td>\n",
       "    </tr>\n",
       "    <tr>\n",
       "      <th>468</th>\n",
       "      <td>2.398571</td>\n",
       "      <td>4.146842</td>\n",
       "      <td>0.0</td>\n",
       "      <td>-0.004904</td>\n",
       "      <td>-0.020053</td>\n",
       "      <td>0.999787</td>\n",
       "      <td>0.0010</td>\n",
       "      <td>k</td>\n",
       "    </tr>\n",
       "    <tr>\n",
       "      <th>469</th>\n",
       "      <td>2.981328</td>\n",
       "      <td>4.146842</td>\n",
       "      <td>0.0</td>\n",
       "      <td>-0.009954</td>\n",
       "      <td>-0.020053</td>\n",
       "      <td>0.999749</td>\n",
       "      <td>0.0010</td>\n",
       "      <td>k</td>\n",
       "    </tr>\n",
       "    <tr>\n",
       "      <th>470</th>\n",
       "      <td>3.564085</td>\n",
       "      <td>4.146842</td>\n",
       "      <td>0.0</td>\n",
       "      <td>-0.015002</td>\n",
       "      <td>-0.020051</td>\n",
       "      <td>0.999686</td>\n",
       "      <td>0.0010</td>\n",
       "      <td>k</td>\n",
       "    </tr>\n",
       "    <tr>\n",
       "      <th>471</th>\n",
       "      <td>4.146842</td>\n",
       "      <td>4.146842</td>\n",
       "      <td>0.0</td>\n",
       "      <td>-0.020050</td>\n",
       "      <td>-0.020050</td>\n",
       "      <td>0.999598</td>\n",
       "      <td>0.0010</td>\n",
       "      <td>k</td>\n",
       "    </tr>\n",
       "    <tr>\n",
       "      <th>472</th>\n",
       "      <td>4.729599</td>\n",
       "      <td>4.146842</td>\n",
       "      <td>0.0</td>\n",
       "      <td>-0.025095</td>\n",
       "      <td>-0.020047</td>\n",
       "      <td>0.999484</td>\n",
       "      <td>0.0010</td>\n",
       "      <td>k</td>\n",
       "    </tr>\n",
       "    <tr>\n",
       "      <th>473</th>\n",
       "      <td>-1.097971</td>\n",
       "      <td>4.729599</td>\n",
       "      <td>0.0</td>\n",
       "      <td>0.025383</td>\n",
       "      <td>-0.025092</td>\n",
       "      <td>0.999363</td>\n",
       "      <td>0.0010</td>\n",
       "      <td>k</td>\n",
       "    </tr>\n",
       "    <tr>\n",
       "      <th>474</th>\n",
       "      <td>-0.515214</td>\n",
       "      <td>4.729599</td>\n",
       "      <td>0.0</td>\n",
       "      <td>0.020338</td>\n",
       "      <td>-0.025095</td>\n",
       "      <td>0.999478</td>\n",
       "      <td>0.0010</td>\n",
       "      <td>k</td>\n",
       "    </tr>\n",
       "    <tr>\n",
       "      <th>475</th>\n",
       "      <td>0.067543</td>\n",
       "      <td>4.729599</td>\n",
       "      <td>0.0</td>\n",
       "      <td>0.015291</td>\n",
       "      <td>-0.025098</td>\n",
       "      <td>0.999568</td>\n",
       "      <td>0.0010</td>\n",
       "      <td>k</td>\n",
       "    </tr>\n",
       "    <tr>\n",
       "      <th>476</th>\n",
       "      <td>0.650300</td>\n",
       "      <td>4.729599</td>\n",
       "      <td>0.0</td>\n",
       "      <td>0.010243</td>\n",
       "      <td>-0.025099</td>\n",
       "      <td>0.999632</td>\n",
       "      <td>0.0010</td>\n",
       "      <td>k</td>\n",
       "    </tr>\n",
       "    <tr>\n",
       "      <th>477</th>\n",
       "      <td>1.233057</td>\n",
       "      <td>4.729599</td>\n",
       "      <td>0.0</td>\n",
       "      <td>0.005194</td>\n",
       "      <td>-0.025100</td>\n",
       "      <td>0.999671</td>\n",
       "      <td>0.0010</td>\n",
       "      <td>k</td>\n",
       "    </tr>\n",
       "    <tr>\n",
       "      <th>478</th>\n",
       "      <td>1.815814</td>\n",
       "      <td>4.729599</td>\n",
       "      <td>0.0</td>\n",
       "      <td>0.000145</td>\n",
       "      <td>-0.025100</td>\n",
       "      <td>0.999685</td>\n",
       "      <td>0.0010</td>\n",
       "      <td>k</td>\n",
       "    </tr>\n",
       "    <tr>\n",
       "      <th>479</th>\n",
       "      <td>2.398571</td>\n",
       "      <td>4.729599</td>\n",
       "      <td>0.0</td>\n",
       "      <td>-0.004904</td>\n",
       "      <td>-0.025100</td>\n",
       "      <td>0.999673</td>\n",
       "      <td>0.0010</td>\n",
       "      <td>k</td>\n",
       "    </tr>\n",
       "    <tr>\n",
       "      <th>480</th>\n",
       "      <td>2.981328</td>\n",
       "      <td>4.729599</td>\n",
       "      <td>0.0</td>\n",
       "      <td>-0.009952</td>\n",
       "      <td>-0.025099</td>\n",
       "      <td>0.999635</td>\n",
       "      <td>0.0010</td>\n",
       "      <td>k</td>\n",
       "    </tr>\n",
       "    <tr>\n",
       "      <th>481</th>\n",
       "      <td>3.564085</td>\n",
       "      <td>4.729599</td>\n",
       "      <td>0.0</td>\n",
       "      <td>-0.015000</td>\n",
       "      <td>-0.025098</td>\n",
       "      <td>0.999572</td>\n",
       "      <td>0.0010</td>\n",
       "      <td>k</td>\n",
       "    </tr>\n",
       "    <tr>\n",
       "      <th>482</th>\n",
       "      <td>4.146842</td>\n",
       "      <td>4.729599</td>\n",
       "      <td>0.0</td>\n",
       "      <td>-0.020047</td>\n",
       "      <td>-0.025095</td>\n",
       "      <td>0.999484</td>\n",
       "      <td>0.0010</td>\n",
       "      <td>k</td>\n",
       "    </tr>\n",
       "    <tr>\n",
       "      <th>483</th>\n",
       "      <td>4.729599</td>\n",
       "      <td>4.729599</td>\n",
       "      <td>0.0</td>\n",
       "      <td>-0.025093</td>\n",
       "      <td>-0.025093</td>\n",
       "      <td>0.999370</td>\n",
       "      <td>0.0010</td>\n",
       "      <td>k</td>\n",
       "    </tr>\n",
       "  </tbody>\n",
       "</table>\n",
       "<p>484 rows × 8 columns</p>\n",
       "</div>"
      ],
      "text/plain": [
       "           X0        Y0   Z0        U0        V0        W0    wave col\n",
       "0   -1.097971 -1.097971  0.0  0.025383  0.025383  0.999356  0.0004   b\n",
       "1   -0.515214 -1.097971  0.0  0.020338  0.025386  0.999471  0.0004   b\n",
       "2    0.067543 -1.097971  0.0  0.015291  0.025388  0.999561  0.0004   b\n",
       "3    0.650300 -1.097971  0.0  0.010243  0.025390  0.999625  0.0004   b\n",
       "4    1.233057 -1.097971  0.0  0.005194  0.025391  0.999664  0.0004   b\n",
       "5    1.815814 -1.097971  0.0  0.000145  0.025391  0.999678  0.0004   b\n",
       "6    2.398571 -1.097971  0.0 -0.004904  0.025391  0.999666  0.0004   b\n",
       "7    2.981328 -1.097971  0.0 -0.009952  0.025390  0.999628  0.0004   b\n",
       "8    3.564085 -1.097971  0.0 -0.015000  0.025388  0.999565  0.0004   b\n",
       "9    4.146842 -1.097971  0.0 -0.020047  0.025386  0.999477  0.0004   b\n",
       "10   4.729599 -1.097971  0.0 -0.025092  0.025383  0.999363  0.0004   b\n",
       "11  -1.097971 -0.515214  0.0  0.025386  0.020338  0.999471  0.0004   b\n",
       "12  -0.515214 -0.515214  0.0  0.020340  0.020340  0.999586  0.0004   b\n",
       "13   0.067543 -0.515214  0.0  0.015293  0.020342  0.999676  0.0004   b\n",
       "14   0.650300 -0.515214  0.0  0.010244  0.020343  0.999741  0.0004   b\n",
       "15   1.233057 -0.515214  0.0  0.005195  0.020344  0.999780  0.0004   b\n",
       "16   1.815814 -0.515214  0.0  0.000145  0.020344  0.999793  0.0004   b\n",
       "17   2.398571 -0.515214  0.0 -0.004904  0.020344  0.999781  0.0004   b\n",
       "18   2.981328 -0.515214  0.0 -0.009954  0.020343  0.999744  0.0004   b\n",
       "19   3.564085 -0.515214  0.0 -0.015002  0.020342  0.999681  0.0004   b\n",
       "20   4.146842 -0.515214  0.0 -0.020049  0.020340  0.999592  0.0004   b\n",
       "21   4.729599 -0.515214  0.0 -0.025095  0.020338  0.999478  0.0004   b\n",
       "22  -1.097971  0.067543  0.0  0.025388  0.015291  0.999561  0.0004   b\n",
       "23  -0.515214  0.067543  0.0  0.020342  0.015293  0.999676  0.0004   b\n",
       "24   0.067543  0.067543  0.0  0.015294  0.015294  0.999766  0.0004   b\n",
       "25   0.650300  0.067543  0.0  0.010245  0.015295  0.999831  0.0004   b\n",
       "26   1.233057  0.067543  0.0  0.005196  0.015296  0.999870  0.0004   b\n",
       "27   1.815814  0.067543  0.0  0.000145  0.015296  0.999883  0.0004   b\n",
       "28   2.398571  0.067543  0.0 -0.004905  0.015296  0.999871  0.0004   b\n",
       "29   2.981328  0.067543  0.0 -0.009954  0.015295  0.999833  0.0004   b\n",
       "..        ...       ...  ...       ...       ...       ...     ...  ..\n",
       "454  0.650300  3.564085  0.0  0.010245 -0.015004  0.999835  0.0010   k\n",
       "455  1.233057  3.564085  0.0  0.005196 -0.015005  0.999874  0.0010   k\n",
       "456  1.815814  3.564085  0.0  0.000145 -0.015005  0.999887  0.0010   k\n",
       "457  2.398571  3.564085  0.0 -0.004905 -0.015005  0.999875  0.0010   k\n",
       "458  2.981328  3.564085  0.0 -0.009954 -0.015004  0.999838  0.0010   k\n",
       "459  3.564085  3.564085  0.0 -0.015003 -0.015003  0.999775  0.0010   k\n",
       "460  4.146842  3.564085  0.0 -0.020051 -0.015002  0.999686  0.0010   k\n",
       "461  4.729599  3.564085  0.0 -0.025098 -0.015000  0.999572  0.0010   k\n",
       "462 -1.097971  4.146842  0.0  0.025386 -0.020047  0.999477  0.0010   k\n",
       "463 -0.515214  4.146842  0.0  0.020340 -0.020049  0.999592  0.0010   k\n",
       "464  0.067543  4.146842  0.0  0.015293 -0.020051  0.999682  0.0010   k\n",
       "465  0.650300  4.146842  0.0  0.010244 -0.020053  0.999746  0.0010   k\n",
       "466  1.233057  4.146842  0.0  0.005195 -0.020053  0.999785  0.0010   k\n",
       "467  1.815814  4.146842  0.0  0.000145 -0.020054  0.999799  0.0010   k\n",
       "468  2.398571  4.146842  0.0 -0.004904 -0.020053  0.999787  0.0010   k\n",
       "469  2.981328  4.146842  0.0 -0.009954 -0.020053  0.999749  0.0010   k\n",
       "470  3.564085  4.146842  0.0 -0.015002 -0.020051  0.999686  0.0010   k\n",
       "471  4.146842  4.146842  0.0 -0.020050 -0.020050  0.999598  0.0010   k\n",
       "472  4.729599  4.146842  0.0 -0.025095 -0.020047  0.999484  0.0010   k\n",
       "473 -1.097971  4.729599  0.0  0.025383 -0.025092  0.999363  0.0010   k\n",
       "474 -0.515214  4.729599  0.0  0.020338 -0.025095  0.999478  0.0010   k\n",
       "475  0.067543  4.729599  0.0  0.015291 -0.025098  0.999568  0.0010   k\n",
       "476  0.650300  4.729599  0.0  0.010243 -0.025099  0.999632  0.0010   k\n",
       "477  1.233057  4.729599  0.0  0.005194 -0.025100  0.999671  0.0010   k\n",
       "478  1.815814  4.729599  0.0  0.000145 -0.025100  0.999685  0.0010   k\n",
       "479  2.398571  4.729599  0.0 -0.004904 -0.025100  0.999673  0.0010   k\n",
       "480  2.981328  4.729599  0.0 -0.009952 -0.025099  0.999635  0.0010   k\n",
       "481  3.564085  4.729599  0.0 -0.015000 -0.025098  0.999572  0.0010   k\n",
       "482  4.146842  4.729599  0.0 -0.020047 -0.025095  0.999484  0.0010   k\n",
       "483  4.729599  4.729599  0.0 -0.025093 -0.025093  0.999370  0.0010   k\n",
       "\n",
       "[484 rows x 8 columns]"
      ]
     },
     "execution_count": 370,
     "metadata": {},
     "output_type": "execute_result"
    }
   ],
   "source": [
    "df"
   ]
  },
  {
   "cell_type": "code",
   "execution_count": 371,
   "metadata": {
    "collapsed": false,
    "deletable": true,
    "editable": true
   },
   "outputs": [
    {
     "name": "stdout",
     "output_type": "stream",
     "text": [
      "Beam4_Rayfile_484_allwl_m05_m05.xlsx\n"
     ]
    }
   ],
   "source": [
    "print Beam4_Rayfile"
   ]
  },
  {
   "cell_type": "code",
   "execution_count": 372,
   "metadata": {
    "collapsed": false,
    "deletable": true,
    "editable": true
   },
   "outputs": [],
   "source": [
    "df.to_excel(Beam4_Rayfile)"
   ]
  },
  {
   "cell_type": "code",
   "execution_count": 373,
   "metadata": {
    "collapsed": false,
    "deletable": true,
    "editable": true
   },
   "outputs": [
    {
     "data": {
      "text/plain": [
       "76.19999999999999"
      ]
     },
     "execution_count": 373,
     "metadata": {},
     "output_type": "execute_result"
    }
   ],
   "source": [
    "Filt_size"
   ]
  },
  {
   "cell_type": "code",
   "execution_count": 374,
   "metadata": {
    "collapsed": false,
    "deletable": true,
    "editable": true
   },
   "outputs": [
    {
     "data": {
      "text/plain": [
       "115.38"
      ]
     },
     "execution_count": 374,
     "metadata": {},
     "output_type": "execute_result"
    }
   ],
   "source": [
    "2*Filt_D*m_to_mm"
   ]
  },
  {
   "cell_type": "code",
   "execution_count": null,
   "metadata": {
    "collapsed": true,
    "deletable": true,
    "editable": true
   },
   "outputs": [],
   "source": []
  }
 ],
 "metadata": {
  "anaconda-cloud": {},
  "kernelspec": {
   "display_name": "Python [conda env:pyastrophys]",
   "language": "python",
   "name": "conda-env-pyastrophys-py"
  },
  "language_info": {
   "codemirror_mode": {
    "name": "ipython",
    "version": 2
   },
   "file_extension": ".py",
   "mimetype": "text/x-python",
   "name": "python",
   "nbconvert_exporter": "python",
   "pygments_lexer": "ipython2",
   "version": "2.7.12"
  }
 },
 "nbformat": 4,
 "nbformat_minor": 0
}
