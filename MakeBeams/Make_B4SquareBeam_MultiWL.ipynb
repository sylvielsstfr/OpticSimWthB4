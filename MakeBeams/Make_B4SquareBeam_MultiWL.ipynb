{
 "cells": [
  {
   "cell_type": "markdown",
   "metadata": {
    "deletable": true,
    "editable": true
   },
   "source": [
    "# Make an Excel Ray file for Beam4\n",
    "\n",
    "\n",
    "- Geometry : Auxiliary Telescope Geometry of Optical for CTIO 0.9 m "
   ]
  },
  {
   "cell_type": "markdown",
   "metadata": {
    "deletable": true,
    "editable": true
   },
   "source": [
    "- author : Sylvie Dagoret-Campagne\n",
    "- affiliation : LAL/IN2P3/CNRS\n",
    "- date : February 28th 2017\n",
    "- date : March 7th 2017\n",
    "\n",
    "Simple 2D optical geometry for the optical setup of CTIO 0.9m telescope with Ronchi Grating.\n",
    "This is a tool to adjust the CCD position wrt Filter wheel.\n",
    "Here 4 wavelength are generated.\n",
    "The source incident angle must be provided in terms of angles $(\\alpha_x,\\alpha_y)$.\n",
    "\n",
    "\n",
    "This is a python notebook (not a sagemath notebook)\n",
    "- command:\n",
    "** ipython notebook **"
   ]
  },
  {
   "cell_type": "code",
   "execution_count": 115,
   "metadata": {
    "collapsed": true,
    "deletable": true,
    "editable": true
   },
   "outputs": [],
   "source": [
    "%matplotlib inline\n",
    "import matplotlib.pyplot as plt\n",
    "import numpy as np\n",
    "import os\n",
    "import matplotlib as mpl\n",
    "import pandas as pd\n",
    "import itertools"
   ]
  },
  {
   "cell_type": "code",
   "execution_count": 116,
   "metadata": {
    "collapsed": true,
    "deletable": true,
    "editable": true
   },
   "outputs": [],
   "source": [
    "# to enlarge the sizes\n",
    "params = {'legend.fontsize': 'x-large',\n",
    "          'figure.figsize': (8, 8),\n",
    "         'axes.labelsize': 'x-large',\n",
    "         'axes.titlesize':'x-large',\n",
    "         'xtick.labelsize':'x-large',\n",
    "         'ytick.labelsize':'x-large'}\n",
    "plt.rcParams.update(params)\n"
   ]
  },
  {
   "cell_type": "markdown",
   "metadata": {
    "deletable": true,
    "editable": true
   },
   "source": [
    "## Output filename and desired wavelength"
   ]
  },
  {
   "cell_type": "code",
   "execution_count": 117,
   "metadata": {
    "collapsed": true,
    "deletable": true,
    "editable": true
   },
   "outputs": [],
   "source": [
    "root_filename=\"Beam4_Rayfile_\""
   ]
  },
  {
   "cell_type": "code",
   "execution_count": 118,
   "metadata": {
    "collapsed": true,
    "deletable": true,
    "editable": true
   },
   "outputs": [],
   "source": [
    "# number of rays\n",
    "NBEAM_X=11\n",
    "NBEAM_Y=11\n",
    "NBEAM=NBEAM_X*NBEAM_Y\n",
    "NWL=4"
   ]
  },
  {
   "cell_type": "code",
   "execution_count": 119,
   "metadata": {
    "collapsed": true,
    "deletable": true,
    "editable": true
   },
   "outputs": [],
   "source": [
    "Wavelength_B=0.0004\n",
    "Wavelength_G=0.0006\n",
    "Wavelength_R=0.0008\n",
    "Wavelength_I=0.001"
   ]
  },
  {
   "cell_type": "code",
   "execution_count": 120,
   "metadata": {
    "collapsed": true,
    "deletable": true,
    "editable": true
   },
   "outputs": [],
   "source": [
    "theta_x=0.  # angle in arcmin\n",
    "theta_y=0.  # angle in arcmin "
   ]
  },
  {
   "cell_type": "code",
   "execution_count": 121,
   "metadata": {
    "collapsed": true,
    "deletable": true,
    "editable": true
   },
   "outputs": [],
   "source": [
    "theta_x_num=int(theta_x*10)\n",
    "theta_y_num=int(theta_y*10)"
   ]
  },
  {
   "cell_type": "code",
   "execution_count": 122,
   "metadata": {
    "collapsed": false,
    "deletable": true,
    "editable": true
   },
   "outputs": [],
   "source": [
    "Beam4_Rayfile=\"Beam4_Rayfile_{:d}_allwl_{:d}_{:d}.xlsx\".format(NBEAM*NWL,theta_x_num,theta_y_num)"
   ]
  },
  {
   "cell_type": "code",
   "execution_count": 123,
   "metadata": {
    "collapsed": false,
    "deletable": true,
    "editable": true
   },
   "outputs": [
    {
     "data": {
      "text/plain": [
       "'Beam4_Rayfile_484_allwl_0_0.xlsx'"
      ]
     },
     "execution_count": 123,
     "metadata": {},
     "output_type": "execute_result"
    }
   ],
   "source": [
    "Beam4_Rayfile"
   ]
  },
  {
   "cell_type": "markdown",
   "metadata": {
    "deletable": true,
    "editable": true
   },
   "source": [
    "## Constants for conversions"
   ]
  },
  {
   "cell_type": "code",
   "execution_count": 124,
   "metadata": {
    "collapsed": true,
    "deletable": true,
    "editable": true
   },
   "outputs": [],
   "source": [
    "m_to_mm=1000.\n",
    "mm_to_m=1e-3\n",
    "inch_to_mm=25.4\n",
    "mm_to_inch=1./inch_to_mm\n",
    "micr_to_m=1e-6\n",
    "m_to_micr=1./micr_to_m\n",
    "m_to_cm=100.\n",
    "m_to_nm=1e9\n",
    "nm_to_m=1./m_to_nm"
   ]
  },
  {
   "cell_type": "code",
   "execution_count": 125,
   "metadata": {
    "collapsed": true,
    "deletable": true,
    "editable": true
   },
   "outputs": [],
   "source": [
    "arcdeg_to_arcmin=60.\n",
    "arcmin_to_arcdeg=1./arcdeg_to_arcmin\n",
    "arcmin_to_arcsec=60.\n",
    "arcdeg_to_arcsec=arcdeg_to_arcmin*arcmin_to_arcsec\n",
    "arcsec_to_arcdeg=1./arcdeg_to_arcsec"
   ]
  },
  {
   "cell_type": "code",
   "execution_count": 126,
   "metadata": {
    "collapsed": false,
    "deletable": true,
    "editable": true
   },
   "outputs": [],
   "source": [
    "deg_to_rad=np.pi/180."
   ]
  },
  {
   "cell_type": "code",
   "execution_count": 127,
   "metadata": {
    "collapsed": true,
    "deletable": true,
    "editable": true
   },
   "outputs": [],
   "source": [
    "rad_to_deg=1./deg_to_rad\n",
    "rad_to_arcsec=rad_to_deg*arcdeg_to_arcsec\n",
    "rad_to_arcmin=rad_to_deg*arcdeg_to_arcmin\n",
    "arcmin_ro_rad=1./rad_to_arcmin"
   ]
  },
  {
   "cell_type": "markdown",
   "metadata": {
    "deletable": true,
    "editable": true
   },
   "source": [
    "## Configuration parameters at the telescope\n",
    "--------------------------------------------------------"
   ]
  },
  {
   "cell_type": "markdown",
   "metadata": {
    "deletable": true,
    "editable": true
   },
   "source": [
    "#### Telescope"
   ]
  },
  {
   "cell_type": "code",
   "execution_count": 128,
   "metadata": {
    "collapsed": true,
    "deletable": true,
    "editable": true
   },
   "outputs": [],
   "source": [
    "Tel_Focal_Length=12.6 # m : Focal length of the telescope\n",
    "Tel_Diameter=0.9 # m : Diameter of the telescope    "
   ]
  },
  {
   "cell_type": "code",
   "execution_count": 129,
   "metadata": {
    "collapsed": true,
    "deletable": true,
    "editable": true
   },
   "outputs": [],
   "source": [
    "Tel_Fnum=Tel_Focal_Length/Tel_Diameter"
   ]
  },
  {
   "cell_type": "markdown",
   "metadata": {
    "deletable": true,
    "editable": true
   },
   "source": [
    "#### Filter"
   ]
  },
  {
   "cell_type": "code",
   "execution_count": 130,
   "metadata": {
    "collapsed": true,
    "deletable": true,
    "editable": true
   },
   "outputs": [],
   "source": [
    "Filt_D=0.05769 # m distance of the filter position wrt CCD plane\n",
    "Filt_size=3*inch_to_mm"
   ]
  },
  {
   "cell_type": "code",
   "execution_count": 131,
   "metadata": {
    "collapsed": false,
    "deletable": true,
    "editable": true
   },
   "outputs": [
    {
     "data": {
      "text/plain": [
       "76.19999999999999"
      ]
     },
     "execution_count": 131,
     "metadata": {},
     "output_type": "execute_result"
    }
   ],
   "source": [
    "Filt_size"
   ]
  },
  {
   "cell_type": "markdown",
   "metadata": {
    "deletable": true,
    "editable": true
   },
   "source": [
    "#### CCD Detector"
   ]
  },
  {
   "cell_type": "code",
   "execution_count": 132,
   "metadata": {
    "collapsed": false,
    "deletable": true,
    "editable": true
   },
   "outputs": [],
   "source": [
    "Det_xpic=24.0 # microns per pixel\n",
    "Det_NbPix=2048 # number of pixels per CCD side\n",
    "Det_size=Det_xpic*Det_NbPix*1e-3 # CCD size in mm, 5 cm or 2 inches"
   ]
  },
  {
   "cell_type": "code",
   "execution_count": 133,
   "metadata": {
    "collapsed": false,
    "deletable": true,
    "editable": true
   },
   "outputs": [
    {
     "data": {
      "text/plain": [
       "49.152"
      ]
     },
     "execution_count": 133,
     "metadata": {},
     "output_type": "execute_result"
    }
   ],
   "source": [
    "Det_size"
   ]
  },
  {
   "cell_type": "code",
   "execution_count": 134,
   "metadata": {
    "collapsed": true,
    "deletable": true,
    "editable": true
   },
   "outputs": [],
   "source": [
    "Det_pix_angl=Det_xpic*micr_to_m/Tel_Focal_Length   # in radian"
   ]
  },
  {
   "cell_type": "code",
   "execution_count": 135,
   "metadata": {
    "collapsed": false,
    "deletable": true,
    "editable": true
   },
   "outputs": [
    {
     "name": "stdout",
     "output_type": "stream",
     "text": [
      "pixel viewing angle in arcsec =  0.392885345233\n"
     ]
    }
   ],
   "source": [
    "print \"pixel viewing angle in arcsec = \", Det_pix_angl*rad_to_deg*arcdeg_to_arcsec"
   ]
  },
  {
   "cell_type": "markdown",
   "metadata": {
    "deletable": true,
    "editable": true
   },
   "source": [
    "## Location of the source in the field of view\n",
    "\n",
    "The Field of view of the delescope is 13.6 arcmin\n",
    "\n",
    "\n",
    "- ($\\theta_x, \\theta_y$) in arcmin to be specified\n",
    "- ($\\alpha_x, \\alpha_y$) in radian calculated "
   ]
  },
  {
   "cell_type": "code",
   "execution_count": 136,
   "metadata": {
    "collapsed": true,
    "deletable": true,
    "editable": true
   },
   "outputs": [],
   "source": [
    "theta_max=13.6/2.\n",
    "theta_max=-13.6/2."
   ]
  },
  {
   "cell_type": "code",
   "execution_count": null,
   "metadata": {
    "collapsed": true,
    "deletable": true,
    "editable": true
   },
   "outputs": [],
   "source": []
  },
  {
   "cell_type": "code",
   "execution_count": 137,
   "metadata": {
    "collapsed": true,
    "deletable": true,
    "editable": true
   },
   "outputs": [],
   "source": [
    "alpha_x=theta_x*arcmin_ro_rad\n",
    "alpha_y=theta_y*arcmin_ro_rad"
   ]
  },
  {
   "cell_type": "markdown",
   "metadata": {
    "deletable": true,
    "editable": true
   },
   "source": [
    "## Where to start the tracking of rays\n",
    "\n",
    "- Units in mm\n",
    "- The origin is where the optical effective conveging system start at O(0,0,0)\n",
    "- (X0,Y0,Z0) : coordinates of Beam rays starting points"
   ]
  },
  {
   "cell_type": "code",
   "execution_count": 138,
   "metadata": {
    "collapsed": true,
    "deletable": true,
    "editable": true
   },
   "outputs": [],
   "source": [
    "D0=Filt_D*m_to_mm  # distance between plane where the trcking beam start"
   ]
  },
  {
   "cell_type": "code",
   "execution_count": 139,
   "metadata": {
    "collapsed": false,
    "deletable": true,
    "editable": true
   },
   "outputs": [],
   "source": [
    "Z0=Tel_Focal_Length*m_to_mm"
   ]
  },
  {
   "cell_type": "code",
   "execution_count": 140,
   "metadata": {
    "collapsed": true,
    "deletable": true,
    "editable": true
   },
   "outputs": [],
   "source": [
    "Z1=Z0-2.*D0  # please set where you want to start the beam"
   ]
  },
  {
   "cell_type": "code",
   "execution_count": 141,
   "metadata": {
    "collapsed": false,
    "deletable": true,
    "editable": true
   },
   "outputs": [],
   "source": [
    "XMIN=-Tel_Diameter*m_to_mm/(2.*np.sqrt(2.))\n",
    "XMAX=Tel_Diameter*m_to_mm/(2.*np.sqrt(2.))"
   ]
  },
  {
   "cell_type": "code",
   "execution_count": 142,
   "metadata": {
    "collapsed": true,
    "deletable": true,
    "editable": true
   },
   "outputs": [],
   "source": [
    "YMIN=-Tel_Diameter*m_to_mm/(2.*np.sqrt(2.))\n",
    "YMAX=Tel_Diameter*m_to_mm/(2.*np.sqrt(2.))"
   ]
  },
  {
   "cell_type": "markdown",
   "metadata": {
    "deletable": true,
    "editable": true
   },
   "source": [
    "# Number of points"
   ]
  },
  {
   "cell_type": "code",
   "execution_count": null,
   "metadata": {
    "collapsed": true,
    "deletable": true,
    "editable": true
   },
   "outputs": [],
   "source": []
  },
  {
   "cell_type": "code",
   "execution_count": null,
   "metadata": {
    "collapsed": false,
    "deletable": true,
    "editable": true
   },
   "outputs": [],
   "source": []
  },
  {
   "cell_type": "code",
   "execution_count": 143,
   "metadata": {
    "collapsed": false,
    "deletable": true,
    "editable": true
   },
   "outputs": [],
   "source": [
    "X = np.linspace(XMIN, XMAX, NBEAM_X)\n",
    "Y = np.linspace(YMIN, YMAX, NBEAM_Y)\n",
    "XX, YY = np.meshgrid(X, Y)"
   ]
  },
  {
   "cell_type": "code",
   "execution_count": 144,
   "metadata": {
    "collapsed": false,
    "deletable": true,
    "editable": true
   },
   "outputs": [],
   "source": [
    "pts = itertools.product(X, Y)"
   ]
  },
  {
   "cell_type": "code",
   "execution_count": 145,
   "metadata": {
    "collapsed": false,
    "deletable": true,
    "editable": true
   },
   "outputs": [
    {
     "data": {
      "text/plain": [
       "<matplotlib.collections.PathCollection at 0x11afe38d0>"
      ]
     },
     "execution_count": 145,
     "metadata": {},
     "output_type": "execute_result"
    },
    {
     "data": {
      "image/png": "[encoded data removed]",
      "text/plain": [
       "<matplotlib.figure.Figure at 0x11ade6910>"
      ]
     },
     "metadata": {},
     "output_type": "display_data"
    }
   ],
   "source": [
    "plt.grid()\n",
    "plt.scatter(*zip(*pts), marker='o', s=30, color='red')"
   ]
  },
  {
   "cell_type": "code",
   "execution_count": 146,
   "metadata": {
    "collapsed": false,
    "deletable": true,
    "editable": true
   },
   "outputs": [
    {
     "data": {
      "text/plain": [
       "<matplotlib.text.Text at 0x11b06d150>"
      ]
     },
     "execution_count": 146,
     "metadata": {},
     "output_type": "execute_result"
    },
    {
     "data": {
      "image/png": "[encoded data removed]",
      "text/plain": [
       "<matplotlib.figure.Figure at 0x11b007990>"
      ]
     },
     "metadata": {},
     "output_type": "display_data"
    }
   ],
   "source": [
    "plt.scatter(XX,YY, marker='o', s=30, color='red')\n",
    "#plt.ylim(YMIN,YMAX)\n",
    "#plt.xlim(XMIN,XMAX)\n",
    "plt.grid()\n",
    "plt.xlabel(\"X\")\n",
    "plt.ylabel(\"Y\")\n",
    "plt.title(\"Impact points at telescope aperture\")"
   ]
  },
  {
   "cell_type": "code",
   "execution_count": 147,
   "metadata": {
    "collapsed": true,
    "deletable": true,
    "editable": true
   },
   "outputs": [],
   "source": [
    "def GetCosinusDirector(X,Y,thealpha_x,thealpha_y,f):\n",
    "    \"\"\"\n",
    "    The size of X,Y is the number of Rays\n",
    "    \"\"\"\n",
    "    \n",
    "    \n",
    "    Norm=np.sqrt( np.power(X+f*np.tan(thealpha_x),2) + np.power(Y+f*np.tan(thealpha_y),2)+ f**2)\n",
    "    UX=-(X+f*np.tan(thealpha_x))/Norm\n",
    "    UY=-(Y+f*np.tan(thealpha_y))/Norm\n",
    "    UZ=f/Norm\n",
    "    return UX,UY,UZ    \n",
    "    "
   ]
  },
  {
   "cell_type": "code",
   "execution_count": 148,
   "metadata": {
    "collapsed": false,
    "deletable": true,
    "editable": true
   },
   "outputs": [],
   "source": [
    "UX,UY,UZ=GetCosinusDirector(XX,YY,alpha_x,alpha_y,Z0)"
   ]
  },
  {
   "cell_type": "code",
   "execution_count": 149,
   "metadata": {
    "collapsed": false,
    "deletable": true,
    "editable": true
   },
   "outputs": [
    {
     "data": {
      "text/plain": [
       "<matplotlib.text.Text at 0x11b2403d0>"
      ]
     },
     "execution_count": 149,
     "metadata": {},
     "output_type": "execute_result"
    },
    {
     "data": {
      "image/png": "[encoded data removed]",
      "text/plain": [
       "<matplotlib.figure.Figure at 0x11abeebd0>"
      ]
     },
     "metadata": {},
     "output_type": "display_data"
    }
   ],
   "source": [
    "\n",
    "plt.grid()\n",
    "q = plt.quiver(XX,YY,UX,UY,angles='xy',scale=0.5,color='r')\n",
    "plt.scatter(XX,YY, marker='o', s=10, color='black')\n",
    "plt.xlabel(\"X\")\n",
    "plt.ylabel(\"Y\")\n",
    "plt.title(\"Vector field\")"
   ]
  },
  {
   "cell_type": "code",
   "execution_count": 150,
   "metadata": {
    "collapsed": true,
    "deletable": true,
    "editable": true
   },
   "outputs": [],
   "source": [
    "def GetStartingPoint(X,Y,thealpha_x,the_alpha_y,f,Z0):\n",
    "    theX0=(1-Z0/f)*X-Z0*np.tan(alpha_x)\n",
    "    theY0=(1-Z0/f)*Y-Z0*np.tan(alpha_y)\n",
    "    return theX0,theY0\n",
    "    "
   ]
  },
  {
   "cell_type": "code",
   "execution_count": 151,
   "metadata": {
    "collapsed": false,
    "deletable": true,
    "editable": true
   },
   "outputs": [],
   "source": [
    "(X0,Y0)=GetStartingPoint(XX,YY,alpha_x,alpha_y,Z0,Z1)"
   ]
  },
  {
   "cell_type": "code",
   "execution_count": 152,
   "metadata": {
    "collapsed": false,
    "deletable": true,
    "editable": true
   },
   "outputs": [
    {
     "data": {
      "text/plain": [
       "<matplotlib.text.Text at 0x11b52d190>"
      ]
     },
     "execution_count": 152,
     "metadata": {},
     "output_type": "execute_result"
    },
    {
     "data": {
      "image/png": "[encoded data removed]",
      "text/plain": [
       "<matplotlib.figure.Figure at 0x11b3e11d0>"
      ]
     },
     "metadata": {},
     "output_type": "display_data"
    }
   ],
   "source": [
    "plt.scatter(X0,Y0, marker='o', s=20, color='red')\n",
    "plt.grid()\n",
    "#plt.ylim(YMIN,YMAX)\n",
    "#plt.xlim(XMIN,XMAX)\n",
    "\n",
    "#plt.xlim(-Filt_size/2, Filt_size/2)\n",
    "#plt.ylim(-Filt_size/2, Filt_size/2)\n",
    "\n",
    "plt.xlabel(\"X\")\n",
    "plt.ylabel(\"Y\")\n",
    "plt.title(\"Impact point at selected entrance of Ray tracer\")"
   ]
  },
  {
   "cell_type": "markdown",
   "metadata": {
    "deletable": true,
    "editable": true
   },
   "source": [
    "## Create Dataframe"
   ]
  },
  {
   "cell_type": "code",
   "execution_count": 153,
   "metadata": {
    "collapsed": true,
    "deletable": true,
    "editable": true
   },
   "outputs": [],
   "source": [
    "df = pd.DataFrame()"
   ]
  },
  {
   "cell_type": "code",
   "execution_count": 154,
   "metadata": {
    "collapsed": true,
    "deletable": true,
    "editable": true
   },
   "outputs": [],
   "source": [
    "Xout=X0.flatten()\n",
    "Yout=Y0.flatten()"
   ]
  },
  {
   "cell_type": "code",
   "execution_count": 155,
   "metadata": {
    "collapsed": true,
    "deletable": true,
    "editable": true
   },
   "outputs": [],
   "source": [
    "Uout=UX.flatten()\n",
    "Vout=UY.flatten()\n",
    "Wout=UZ.flatten()"
   ]
  },
  {
   "cell_type": "code",
   "execution_count": 156,
   "metadata": {
    "collapsed": true,
    "deletable": true,
    "editable": true
   },
   "outputs": [],
   "source": [
    "Zout=np.zeros(NBEAM)"
   ]
  },
  {
   "cell_type": "code",
   "execution_count": 157,
   "metadata": {
    "collapsed": false
   },
   "outputs": [],
   "source": [
    "allXout=np.concatenate((Xout,Xout,Xout,Xout))\n",
    "allYout=np.concatenate((Yout,Yout,Yout,Yout))\n",
    "allZout=np.concatenate((Zout,Zout,Zout,Zout))"
   ]
  },
  {
   "cell_type": "code",
   "execution_count": 158,
   "metadata": {
    "collapsed": true
   },
   "outputs": [],
   "source": [
    "allUout=np.concatenate((Uout,Uout,Uout,Uout))\n",
    "allVout=np.concatenate((Vout,Vout,Vout,Vout))\n",
    "allWout=np.concatenate((Wout,Wout,Wout,Wout))"
   ]
  },
  {
   "cell_type": "code",
   "execution_count": 159,
   "metadata": {
    "collapsed": false
   },
   "outputs": [],
   "source": [
    "wave_b=Wavelength_B*np.ones(NBEAM)\n",
    "color_b = np.chararray(NBEAM)\n",
    "color_b[:]='b'"
   ]
  },
  {
   "cell_type": "code",
   "execution_count": 160,
   "metadata": {
    "collapsed": true
   },
   "outputs": [],
   "source": [
    "wave_g=Wavelength_G*np.ones(NBEAM)\n",
    "color_g = np.chararray(NBEAM)\n",
    "color_g[:]='g'"
   ]
  },
  {
   "cell_type": "code",
   "execution_count": 161,
   "metadata": {
    "collapsed": false
   },
   "outputs": [],
   "source": [
    "wave_r=Wavelength_R*np.ones(NBEAM)\n",
    "color_r = np.chararray(NBEAM)\n",
    "color_r[:]='r'"
   ]
  },
  {
   "cell_type": "code",
   "execution_count": 162,
   "metadata": {
    "collapsed": true
   },
   "outputs": [],
   "source": [
    "wave_i=Wavelength_I*np.ones(NBEAM)\n",
    "color_i = np.chararray(NBEAM)\n",
    "color_i[:]='k'"
   ]
  },
  {
   "cell_type": "code",
   "execution_count": 163,
   "metadata": {
    "collapsed": false,
    "deletable": true,
    "editable": true
   },
   "outputs": [],
   "source": [
    "Wave=np.concatenate((wave_b,wave_g,wave_r,wave_i))"
   ]
  },
  {
   "cell_type": "code",
   "execution_count": null,
   "metadata": {
    "collapsed": false
   },
   "outputs": [],
   "source": []
  },
  {
   "cell_type": "code",
   "execution_count": 164,
   "metadata": {
    "collapsed": true
   },
   "outputs": [],
   "source": [
    "allcolor=np.concatenate((color_b,color_g,color_r,color_i))"
   ]
  },
  {
   "cell_type": "code",
   "execution_count": 165,
   "metadata": {
    "collapsed": false
   },
   "outputs": [
    {
     "data": {
      "text/plain": [
       "(484,)"
      ]
     },
     "execution_count": 165,
     "metadata": {},
     "output_type": "execute_result"
    }
   ],
   "source": [
    "allcolor.shape"
   ]
  },
  {
   "cell_type": "code",
   "execution_count": 166,
   "metadata": {
    "collapsed": false,
    "deletable": true,
    "editable": true
   },
   "outputs": [],
   "source": [
    "df[\"X0\"]=allXout\n",
    "df[\"Y0\"]=allYout\n",
    "df[\"Z0\"]=allZout\n",
    "df[\"U0\"]=allUout\n",
    "df[\"V0\"]=allVout\n",
    "df[\"W0\"]=allWout\n",
    "df[\"wave\"]=Wave\n",
    "df[\"col\"]=allcolor"
   ]
  },
  {
   "cell_type": "code",
   "execution_count": 167,
   "metadata": {
    "collapsed": false,
    "deletable": true,
    "editable": true
   },
   "outputs": [
    {
     "data": {
      "text/html": [
       "<div>\n",
       "<table border=\"1\" class=\"dataframe\">\n",
       "  <thead>\n",
       "    <tr style=\"text-align: right;\">\n",
       "      <th></th>\n",
       "      <th>X0</th>\n",
       "      <th>Y0</th>\n",
       "      <th>Z0</th>\n",
       "      <th>U0</th>\n",
       "      <th>V0</th>\n",
       "      <th>W0</th>\n",
       "      <th>wave</th>\n",
       "      <th>col</th>\n",
       "    </tr>\n",
       "  </thead>\n",
       "  <tbody>\n",
       "    <tr>\n",
       "      <th>0</th>\n",
       "      <td>-2.913785</td>\n",
       "      <td>-2.913785</td>\n",
       "      <td>0.0</td>\n",
       "      <td>0.025238</td>\n",
       "      <td>0.025238</td>\n",
       "      <td>0.999363</td>\n",
       "      <td>0.0004</td>\n",
       "      <td>b</td>\n",
       "    </tr>\n",
       "    <tr>\n",
       "      <th>1</th>\n",
       "      <td>-2.331028</td>\n",
       "      <td>-2.913785</td>\n",
       "      <td>0.0</td>\n",
       "      <td>0.020192</td>\n",
       "      <td>0.025241</td>\n",
       "      <td>0.999477</td>\n",
       "      <td>0.0004</td>\n",
       "      <td>b</td>\n",
       "    </tr>\n",
       "    <tr>\n",
       "      <th>2</th>\n",
       "      <td>-1.748271</td>\n",
       "      <td>-2.913785</td>\n",
       "      <td>0.0</td>\n",
       "      <td>0.015146</td>\n",
       "      <td>0.025243</td>\n",
       "      <td>0.999567</td>\n",
       "      <td>0.0004</td>\n",
       "      <td>b</td>\n",
       "    </tr>\n",
       "    <tr>\n",
       "      <th>3</th>\n",
       "      <td>-1.165514</td>\n",
       "      <td>-2.913785</td>\n",
       "      <td>0.0</td>\n",
       "      <td>0.010098</td>\n",
       "      <td>0.025244</td>\n",
       "      <td>0.999630</td>\n",
       "      <td>0.0004</td>\n",
       "      <td>b</td>\n",
       "    </tr>\n",
       "    <tr>\n",
       "      <th>4</th>\n",
       "      <td>-0.582757</td>\n",
       "      <td>-2.913785</td>\n",
       "      <td>0.0</td>\n",
       "      <td>0.005049</td>\n",
       "      <td>0.025245</td>\n",
       "      <td>0.999669</td>\n",
       "      <td>0.0004</td>\n",
       "      <td>b</td>\n",
       "    </tr>\n",
       "    <tr>\n",
       "      <th>5</th>\n",
       "      <td>0.000000</td>\n",
       "      <td>-2.913785</td>\n",
       "      <td>0.0</td>\n",
       "      <td>-0.000000</td>\n",
       "      <td>0.025246</td>\n",
       "      <td>0.999681</td>\n",
       "      <td>0.0004</td>\n",
       "      <td>b</td>\n",
       "    </tr>\n",
       "    <tr>\n",
       "      <th>6</th>\n",
       "      <td>0.582757</td>\n",
       "      <td>-2.913785</td>\n",
       "      <td>0.0</td>\n",
       "      <td>-0.005049</td>\n",
       "      <td>0.025245</td>\n",
       "      <td>0.999669</td>\n",
       "      <td>0.0004</td>\n",
       "      <td>b</td>\n",
       "    </tr>\n",
       "    <tr>\n",
       "      <th>7</th>\n",
       "      <td>1.165514</td>\n",
       "      <td>-2.913785</td>\n",
       "      <td>0.0</td>\n",
       "      <td>-0.010098</td>\n",
       "      <td>0.025244</td>\n",
       "      <td>0.999630</td>\n",
       "      <td>0.0004</td>\n",
       "      <td>b</td>\n",
       "    </tr>\n",
       "    <tr>\n",
       "      <th>8</th>\n",
       "      <td>1.748271</td>\n",
       "      <td>-2.913785</td>\n",
       "      <td>0.0</td>\n",
       "      <td>-0.015146</td>\n",
       "      <td>0.025243</td>\n",
       "      <td>0.999567</td>\n",
       "      <td>0.0004</td>\n",
       "      <td>b</td>\n",
       "    </tr>\n",
       "    <tr>\n",
       "      <th>9</th>\n",
       "      <td>2.331028</td>\n",
       "      <td>-2.913785</td>\n",
       "      <td>0.0</td>\n",
       "      <td>-0.020192</td>\n",
       "      <td>0.025241</td>\n",
       "      <td>0.999477</td>\n",
       "      <td>0.0004</td>\n",
       "      <td>b</td>\n",
       "    </tr>\n",
       "    <tr>\n",
       "      <th>10</th>\n",
       "      <td>2.913785</td>\n",
       "      <td>-2.913785</td>\n",
       "      <td>0.0</td>\n",
       "      <td>-0.025238</td>\n",
       "      <td>0.025238</td>\n",
       "      <td>0.999363</td>\n",
       "      <td>0.0004</td>\n",
       "      <td>b</td>\n",
       "    </tr>\n",
       "    <tr>\n",
       "      <th>11</th>\n",
       "      <td>-2.913785</td>\n",
       "      <td>-2.331028</td>\n",
       "      <td>0.0</td>\n",
       "      <td>0.025241</td>\n",
       "      <td>0.020192</td>\n",
       "      <td>0.999477</td>\n",
       "      <td>0.0004</td>\n",
       "      <td>b</td>\n",
       "    </tr>\n",
       "    <tr>\n",
       "      <th>12</th>\n",
       "      <td>-2.331028</td>\n",
       "      <td>-2.331028</td>\n",
       "      <td>0.0</td>\n",
       "      <td>0.020195</td>\n",
       "      <td>0.020195</td>\n",
       "      <td>0.999592</td>\n",
       "      <td>0.0004</td>\n",
       "      <td>b</td>\n",
       "    </tr>\n",
       "    <tr>\n",
       "      <th>13</th>\n",
       "      <td>-1.748271</td>\n",
       "      <td>-2.331028</td>\n",
       "      <td>0.0</td>\n",
       "      <td>0.015147</td>\n",
       "      <td>0.020197</td>\n",
       "      <td>0.999681</td>\n",
       "      <td>0.0004</td>\n",
       "      <td>b</td>\n",
       "    </tr>\n",
       "    <tr>\n",
       "      <th>14</th>\n",
       "      <td>-1.165514</td>\n",
       "      <td>-2.331028</td>\n",
       "      <td>0.0</td>\n",
       "      <td>0.010099</td>\n",
       "      <td>0.020198</td>\n",
       "      <td>0.999745</td>\n",
       "      <td>0.0004</td>\n",
       "      <td>b</td>\n",
       "    </tr>\n",
       "    <tr>\n",
       "      <th>15</th>\n",
       "      <td>-0.582757</td>\n",
       "      <td>-2.331028</td>\n",
       "      <td>0.0</td>\n",
       "      <td>0.005050</td>\n",
       "      <td>0.020199</td>\n",
       "      <td>0.999783</td>\n",
       "      <td>0.0004</td>\n",
       "      <td>b</td>\n",
       "    </tr>\n",
       "    <tr>\n",
       "      <th>16</th>\n",
       "      <td>0.000000</td>\n",
       "      <td>-2.331028</td>\n",
       "      <td>0.0</td>\n",
       "      <td>-0.000000</td>\n",
       "      <td>0.020199</td>\n",
       "      <td>0.999796</td>\n",
       "      <td>0.0004</td>\n",
       "      <td>b</td>\n",
       "    </tr>\n",
       "    <tr>\n",
       "      <th>17</th>\n",
       "      <td>0.582757</td>\n",
       "      <td>-2.331028</td>\n",
       "      <td>0.0</td>\n",
       "      <td>-0.005050</td>\n",
       "      <td>0.020199</td>\n",
       "      <td>0.999783</td>\n",
       "      <td>0.0004</td>\n",
       "      <td>b</td>\n",
       "    </tr>\n",
       "    <tr>\n",
       "      <th>18</th>\n",
       "      <td>1.165514</td>\n",
       "      <td>-2.331028</td>\n",
       "      <td>0.0</td>\n",
       "      <td>-0.010099</td>\n",
       "      <td>0.020198</td>\n",
       "      <td>0.999745</td>\n",
       "      <td>0.0004</td>\n",
       "      <td>b</td>\n",
       "    </tr>\n",
       "    <tr>\n",
       "      <th>19</th>\n",
       "      <td>1.748271</td>\n",
       "      <td>-2.331028</td>\n",
       "      <td>0.0</td>\n",
       "      <td>-0.015147</td>\n",
       "      <td>0.020197</td>\n",
       "      <td>0.999681</td>\n",
       "      <td>0.0004</td>\n",
       "      <td>b</td>\n",
       "    </tr>\n",
       "    <tr>\n",
       "      <th>20</th>\n",
       "      <td>2.331028</td>\n",
       "      <td>-2.331028</td>\n",
       "      <td>0.0</td>\n",
       "      <td>-0.020195</td>\n",
       "      <td>0.020195</td>\n",
       "      <td>0.999592</td>\n",
       "      <td>0.0004</td>\n",
       "      <td>b</td>\n",
       "    </tr>\n",
       "    <tr>\n",
       "      <th>21</th>\n",
       "      <td>2.913785</td>\n",
       "      <td>-2.331028</td>\n",
       "      <td>0.0</td>\n",
       "      <td>-0.025241</td>\n",
       "      <td>0.020192</td>\n",
       "      <td>0.999477</td>\n",
       "      <td>0.0004</td>\n",
       "      <td>b</td>\n",
       "    </tr>\n",
       "    <tr>\n",
       "      <th>22</th>\n",
       "      <td>-2.913785</td>\n",
       "      <td>-1.748271</td>\n",
       "      <td>0.0</td>\n",
       "      <td>0.025243</td>\n",
       "      <td>0.015146</td>\n",
       "      <td>0.999567</td>\n",
       "      <td>0.0004</td>\n",
       "      <td>b</td>\n",
       "    </tr>\n",
       "    <tr>\n",
       "      <th>23</th>\n",
       "      <td>-2.331028</td>\n",
       "      <td>-1.748271</td>\n",
       "      <td>0.0</td>\n",
       "      <td>0.020197</td>\n",
       "      <td>0.015147</td>\n",
       "      <td>0.999681</td>\n",
       "      <td>0.0004</td>\n",
       "      <td>b</td>\n",
       "    </tr>\n",
       "    <tr>\n",
       "      <th>24</th>\n",
       "      <td>-1.748271</td>\n",
       "      <td>-1.748271</td>\n",
       "      <td>0.0</td>\n",
       "      <td>0.015149</td>\n",
       "      <td>0.015149</td>\n",
       "      <td>0.999770</td>\n",
       "      <td>0.0004</td>\n",
       "      <td>b</td>\n",
       "    </tr>\n",
       "    <tr>\n",
       "      <th>25</th>\n",
       "      <td>-1.165514</td>\n",
       "      <td>-1.748271</td>\n",
       "      <td>0.0</td>\n",
       "      <td>0.010100</td>\n",
       "      <td>0.015150</td>\n",
       "      <td>0.999834</td>\n",
       "      <td>0.0004</td>\n",
       "      <td>b</td>\n",
       "    </tr>\n",
       "    <tr>\n",
       "      <th>26</th>\n",
       "      <td>-0.582757</td>\n",
       "      <td>-1.748271</td>\n",
       "      <td>0.0</td>\n",
       "      <td>0.005050</td>\n",
       "      <td>0.015150</td>\n",
       "      <td>0.999872</td>\n",
       "      <td>0.0004</td>\n",
       "      <td>b</td>\n",
       "    </tr>\n",
       "    <tr>\n",
       "      <th>27</th>\n",
       "      <td>0.000000</td>\n",
       "      <td>-1.748271</td>\n",
       "      <td>0.0</td>\n",
       "      <td>-0.000000</td>\n",
       "      <td>0.015151</td>\n",
       "      <td>0.999885</td>\n",
       "      <td>0.0004</td>\n",
       "      <td>b</td>\n",
       "    </tr>\n",
       "    <tr>\n",
       "      <th>28</th>\n",
       "      <td>0.582757</td>\n",
       "      <td>-1.748271</td>\n",
       "      <td>0.0</td>\n",
       "      <td>-0.005050</td>\n",
       "      <td>0.015150</td>\n",
       "      <td>0.999872</td>\n",
       "      <td>0.0004</td>\n",
       "      <td>b</td>\n",
       "    </tr>\n",
       "    <tr>\n",
       "      <th>29</th>\n",
       "      <td>1.165514</td>\n",
       "      <td>-1.748271</td>\n",
       "      <td>0.0</td>\n",
       "      <td>-0.010100</td>\n",
       "      <td>0.015150</td>\n",
       "      <td>0.999834</td>\n",
       "      <td>0.0004</td>\n",
       "      <td>b</td>\n",
       "    </tr>\n",
       "    <tr>\n",
       "      <th>...</th>\n",
       "      <td>...</td>\n",
       "      <td>...</td>\n",
       "      <td>...</td>\n",
       "      <td>...</td>\n",
       "      <td>...</td>\n",
       "      <td>...</td>\n",
       "      <td>...</td>\n",
       "      <td>...</td>\n",
       "    </tr>\n",
       "    <tr>\n",
       "      <th>454</th>\n",
       "      <td>-1.165514</td>\n",
       "      <td>1.748271</td>\n",
       "      <td>0.0</td>\n",
       "      <td>0.010100</td>\n",
       "      <td>-0.015150</td>\n",
       "      <td>0.999834</td>\n",
       "      <td>0.0010</td>\n",
       "      <td>k</td>\n",
       "    </tr>\n",
       "    <tr>\n",
       "      <th>455</th>\n",
       "      <td>-0.582757</td>\n",
       "      <td>1.748271</td>\n",
       "      <td>0.0</td>\n",
       "      <td>0.005050</td>\n",
       "      <td>-0.015150</td>\n",
       "      <td>0.999872</td>\n",
       "      <td>0.0010</td>\n",
       "      <td>k</td>\n",
       "    </tr>\n",
       "    <tr>\n",
       "      <th>456</th>\n",
       "      <td>0.000000</td>\n",
       "      <td>1.748271</td>\n",
       "      <td>0.0</td>\n",
       "      <td>-0.000000</td>\n",
       "      <td>-0.015151</td>\n",
       "      <td>0.999885</td>\n",
       "      <td>0.0010</td>\n",
       "      <td>k</td>\n",
       "    </tr>\n",
       "    <tr>\n",
       "      <th>457</th>\n",
       "      <td>0.582757</td>\n",
       "      <td>1.748271</td>\n",
       "      <td>0.0</td>\n",
       "      <td>-0.005050</td>\n",
       "      <td>-0.015150</td>\n",
       "      <td>0.999872</td>\n",
       "      <td>0.0010</td>\n",
       "      <td>k</td>\n",
       "    </tr>\n",
       "    <tr>\n",
       "      <th>458</th>\n",
       "      <td>1.165514</td>\n",
       "      <td>1.748271</td>\n",
       "      <td>0.0</td>\n",
       "      <td>-0.010100</td>\n",
       "      <td>-0.015150</td>\n",
       "      <td>0.999834</td>\n",
       "      <td>0.0010</td>\n",
       "      <td>k</td>\n",
       "    </tr>\n",
       "    <tr>\n",
       "      <th>459</th>\n",
       "      <td>1.748271</td>\n",
       "      <td>1.748271</td>\n",
       "      <td>0.0</td>\n",
       "      <td>-0.015149</td>\n",
       "      <td>-0.015149</td>\n",
       "      <td>0.999770</td>\n",
       "      <td>0.0010</td>\n",
       "      <td>k</td>\n",
       "    </tr>\n",
       "    <tr>\n",
       "      <th>460</th>\n",
       "      <td>2.331028</td>\n",
       "      <td>1.748271</td>\n",
       "      <td>0.0</td>\n",
       "      <td>-0.020197</td>\n",
       "      <td>-0.015147</td>\n",
       "      <td>0.999681</td>\n",
       "      <td>0.0010</td>\n",
       "      <td>k</td>\n",
       "    </tr>\n",
       "    <tr>\n",
       "      <th>461</th>\n",
       "      <td>2.913785</td>\n",
       "      <td>1.748271</td>\n",
       "      <td>0.0</td>\n",
       "      <td>-0.025243</td>\n",
       "      <td>-0.015146</td>\n",
       "      <td>0.999567</td>\n",
       "      <td>0.0010</td>\n",
       "      <td>k</td>\n",
       "    </tr>\n",
       "    <tr>\n",
       "      <th>462</th>\n",
       "      <td>-2.913785</td>\n",
       "      <td>2.331028</td>\n",
       "      <td>0.0</td>\n",
       "      <td>0.025241</td>\n",
       "      <td>-0.020192</td>\n",
       "      <td>0.999477</td>\n",
       "      <td>0.0010</td>\n",
       "      <td>k</td>\n",
       "    </tr>\n",
       "    <tr>\n",
       "      <th>463</th>\n",
       "      <td>-2.331028</td>\n",
       "      <td>2.331028</td>\n",
       "      <td>0.0</td>\n",
       "      <td>0.020195</td>\n",
       "      <td>-0.020195</td>\n",
       "      <td>0.999592</td>\n",
       "      <td>0.0010</td>\n",
       "      <td>k</td>\n",
       "    </tr>\n",
       "    <tr>\n",
       "      <th>464</th>\n",
       "      <td>-1.748271</td>\n",
       "      <td>2.331028</td>\n",
       "      <td>0.0</td>\n",
       "      <td>0.015147</td>\n",
       "      <td>-0.020197</td>\n",
       "      <td>0.999681</td>\n",
       "      <td>0.0010</td>\n",
       "      <td>k</td>\n",
       "    </tr>\n",
       "    <tr>\n",
       "      <th>465</th>\n",
       "      <td>-1.165514</td>\n",
       "      <td>2.331028</td>\n",
       "      <td>0.0</td>\n",
       "      <td>0.010099</td>\n",
       "      <td>-0.020198</td>\n",
       "      <td>0.999745</td>\n",
       "      <td>0.0010</td>\n",
       "      <td>k</td>\n",
       "    </tr>\n",
       "    <tr>\n",
       "      <th>466</th>\n",
       "      <td>-0.582757</td>\n",
       "      <td>2.331028</td>\n",
       "      <td>0.0</td>\n",
       "      <td>0.005050</td>\n",
       "      <td>-0.020199</td>\n",
       "      <td>0.999783</td>\n",
       "      <td>0.0010</td>\n",
       "      <td>k</td>\n",
       "    </tr>\n",
       "    <tr>\n",
       "      <th>467</th>\n",
       "      <td>0.000000</td>\n",
       "      <td>2.331028</td>\n",
       "      <td>0.0</td>\n",
       "      <td>-0.000000</td>\n",
       "      <td>-0.020199</td>\n",
       "      <td>0.999796</td>\n",
       "      <td>0.0010</td>\n",
       "      <td>k</td>\n",
       "    </tr>\n",
       "    <tr>\n",
       "      <th>468</th>\n",
       "      <td>0.582757</td>\n",
       "      <td>2.331028</td>\n",
       "      <td>0.0</td>\n",
       "      <td>-0.005050</td>\n",
       "      <td>-0.020199</td>\n",
       "      <td>0.999783</td>\n",
       "      <td>0.0010</td>\n",
       "      <td>k</td>\n",
       "    </tr>\n",
       "    <tr>\n",
       "      <th>469</th>\n",
       "      <td>1.165514</td>\n",
       "      <td>2.331028</td>\n",
       "      <td>0.0</td>\n",
       "      <td>-0.010099</td>\n",
       "      <td>-0.020198</td>\n",
       "      <td>0.999745</td>\n",
       "      <td>0.0010</td>\n",
       "      <td>k</td>\n",
       "    </tr>\n",
       "    <tr>\n",
       "      <th>470</th>\n",
       "      <td>1.748271</td>\n",
       "      <td>2.331028</td>\n",
       "      <td>0.0</td>\n",
       "      <td>-0.015147</td>\n",
       "      <td>-0.020197</td>\n",
       "      <td>0.999681</td>\n",
       "      <td>0.0010</td>\n",
       "      <td>k</td>\n",
       "    </tr>\n",
       "    <tr>\n",
       "      <th>471</th>\n",
       "      <td>2.331028</td>\n",
       "      <td>2.331028</td>\n",
       "      <td>0.0</td>\n",
       "      <td>-0.020195</td>\n",
       "      <td>-0.020195</td>\n",
       "      <td>0.999592</td>\n",
       "      <td>0.0010</td>\n",
       "      <td>k</td>\n",
       "    </tr>\n",
       "    <tr>\n",
       "      <th>472</th>\n",
       "      <td>2.913785</td>\n",
       "      <td>2.331028</td>\n",
       "      <td>0.0</td>\n",
       "      <td>-0.025241</td>\n",
       "      <td>-0.020192</td>\n",
       "      <td>0.999477</td>\n",
       "      <td>0.0010</td>\n",
       "      <td>k</td>\n",
       "    </tr>\n",
       "    <tr>\n",
       "      <th>473</th>\n",
       "      <td>-2.913785</td>\n",
       "      <td>2.913785</td>\n",
       "      <td>0.0</td>\n",
       "      <td>0.025238</td>\n",
       "      <td>-0.025238</td>\n",
       "      <td>0.999363</td>\n",
       "      <td>0.0010</td>\n",
       "      <td>k</td>\n",
       "    </tr>\n",
       "    <tr>\n",
       "      <th>474</th>\n",
       "      <td>-2.331028</td>\n",
       "      <td>2.913785</td>\n",
       "      <td>0.0</td>\n",
       "      <td>0.020192</td>\n",
       "      <td>-0.025241</td>\n",
       "      <td>0.999477</td>\n",
       "      <td>0.0010</td>\n",
       "      <td>k</td>\n",
       "    </tr>\n",
       "    <tr>\n",
       "      <th>475</th>\n",
       "      <td>-1.748271</td>\n",
       "      <td>2.913785</td>\n",
       "      <td>0.0</td>\n",
       "      <td>0.015146</td>\n",
       "      <td>-0.025243</td>\n",
       "      <td>0.999567</td>\n",
       "      <td>0.0010</td>\n",
       "      <td>k</td>\n",
       "    </tr>\n",
       "    <tr>\n",
       "      <th>476</th>\n",
       "      <td>-1.165514</td>\n",
       "      <td>2.913785</td>\n",
       "      <td>0.0</td>\n",
       "      <td>0.010098</td>\n",
       "      <td>-0.025244</td>\n",
       "      <td>0.999630</td>\n",
       "      <td>0.0010</td>\n",
       "      <td>k</td>\n",
       "    </tr>\n",
       "    <tr>\n",
       "      <th>477</th>\n",
       "      <td>-0.582757</td>\n",
       "      <td>2.913785</td>\n",
       "      <td>0.0</td>\n",
       "      <td>0.005049</td>\n",
       "      <td>-0.025245</td>\n",
       "      <td>0.999669</td>\n",
       "      <td>0.0010</td>\n",
       "      <td>k</td>\n",
       "    </tr>\n",
       "    <tr>\n",
       "      <th>478</th>\n",
       "      <td>0.000000</td>\n",
       "      <td>2.913785</td>\n",
       "      <td>0.0</td>\n",
       "      <td>-0.000000</td>\n",
       "      <td>-0.025246</td>\n",
       "      <td>0.999681</td>\n",
       "      <td>0.0010</td>\n",
       "      <td>k</td>\n",
       "    </tr>\n",
       "    <tr>\n",
       "      <th>479</th>\n",
       "      <td>0.582757</td>\n",
       "      <td>2.913785</td>\n",
       "      <td>0.0</td>\n",
       "      <td>-0.005049</td>\n",
       "      <td>-0.025245</td>\n",
       "      <td>0.999669</td>\n",
       "      <td>0.0010</td>\n",
       "      <td>k</td>\n",
       "    </tr>\n",
       "    <tr>\n",
       "      <th>480</th>\n",
       "      <td>1.165514</td>\n",
       "      <td>2.913785</td>\n",
       "      <td>0.0</td>\n",
       "      <td>-0.010098</td>\n",
       "      <td>-0.025244</td>\n",
       "      <td>0.999630</td>\n",
       "      <td>0.0010</td>\n",
       "      <td>k</td>\n",
       "    </tr>\n",
       "    <tr>\n",
       "      <th>481</th>\n",
       "      <td>1.748271</td>\n",
       "      <td>2.913785</td>\n",
       "      <td>0.0</td>\n",
       "      <td>-0.015146</td>\n",
       "      <td>-0.025243</td>\n",
       "      <td>0.999567</td>\n",
       "      <td>0.0010</td>\n",
       "      <td>k</td>\n",
       "    </tr>\n",
       "    <tr>\n",
       "      <th>482</th>\n",
       "      <td>2.331028</td>\n",
       "      <td>2.913785</td>\n",
       "      <td>0.0</td>\n",
       "      <td>-0.020192</td>\n",
       "      <td>-0.025241</td>\n",
       "      <td>0.999477</td>\n",
       "      <td>0.0010</td>\n",
       "      <td>k</td>\n",
       "    </tr>\n",
       "    <tr>\n",
       "      <th>483</th>\n",
       "      <td>2.913785</td>\n",
       "      <td>2.913785</td>\n",
       "      <td>0.0</td>\n",
       "      <td>-0.025238</td>\n",
       "      <td>-0.025238</td>\n",
       "      <td>0.999363</td>\n",
       "      <td>0.0010</td>\n",
       "      <td>k</td>\n",
       "    </tr>\n",
       "  </tbody>\n",
       "</table>\n",
       "<p>484 rows × 8 columns</p>\n",
       "</div>"
      ],
      "text/plain": [
       "           X0        Y0   Z0        U0        V0        W0    wave col\n",
       "0   -2.913785 -2.913785  0.0  0.025238  0.025238  0.999363  0.0004   b\n",
       "1   -2.331028 -2.913785  0.0  0.020192  0.025241  0.999477  0.0004   b\n",
       "2   -1.748271 -2.913785  0.0  0.015146  0.025243  0.999567  0.0004   b\n",
       "3   -1.165514 -2.913785  0.0  0.010098  0.025244  0.999630  0.0004   b\n",
       "4   -0.582757 -2.913785  0.0  0.005049  0.025245  0.999669  0.0004   b\n",
       "5    0.000000 -2.913785  0.0 -0.000000  0.025246  0.999681  0.0004   b\n",
       "6    0.582757 -2.913785  0.0 -0.005049  0.025245  0.999669  0.0004   b\n",
       "7    1.165514 -2.913785  0.0 -0.010098  0.025244  0.999630  0.0004   b\n",
       "8    1.748271 -2.913785  0.0 -0.015146  0.025243  0.999567  0.0004   b\n",
       "9    2.331028 -2.913785  0.0 -0.020192  0.025241  0.999477  0.0004   b\n",
       "10   2.913785 -2.913785  0.0 -0.025238  0.025238  0.999363  0.0004   b\n",
       "11  -2.913785 -2.331028  0.0  0.025241  0.020192  0.999477  0.0004   b\n",
       "12  -2.331028 -2.331028  0.0  0.020195  0.020195  0.999592  0.0004   b\n",
       "13  -1.748271 -2.331028  0.0  0.015147  0.020197  0.999681  0.0004   b\n",
       "14  -1.165514 -2.331028  0.0  0.010099  0.020198  0.999745  0.0004   b\n",
       "15  -0.582757 -2.331028  0.0  0.005050  0.020199  0.999783  0.0004   b\n",
       "16   0.000000 -2.331028  0.0 -0.000000  0.020199  0.999796  0.0004   b\n",
       "17   0.582757 -2.331028  0.0 -0.005050  0.020199  0.999783  0.0004   b\n",
       "18   1.165514 -2.331028  0.0 -0.010099  0.020198  0.999745  0.0004   b\n",
       "19   1.748271 -2.331028  0.0 -0.015147  0.020197  0.999681  0.0004   b\n",
       "20   2.331028 -2.331028  0.0 -0.020195  0.020195  0.999592  0.0004   b\n",
       "21   2.913785 -2.331028  0.0 -0.025241  0.020192  0.999477  0.0004   b\n",
       "22  -2.913785 -1.748271  0.0  0.025243  0.015146  0.999567  0.0004   b\n",
       "23  -2.331028 -1.748271  0.0  0.020197  0.015147  0.999681  0.0004   b\n",
       "24  -1.748271 -1.748271  0.0  0.015149  0.015149  0.999770  0.0004   b\n",
       "25  -1.165514 -1.748271  0.0  0.010100  0.015150  0.999834  0.0004   b\n",
       "26  -0.582757 -1.748271  0.0  0.005050  0.015150  0.999872  0.0004   b\n",
       "27   0.000000 -1.748271  0.0 -0.000000  0.015151  0.999885  0.0004   b\n",
       "28   0.582757 -1.748271  0.0 -0.005050  0.015150  0.999872  0.0004   b\n",
       "29   1.165514 -1.748271  0.0 -0.010100  0.015150  0.999834  0.0004   b\n",
       "..        ...       ...  ...       ...       ...       ...     ...  ..\n",
       "454 -1.165514  1.748271  0.0  0.010100 -0.015150  0.999834  0.0010   k\n",
       "455 -0.582757  1.748271  0.0  0.005050 -0.015150  0.999872  0.0010   k\n",
       "456  0.000000  1.748271  0.0 -0.000000 -0.015151  0.999885  0.0010   k\n",
       "457  0.582757  1.748271  0.0 -0.005050 -0.015150  0.999872  0.0010   k\n",
       "458  1.165514  1.748271  0.0 -0.010100 -0.015150  0.999834  0.0010   k\n",
       "459  1.748271  1.748271  0.0 -0.015149 -0.015149  0.999770  0.0010   k\n",
       "460  2.331028  1.748271  0.0 -0.020197 -0.015147  0.999681  0.0010   k\n",
       "461  2.913785  1.748271  0.0 -0.025243 -0.015146  0.999567  0.0010   k\n",
       "462 -2.913785  2.331028  0.0  0.025241 -0.020192  0.999477  0.0010   k\n",
       "463 -2.331028  2.331028  0.0  0.020195 -0.020195  0.999592  0.0010   k\n",
       "464 -1.748271  2.331028  0.0  0.015147 -0.020197  0.999681  0.0010   k\n",
       "465 -1.165514  2.331028  0.0  0.010099 -0.020198  0.999745  0.0010   k\n",
       "466 -0.582757  2.331028  0.0  0.005050 -0.020199  0.999783  0.0010   k\n",
       "467  0.000000  2.331028  0.0 -0.000000 -0.020199  0.999796  0.0010   k\n",
       "468  0.582757  2.331028  0.0 -0.005050 -0.020199  0.999783  0.0010   k\n",
       "469  1.165514  2.331028  0.0 -0.010099 -0.020198  0.999745  0.0010   k\n",
       "470  1.748271  2.331028  0.0 -0.015147 -0.020197  0.999681  0.0010   k\n",
       "471  2.331028  2.331028  0.0 -0.020195 -0.020195  0.999592  0.0010   k\n",
       "472  2.913785  2.331028  0.0 -0.025241 -0.020192  0.999477  0.0010   k\n",
       "473 -2.913785  2.913785  0.0  0.025238 -0.025238  0.999363  0.0010   k\n",
       "474 -2.331028  2.913785  0.0  0.020192 -0.025241  0.999477  0.0010   k\n",
       "475 -1.748271  2.913785  0.0  0.015146 -0.025243  0.999567  0.0010   k\n",
       "476 -1.165514  2.913785  0.0  0.010098 -0.025244  0.999630  0.0010   k\n",
       "477 -0.582757  2.913785  0.0  0.005049 -0.025245  0.999669  0.0010   k\n",
       "478  0.000000  2.913785  0.0 -0.000000 -0.025246  0.999681  0.0010   k\n",
       "479  0.582757  2.913785  0.0 -0.005049 -0.025245  0.999669  0.0010   k\n",
       "480  1.165514  2.913785  0.0 -0.010098 -0.025244  0.999630  0.0010   k\n",
       "481  1.748271  2.913785  0.0 -0.015146 -0.025243  0.999567  0.0010   k\n",
       "482  2.331028  2.913785  0.0 -0.020192 -0.025241  0.999477  0.0010   k\n",
       "483  2.913785  2.913785  0.0 -0.025238 -0.025238  0.999363  0.0010   k\n",
       "\n",
       "[484 rows x 8 columns]"
      ]
     },
     "execution_count": 167,
     "metadata": {},
     "output_type": "execute_result"
    }
   ],
   "source": [
    "df"
   ]
  },
  {
   "cell_type": "code",
   "execution_count": 168,
   "metadata": {
    "collapsed": false
   },
   "outputs": [
    {
     "name": "stdout",
     "output_type": "stream",
     "text": [
      "Beam4_Rayfile_484_allwl_0_0.xlsx\n"
     ]
    }
   ],
   "source": [
    "print Beam4_Rayfile"
   ]
  },
  {
   "cell_type": "code",
   "execution_count": 169,
   "metadata": {
    "collapsed": false,
    "deletable": true,
    "editable": true
   },
   "outputs": [],
   "source": [
    "df.to_excel(Beam4_Rayfile)"
   ]
  },
  {
   "cell_type": "code",
   "execution_count": 170,
   "metadata": {
    "collapsed": false,
    "deletable": true,
    "editable": true
   },
   "outputs": [
    {
     "data": {
      "text/plain": [
       "76.19999999999999"
      ]
     },
     "execution_count": 170,
     "metadata": {},
     "output_type": "execute_result"
    }
   ],
   "source": [
    "Filt_size"
   ]
  },
  {
   "cell_type": "code",
   "execution_count": 171,
   "metadata": {
    "collapsed": false,
    "deletable": true,
    "editable": true
   },
   "outputs": [
    {
     "data": {
      "text/plain": [
       "115.38"
      ]
     },
     "execution_count": 171,
     "metadata": {},
     "output_type": "execute_result"
    }
   ],
   "source": [
    "2*Filt_D*m_to_mm"
   ]
  },
  {
   "cell_type": "code",
   "execution_count": null,
   "metadata": {
    "collapsed": true,
    "deletable": true,
    "editable": true
   },
   "outputs": [],
   "source": []
  }
 ],
 "metadata": {
  "anaconda-cloud": {},
  "kernelspec": {
   "display_name": "Python [conda env:pyastrophys]",
   "language": "python",
   "name": "conda-env-pyastrophys-py"
  },
  "language_info": {
   "codemirror_mode": {
    "name": "ipython",
    "version": 2
   },
   "file_extension": ".py",
   "mimetype": "text/x-python",
   "name": "python",
   "nbconvert_exporter": "python",
   "pygments_lexer": "ipython2",
   "version": "2.7.12"
  }
 },
 "nbformat": 4,
 "nbformat_minor": 0
}
