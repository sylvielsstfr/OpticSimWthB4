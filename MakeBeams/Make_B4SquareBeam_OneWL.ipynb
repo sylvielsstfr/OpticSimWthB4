{
 "cells": [
  {
   "cell_type": "markdown",
   "metadata": {},
   "source": [
    "# Make an Excel Ray file for Beam4\n",
    "\n",
    "\n",
    "- Geometry : Auxiliary Telescope Geometry of Optical for CTIO 0.9 m "
   ]
  },
  {
   "cell_type": "markdown",
   "metadata": {},
   "source": [
    "- author : Sylvie Dagoret-Campagne\n",
    "- affiliation : LAL/IN2P3/CNRS\n",
    "- date : January 14th 2017\n",
    "- update : February 28th 2017\n",
    "\n",
    "\n",
    "Simple 2D optical geometry for the optical setup of CTIO 0.9m telescope with Ronchi Grating.\n",
    "This is a tool to adjust the CCD position wrt Filter wheel to obtained a\n",
    "\n",
    "\n",
    "This is a python notebook (not a sagemath notebook)\n",
    "- command:\n",
    "** ipython notebook **"
   ]
  },
  {
   "cell_type": "code",
   "execution_count": 125,
   "metadata": {
    "collapsed": true
   },
   "outputs": [],
   "source": [
    "%matplotlib inline\n",
    "import matplotlib.pyplot as plt\n",
    "import numpy as np\n",
    "import os\n",
    "import matplotlib as mpl\n",
    "import pandas as pd\n",
    "import itertools"
   ]
  },
  {
   "cell_type": "code",
   "execution_count": 126,
   "metadata": {
    "collapsed": true
   },
   "outputs": [],
   "source": [
    "# to enlarge the sizes\n",
    "params = {'legend.fontsize': 'x-large',\n",
    "          'figure.figsize': (8, 8),\n",
    "         'axes.labelsize': 'x-large',\n",
    "         'axes.titlesize':'x-large',\n",
    "         'xtick.labelsize':'x-large',\n",
    "         'ytick.labelsize':'x-large'}\n",
    "plt.rcParams.update(params)\n"
   ]
  },
  {
   "cell_type": "markdown",
   "metadata": {},
   "source": [
    "## Output filename and desired wavelength"
   ]
  },
  {
   "cell_type": "code",
   "execution_count": 127,
   "metadata": {
    "collapsed": true
   },
   "outputs": [],
   "source": [
    "Beam4_Rayfile=\"Beam4_Rayfile_121_400nm.xlsx\""
   ]
  },
  {
   "cell_type": "code",
   "execution_count": 128,
   "metadata": {
    "collapsed": true
   },
   "outputs": [],
   "source": [
    "Wavelength=0.0004"
   ]
  },
  {
   "cell_type": "markdown",
   "metadata": {},
   "source": [
    "## Constants for conversions"
   ]
  },
  {
   "cell_type": "code",
   "execution_count": 129,
   "metadata": {
    "collapsed": true
   },
   "outputs": [],
   "source": [
    "m_to_mm=1000.\n",
    "mm_to_m=1e-3\n",
    "inch_to_mm=25.4\n",
    "mm_to_inch=1./inch_to_mm\n",
    "micr_to_m=1e-6\n",
    "m_to_micr=1./micr_to_m\n",
    "m_to_cm=100.\n",
    "m_to_nm=1e9\n",
    "nm_to_m=1./m_to_nm"
   ]
  },
  {
   "cell_type": "code",
   "execution_count": 130,
   "metadata": {
    "collapsed": true
   },
   "outputs": [],
   "source": [
    "arcdeg_to_arcmin=60.\n",
    "arcmin_to_arcdeg=1./arcdeg_to_arcmin\n",
    "arcmin_to_arcsec=60.\n",
    "arcdeg_to_arcsec=arcdeg_to_arcmin*arcmin_to_arcsec\n",
    "arcsec_to_arcdeg=1./arcdeg_to_arcsec"
   ]
  },
  {
   "cell_type": "code",
   "execution_count": 131,
   "metadata": {
    "collapsed": false
   },
   "outputs": [],
   "source": [
    "deg_to_rad=np.pi/180."
   ]
  },
  {
   "cell_type": "code",
   "execution_count": 132,
   "metadata": {
    "collapsed": true
   },
   "outputs": [],
   "source": [
    "rad_to_deg=1./deg_to_rad\n",
    "rad_to_arcsec=rad_to_deg*arcdeg_to_arcsec\n",
    "rad_to_arcmin=rad_to_deg*arcdeg_to_arcmin\n",
    "arcmin_ro_rad=1./rad_to_arcmin"
   ]
  },
  {
   "cell_type": "markdown",
   "metadata": {},
   "source": [
    "## Configuration parameters at the telescope\n",
    "--------------------------------------------------------"
   ]
  },
  {
   "cell_type": "markdown",
   "metadata": {},
   "source": [
    "#### Telescope"
   ]
  },
  {
   "cell_type": "code",
   "execution_count": 133,
   "metadata": {
    "collapsed": true
   },
   "outputs": [],
   "source": [
    "Tel_Focal_Length=12.6 # m : Focal length of the telescope\n",
    "Tel_Diameter=0.9 # m : Diameter of the telescope    "
   ]
  },
  {
   "cell_type": "code",
   "execution_count": 134,
   "metadata": {
    "collapsed": true
   },
   "outputs": [],
   "source": [
    "Tel_Fnum=Tel_Focal_Length/Tel_Diameter"
   ]
  },
  {
   "cell_type": "markdown",
   "metadata": {},
   "source": [
    "#### Filter"
   ]
  },
  {
   "cell_type": "code",
   "execution_count": 135,
   "metadata": {
    "collapsed": true
   },
   "outputs": [],
   "source": [
    "Filt_D=0.05769 # m distance of the filter position wrt CCD plane\n",
    "Filt_size=3*inch_to_mm"
   ]
  },
  {
   "cell_type": "code",
   "execution_count": 136,
   "metadata": {
    "collapsed": false
   },
   "outputs": [
    {
     "data": {
      "text/plain": [
       "76.19999999999999"
      ]
     },
     "execution_count": 136,
     "metadata": {},
     "output_type": "execute_result"
    }
   ],
   "source": [
    "Filt_size"
   ]
  },
  {
   "cell_type": "markdown",
   "metadata": {},
   "source": [
    "#### CCD Detector"
   ]
  },
  {
   "cell_type": "code",
   "execution_count": 137,
   "metadata": {
    "collapsed": false
   },
   "outputs": [],
   "source": [
    "Det_xpic=24.0 # microns per pixel\n",
    "Det_NbPix=2048 # number of pixels per CCD side\n",
    "Det_size=Det_xpic*Det_NbPix*1e-3 # CCD size in mm, 5 cm or 2 inches"
   ]
  },
  {
   "cell_type": "code",
   "execution_count": 138,
   "metadata": {
    "collapsed": false
   },
   "outputs": [
    {
     "data": {
      "text/plain": [
       "49.152"
      ]
     },
     "execution_count": 138,
     "metadata": {},
     "output_type": "execute_result"
    }
   ],
   "source": [
    "Det_size"
   ]
  },
  {
   "cell_type": "code",
   "execution_count": 139,
   "metadata": {
    "collapsed": true
   },
   "outputs": [],
   "source": [
    "Det_pix_angl=Det_xpic*micr_to_m/Tel_Focal_Length   # in radian"
   ]
  },
  {
   "cell_type": "code",
   "execution_count": 140,
   "metadata": {
    "collapsed": false
   },
   "outputs": [
    {
     "name": "stdout",
     "output_type": "stream",
     "text": [
      "pixel viewing angle in arcsec =  0.392885345233\n"
     ]
    }
   ],
   "source": [
    "print \"pixel viewing angle in arcsec = \", Det_pix_angl*rad_to_deg*arcdeg_to_arcsec"
   ]
  },
  {
   "cell_type": "markdown",
   "metadata": {},
   "source": [
    "## Location of the source in the field of view\n",
    "\n",
    "The Field of view of the delescope is 13.6 arcmin\n",
    "\n",
    "\n",
    "- ($\\theta_x, \\theta_y$) in arcmin to be specified\n",
    "- ($\\alpha_x, \\alpha_y$) in radian calculated "
   ]
  },
  {
   "cell_type": "code",
   "execution_count": 141,
   "metadata": {
    "collapsed": true
   },
   "outputs": [],
   "source": [
    "theta_max=13.6/2.\n",
    "theta_max=-13.6/2."
   ]
  },
  {
   "cell_type": "code",
   "execution_count": 142,
   "metadata": {
    "collapsed": true
   },
   "outputs": [],
   "source": [
    "theta_x=10.\n",
    "theta_y=0."
   ]
  },
  {
   "cell_type": "code",
   "execution_count": 143,
   "metadata": {
    "collapsed": true
   },
   "outputs": [],
   "source": [
    "alpha_x=theta_x*arcmin_ro_rad\n",
    "alpha_y=theta_y*arcmin_ro_rad"
   ]
  },
  {
   "cell_type": "markdown",
   "metadata": {},
   "source": [
    "## Where to start the tracking of rays\n",
    "\n",
    "- Units in mm\n",
    "- The origin is where the optical effective conveging system start at O(0,0,0)\n",
    "- (X0,Y0,Z0) : coordinates of Beam rays starting points"
   ]
  },
  {
   "cell_type": "code",
   "execution_count": 144,
   "metadata": {
    "collapsed": true
   },
   "outputs": [],
   "source": [
    "D0=Filt_D*m_to_mm  # distance between plane where the trcking beam start"
   ]
  },
  {
   "cell_type": "code",
   "execution_count": 145,
   "metadata": {
    "collapsed": false
   },
   "outputs": [],
   "source": [
    "Z0=Tel_Focal_Length*m_to_mm"
   ]
  },
  {
   "cell_type": "code",
   "execution_count": 146,
   "metadata": {
    "collapsed": true
   },
   "outputs": [],
   "source": [
    "Z1=Z0-2.*D0  # please set where you want to start the beam"
   ]
  },
  {
   "cell_type": "code",
   "execution_count": 147,
   "metadata": {
    "collapsed": false
   },
   "outputs": [],
   "source": [
    "XMIN=-Tel_Diameter*m_to_mm/(2.*np.sqrt(2.))\n",
    "XMAX=Tel_Diameter*m_to_mm/(2.*np.sqrt(2.))"
   ]
  },
  {
   "cell_type": "code",
   "execution_count": 148,
   "metadata": {
    "collapsed": true
   },
   "outputs": [],
   "source": [
    "YMIN=-Tel_Diameter*m_to_mm/(2.*np.sqrt(2.))\n",
    "YMAX=Tel_Diameter*m_to_mm/(2.*np.sqrt(2.))"
   ]
  },
  {
   "cell_type": "markdown",
   "metadata": {},
   "source": [
    "# Number of points"
   ]
  },
  {
   "cell_type": "code",
   "execution_count": 149,
   "metadata": {
    "collapsed": true
   },
   "outputs": [],
   "source": [
    "NBEAM_X=11\n",
    "NBEAM_Y=11\n",
    "NBEAM=NBEAM_X*NBEAM_Y"
   ]
  },
  {
   "cell_type": "code",
   "execution_count": null,
   "metadata": {
    "collapsed": false
   },
   "outputs": [],
   "source": []
  },
  {
   "cell_type": "code",
   "execution_count": 150,
   "metadata": {
    "collapsed": false
   },
   "outputs": [],
   "source": [
    "X = np.linspace(XMIN, XMAX, NBEAM_X)\n",
    "Y = np.linspace(YMIN, YMAX, NBEAM_Y)\n",
    "XX, YY = np.meshgrid(X, Y)"
   ]
  },
  {
   "cell_type": "code",
   "execution_count": 151,
   "metadata": {
    "collapsed": false
   },
   "outputs": [],
   "source": [
    "pts = itertools.product(X, Y)"
   ]
  },
  {
   "cell_type": "code",
   "execution_count": 152,
   "metadata": {
    "collapsed": false
   },
   "outputs": [
    {
     "data": {
      "text/plain": [
       "<matplotlib.collections.PathCollection at 0x10b456790>"
      ]
     },
     "execution_count": 152,
     "metadata": {},
     "output_type": "execute_result"
    },
    {
     "data": {
      "image/png": "[encoded data removed]",
      "text/plain": [
       "<matplotlib.figure.Figure at 0x10aa1bb10>"
      ]
     },
     "metadata": {},
     "output_type": "display_data"
    }
   ],
   "source": [
    "plt.grid()\n",
    "plt.scatter(*zip(*pts), marker='o', s=30, color='red')"
   ]
  },
  {
   "cell_type": "code",
   "execution_count": 153,
   "metadata": {
    "collapsed": false
   },
   "outputs": [
    {
     "data": {
      "text/plain": [
       "<matplotlib.text.Text at 0x10b4e3790>"
      ]
     },
     "execution_count": 153,
     "metadata": {},
     "output_type": "execute_result"
    },
    {
     "data": {
      "image/png": "[encoded data removed]",
      "text/plain": [
       "<matplotlib.figure.Figure at 0x10b470850>"
      ]
     },
     "metadata": {},
     "output_type": "display_data"
    }
   ],
   "source": [
    "plt.scatter(XX,YY, marker='o', s=30, color='red')\n",
    "#plt.ylim(YMIN,YMAX)\n",
    "#plt.xlim(XMIN,XMAX)\n",
    "plt.grid()\n",
    "plt.xlabel(\"X\")\n",
    "plt.ylabel(\"Y\")\n",
    "plt.title(\"Impact points at telescope aperture\")"
   ]
  },
  {
   "cell_type": "code",
   "execution_count": 154,
   "metadata": {
    "collapsed": true
   },
   "outputs": [],
   "source": [
    "def GetCosinusDirector(X,Y,thealpha_x,thealpha_y,f):\n",
    "    \"\"\"\n",
    "    The size of X,Y is the number of Rays\n",
    "    \"\"\"\n",
    "    \n",
    "    \n",
    "    Norm=np.sqrt( np.power(X+f*np.tan(thealpha_x),2) + np.power(Y+f*np.tan(thealpha_y),2)+ f**2)\n",
    "    UX=-(X+f*np.tan(thealpha_x))/Norm\n",
    "    UY=-(Y+f*np.tan(thealpha_y))/Norm\n",
    "    UZ=f/Norm\n",
    "    return UX,UY,UZ    \n",
    "    "
   ]
  },
  {
   "cell_type": "code",
   "execution_count": 155,
   "metadata": {
    "collapsed": false
   },
   "outputs": [],
   "source": [
    "UX,UY,UZ=GetCosinusDirector(XX,YY,alpha_x,alpha_y,Z0)"
   ]
  },
  {
   "cell_type": "code",
   "execution_count": 156,
   "metadata": {
    "collapsed": false
   },
   "outputs": [
    {
     "data": {
      "text/plain": [
       "<matplotlib.text.Text at 0x10b9a3a50>"
      ]
     },
     "execution_count": 156,
     "metadata": {},
     "output_type": "execute_result"
    },
    {
     "data": {
      "image/png": "[encoded data removed]",
      "text/plain": [
       "<matplotlib.figure.Figure at 0x10b71d550>"
      ]
     },
     "metadata": {},
     "output_type": "display_data"
    }
   ],
   "source": [
    "\n",
    "plt.grid()\n",
    "q = plt.quiver(XX,YY,UX,UY,angles='xy',scale=0.5,color='r')\n",
    "plt.scatter(XX,YY, marker='o', s=10, color='black')\n",
    "plt.xlabel(\"X\")\n",
    "plt.ylabel(\"Y\")\n",
    "plt.title(\"Vector field\")"
   ]
  },
  {
   "cell_type": "code",
   "execution_count": 157,
   "metadata": {
    "collapsed": true
   },
   "outputs": [],
   "source": [
    "def GetStartingPoint(X,Y,thealpha_x,the_alpha_y,f,Z0):\n",
    "    theX0=(1-Z0/f)*X-Z0*np.tan(alpha_x)\n",
    "    theY0=(1-Z0/f)*Y-Z0*np.tan(alpha_y)\n",
    "    return theX0,theY0\n",
    "    "
   ]
  },
  {
   "cell_type": "code",
   "execution_count": 158,
   "metadata": {
    "collapsed": false
   },
   "outputs": [],
   "source": [
    "(X0,Y0)=GetStartingPoint(XX,YY,alpha_x,alpha_y,Z0,Z1)"
   ]
  },
  {
   "cell_type": "code",
   "execution_count": 172,
   "metadata": {
    "collapsed": false
   },
   "outputs": [
    {
     "data": {
      "text/plain": [
       "<matplotlib.text.Text at 0x10c2338d0>"
      ]
     },
     "execution_count": 172,
     "metadata": {},
     "output_type": "execute_result"
    },
    {
     "data": {
      "image/png": "[encoded data removed]",
      "text/plain": [
       "<matplotlib.figure.Figure at 0x10c1ad590>"
      ]
     },
     "metadata": {},
     "output_type": "display_data"
    }
   ],
   "source": [
    "plt.scatter(X0,Y0, marker='o', s=20, color='red')\n",
    "plt.grid()\n",
    "#plt.ylim(YMIN,YMAX)\n",
    "#plt.xlim(XMIN,XMAX)\n",
    "\n",
    "#plt.xlim(-Filt_size/2, Filt_size/2)\n",
    "#plt.ylim(-Filt_size/2, Filt_size/2)\n",
    "\n",
    "plt.xlabel(\"X\")\n",
    "plt.ylabel(\"Y\")\n",
    "plt.title(\"Impact point at selected entrance of Ray tracer\")"
   ]
  },
  {
   "cell_type": "markdown",
   "metadata": {},
   "source": [
    "## Create Dataframe"
   ]
  },
  {
   "cell_type": "code",
   "execution_count": 160,
   "metadata": {
    "collapsed": true
   },
   "outputs": [],
   "source": [
    "df = pd.DataFrame()"
   ]
  },
  {
   "cell_type": "code",
   "execution_count": 161,
   "metadata": {
    "collapsed": true
   },
   "outputs": [],
   "source": [
    "Xout=X0.flatten()\n",
    "Yout=Y0.flatten()"
   ]
  },
  {
   "cell_type": "code",
   "execution_count": 162,
   "metadata": {
    "collapsed": true
   },
   "outputs": [],
   "source": [
    "Uout=UX.flatten()\n",
    "Vout=UY.flatten()\n",
    "Wout=UZ.flatten()"
   ]
  },
  {
   "cell_type": "code",
   "execution_count": 163,
   "metadata": {
    "collapsed": true
   },
   "outputs": [],
   "source": [
    "Zout=np.zeros(NBEAM)"
   ]
  },
  {
   "cell_type": "code",
   "execution_count": 164,
   "metadata": {
    "collapsed": false
   },
   "outputs": [],
   "source": [
    "Wave=Wavelength*np.ones(NBEAM)"
   ]
  },
  {
   "cell_type": "code",
   "execution_count": 165,
   "metadata": {
    "collapsed": false
   },
   "outputs": [],
   "source": [
    "df[\"X0\"]=Xout\n",
    "df[\"Y0\"]=Yout\n",
    "df[\"Z0\"]=Zout\n",
    "df[\"U0\"]=Uout\n",
    "df[\"V0\"]=Vout\n",
    "df[\"W0\"]=Wout\n",
    "df[\"wave\"]=Wave"
   ]
  },
  {
   "cell_type": "code",
   "execution_count": 166,
   "metadata": {
    "collapsed": false
   },
   "outputs": [
    {
     "data": {
      "text/html": [
       "<div>\n",
       "<table border=\"1\" class=\"dataframe\">\n",
       "  <thead>\n",
       "    <tr style=\"text-align: right;\">\n",
       "      <th></th>\n",
       "      <th>X0</th>\n",
       "      <th>Y0</th>\n",
       "      <th>Z0</th>\n",
       "      <th>U0</th>\n",
       "      <th>V0</th>\n",
       "      <th>W0</th>\n",
       "      <th>wave</th>\n",
       "    </tr>\n",
       "  </thead>\n",
       "  <tbody>\n",
       "    <tr>\n",
       "      <th>0</th>\n",
       "      <td>-39.230175</td>\n",
       "      <td>-2.913785</td>\n",
       "      <td>0.0</td>\n",
       "      <td>0.022332</td>\n",
       "      <td>0.025239</td>\n",
       "      <td>0.999432</td>\n",
       "      <td>0.0004</td>\n",
       "    </tr>\n",
       "    <tr>\n",
       "      <th>1</th>\n",
       "      <td>-38.647418</td>\n",
       "      <td>-2.913785</td>\n",
       "      <td>0.0</td>\n",
       "      <td>0.017286</td>\n",
       "      <td>0.025242</td>\n",
       "      <td>0.999532</td>\n",
       "      <td>0.0004</td>\n",
       "    </tr>\n",
       "    <tr>\n",
       "      <th>2</th>\n",
       "      <td>-38.064661</td>\n",
       "      <td>-2.913785</td>\n",
       "      <td>0.0</td>\n",
       "      <td>0.012239</td>\n",
       "      <td>0.025244</td>\n",
       "      <td>0.999606</td>\n",
       "      <td>0.0004</td>\n",
       "    </tr>\n",
       "    <tr>\n",
       "      <th>3</th>\n",
       "      <td>-37.481904</td>\n",
       "      <td>-2.913785</td>\n",
       "      <td>0.0</td>\n",
       "      <td>0.007190</td>\n",
       "      <td>0.025245</td>\n",
       "      <td>0.999655</td>\n",
       "      <td>0.0004</td>\n",
       "    </tr>\n",
       "    <tr>\n",
       "      <th>4</th>\n",
       "      <td>-36.899147</td>\n",
       "      <td>-2.913785</td>\n",
       "      <td>0.0</td>\n",
       "      <td>0.002141</td>\n",
       "      <td>0.025246</td>\n",
       "      <td>0.999679</td>\n",
       "      <td>0.0004</td>\n",
       "    </tr>\n",
       "    <tr>\n",
       "      <th>5</th>\n",
       "      <td>-36.316390</td>\n",
       "      <td>-2.913785</td>\n",
       "      <td>0.0</td>\n",
       "      <td>-0.002908</td>\n",
       "      <td>0.025246</td>\n",
       "      <td>0.999677</td>\n",
       "      <td>0.0004</td>\n",
       "    </tr>\n",
       "    <tr>\n",
       "      <th>6</th>\n",
       "      <td>-35.733633</td>\n",
       "      <td>-2.913785</td>\n",
       "      <td>0.0</td>\n",
       "      <td>-0.007957</td>\n",
       "      <td>0.025245</td>\n",
       "      <td>0.999650</td>\n",
       "      <td>0.0004</td>\n",
       "    </tr>\n",
       "    <tr>\n",
       "      <th>7</th>\n",
       "      <td>-35.150876</td>\n",
       "      <td>-2.913785</td>\n",
       "      <td>0.0</td>\n",
       "      <td>-0.013005</td>\n",
       "      <td>0.025244</td>\n",
       "      <td>0.999597</td>\n",
       "      <td>0.0004</td>\n",
       "    </tr>\n",
       "    <tr>\n",
       "      <th>8</th>\n",
       "      <td>-34.568119</td>\n",
       "      <td>-2.913785</td>\n",
       "      <td>0.0</td>\n",
       "      <td>-0.018052</td>\n",
       "      <td>0.025242</td>\n",
       "      <td>0.999518</td>\n",
       "      <td>0.0004</td>\n",
       "    </tr>\n",
       "    <tr>\n",
       "      <th>9</th>\n",
       "      <td>-33.985362</td>\n",
       "      <td>-2.913785</td>\n",
       "      <td>0.0</td>\n",
       "      <td>-0.023098</td>\n",
       "      <td>0.025239</td>\n",
       "      <td>0.999415</td>\n",
       "      <td>0.0004</td>\n",
       "    </tr>\n",
       "    <tr>\n",
       "      <th>10</th>\n",
       "      <td>-33.402605</td>\n",
       "      <td>-2.913785</td>\n",
       "      <td>0.0</td>\n",
       "      <td>-0.028143</td>\n",
       "      <td>0.025236</td>\n",
       "      <td>0.999285</td>\n",
       "      <td>0.0004</td>\n",
       "    </tr>\n",
       "    <tr>\n",
       "      <th>11</th>\n",
       "      <td>-39.230175</td>\n",
       "      <td>-2.331028</td>\n",
       "      <td>0.0</td>\n",
       "      <td>0.022335</td>\n",
       "      <td>0.020194</td>\n",
       "      <td>0.999547</td>\n",
       "      <td>0.0004</td>\n",
       "    </tr>\n",
       "    <tr>\n",
       "      <th>12</th>\n",
       "      <td>-38.647418</td>\n",
       "      <td>-2.331028</td>\n",
       "      <td>0.0</td>\n",
       "      <td>0.017288</td>\n",
       "      <td>0.020196</td>\n",
       "      <td>0.999647</td>\n",
       "      <td>0.0004</td>\n",
       "    </tr>\n",
       "    <tr>\n",
       "      <th>13</th>\n",
       "      <td>-38.064661</td>\n",
       "      <td>-2.331028</td>\n",
       "      <td>0.0</td>\n",
       "      <td>0.012240</td>\n",
       "      <td>0.020197</td>\n",
       "      <td>0.999721</td>\n",
       "      <td>0.0004</td>\n",
       "    </tr>\n",
       "    <tr>\n",
       "      <th>14</th>\n",
       "      <td>-37.481904</td>\n",
       "      <td>-2.331028</td>\n",
       "      <td>0.0</td>\n",
       "      <td>0.007191</td>\n",
       "      <td>0.020198</td>\n",
       "      <td>0.999770</td>\n",
       "      <td>0.0004</td>\n",
       "    </tr>\n",
       "    <tr>\n",
       "      <th>15</th>\n",
       "      <td>-36.899147</td>\n",
       "      <td>-2.331028</td>\n",
       "      <td>0.0</td>\n",
       "      <td>0.002141</td>\n",
       "      <td>0.020199</td>\n",
       "      <td>0.999794</td>\n",
       "      <td>0.0004</td>\n",
       "    </tr>\n",
       "    <tr>\n",
       "      <th>16</th>\n",
       "      <td>-36.316390</td>\n",
       "      <td>-2.331028</td>\n",
       "      <td>0.0</td>\n",
       "      <td>-0.002908</td>\n",
       "      <td>0.020199</td>\n",
       "      <td>0.999792</td>\n",
       "      <td>0.0004</td>\n",
       "    </tr>\n",
       "    <tr>\n",
       "      <th>17</th>\n",
       "      <td>-35.733633</td>\n",
       "      <td>-2.331028</td>\n",
       "      <td>0.0</td>\n",
       "      <td>-0.007958</td>\n",
       "      <td>0.020198</td>\n",
       "      <td>0.999764</td>\n",
       "      <td>0.0004</td>\n",
       "    </tr>\n",
       "    <tr>\n",
       "      <th>18</th>\n",
       "      <td>-35.150876</td>\n",
       "      <td>-2.331028</td>\n",
       "      <td>0.0</td>\n",
       "      <td>-0.013007</td>\n",
       "      <td>0.020197</td>\n",
       "      <td>0.999711</td>\n",
       "      <td>0.0004</td>\n",
       "    </tr>\n",
       "    <tr>\n",
       "      <th>19</th>\n",
       "      <td>-34.568119</td>\n",
       "      <td>-2.331028</td>\n",
       "      <td>0.0</td>\n",
       "      <td>-0.018055</td>\n",
       "      <td>0.020196</td>\n",
       "      <td>0.999633</td>\n",
       "      <td>0.0004</td>\n",
       "    </tr>\n",
       "    <tr>\n",
       "      <th>20</th>\n",
       "      <td>-33.985362</td>\n",
       "      <td>-2.331028</td>\n",
       "      <td>0.0</td>\n",
       "      <td>-0.023101</td>\n",
       "      <td>0.020194</td>\n",
       "      <td>0.999529</td>\n",
       "      <td>0.0004</td>\n",
       "    </tr>\n",
       "    <tr>\n",
       "      <th>21</th>\n",
       "      <td>-33.402605</td>\n",
       "      <td>-2.331028</td>\n",
       "      <td>0.0</td>\n",
       "      <td>-0.028146</td>\n",
       "      <td>0.020191</td>\n",
       "      <td>0.999400</td>\n",
       "      <td>0.0004</td>\n",
       "    </tr>\n",
       "    <tr>\n",
       "      <th>22</th>\n",
       "      <td>-39.230175</td>\n",
       "      <td>-1.748271</td>\n",
       "      <td>0.0</td>\n",
       "      <td>0.022337</td>\n",
       "      <td>0.015147</td>\n",
       "      <td>0.999636</td>\n",
       "      <td>0.0004</td>\n",
       "    </tr>\n",
       "    <tr>\n",
       "      <th>23</th>\n",
       "      <td>-38.647418</td>\n",
       "      <td>-1.748271</td>\n",
       "      <td>0.0</td>\n",
       "      <td>0.017290</td>\n",
       "      <td>0.015148</td>\n",
       "      <td>0.999736</td>\n",
       "      <td>0.0004</td>\n",
       "    </tr>\n",
       "    <tr>\n",
       "      <th>24</th>\n",
       "      <td>-38.064661</td>\n",
       "      <td>-1.748271</td>\n",
       "      <td>0.0</td>\n",
       "      <td>0.012241</td>\n",
       "      <td>0.015149</td>\n",
       "      <td>0.999810</td>\n",
       "      <td>0.0004</td>\n",
       "    </tr>\n",
       "    <tr>\n",
       "      <th>25</th>\n",
       "      <td>-37.481904</td>\n",
       "      <td>-1.748271</td>\n",
       "      <td>0.0</td>\n",
       "      <td>0.007192</td>\n",
       "      <td>0.015150</td>\n",
       "      <td>0.999859</td>\n",
       "      <td>0.0004</td>\n",
       "    </tr>\n",
       "    <tr>\n",
       "      <th>26</th>\n",
       "      <td>-36.899147</td>\n",
       "      <td>-1.748271</td>\n",
       "      <td>0.0</td>\n",
       "      <td>0.002142</td>\n",
       "      <td>0.015151</td>\n",
       "      <td>0.999883</td>\n",
       "      <td>0.0004</td>\n",
       "    </tr>\n",
       "    <tr>\n",
       "      <th>27</th>\n",
       "      <td>-36.316390</td>\n",
       "      <td>-1.748271</td>\n",
       "      <td>0.0</td>\n",
       "      <td>-0.002909</td>\n",
       "      <td>0.015150</td>\n",
       "      <td>0.999881</td>\n",
       "      <td>0.0004</td>\n",
       "    </tr>\n",
       "    <tr>\n",
       "      <th>28</th>\n",
       "      <td>-35.733633</td>\n",
       "      <td>-1.748271</td>\n",
       "      <td>0.0</td>\n",
       "      <td>-0.007958</td>\n",
       "      <td>0.015150</td>\n",
       "      <td>0.999854</td>\n",
       "      <td>0.0004</td>\n",
       "    </tr>\n",
       "    <tr>\n",
       "      <th>29</th>\n",
       "      <td>-35.150876</td>\n",
       "      <td>-1.748271</td>\n",
       "      <td>0.0</td>\n",
       "      <td>-0.013008</td>\n",
       "      <td>0.015149</td>\n",
       "      <td>0.999801</td>\n",
       "      <td>0.0004</td>\n",
       "    </tr>\n",
       "    <tr>\n",
       "      <th>...</th>\n",
       "      <td>...</td>\n",
       "      <td>...</td>\n",
       "      <td>...</td>\n",
       "      <td>...</td>\n",
       "      <td>...</td>\n",
       "      <td>...</td>\n",
       "      <td>...</td>\n",
       "    </tr>\n",
       "    <tr>\n",
       "      <th>91</th>\n",
       "      <td>-37.481904</td>\n",
       "      <td>1.748271</td>\n",
       "      <td>0.0</td>\n",
       "      <td>0.007192</td>\n",
       "      <td>-0.015150</td>\n",
       "      <td>0.999859</td>\n",
       "      <td>0.0004</td>\n",
       "    </tr>\n",
       "    <tr>\n",
       "      <th>92</th>\n",
       "      <td>-36.899147</td>\n",
       "      <td>1.748271</td>\n",
       "      <td>0.0</td>\n",
       "      <td>0.002142</td>\n",
       "      <td>-0.015151</td>\n",
       "      <td>0.999883</td>\n",
       "      <td>0.0004</td>\n",
       "    </tr>\n",
       "    <tr>\n",
       "      <th>93</th>\n",
       "      <td>-36.316390</td>\n",
       "      <td>1.748271</td>\n",
       "      <td>0.0</td>\n",
       "      <td>-0.002909</td>\n",
       "      <td>-0.015150</td>\n",
       "      <td>0.999881</td>\n",
       "      <td>0.0004</td>\n",
       "    </tr>\n",
       "    <tr>\n",
       "      <th>94</th>\n",
       "      <td>-35.733633</td>\n",
       "      <td>1.748271</td>\n",
       "      <td>0.0</td>\n",
       "      <td>-0.007958</td>\n",
       "      <td>-0.015150</td>\n",
       "      <td>0.999854</td>\n",
       "      <td>0.0004</td>\n",
       "    </tr>\n",
       "    <tr>\n",
       "      <th>95</th>\n",
       "      <td>-35.150876</td>\n",
       "      <td>1.748271</td>\n",
       "      <td>0.0</td>\n",
       "      <td>-0.013008</td>\n",
       "      <td>-0.015149</td>\n",
       "      <td>0.999801</td>\n",
       "      <td>0.0004</td>\n",
       "    </tr>\n",
       "    <tr>\n",
       "      <th>96</th>\n",
       "      <td>-34.568119</td>\n",
       "      <td>1.748271</td>\n",
       "      <td>0.0</td>\n",
       "      <td>-0.018056</td>\n",
       "      <td>-0.015148</td>\n",
       "      <td>0.999722</td>\n",
       "      <td>0.0004</td>\n",
       "    </tr>\n",
       "    <tr>\n",
       "      <th>97</th>\n",
       "      <td>-33.985362</td>\n",
       "      <td>1.748271</td>\n",
       "      <td>0.0</td>\n",
       "      <td>-0.023103</td>\n",
       "      <td>-0.015147</td>\n",
       "      <td>0.999618</td>\n",
       "      <td>0.0004</td>\n",
       "    </tr>\n",
       "    <tr>\n",
       "      <th>98</th>\n",
       "      <td>-33.402605</td>\n",
       "      <td>1.748271</td>\n",
       "      <td>0.0</td>\n",
       "      <td>-0.028148</td>\n",
       "      <td>-0.015145</td>\n",
       "      <td>0.999489</td>\n",
       "      <td>0.0004</td>\n",
       "    </tr>\n",
       "    <tr>\n",
       "      <th>99</th>\n",
       "      <td>-39.230175</td>\n",
       "      <td>2.331028</td>\n",
       "      <td>0.0</td>\n",
       "      <td>0.022335</td>\n",
       "      <td>-0.020194</td>\n",
       "      <td>0.999547</td>\n",
       "      <td>0.0004</td>\n",
       "    </tr>\n",
       "    <tr>\n",
       "      <th>100</th>\n",
       "      <td>-38.647418</td>\n",
       "      <td>2.331028</td>\n",
       "      <td>0.0</td>\n",
       "      <td>0.017288</td>\n",
       "      <td>-0.020196</td>\n",
       "      <td>0.999647</td>\n",
       "      <td>0.0004</td>\n",
       "    </tr>\n",
       "    <tr>\n",
       "      <th>101</th>\n",
       "      <td>-38.064661</td>\n",
       "      <td>2.331028</td>\n",
       "      <td>0.0</td>\n",
       "      <td>0.012240</td>\n",
       "      <td>-0.020197</td>\n",
       "      <td>0.999721</td>\n",
       "      <td>0.0004</td>\n",
       "    </tr>\n",
       "    <tr>\n",
       "      <th>102</th>\n",
       "      <td>-37.481904</td>\n",
       "      <td>2.331028</td>\n",
       "      <td>0.0</td>\n",
       "      <td>0.007191</td>\n",
       "      <td>-0.020198</td>\n",
       "      <td>0.999770</td>\n",
       "      <td>0.0004</td>\n",
       "    </tr>\n",
       "    <tr>\n",
       "      <th>103</th>\n",
       "      <td>-36.899147</td>\n",
       "      <td>2.331028</td>\n",
       "      <td>0.0</td>\n",
       "      <td>0.002141</td>\n",
       "      <td>-0.020199</td>\n",
       "      <td>0.999794</td>\n",
       "      <td>0.0004</td>\n",
       "    </tr>\n",
       "    <tr>\n",
       "      <th>104</th>\n",
       "      <td>-36.316390</td>\n",
       "      <td>2.331028</td>\n",
       "      <td>0.0</td>\n",
       "      <td>-0.002908</td>\n",
       "      <td>-0.020199</td>\n",
       "      <td>0.999792</td>\n",
       "      <td>0.0004</td>\n",
       "    </tr>\n",
       "    <tr>\n",
       "      <th>105</th>\n",
       "      <td>-35.733633</td>\n",
       "      <td>2.331028</td>\n",
       "      <td>0.0</td>\n",
       "      <td>-0.007958</td>\n",
       "      <td>-0.020198</td>\n",
       "      <td>0.999764</td>\n",
       "      <td>0.0004</td>\n",
       "    </tr>\n",
       "    <tr>\n",
       "      <th>106</th>\n",
       "      <td>-35.150876</td>\n",
       "      <td>2.331028</td>\n",
       "      <td>0.0</td>\n",
       "      <td>-0.013007</td>\n",
       "      <td>-0.020197</td>\n",
       "      <td>0.999711</td>\n",
       "      <td>0.0004</td>\n",
       "    </tr>\n",
       "    <tr>\n",
       "      <th>107</th>\n",
       "      <td>-34.568119</td>\n",
       "      <td>2.331028</td>\n",
       "      <td>0.0</td>\n",
       "      <td>-0.018055</td>\n",
       "      <td>-0.020196</td>\n",
       "      <td>0.999633</td>\n",
       "      <td>0.0004</td>\n",
       "    </tr>\n",
       "    <tr>\n",
       "      <th>108</th>\n",
       "      <td>-33.985362</td>\n",
       "      <td>2.331028</td>\n",
       "      <td>0.0</td>\n",
       "      <td>-0.023101</td>\n",
       "      <td>-0.020194</td>\n",
       "      <td>0.999529</td>\n",
       "      <td>0.0004</td>\n",
       "    </tr>\n",
       "    <tr>\n",
       "      <th>109</th>\n",
       "      <td>-33.402605</td>\n",
       "      <td>2.331028</td>\n",
       "      <td>0.0</td>\n",
       "      <td>-0.028146</td>\n",
       "      <td>-0.020191</td>\n",
       "      <td>0.999400</td>\n",
       "      <td>0.0004</td>\n",
       "    </tr>\n",
       "    <tr>\n",
       "      <th>110</th>\n",
       "      <td>-39.230175</td>\n",
       "      <td>2.913785</td>\n",
       "      <td>0.0</td>\n",
       "      <td>0.022332</td>\n",
       "      <td>-0.025239</td>\n",
       "      <td>0.999432</td>\n",
       "      <td>0.0004</td>\n",
       "    </tr>\n",
       "    <tr>\n",
       "      <th>111</th>\n",
       "      <td>-38.647418</td>\n",
       "      <td>2.913785</td>\n",
       "      <td>0.0</td>\n",
       "      <td>0.017286</td>\n",
       "      <td>-0.025242</td>\n",
       "      <td>0.999532</td>\n",
       "      <td>0.0004</td>\n",
       "    </tr>\n",
       "    <tr>\n",
       "      <th>112</th>\n",
       "      <td>-38.064661</td>\n",
       "      <td>2.913785</td>\n",
       "      <td>0.0</td>\n",
       "      <td>0.012239</td>\n",
       "      <td>-0.025244</td>\n",
       "      <td>0.999606</td>\n",
       "      <td>0.0004</td>\n",
       "    </tr>\n",
       "    <tr>\n",
       "      <th>113</th>\n",
       "      <td>-37.481904</td>\n",
       "      <td>2.913785</td>\n",
       "      <td>0.0</td>\n",
       "      <td>0.007190</td>\n",
       "      <td>-0.025245</td>\n",
       "      <td>0.999655</td>\n",
       "      <td>0.0004</td>\n",
       "    </tr>\n",
       "    <tr>\n",
       "      <th>114</th>\n",
       "      <td>-36.899147</td>\n",
       "      <td>2.913785</td>\n",
       "      <td>0.0</td>\n",
       "      <td>0.002141</td>\n",
       "      <td>-0.025246</td>\n",
       "      <td>0.999679</td>\n",
       "      <td>0.0004</td>\n",
       "    </tr>\n",
       "    <tr>\n",
       "      <th>115</th>\n",
       "      <td>-36.316390</td>\n",
       "      <td>2.913785</td>\n",
       "      <td>0.0</td>\n",
       "      <td>-0.002908</td>\n",
       "      <td>-0.025246</td>\n",
       "      <td>0.999677</td>\n",
       "      <td>0.0004</td>\n",
       "    </tr>\n",
       "    <tr>\n",
       "      <th>116</th>\n",
       "      <td>-35.733633</td>\n",
       "      <td>2.913785</td>\n",
       "      <td>0.0</td>\n",
       "      <td>-0.007957</td>\n",
       "      <td>-0.025245</td>\n",
       "      <td>0.999650</td>\n",
       "      <td>0.0004</td>\n",
       "    </tr>\n",
       "    <tr>\n",
       "      <th>117</th>\n",
       "      <td>-35.150876</td>\n",
       "      <td>2.913785</td>\n",
       "      <td>0.0</td>\n",
       "      <td>-0.013005</td>\n",
       "      <td>-0.025244</td>\n",
       "      <td>0.999597</td>\n",
       "      <td>0.0004</td>\n",
       "    </tr>\n",
       "    <tr>\n",
       "      <th>118</th>\n",
       "      <td>-34.568119</td>\n",
       "      <td>2.913785</td>\n",
       "      <td>0.0</td>\n",
       "      <td>-0.018052</td>\n",
       "      <td>-0.025242</td>\n",
       "      <td>0.999518</td>\n",
       "      <td>0.0004</td>\n",
       "    </tr>\n",
       "    <tr>\n",
       "      <th>119</th>\n",
       "      <td>-33.985362</td>\n",
       "      <td>2.913785</td>\n",
       "      <td>0.0</td>\n",
       "      <td>-0.023098</td>\n",
       "      <td>-0.025239</td>\n",
       "      <td>0.999415</td>\n",
       "      <td>0.0004</td>\n",
       "    </tr>\n",
       "    <tr>\n",
       "      <th>120</th>\n",
       "      <td>-33.402605</td>\n",
       "      <td>2.913785</td>\n",
       "      <td>0.0</td>\n",
       "      <td>-0.028143</td>\n",
       "      <td>-0.025236</td>\n",
       "      <td>0.999285</td>\n",
       "      <td>0.0004</td>\n",
       "    </tr>\n",
       "  </tbody>\n",
       "</table>\n",
       "<p>121 rows × 7 columns</p>\n",
       "</div>"
      ],
      "text/plain": [
       "            X0        Y0   Z0        U0        V0        W0    wave\n",
       "0   -39.230175 -2.913785  0.0  0.022332  0.025239  0.999432  0.0004\n",
       "1   -38.647418 -2.913785  0.0  0.017286  0.025242  0.999532  0.0004\n",
       "2   -38.064661 -2.913785  0.0  0.012239  0.025244  0.999606  0.0004\n",
       "3   -37.481904 -2.913785  0.0  0.007190  0.025245  0.999655  0.0004\n",
       "4   -36.899147 -2.913785  0.0  0.002141  0.025246  0.999679  0.0004\n",
       "5   -36.316390 -2.913785  0.0 -0.002908  0.025246  0.999677  0.0004\n",
       "6   -35.733633 -2.913785  0.0 -0.007957  0.025245  0.999650  0.0004\n",
       "7   -35.150876 -2.913785  0.0 -0.013005  0.025244  0.999597  0.0004\n",
       "8   -34.568119 -2.913785  0.0 -0.018052  0.025242  0.999518  0.0004\n",
       "9   -33.985362 -2.913785  0.0 -0.023098  0.025239  0.999415  0.0004\n",
       "10  -33.402605 -2.913785  0.0 -0.028143  0.025236  0.999285  0.0004\n",
       "11  -39.230175 -2.331028  0.0  0.022335  0.020194  0.999547  0.0004\n",
       "12  -38.647418 -2.331028  0.0  0.017288  0.020196  0.999647  0.0004\n",
       "13  -38.064661 -2.331028  0.0  0.012240  0.020197  0.999721  0.0004\n",
       "14  -37.481904 -2.331028  0.0  0.007191  0.020198  0.999770  0.0004\n",
       "15  -36.899147 -2.331028  0.0  0.002141  0.020199  0.999794  0.0004\n",
       "16  -36.316390 -2.331028  0.0 -0.002908  0.020199  0.999792  0.0004\n",
       "17  -35.733633 -2.331028  0.0 -0.007958  0.020198  0.999764  0.0004\n",
       "18  -35.150876 -2.331028  0.0 -0.013007  0.020197  0.999711  0.0004\n",
       "19  -34.568119 -2.331028  0.0 -0.018055  0.020196  0.999633  0.0004\n",
       "20  -33.985362 -2.331028  0.0 -0.023101  0.020194  0.999529  0.0004\n",
       "21  -33.402605 -2.331028  0.0 -0.028146  0.020191  0.999400  0.0004\n",
       "22  -39.230175 -1.748271  0.0  0.022337  0.015147  0.999636  0.0004\n",
       "23  -38.647418 -1.748271  0.0  0.017290  0.015148  0.999736  0.0004\n",
       "24  -38.064661 -1.748271  0.0  0.012241  0.015149  0.999810  0.0004\n",
       "25  -37.481904 -1.748271  0.0  0.007192  0.015150  0.999859  0.0004\n",
       "26  -36.899147 -1.748271  0.0  0.002142  0.015151  0.999883  0.0004\n",
       "27  -36.316390 -1.748271  0.0 -0.002909  0.015150  0.999881  0.0004\n",
       "28  -35.733633 -1.748271  0.0 -0.007958  0.015150  0.999854  0.0004\n",
       "29  -35.150876 -1.748271  0.0 -0.013008  0.015149  0.999801  0.0004\n",
       "..         ...       ...  ...       ...       ...       ...     ...\n",
       "91  -37.481904  1.748271  0.0  0.007192 -0.015150  0.999859  0.0004\n",
       "92  -36.899147  1.748271  0.0  0.002142 -0.015151  0.999883  0.0004\n",
       "93  -36.316390  1.748271  0.0 -0.002909 -0.015150  0.999881  0.0004\n",
       "94  -35.733633  1.748271  0.0 -0.007958 -0.015150  0.999854  0.0004\n",
       "95  -35.150876  1.748271  0.0 -0.013008 -0.015149  0.999801  0.0004\n",
       "96  -34.568119  1.748271  0.0 -0.018056 -0.015148  0.999722  0.0004\n",
       "97  -33.985362  1.748271  0.0 -0.023103 -0.015147  0.999618  0.0004\n",
       "98  -33.402605  1.748271  0.0 -0.028148 -0.015145  0.999489  0.0004\n",
       "99  -39.230175  2.331028  0.0  0.022335 -0.020194  0.999547  0.0004\n",
       "100 -38.647418  2.331028  0.0  0.017288 -0.020196  0.999647  0.0004\n",
       "101 -38.064661  2.331028  0.0  0.012240 -0.020197  0.999721  0.0004\n",
       "102 -37.481904  2.331028  0.0  0.007191 -0.020198  0.999770  0.0004\n",
       "103 -36.899147  2.331028  0.0  0.002141 -0.020199  0.999794  0.0004\n",
       "104 -36.316390  2.331028  0.0 -0.002908 -0.020199  0.999792  0.0004\n",
       "105 -35.733633  2.331028  0.0 -0.007958 -0.020198  0.999764  0.0004\n",
       "106 -35.150876  2.331028  0.0 -0.013007 -0.020197  0.999711  0.0004\n",
       "107 -34.568119  2.331028  0.0 -0.018055 -0.020196  0.999633  0.0004\n",
       "108 -33.985362  2.331028  0.0 -0.023101 -0.020194  0.999529  0.0004\n",
       "109 -33.402605  2.331028  0.0 -0.028146 -0.020191  0.999400  0.0004\n",
       "110 -39.230175  2.913785  0.0  0.022332 -0.025239  0.999432  0.0004\n",
       "111 -38.647418  2.913785  0.0  0.017286 -0.025242  0.999532  0.0004\n",
       "112 -38.064661  2.913785  0.0  0.012239 -0.025244  0.999606  0.0004\n",
       "113 -37.481904  2.913785  0.0  0.007190 -0.025245  0.999655  0.0004\n",
       "114 -36.899147  2.913785  0.0  0.002141 -0.025246  0.999679  0.0004\n",
       "115 -36.316390  2.913785  0.0 -0.002908 -0.025246  0.999677  0.0004\n",
       "116 -35.733633  2.913785  0.0 -0.007957 -0.025245  0.999650  0.0004\n",
       "117 -35.150876  2.913785  0.0 -0.013005 -0.025244  0.999597  0.0004\n",
       "118 -34.568119  2.913785  0.0 -0.018052 -0.025242  0.999518  0.0004\n",
       "119 -33.985362  2.913785  0.0 -0.023098 -0.025239  0.999415  0.0004\n",
       "120 -33.402605  2.913785  0.0 -0.028143 -0.025236  0.999285  0.0004\n",
       "\n",
       "[121 rows x 7 columns]"
      ]
     },
     "execution_count": 166,
     "metadata": {},
     "output_type": "execute_result"
    }
   ],
   "source": [
    "df"
   ]
  },
  {
   "cell_type": "code",
   "execution_count": 167,
   "metadata": {
    "collapsed": false
   },
   "outputs": [],
   "source": [
    "df.to_excel(Beam4_Rayfile)"
   ]
  },
  {
   "cell_type": "code",
   "execution_count": 168,
   "metadata": {
    "collapsed": false
   },
   "outputs": [
    {
     "data": {
      "text/plain": [
       "76.19999999999999"
      ]
     },
     "execution_count": 168,
     "metadata": {},
     "output_type": "execute_result"
    }
   ],
   "source": [
    "Filt_size"
   ]
  },
  {
   "cell_type": "code",
   "execution_count": 169,
   "metadata": {
    "collapsed": false
   },
   "outputs": [
    {
     "data": {
      "text/plain": [
       "115.38"
      ]
     },
     "execution_count": 169,
     "metadata": {},
     "output_type": "execute_result"
    }
   ],
   "source": [
    "2*Filt_D*m_to_mm"
   ]
  },
  {
   "cell_type": "code",
   "execution_count": null,
   "metadata": {
    "collapsed": true
   },
   "outputs": [],
   "source": []
  }
 ],
 "metadata": {
  "anaconda-cloud": {},
  "kernelspec": {
   "display_name": "Python [conda env:pyastrophys]",
   "language": "python",
   "name": "conda-env-pyastrophys-py"
  },
  "language_info": {
   "codemirror_mode": {
    "name": "ipython",
    "version": 2
   },
   "file_extension": ".py",
   "mimetype": "text/x-python",
   "name": "python",
   "nbconvert_exporter": "python",
   "pygments_lexer": "ipython2",
   "version": "2.7.12"
  }
 },
 "nbformat": 4,
 "nbformat_minor": 0
}
