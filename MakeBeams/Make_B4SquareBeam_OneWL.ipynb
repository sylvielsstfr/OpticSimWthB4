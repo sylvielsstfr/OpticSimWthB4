{
 "cells": [
  {
   "cell_type": "markdown",
   "metadata": {},
   "source": [
    "# Make an Excel Ray file for Beam4\n",
    "\n",
    "\n",
    "- Geometry : Auxiliary Telescope Geometry of Optical for CTIO 0.9 m "
   ]
  },
  {
   "cell_type": "markdown",
   "metadata": {},
   "source": [
    "- author : Sylvie Dagoret-Campagne\n",
    "- affiliation : LAL/IN2P3/CNRS\n",
    "- date : January 14th 2017\n",
    "- update : February 28th 2017\n",
    "\n",
    "\n",
    "Simple 2D optical geometry for the optical setup of CTIO 0.9m telescope with Ronchi Grating.\n",
    "This is a tool to adjust the CCD position wrt Filter wheel to obtained a\n",
    "\n",
    "\n",
    "This is a python notebook (not a sagemath notebook)\n",
    "- command:\n",
    "** ipython notebook **"
   ]
  },
  {
   "cell_type": "code",
   "execution_count": 1,
   "metadata": {
    "collapsed": true
   },
   "outputs": [],
   "source": [
    "%matplotlib inline\n",
    "import matplotlib.pyplot as plt\n",
    "import numpy as np\n",
    "import os\n",
    "import matplotlib as mpl\n",
    "import pandas as pd\n",
    "import itertools"
   ]
  },
  {
   "cell_type": "code",
   "execution_count": 2,
   "metadata": {
    "collapsed": true
   },
   "outputs": [],
   "source": [
    "# to enlarge the sizes\n",
    "params = {'legend.fontsize': 'x-large',\n",
    "          'figure.figsize': (8, 8),\n",
    "         'axes.labelsize': 'x-large',\n",
    "         'axes.titlesize':'x-large',\n",
    "         'xtick.labelsize':'x-large',\n",
    "         'ytick.labelsize':'x-large'}\n",
    "plt.rcParams.update(params)\n"
   ]
  },
  {
   "cell_type": "markdown",
   "metadata": {},
   "source": [
    "## Output filename and desired wavelength"
   ]
  },
  {
   "cell_type": "code",
   "execution_count": 3,
   "metadata": {
    "collapsed": true
   },
   "outputs": [],
   "source": [
    "root_filename=\"Beam4_Rayfile_\""
   ]
  },
  {
   "cell_type": "code",
   "execution_count": 4,
   "metadata": {
    "collapsed": true
   },
   "outputs": [],
   "source": [
    "# number of rays\n",
    "NBEAM_X=11\n",
    "NBEAM_Y=11\n",
    "NBEAM=NBEAM_X*NBEAM_Y"
   ]
  },
  {
   "cell_type": "code",
   "execution_count": 5,
   "metadata": {
    "collapsed": true
   },
   "outputs": [],
   "source": [
    "Wavelength=0.4\n",
    "WL=int(1000.*Wavelength)"
   ]
  },
  {
   "cell_type": "code",
   "execution_count": 6,
   "metadata": {
    "collapsed": true
   },
   "outputs": [],
   "source": [
    "theta_x=1.  # angle in arcmin\n",
    "theta_y=1.  # angle in arcmin "
   ]
  },
  {
   "cell_type": "code",
   "execution_count": 7,
   "metadata": {
    "collapsed": true
   },
   "outputs": [],
   "source": [
    "theta_x_num=int(theta_x*10)\n",
    "theta_y_num=int(theta_y*10)"
   ]
  },
  {
   "cell_type": "code",
   "execution_count": 8,
   "metadata": {},
   "outputs": [],
   "source": [
    "Beam4_Rayfile=\"Beam4_Rayfile_{:d}_{:d}nm_{:d}_{:d}.xlsx\".format(NBEAM,WL,theta_x_num,theta_y_num)"
   ]
  },
  {
   "cell_type": "code",
   "execution_count": 9,
   "metadata": {},
   "outputs": [
    {
     "data": {
      "text/plain": [
       "'Beam4_Rayfile_121_400nm_10_10.xlsx'"
      ]
     },
     "execution_count": 9,
     "metadata": {},
     "output_type": "execute_result"
    }
   ],
   "source": [
    "Beam4_Rayfile"
   ]
  },
  {
   "cell_type": "markdown",
   "metadata": {},
   "source": [
    "## Constants for conversions"
   ]
  },
  {
   "cell_type": "code",
   "execution_count": 10,
   "metadata": {
    "collapsed": true
   },
   "outputs": [],
   "source": [
    "m_to_mm=1000.\n",
    "mm_to_m=1e-3\n",
    "inch_to_mm=25.4\n",
    "mm_to_inch=1./inch_to_mm\n",
    "micr_to_m=1e-6\n",
    "m_to_micr=1./micr_to_m\n",
    "m_to_cm=100.\n",
    "m_to_nm=1e9\n",
    "nm_to_m=1./m_to_nm"
   ]
  },
  {
   "cell_type": "code",
   "execution_count": 11,
   "metadata": {
    "collapsed": true
   },
   "outputs": [],
   "source": [
    "arcdeg_to_arcmin=60.\n",
    "arcmin_to_arcdeg=1./arcdeg_to_arcmin\n",
    "arcmin_to_arcsec=60.\n",
    "arcdeg_to_arcsec=arcdeg_to_arcmin*arcmin_to_arcsec\n",
    "arcsec_to_arcdeg=1./arcdeg_to_arcsec"
   ]
  },
  {
   "cell_type": "code",
   "execution_count": 12,
   "metadata": {},
   "outputs": [],
   "source": [
    "deg_to_rad=np.pi/180."
   ]
  },
  {
   "cell_type": "code",
   "execution_count": 13,
   "metadata": {
    "collapsed": true
   },
   "outputs": [],
   "source": [
    "rad_to_deg=1./deg_to_rad\n",
    "rad_to_arcsec=rad_to_deg*arcdeg_to_arcsec\n",
    "rad_to_arcmin=rad_to_deg*arcdeg_to_arcmin\n",
    "arcmin_ro_rad=1./rad_to_arcmin"
   ]
  },
  {
   "cell_type": "markdown",
   "metadata": {},
   "source": [
    "## Configuration parameters at the telescope\n",
    "--------------------------------------------------------"
   ]
  },
  {
   "cell_type": "markdown",
   "metadata": {},
   "source": [
    "#### Telescope"
   ]
  },
  {
   "cell_type": "code",
   "execution_count": 14,
   "metadata": {
    "collapsed": true
   },
   "outputs": [],
   "source": [
    "Tel_Focal_Length=12.6 # m : Focal length of the telescope\n",
    "Tel_Diameter=0.9 # m : Diameter of the telescope    "
   ]
  },
  {
   "cell_type": "code",
   "execution_count": 15,
   "metadata": {
    "collapsed": true
   },
   "outputs": [],
   "source": [
    "Tel_Fnum=Tel_Focal_Length/Tel_Diameter"
   ]
  },
  {
   "cell_type": "markdown",
   "metadata": {},
   "source": [
    "#### Filter"
   ]
  },
  {
   "cell_type": "code",
   "execution_count": 16,
   "metadata": {
    "collapsed": true
   },
   "outputs": [],
   "source": [
    "Filt_D=0.05769 # m distance of the filter position wrt CCD plane\n",
    "Filt_size=3*inch_to_mm"
   ]
  },
  {
   "cell_type": "code",
   "execution_count": 17,
   "metadata": {},
   "outputs": [
    {
     "data": {
      "text/plain": [
       "76.19999999999999"
      ]
     },
     "execution_count": 17,
     "metadata": {},
     "output_type": "execute_result"
    }
   ],
   "source": [
    "Filt_size"
   ]
  },
  {
   "cell_type": "markdown",
   "metadata": {},
   "source": [
    "#### CCD Detector"
   ]
  },
  {
   "cell_type": "code",
   "execution_count": 18,
   "metadata": {},
   "outputs": [],
   "source": [
    "Det_xpic=24.0 # microns per pixel\n",
    "Det_NbPix=2048 # number of pixels per CCD side\n",
    "Det_size=Det_xpic*Det_NbPix*1e-3 # CCD size in mm, 5 cm or 2 inches"
   ]
  },
  {
   "cell_type": "code",
   "execution_count": 19,
   "metadata": {},
   "outputs": [
    {
     "data": {
      "text/plain": [
       "49.152"
      ]
     },
     "execution_count": 19,
     "metadata": {},
     "output_type": "execute_result"
    }
   ],
   "source": [
    "Det_size"
   ]
  },
  {
   "cell_type": "code",
   "execution_count": 20,
   "metadata": {
    "collapsed": true
   },
   "outputs": [],
   "source": [
    "Det_pix_angl=Det_xpic*micr_to_m/Tel_Focal_Length   # in radian"
   ]
  },
  {
   "cell_type": "code",
   "execution_count": 21,
   "metadata": {},
   "outputs": [
    {
     "name": "stdout",
     "output_type": "stream",
     "text": [
      "pixel viewing angle in arcsec =  0.392885345233\n"
     ]
    }
   ],
   "source": [
    "print \"pixel viewing angle in arcsec = \", Det_pix_angl*rad_to_deg*arcdeg_to_arcsec"
   ]
  },
  {
   "cell_type": "markdown",
   "metadata": {},
   "source": [
    "## Location of the source in the field of view\n",
    "\n",
    "The Field of view of the delescope is 13.6 arcmin\n",
    "\n",
    "\n",
    "- ($\\theta_x, \\theta_y$) in arcmin to be specified\n",
    "- ($\\alpha_x, \\alpha_y$) in radian calculated "
   ]
  },
  {
   "cell_type": "code",
   "execution_count": 22,
   "metadata": {
    "collapsed": true
   },
   "outputs": [],
   "source": [
    "theta_max=13.6/2.\n",
    "theta_max=-13.6/2."
   ]
  },
  {
   "cell_type": "code",
   "execution_count": null,
   "metadata": {
    "collapsed": true
   },
   "outputs": [],
   "source": []
  },
  {
   "cell_type": "code",
   "execution_count": 23,
   "metadata": {
    "collapsed": true
   },
   "outputs": [],
   "source": [
    "alpha_x=theta_x*arcmin_ro_rad\n",
    "alpha_y=theta_y*arcmin_ro_rad"
   ]
  },
  {
   "cell_type": "markdown",
   "metadata": {},
   "source": [
    "## Where to start the tracking of rays\n",
    "\n",
    "- Units in mm\n",
    "- The origin is where the optical effective conveging system start at O(0,0,0)\n",
    "- (X0,Y0,Z0) : coordinates of Beam rays starting points"
   ]
  },
  {
   "cell_type": "code",
   "execution_count": 24,
   "metadata": {
    "collapsed": true
   },
   "outputs": [],
   "source": [
    "D0=Filt_D*m_to_mm  # distance between plane where the trcking beam start"
   ]
  },
  {
   "cell_type": "code",
   "execution_count": 25,
   "metadata": {},
   "outputs": [],
   "source": [
    "Z0=Tel_Focal_Length*m_to_mm"
   ]
  },
  {
   "cell_type": "code",
   "execution_count": 26,
   "metadata": {
    "collapsed": true
   },
   "outputs": [],
   "source": [
    "Z1=Z0-2.*D0  # please set where you want to start the beam"
   ]
  },
  {
   "cell_type": "code",
   "execution_count": 27,
   "metadata": {},
   "outputs": [],
   "source": [
    "XMIN=-Tel_Diameter*m_to_mm/(2.*np.sqrt(2.))\n",
    "XMAX=Tel_Diameter*m_to_mm/(2.*np.sqrt(2.))"
   ]
  },
  {
   "cell_type": "code",
   "execution_count": 28,
   "metadata": {
    "collapsed": true
   },
   "outputs": [],
   "source": [
    "YMIN=-Tel_Diameter*m_to_mm/(2.*np.sqrt(2.))\n",
    "YMAX=Tel_Diameter*m_to_mm/(2.*np.sqrt(2.))"
   ]
  },
  {
   "cell_type": "markdown",
   "metadata": {},
   "source": [
    "# Number of points"
   ]
  },
  {
   "cell_type": "code",
   "execution_count": null,
   "metadata": {
    "collapsed": true
   },
   "outputs": [],
   "source": []
  },
  {
   "cell_type": "code",
   "execution_count": null,
   "metadata": {},
   "outputs": [],
   "source": []
  },
  {
   "cell_type": "code",
   "execution_count": 29,
   "metadata": {},
   "outputs": [],
   "source": [
    "X = np.linspace(XMIN, XMAX, NBEAM_X)\n",
    "Y = np.linspace(YMIN, YMAX, NBEAM_Y)\n",
    "XX, YY = np.meshgrid(X, Y)"
   ]
  },
  {
   "cell_type": "code",
   "execution_count": 30,
   "metadata": {},
   "outputs": [],
   "source": [
    "pts = itertools.product(X, Y)"
   ]
  },
  {
   "cell_type": "code",
   "execution_count": 31,
   "metadata": {},
   "outputs": [
    {
     "data": {
      "text/plain": [
       "<matplotlib.collections.PathCollection at 0x119c13ad0>"
      ]
     },
     "execution_count": 31,
     "metadata": {},
     "output_type": "execute_result"
    },
    {
     "data": {
      "image/png": "[encoded data removed]",
      "text/plain": [
       "<matplotlib.figure.Figure at 0x119b54990>"
      ]
     },
     "metadata": {},
     "output_type": "display_data"
    }
   ],
   "source": [
    "plt.grid()\n",
    "plt.scatter(*zip(*pts), marker='o', s=30, color='red')"
   ]
  },
  {
   "cell_type": "code",
   "execution_count": 32,
   "metadata": {},
   "outputs": [
    {
     "data": {
      "text/plain": [
       "<matplotlib.text.Text at 0x11be52310>"
      ]
     },
     "execution_count": 32,
     "metadata": {},
     "output_type": "execute_result"
    },
    {
     "data": {
      "image/png": "[encoded data removed]",
      "text/plain": [
       "<matplotlib.figure.Figure at 0x11bde5510>"
      ]
     },
     "metadata": {},
     "output_type": "display_data"
    }
   ],
   "source": [
    "plt.scatter(XX,YY, marker='o', s=30, color='red')\n",
    "#plt.ylim(YMIN,YMAX)\n",
    "#plt.xlim(XMIN,XMAX)\n",
    "plt.grid()\n",
    "plt.xlabel(\"X\")\n",
    "plt.ylabel(\"Y\")\n",
    "plt.title(\"Impact points at telescope aperture\")"
   ]
  },
  {
   "cell_type": "code",
   "execution_count": 33,
   "metadata": {
    "collapsed": true
   },
   "outputs": [],
   "source": [
    "def GetCosinusDirector(X,Y,thealpha_x,thealpha_y,f):\n",
    "    \"\"\"\n",
    "    The size of X,Y is the number of Rays\n",
    "    \"\"\"\n",
    "    \n",
    "    \n",
    "    Norm=np.sqrt( np.power(X+f*np.tan(thealpha_x),2) + np.power(Y+f*np.tan(thealpha_y),2)+ f**2)\n",
    "    UX=-(X+f*np.tan(thealpha_x))/Norm\n",
    "    UY=-(Y+f*np.tan(thealpha_y))/Norm\n",
    "    UZ=f/Norm\n",
    "    return UX,UY,UZ    \n",
    "    "
   ]
  },
  {
   "cell_type": "code",
   "execution_count": 34,
   "metadata": {},
   "outputs": [],
   "source": [
    "UX,UY,UZ=GetCosinusDirector(XX,YY,alpha_x,alpha_y,Z0)"
   ]
  },
  {
   "cell_type": "code",
   "execution_count": 35,
   "metadata": {},
   "outputs": [
    {
     "data": {
      "text/plain": [
       "<matplotlib.text.Text at 0x11bf31490>"
      ]
     },
     "execution_count": 35,
     "metadata": {},
     "output_type": "execute_result"
    },
    {
     "data": {
      "image/png": "[encoded data removed]",
      "text/plain": [
       "<matplotlib.figure.Figure at 0x119b54690>"
      ]
     },
     "metadata": {},
     "output_type": "display_data"
    }
   ],
   "source": [
    "\n",
    "plt.grid()\n",
    "q = plt.quiver(XX,YY,UX,UY,angles='xy',scale=0.5,color='r')\n",
    "plt.scatter(XX,YY, marker='o', s=10, color='black')\n",
    "plt.xlabel(\"X\")\n",
    "plt.ylabel(\"Y\")\n",
    "plt.title(\"Vector field\")"
   ]
  },
  {
   "cell_type": "code",
   "execution_count": 36,
   "metadata": {
    "collapsed": true
   },
   "outputs": [],
   "source": [
    "def GetStartingPoint(X,Y,thealpha_x,the_alpha_y,f,Z0):\n",
    "    theX0=(1-Z0/f)*X-Z0*np.tan(alpha_x)\n",
    "    theY0=(1-Z0/f)*Y-Z0*np.tan(alpha_y)\n",
    "    return theX0,theY0\n",
    "    "
   ]
  },
  {
   "cell_type": "code",
   "execution_count": 37,
   "metadata": {},
   "outputs": [],
   "source": [
    "(X0,Y0)=GetStartingPoint(XX,YY,alpha_x,alpha_y,Z0,Z1)"
   ]
  },
  {
   "cell_type": "code",
   "execution_count": 38,
   "metadata": {},
   "outputs": [
    {
     "data": {
      "text/plain": [
       "<matplotlib.text.Text at 0x11c113610>"
      ]
     },
     "execution_count": 38,
     "metadata": {},
     "output_type": "execute_result"
    },
    {
     "data": {
      "image/png": "[encoded data removed]",
      "text/plain": [
       "<matplotlib.figure.Figure at 0x11c0cda50>"
      ]
     },
     "metadata": {},
     "output_type": "display_data"
    }
   ],
   "source": [
    "plt.scatter(X0,Y0, marker='o', s=20, color='red')\n",
    "plt.grid()\n",
    "#plt.ylim(YMIN,YMAX)\n",
    "#plt.xlim(XMIN,XMAX)\n",
    "\n",
    "#plt.xlim(-Filt_size/2, Filt_size/2)\n",
    "#plt.ylim(-Filt_size/2, Filt_size/2)\n",
    "\n",
    "plt.xlabel(\"X\")\n",
    "plt.ylabel(\"Y\")\n",
    "plt.title(\"Impact point at selected entrance of Ray tracer\")"
   ]
  },
  {
   "cell_type": "markdown",
   "metadata": {},
   "source": [
    "## Create Dataframe"
   ]
  },
  {
   "cell_type": "code",
   "execution_count": 39,
   "metadata": {
    "collapsed": true
   },
   "outputs": [],
   "source": [
    "df = pd.DataFrame()"
   ]
  },
  {
   "cell_type": "code",
   "execution_count": 40,
   "metadata": {
    "collapsed": true
   },
   "outputs": [],
   "source": [
    "Xout=X0.flatten()\n",
    "Yout=Y0.flatten()"
   ]
  },
  {
   "cell_type": "code",
   "execution_count": 41,
   "metadata": {
    "collapsed": true
   },
   "outputs": [],
   "source": [
    "Uout=UX.flatten()\n",
    "Vout=UY.flatten()\n",
    "Wout=UZ.flatten()"
   ]
  },
  {
   "cell_type": "code",
   "execution_count": 42,
   "metadata": {
    "collapsed": true
   },
   "outputs": [],
   "source": [
    "Zout=np.zeros(NBEAM)"
   ]
  },
  {
   "cell_type": "code",
   "execution_count": 43,
   "metadata": {},
   "outputs": [],
   "source": [
    "Wave=Wavelength*np.ones(NBEAM)"
   ]
  },
  {
   "cell_type": "code",
   "execution_count": 44,
   "metadata": {},
   "outputs": [],
   "source": [
    "df[\"X0\"]=Xout\n",
    "df[\"Y0\"]=Yout\n",
    "df[\"Z0\"]=Zout\n",
    "df[\"U0\"]=Uout\n",
    "df[\"V0\"]=Vout\n",
    "df[\"W0\"]=Wout\n",
    "df[\"wave\"]=Wave"
   ]
  },
  {
   "cell_type": "code",
   "execution_count": 45,
   "metadata": {},
   "outputs": [
    {
     "data": {
      "text/html": [
       "<div>\n",
       "<table border=\"1\" class=\"dataframe\">\n",
       "  <thead>\n",
       "    <tr style=\"text-align: right;\">\n",
       "      <th></th>\n",
       "      <th>X0</th>\n",
       "      <th>Y0</th>\n",
       "      <th>Z0</th>\n",
       "      <th>U0</th>\n",
       "      <th>V0</th>\n",
       "      <th>W0</th>\n",
       "      <th>wave</th>\n",
       "    </tr>\n",
       "  </thead>\n",
       "  <tbody>\n",
       "    <tr>\n",
       "      <th>0</th>\n",
       "      <td>-6.545414</td>\n",
       "      <td>-6.545414</td>\n",
       "      <td>0.0</td>\n",
       "      <td>0.024947</td>\n",
       "      <td>0.024947</td>\n",
       "      <td>0.999377</td>\n",
       "      <td>0.0004</td>\n",
       "    </tr>\n",
       "    <tr>\n",
       "      <th>1</th>\n",
       "      <td>-5.962657</td>\n",
       "      <td>-6.545414</td>\n",
       "      <td>0.0</td>\n",
       "      <td>0.019902</td>\n",
       "      <td>0.024950</td>\n",
       "      <td>0.999491</td>\n",
       "      <td>0.0004</td>\n",
       "    </tr>\n",
       "    <tr>\n",
       "      <th>2</th>\n",
       "      <td>-5.379900</td>\n",
       "      <td>-6.545414</td>\n",
       "      <td>0.0</td>\n",
       "      <td>0.014855</td>\n",
       "      <td>0.024952</td>\n",
       "      <td>0.999578</td>\n",
       "      <td>0.0004</td>\n",
       "    </tr>\n",
       "    <tr>\n",
       "      <th>3</th>\n",
       "      <td>-4.797143</td>\n",
       "      <td>-6.545414</td>\n",
       "      <td>0.0</td>\n",
       "      <td>0.009807</td>\n",
       "      <td>0.024954</td>\n",
       "      <td>0.999640</td>\n",
       "      <td>0.0004</td>\n",
       "    </tr>\n",
       "    <tr>\n",
       "      <th>4</th>\n",
       "      <td>-4.214386</td>\n",
       "      <td>-6.545414</td>\n",
       "      <td>0.0</td>\n",
       "      <td>0.004758</td>\n",
       "      <td>0.024955</td>\n",
       "      <td>0.999677</td>\n",
       "      <td>0.0004</td>\n",
       "    </tr>\n",
       "    <tr>\n",
       "      <th>5</th>\n",
       "      <td>-3.631629</td>\n",
       "      <td>-6.545414</td>\n",
       "      <td>0.0</td>\n",
       "      <td>-0.000291</td>\n",
       "      <td>0.024955</td>\n",
       "      <td>0.999689</td>\n",
       "      <td>0.0004</td>\n",
       "    </tr>\n",
       "    <tr>\n",
       "      <th>6</th>\n",
       "      <td>-3.048872</td>\n",
       "      <td>-6.545414</td>\n",
       "      <td>0.0</td>\n",
       "      <td>-0.005340</td>\n",
       "      <td>0.024955</td>\n",
       "      <td>0.999674</td>\n",
       "      <td>0.0004</td>\n",
       "    </tr>\n",
       "    <tr>\n",
       "      <th>7</th>\n",
       "      <td>-2.466115</td>\n",
       "      <td>-6.545414</td>\n",
       "      <td>0.0</td>\n",
       "      <td>-0.010389</td>\n",
       "      <td>0.024954</td>\n",
       "      <td>0.999635</td>\n",
       "      <td>0.0004</td>\n",
       "    </tr>\n",
       "    <tr>\n",
       "      <th>8</th>\n",
       "      <td>-1.883358</td>\n",
       "      <td>-6.545414</td>\n",
       "      <td>0.0</td>\n",
       "      <td>-0.015437</td>\n",
       "      <td>0.024952</td>\n",
       "      <td>0.999569</td>\n",
       "      <td>0.0004</td>\n",
       "    </tr>\n",
       "    <tr>\n",
       "      <th>9</th>\n",
       "      <td>-1.300601</td>\n",
       "      <td>-6.545414</td>\n",
       "      <td>0.0</td>\n",
       "      <td>-0.020483</td>\n",
       "      <td>0.024950</td>\n",
       "      <td>0.999479</td>\n",
       "      <td>0.0004</td>\n",
       "    </tr>\n",
       "    <tr>\n",
       "      <th>10</th>\n",
       "      <td>-0.717844</td>\n",
       "      <td>-6.545414</td>\n",
       "      <td>0.0</td>\n",
       "      <td>-0.025528</td>\n",
       "      <td>0.024947</td>\n",
       "      <td>0.999363</td>\n",
       "      <td>0.0004</td>\n",
       "    </tr>\n",
       "    <tr>\n",
       "      <th>11</th>\n",
       "      <td>-6.545414</td>\n",
       "      <td>-5.962657</td>\n",
       "      <td>0.0</td>\n",
       "      <td>0.024950</td>\n",
       "      <td>0.019902</td>\n",
       "      <td>0.999491</td>\n",
       "      <td>0.0004</td>\n",
       "    </tr>\n",
       "    <tr>\n",
       "      <th>12</th>\n",
       "      <td>-5.962657</td>\n",
       "      <td>-5.962657</td>\n",
       "      <td>0.0</td>\n",
       "      <td>0.019904</td>\n",
       "      <td>0.019904</td>\n",
       "      <td>0.999604</td>\n",
       "      <td>0.0004</td>\n",
       "    </tr>\n",
       "    <tr>\n",
       "      <th>13</th>\n",
       "      <td>-5.379900</td>\n",
       "      <td>-5.962657</td>\n",
       "      <td>0.0</td>\n",
       "      <td>0.014857</td>\n",
       "      <td>0.019906</td>\n",
       "      <td>0.999691</td>\n",
       "      <td>0.0004</td>\n",
       "    </tr>\n",
       "    <tr>\n",
       "      <th>14</th>\n",
       "      <td>-4.797143</td>\n",
       "      <td>-5.962657</td>\n",
       "      <td>0.0</td>\n",
       "      <td>0.009808</td>\n",
       "      <td>0.019907</td>\n",
       "      <td>0.999754</td>\n",
       "      <td>0.0004</td>\n",
       "    </tr>\n",
       "    <tr>\n",
       "      <th>15</th>\n",
       "      <td>-4.214386</td>\n",
       "      <td>-5.962657</td>\n",
       "      <td>0.0</td>\n",
       "      <td>0.004759</td>\n",
       "      <td>0.019908</td>\n",
       "      <td>0.999790</td>\n",
       "      <td>0.0004</td>\n",
       "    </tr>\n",
       "    <tr>\n",
       "      <th>16</th>\n",
       "      <td>-3.631629</td>\n",
       "      <td>-5.962657</td>\n",
       "      <td>0.0</td>\n",
       "      <td>-0.000291</td>\n",
       "      <td>0.019908</td>\n",
       "      <td>0.999802</td>\n",
       "      <td>0.0004</td>\n",
       "    </tr>\n",
       "    <tr>\n",
       "      <th>17</th>\n",
       "      <td>-3.048872</td>\n",
       "      <td>-5.962657</td>\n",
       "      <td>0.0</td>\n",
       "      <td>-0.005341</td>\n",
       "      <td>0.019908</td>\n",
       "      <td>0.999788</td>\n",
       "      <td>0.0004</td>\n",
       "    </tr>\n",
       "    <tr>\n",
       "      <th>18</th>\n",
       "      <td>-2.466115</td>\n",
       "      <td>-5.962657</td>\n",
       "      <td>0.0</td>\n",
       "      <td>-0.010390</td>\n",
       "      <td>0.019907</td>\n",
       "      <td>0.999748</td>\n",
       "      <td>0.0004</td>\n",
       "    </tr>\n",
       "    <tr>\n",
       "      <th>19</th>\n",
       "      <td>-1.883358</td>\n",
       "      <td>-5.962657</td>\n",
       "      <td>0.0</td>\n",
       "      <td>-0.015438</td>\n",
       "      <td>0.019906</td>\n",
       "      <td>0.999683</td>\n",
       "      <td>0.0004</td>\n",
       "    </tr>\n",
       "    <tr>\n",
       "      <th>20</th>\n",
       "      <td>-1.300601</td>\n",
       "      <td>-5.962657</td>\n",
       "      <td>0.0</td>\n",
       "      <td>-0.020486</td>\n",
       "      <td>0.019904</td>\n",
       "      <td>0.999592</td>\n",
       "      <td>0.0004</td>\n",
       "    </tr>\n",
       "    <tr>\n",
       "      <th>21</th>\n",
       "      <td>-0.717844</td>\n",
       "      <td>-5.962657</td>\n",
       "      <td>0.0</td>\n",
       "      <td>-0.025531</td>\n",
       "      <td>0.019902</td>\n",
       "      <td>0.999476</td>\n",
       "      <td>0.0004</td>\n",
       "    </tr>\n",
       "    <tr>\n",
       "      <th>22</th>\n",
       "      <td>-6.545414</td>\n",
       "      <td>-5.379900</td>\n",
       "      <td>0.0</td>\n",
       "      <td>0.024952</td>\n",
       "      <td>0.014855</td>\n",
       "      <td>0.999578</td>\n",
       "      <td>0.0004</td>\n",
       "    </tr>\n",
       "    <tr>\n",
       "      <th>23</th>\n",
       "      <td>-5.962657</td>\n",
       "      <td>-5.379900</td>\n",
       "      <td>0.0</td>\n",
       "      <td>0.019906</td>\n",
       "      <td>0.014857</td>\n",
       "      <td>0.999691</td>\n",
       "      <td>0.0004</td>\n",
       "    </tr>\n",
       "    <tr>\n",
       "      <th>24</th>\n",
       "      <td>-5.379900</td>\n",
       "      <td>-5.379900</td>\n",
       "      <td>0.0</td>\n",
       "      <td>0.014858</td>\n",
       "      <td>0.014858</td>\n",
       "      <td>0.999779</td>\n",
       "      <td>0.0004</td>\n",
       "    </tr>\n",
       "    <tr>\n",
       "      <th>25</th>\n",
       "      <td>-4.797143</td>\n",
       "      <td>-5.379900</td>\n",
       "      <td>0.0</td>\n",
       "      <td>0.009809</td>\n",
       "      <td>0.014859</td>\n",
       "      <td>0.999841</td>\n",
       "      <td>0.0004</td>\n",
       "    </tr>\n",
       "    <tr>\n",
       "      <th>26</th>\n",
       "      <td>-4.214386</td>\n",
       "      <td>-5.379900</td>\n",
       "      <td>0.0</td>\n",
       "      <td>0.004759</td>\n",
       "      <td>0.014860</td>\n",
       "      <td>0.999878</td>\n",
       "      <td>0.0004</td>\n",
       "    </tr>\n",
       "    <tr>\n",
       "      <th>27</th>\n",
       "      <td>-3.631629</td>\n",
       "      <td>-5.379900</td>\n",
       "      <td>0.0</td>\n",
       "      <td>-0.000291</td>\n",
       "      <td>0.014860</td>\n",
       "      <td>0.999890</td>\n",
       "      <td>0.0004</td>\n",
       "    </tr>\n",
       "    <tr>\n",
       "      <th>28</th>\n",
       "      <td>-3.048872</td>\n",
       "      <td>-5.379900</td>\n",
       "      <td>0.0</td>\n",
       "      <td>-0.005341</td>\n",
       "      <td>0.014860</td>\n",
       "      <td>0.999875</td>\n",
       "      <td>0.0004</td>\n",
       "    </tr>\n",
       "    <tr>\n",
       "      <th>29</th>\n",
       "      <td>-2.466115</td>\n",
       "      <td>-5.379900</td>\n",
       "      <td>0.0</td>\n",
       "      <td>-0.010391</td>\n",
       "      <td>0.014859</td>\n",
       "      <td>0.999836</td>\n",
       "      <td>0.0004</td>\n",
       "    </tr>\n",
       "    <tr>\n",
       "      <th>...</th>\n",
       "      <td>...</td>\n",
       "      <td>...</td>\n",
       "      <td>...</td>\n",
       "      <td>...</td>\n",
       "      <td>...</td>\n",
       "      <td>...</td>\n",
       "      <td>...</td>\n",
       "    </tr>\n",
       "    <tr>\n",
       "      <th>91</th>\n",
       "      <td>-4.797143</td>\n",
       "      <td>-1.883358</td>\n",
       "      <td>0.0</td>\n",
       "      <td>0.009809</td>\n",
       "      <td>-0.015441</td>\n",
       "      <td>0.999833</td>\n",
       "      <td>0.0004</td>\n",
       "    </tr>\n",
       "    <tr>\n",
       "      <th>92</th>\n",
       "      <td>-4.214386</td>\n",
       "      <td>-1.883358</td>\n",
       "      <td>0.0</td>\n",
       "      <td>0.004759</td>\n",
       "      <td>-0.015441</td>\n",
       "      <td>0.999869</td>\n",
       "      <td>0.0004</td>\n",
       "    </tr>\n",
       "    <tr>\n",
       "      <th>93</th>\n",
       "      <td>-3.631629</td>\n",
       "      <td>-1.883358</td>\n",
       "      <td>0.0</td>\n",
       "      <td>-0.000291</td>\n",
       "      <td>-0.015441</td>\n",
       "      <td>0.999881</td>\n",
       "      <td>0.0004</td>\n",
       "    </tr>\n",
       "    <tr>\n",
       "      <th>94</th>\n",
       "      <td>-3.048872</td>\n",
       "      <td>-1.883358</td>\n",
       "      <td>0.0</td>\n",
       "      <td>-0.005341</td>\n",
       "      <td>-0.015441</td>\n",
       "      <td>0.999867</td>\n",
       "      <td>0.0004</td>\n",
       "    </tr>\n",
       "    <tr>\n",
       "      <th>95</th>\n",
       "      <td>-2.466115</td>\n",
       "      <td>-1.883358</td>\n",
       "      <td>0.0</td>\n",
       "      <td>-0.010391</td>\n",
       "      <td>-0.015441</td>\n",
       "      <td>0.999827</td>\n",
       "      <td>0.0004</td>\n",
       "    </tr>\n",
       "    <tr>\n",
       "      <th>96</th>\n",
       "      <td>-1.883358</td>\n",
       "      <td>-1.883358</td>\n",
       "      <td>0.0</td>\n",
       "      <td>-0.015439</td>\n",
       "      <td>-0.015439</td>\n",
       "      <td>0.999762</td>\n",
       "      <td>0.0004</td>\n",
       "    </tr>\n",
       "    <tr>\n",
       "      <th>97</th>\n",
       "      <td>-1.300601</td>\n",
       "      <td>-1.883358</td>\n",
       "      <td>0.0</td>\n",
       "      <td>-0.020487</td>\n",
       "      <td>-0.015438</td>\n",
       "      <td>0.999671</td>\n",
       "      <td>0.0004</td>\n",
       "    </tr>\n",
       "    <tr>\n",
       "      <th>98</th>\n",
       "      <td>-0.717844</td>\n",
       "      <td>-1.883358</td>\n",
       "      <td>0.0</td>\n",
       "      <td>-0.025533</td>\n",
       "      <td>-0.015436</td>\n",
       "      <td>0.999555</td>\n",
       "      <td>0.0004</td>\n",
       "    </tr>\n",
       "    <tr>\n",
       "      <th>99</th>\n",
       "      <td>-6.545414</td>\n",
       "      <td>-1.300601</td>\n",
       "      <td>0.0</td>\n",
       "      <td>0.024950</td>\n",
       "      <td>-0.020483</td>\n",
       "      <td>0.999479</td>\n",
       "      <td>0.0004</td>\n",
       "    </tr>\n",
       "    <tr>\n",
       "      <th>100</th>\n",
       "      <td>-5.962657</td>\n",
       "      <td>-1.300601</td>\n",
       "      <td>0.0</td>\n",
       "      <td>0.019904</td>\n",
       "      <td>-0.020486</td>\n",
       "      <td>0.999592</td>\n",
       "      <td>0.0004</td>\n",
       "    </tr>\n",
       "    <tr>\n",
       "      <th>101</th>\n",
       "      <td>-5.379900</td>\n",
       "      <td>-1.300601</td>\n",
       "      <td>0.0</td>\n",
       "      <td>0.014857</td>\n",
       "      <td>-0.020487</td>\n",
       "      <td>0.999680</td>\n",
       "      <td>0.0004</td>\n",
       "    </tr>\n",
       "    <tr>\n",
       "      <th>102</th>\n",
       "      <td>-4.797143</td>\n",
       "      <td>-1.300601</td>\n",
       "      <td>0.0</td>\n",
       "      <td>0.009808</td>\n",
       "      <td>-0.020489</td>\n",
       "      <td>0.999742</td>\n",
       "      <td>0.0004</td>\n",
       "    </tr>\n",
       "    <tr>\n",
       "      <th>103</th>\n",
       "      <td>-4.214386</td>\n",
       "      <td>-1.300601</td>\n",
       "      <td>0.0</td>\n",
       "      <td>0.004759</td>\n",
       "      <td>-0.020489</td>\n",
       "      <td>0.999779</td>\n",
       "      <td>0.0004</td>\n",
       "    </tr>\n",
       "    <tr>\n",
       "      <th>104</th>\n",
       "      <td>-3.631629</td>\n",
       "      <td>-1.300601</td>\n",
       "      <td>0.0</td>\n",
       "      <td>-0.000291</td>\n",
       "      <td>-0.020490</td>\n",
       "      <td>0.999790</td>\n",
       "      <td>0.0004</td>\n",
       "    </tr>\n",
       "    <tr>\n",
       "      <th>105</th>\n",
       "      <td>-3.048872</td>\n",
       "      <td>-1.300601</td>\n",
       "      <td>0.0</td>\n",
       "      <td>-0.005340</td>\n",
       "      <td>-0.020489</td>\n",
       "      <td>0.999776</td>\n",
       "      <td>0.0004</td>\n",
       "    </tr>\n",
       "    <tr>\n",
       "      <th>106</th>\n",
       "      <td>-2.466115</td>\n",
       "      <td>-1.300601</td>\n",
       "      <td>0.0</td>\n",
       "      <td>-0.010390</td>\n",
       "      <td>-0.020489</td>\n",
       "      <td>0.999736</td>\n",
       "      <td>0.0004</td>\n",
       "    </tr>\n",
       "    <tr>\n",
       "      <th>107</th>\n",
       "      <td>-1.883358</td>\n",
       "      <td>-1.300601</td>\n",
       "      <td>0.0</td>\n",
       "      <td>-0.015438</td>\n",
       "      <td>-0.020487</td>\n",
       "      <td>0.999671</td>\n",
       "      <td>0.0004</td>\n",
       "    </tr>\n",
       "    <tr>\n",
       "      <th>108</th>\n",
       "      <td>-1.300601</td>\n",
       "      <td>-1.300601</td>\n",
       "      <td>0.0</td>\n",
       "      <td>-0.020485</td>\n",
       "      <td>-0.020485</td>\n",
       "      <td>0.999580</td>\n",
       "      <td>0.0004</td>\n",
       "    </tr>\n",
       "    <tr>\n",
       "      <th>109</th>\n",
       "      <td>-0.717844</td>\n",
       "      <td>-1.300601</td>\n",
       "      <td>0.0</td>\n",
       "      <td>-0.025531</td>\n",
       "      <td>-0.020483</td>\n",
       "      <td>0.999464</td>\n",
       "      <td>0.0004</td>\n",
       "    </tr>\n",
       "    <tr>\n",
       "      <th>110</th>\n",
       "      <td>-6.545414</td>\n",
       "      <td>-0.717844</td>\n",
       "      <td>0.0</td>\n",
       "      <td>0.024947</td>\n",
       "      <td>-0.025528</td>\n",
       "      <td>0.999363</td>\n",
       "      <td>0.0004</td>\n",
       "    </tr>\n",
       "    <tr>\n",
       "      <th>111</th>\n",
       "      <td>-5.962657</td>\n",
       "      <td>-0.717844</td>\n",
       "      <td>0.0</td>\n",
       "      <td>0.019902</td>\n",
       "      <td>-0.025531</td>\n",
       "      <td>0.999476</td>\n",
       "      <td>0.0004</td>\n",
       "    </tr>\n",
       "    <tr>\n",
       "      <th>112</th>\n",
       "      <td>-5.379900</td>\n",
       "      <td>-0.717844</td>\n",
       "      <td>0.0</td>\n",
       "      <td>0.014855</td>\n",
       "      <td>-0.025534</td>\n",
       "      <td>0.999564</td>\n",
       "      <td>0.0004</td>\n",
       "    </tr>\n",
       "    <tr>\n",
       "      <th>113</th>\n",
       "      <td>-4.797143</td>\n",
       "      <td>-0.717844</td>\n",
       "      <td>0.0</td>\n",
       "      <td>0.009807</td>\n",
       "      <td>-0.025535</td>\n",
       "      <td>0.999626</td>\n",
       "      <td>0.0004</td>\n",
       "    </tr>\n",
       "    <tr>\n",
       "      <th>114</th>\n",
       "      <td>-4.214386</td>\n",
       "      <td>-0.717844</td>\n",
       "      <td>0.0</td>\n",
       "      <td>0.004758</td>\n",
       "      <td>-0.025536</td>\n",
       "      <td>0.999663</td>\n",
       "      <td>0.0004</td>\n",
       "    </tr>\n",
       "    <tr>\n",
       "      <th>115</th>\n",
       "      <td>-3.631629</td>\n",
       "      <td>-0.717844</td>\n",
       "      <td>0.0</td>\n",
       "      <td>-0.000291</td>\n",
       "      <td>-0.025536</td>\n",
       "      <td>0.999674</td>\n",
       "      <td>0.0004</td>\n",
       "    </tr>\n",
       "    <tr>\n",
       "      <th>116</th>\n",
       "      <td>-3.048872</td>\n",
       "      <td>-0.717844</td>\n",
       "      <td>0.0</td>\n",
       "      <td>-0.005340</td>\n",
       "      <td>-0.025536</td>\n",
       "      <td>0.999660</td>\n",
       "      <td>0.0004</td>\n",
       "    </tr>\n",
       "    <tr>\n",
       "      <th>117</th>\n",
       "      <td>-2.466115</td>\n",
       "      <td>-0.717844</td>\n",
       "      <td>0.0</td>\n",
       "      <td>-0.010388</td>\n",
       "      <td>-0.025535</td>\n",
       "      <td>0.999620</td>\n",
       "      <td>0.0004</td>\n",
       "    </tr>\n",
       "    <tr>\n",
       "      <th>118</th>\n",
       "      <td>-1.883358</td>\n",
       "      <td>-0.717844</td>\n",
       "      <td>0.0</td>\n",
       "      <td>-0.015436</td>\n",
       "      <td>-0.025533</td>\n",
       "      <td>0.999555</td>\n",
       "      <td>0.0004</td>\n",
       "    </tr>\n",
       "    <tr>\n",
       "      <th>119</th>\n",
       "      <td>-1.300601</td>\n",
       "      <td>-0.717844</td>\n",
       "      <td>0.0</td>\n",
       "      <td>-0.020483</td>\n",
       "      <td>-0.025531</td>\n",
       "      <td>0.999464</td>\n",
       "      <td>0.0004</td>\n",
       "    </tr>\n",
       "    <tr>\n",
       "      <th>120</th>\n",
       "      <td>-0.717844</td>\n",
       "      <td>-0.717844</td>\n",
       "      <td>0.0</td>\n",
       "      <td>-0.025528</td>\n",
       "      <td>-0.025528</td>\n",
       "      <td>0.999348</td>\n",
       "      <td>0.0004</td>\n",
       "    </tr>\n",
       "  </tbody>\n",
       "</table>\n",
       "<p>121 rows × 7 columns</p>\n",
       "</div>"
      ],
      "text/plain": [
       "           X0        Y0   Z0        U0        V0        W0    wave\n",
       "0   -6.545414 -6.545414  0.0  0.024947  0.024947  0.999377  0.0004\n",
       "1   -5.962657 -6.545414  0.0  0.019902  0.024950  0.999491  0.0004\n",
       "2   -5.379900 -6.545414  0.0  0.014855  0.024952  0.999578  0.0004\n",
       "3   -4.797143 -6.545414  0.0  0.009807  0.024954  0.999640  0.0004\n",
       "4   -4.214386 -6.545414  0.0  0.004758  0.024955  0.999677  0.0004\n",
       "5   -3.631629 -6.545414  0.0 -0.000291  0.024955  0.999689  0.0004\n",
       "6   -3.048872 -6.545414  0.0 -0.005340  0.024955  0.999674  0.0004\n",
       "7   -2.466115 -6.545414  0.0 -0.010389  0.024954  0.999635  0.0004\n",
       "8   -1.883358 -6.545414  0.0 -0.015437  0.024952  0.999569  0.0004\n",
       "9   -1.300601 -6.545414  0.0 -0.020483  0.024950  0.999479  0.0004\n",
       "10  -0.717844 -6.545414  0.0 -0.025528  0.024947  0.999363  0.0004\n",
       "11  -6.545414 -5.962657  0.0  0.024950  0.019902  0.999491  0.0004\n",
       "12  -5.962657 -5.962657  0.0  0.019904  0.019904  0.999604  0.0004\n",
       "13  -5.379900 -5.962657  0.0  0.014857  0.019906  0.999691  0.0004\n",
       "14  -4.797143 -5.962657  0.0  0.009808  0.019907  0.999754  0.0004\n",
       "15  -4.214386 -5.962657  0.0  0.004759  0.019908  0.999790  0.0004\n",
       "16  -3.631629 -5.962657  0.0 -0.000291  0.019908  0.999802  0.0004\n",
       "17  -3.048872 -5.962657  0.0 -0.005341  0.019908  0.999788  0.0004\n",
       "18  -2.466115 -5.962657  0.0 -0.010390  0.019907  0.999748  0.0004\n",
       "19  -1.883358 -5.962657  0.0 -0.015438  0.019906  0.999683  0.0004\n",
       "20  -1.300601 -5.962657  0.0 -0.020486  0.019904  0.999592  0.0004\n",
       "21  -0.717844 -5.962657  0.0 -0.025531  0.019902  0.999476  0.0004\n",
       "22  -6.545414 -5.379900  0.0  0.024952  0.014855  0.999578  0.0004\n",
       "23  -5.962657 -5.379900  0.0  0.019906  0.014857  0.999691  0.0004\n",
       "24  -5.379900 -5.379900  0.0  0.014858  0.014858  0.999779  0.0004\n",
       "25  -4.797143 -5.379900  0.0  0.009809  0.014859  0.999841  0.0004\n",
       "26  -4.214386 -5.379900  0.0  0.004759  0.014860  0.999878  0.0004\n",
       "27  -3.631629 -5.379900  0.0 -0.000291  0.014860  0.999890  0.0004\n",
       "28  -3.048872 -5.379900  0.0 -0.005341  0.014860  0.999875  0.0004\n",
       "29  -2.466115 -5.379900  0.0 -0.010391  0.014859  0.999836  0.0004\n",
       "..        ...       ...  ...       ...       ...       ...     ...\n",
       "91  -4.797143 -1.883358  0.0  0.009809 -0.015441  0.999833  0.0004\n",
       "92  -4.214386 -1.883358  0.0  0.004759 -0.015441  0.999869  0.0004\n",
       "93  -3.631629 -1.883358  0.0 -0.000291 -0.015441  0.999881  0.0004\n",
       "94  -3.048872 -1.883358  0.0 -0.005341 -0.015441  0.999867  0.0004\n",
       "95  -2.466115 -1.883358  0.0 -0.010391 -0.015441  0.999827  0.0004\n",
       "96  -1.883358 -1.883358  0.0 -0.015439 -0.015439  0.999762  0.0004\n",
       "97  -1.300601 -1.883358  0.0 -0.020487 -0.015438  0.999671  0.0004\n",
       "98  -0.717844 -1.883358  0.0 -0.025533 -0.015436  0.999555  0.0004\n",
       "99  -6.545414 -1.300601  0.0  0.024950 -0.020483  0.999479  0.0004\n",
       "100 -5.962657 -1.300601  0.0  0.019904 -0.020486  0.999592  0.0004\n",
       "101 -5.379900 -1.300601  0.0  0.014857 -0.020487  0.999680  0.0004\n",
       "102 -4.797143 -1.300601  0.0  0.009808 -0.020489  0.999742  0.0004\n",
       "103 -4.214386 -1.300601  0.0  0.004759 -0.020489  0.999779  0.0004\n",
       "104 -3.631629 -1.300601  0.0 -0.000291 -0.020490  0.999790  0.0004\n",
       "105 -3.048872 -1.300601  0.0 -0.005340 -0.020489  0.999776  0.0004\n",
       "106 -2.466115 -1.300601  0.0 -0.010390 -0.020489  0.999736  0.0004\n",
       "107 -1.883358 -1.300601  0.0 -0.015438 -0.020487  0.999671  0.0004\n",
       "108 -1.300601 -1.300601  0.0 -0.020485 -0.020485  0.999580  0.0004\n",
       "109 -0.717844 -1.300601  0.0 -0.025531 -0.020483  0.999464  0.0004\n",
       "110 -6.545414 -0.717844  0.0  0.024947 -0.025528  0.999363  0.0004\n",
       "111 -5.962657 -0.717844  0.0  0.019902 -0.025531  0.999476  0.0004\n",
       "112 -5.379900 -0.717844  0.0  0.014855 -0.025534  0.999564  0.0004\n",
       "113 -4.797143 -0.717844  0.0  0.009807 -0.025535  0.999626  0.0004\n",
       "114 -4.214386 -0.717844  0.0  0.004758 -0.025536  0.999663  0.0004\n",
       "115 -3.631629 -0.717844  0.0 -0.000291 -0.025536  0.999674  0.0004\n",
       "116 -3.048872 -0.717844  0.0 -0.005340 -0.025536  0.999660  0.0004\n",
       "117 -2.466115 -0.717844  0.0 -0.010388 -0.025535  0.999620  0.0004\n",
       "118 -1.883358 -0.717844  0.0 -0.015436 -0.025533  0.999555  0.0004\n",
       "119 -1.300601 -0.717844  0.0 -0.020483 -0.025531  0.999464  0.0004\n",
       "120 -0.717844 -0.717844  0.0 -0.025528 -0.025528  0.999348  0.0004\n",
       "\n",
       "[121 rows x 7 columns]"
      ]
     },
     "execution_count": 45,
     "metadata": {},
     "output_type": "execute_result"
    }
   ],
   "source": [
    "df"
   ]
  },
  {
   "cell_type": "code",
   "execution_count": 46,
   "metadata": {},
   "outputs": [],
   "source": [
    "df.to_excel(Beam4_Rayfile)"
   ]
  },
  {
   "cell_type": "code",
   "execution_count": 47,
   "metadata": {},
   "outputs": [
    {
     "data": {
      "text/plain": [
       "76.19999999999999"
      ]
     },
     "execution_count": 47,
     "metadata": {},
     "output_type": "execute_result"
    }
   ],
   "source": [
    "Filt_size"
   ]
  },
  {
   "cell_type": "code",
   "execution_count": 48,
   "metadata": {},
   "outputs": [
    {
     "data": {
      "text/plain": [
       "115.38"
      ]
     },
     "execution_count": 48,
     "metadata": {},
     "output_type": "execute_result"
    }
   ],
   "source": [
    "2*Filt_D*m_to_mm"
   ]
  },
  {
   "cell_type": "code",
   "execution_count": null,
   "metadata": {
    "collapsed": true
   },
   "outputs": [],
   "source": []
  }
 ],
 "metadata": {
  "anaconda-cloud": {},
  "kernelspec": {
   "display_name": "Python 2",
   "language": "python",
   "name": "python2"
  },
  "language_info": {
   "codemirror_mode": {
    "name": "ipython",
    "version": 2
   },
   "file_extension": ".py",
   "mimetype": "text/x-python",
   "name": "python",
   "nbconvert_exporter": "python",
   "pygments_lexer": "ipython2",
   "version": "2.7.14"
  },
  "toc": {
   "nav_menu": {},
   "number_sections": true,
   "sideBar": true,
   "skip_h1_title": false,
   "toc_cell": false,
   "toc_position": {},
   "toc_section_display": "block",
   "toc_window_display": false
  }
 },
 "nbformat": 4,
 "nbformat_minor": 1
}
