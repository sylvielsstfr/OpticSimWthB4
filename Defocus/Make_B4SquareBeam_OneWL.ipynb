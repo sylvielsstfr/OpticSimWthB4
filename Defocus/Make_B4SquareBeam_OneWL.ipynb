{
 "cells": [
  {
   "cell_type": "markdown",
   "metadata": {},
   "source": [
    "# Make an Excel Ray file for Beam4\n",
    "\n",
    "\n",
    "- Geometry : Auxiliary Telescope Geometry of Optical for CTIO 0.9 m "
   ]
  },
  {
   "cell_type": "markdown",
   "metadata": {},
   "source": [
    "- author : Sylvie Dagoret-Campagne\n",
    "- affiliation : LAL/IN2P3/CNRS\n",
    "- date : January 14th 2017\n",
    "- update : February 28th 2017\n",
    "- update : May 2020\n",
    "\n",
    "\n",
    "Simple 2D optical geometry for the optical setup of CTIO 0.9m telescope with Ronchi Grating.\n",
    "This is a tool to adjust the CCD position wrt Filter wheel to obtained a\n",
    "\n",
    "\n",
    "This is a python notebook (not a sagemath notebook)\n",
    "- command:\n",
    "** ipython notebook **"
   ]
  },
  {
   "cell_type": "code",
   "execution_count": 162,
   "metadata": {},
   "outputs": [],
   "source": [
    "%matplotlib inline\n",
    "import matplotlib.pyplot as plt\n",
    "import numpy as np\n",
    "import os\n",
    "import matplotlib as mpl\n",
    "import pandas as pd\n",
    "import itertools"
   ]
  },
  {
   "cell_type": "code",
   "execution_count": 163,
   "metadata": {},
   "outputs": [],
   "source": [
    "# to enlarge the sizes\n",
    "params = {'legend.fontsize': 'x-large',\n",
    "          'figure.figsize': (8, 8),\n",
    "         'axes.labelsize': 'x-large',\n",
    "         'axes.titlesize':'x-large',\n",
    "         'xtick.labelsize':'x-large',\n",
    "         'ytick.labelsize':'x-large'}\n",
    "plt.rcParams.update(params)\n"
   ]
  },
  {
   "cell_type": "markdown",
   "metadata": {},
   "source": [
    "## Output filename and desired wavelength"
   ]
  },
  {
   "cell_type": "code",
   "execution_count": 164,
   "metadata": {},
   "outputs": [],
   "source": [
    "root_filename=\"Beam4_Rayfile_\""
   ]
  },
  {
   "cell_type": "code",
   "execution_count": 165,
   "metadata": {},
   "outputs": [],
   "source": [
    "# number of rays\n",
    "NBEAM_X=11\n",
    "NBEAM_Y=11\n",
    "NBEAM=NBEAM_X*NBEAM_Y"
   ]
  },
  {
   "cell_type": "code",
   "execution_count": 166,
   "metadata": {},
   "outputs": [],
   "source": [
    "Wavelength=1.0\n",
    "WL=int(1000.*Wavelength)"
   ]
  },
  {
   "cell_type": "code",
   "execution_count": 167,
   "metadata": {},
   "outputs": [],
   "source": [
    "theta_x=0.  # angle in arcmin\n",
    "theta_y=0.  # angle in arcmin "
   ]
  },
  {
   "cell_type": "code",
   "execution_count": 168,
   "metadata": {},
   "outputs": [],
   "source": [
    "theta_x_num=int(theta_x*10)\n",
    "theta_y_num=int(theta_y*10)"
   ]
  },
  {
   "cell_type": "code",
   "execution_count": 169,
   "metadata": {},
   "outputs": [],
   "source": [
    "if theta_x_num>0:\n",
    "    theta_nstr='{:0>2}'.format(theta_x_num)\n",
    "    theta_x_str=\"p\"+theta_nstr\n",
    "else:\n",
    "    theta_nstr='{:0>2}'.format(-theta_x_num)\n",
    "    theta_x_str=\"m\"+theta_nstr"
   ]
  },
  {
   "cell_type": "code",
   "execution_count": 170,
   "metadata": {},
   "outputs": [],
   "source": [
    "if theta_y_num>0:\n",
    "    theta_nstr='{:0>2}'.format(theta_y_num)\n",
    "    theta_y_str=\"p\"+theta_nstr\n",
    "else:\n",
    "    theta_nstr='{:0>2}'.format(-theta_y_num)\n",
    "    theta_y_str=\"m\"+theta_nstr"
   ]
  },
  {
   "cell_type": "code",
   "execution_count": 171,
   "metadata": {},
   "outputs": [],
   "source": [
    "Beam4_Rayfile_EXCEL=\"Beam4_Rayfile_{:d}_{:d}nm_{}_{}.xlsx\".format(NBEAM,WL,theta_x_str,theta_y_str)\n",
    "Beam4_Rayfile_RAY=\"Beam4_Rayfile_{:d}_{:d}nm_{}_{}.RAY\".format(NBEAM,WL,theta_x_str,theta_y_str)"
   ]
  },
  {
   "cell_type": "code",
   "execution_count": 172,
   "metadata": {},
   "outputs": [
    {
     "data": {
      "text/plain": [
       "'Beam4_Rayfile_121_1000nm_m00_m00.xlsx'"
      ]
     },
     "execution_count": 172,
     "metadata": {},
     "output_type": "execute_result"
    }
   ],
   "source": [
    "Beam4_Rayfile_EXCEL"
   ]
  },
  {
   "cell_type": "code",
   "execution_count": 173,
   "metadata": {},
   "outputs": [
    {
     "data": {
      "text/plain": [
       "'Beam4_Rayfile_121_1000nm_m00_m00.RAY'"
      ]
     },
     "execution_count": 173,
     "metadata": {},
     "output_type": "execute_result"
    }
   ],
   "source": [
    "Beam4_Rayfile_RAY"
   ]
  },
  {
   "cell_type": "markdown",
   "metadata": {},
   "source": [
    "## Constants for conversions"
   ]
  },
  {
   "cell_type": "code",
   "execution_count": 174,
   "metadata": {},
   "outputs": [],
   "source": [
    "m_to_mm=1000.\n",
    "mm_to_m=1e-3\n",
    "inch_to_mm=25.4\n",
    "mm_to_inch=1./inch_to_mm\n",
    "micr_to_m=1e-6\n",
    "m_to_micr=1./micr_to_m\n",
    "m_to_cm=100.\n",
    "m_to_nm=1e9\n",
    "nm_to_m=1./m_to_nm"
   ]
  },
  {
   "cell_type": "code",
   "execution_count": 175,
   "metadata": {},
   "outputs": [],
   "source": [
    "arcdeg_to_arcmin=60.\n",
    "arcmin_to_arcdeg=1./arcdeg_to_arcmin\n",
    "arcmin_to_arcsec=60.\n",
    "arcdeg_to_arcsec=arcdeg_to_arcmin*arcmin_to_arcsec\n",
    "arcsec_to_arcdeg=1./arcdeg_to_arcsec"
   ]
  },
  {
   "cell_type": "code",
   "execution_count": 176,
   "metadata": {},
   "outputs": [],
   "source": [
    "deg_to_rad=np.pi/180."
   ]
  },
  {
   "cell_type": "code",
   "execution_count": 177,
   "metadata": {},
   "outputs": [],
   "source": [
    "rad_to_deg=1./deg_to_rad\n",
    "rad_to_arcsec=rad_to_deg*arcdeg_to_arcsec\n",
    "rad_to_arcmin=rad_to_deg*arcdeg_to_arcmin\n",
    "arcmin_ro_rad=1./rad_to_arcmin"
   ]
  },
  {
   "cell_type": "markdown",
   "metadata": {},
   "source": [
    "## Configuration parameters at the telescope\n",
    "--------------------------------------------------------"
   ]
  },
  {
   "cell_type": "markdown",
   "metadata": {},
   "source": [
    "#### Telescope"
   ]
  },
  {
   "cell_type": "code",
   "execution_count": 178,
   "metadata": {},
   "outputs": [],
   "source": [
    "Tel_Focal_Length=12.6 # m : Focal length of the telescope\n",
    "Tel_Diameter=0.9 # m : Diameter of the telescope    "
   ]
  },
  {
   "cell_type": "code",
   "execution_count": 179,
   "metadata": {},
   "outputs": [],
   "source": [
    "Tel_Fnum=Tel_Focal_Length/Tel_Diameter"
   ]
  },
  {
   "cell_type": "markdown",
   "metadata": {},
   "source": [
    "#### Filter"
   ]
  },
  {
   "cell_type": "code",
   "execution_count": 180,
   "metadata": {},
   "outputs": [],
   "source": [
    "Filt_D=0.05769 # m distance of the filter position wrt CCD plane\n",
    "Filt_size=3*inch_to_mm"
   ]
  },
  {
   "cell_type": "code",
   "execution_count": 181,
   "metadata": {},
   "outputs": [
    {
     "data": {
      "text/plain": [
       "76.19999999999999"
      ]
     },
     "execution_count": 181,
     "metadata": {},
     "output_type": "execute_result"
    }
   ],
   "source": [
    "Filt_size"
   ]
  },
  {
   "cell_type": "markdown",
   "metadata": {},
   "source": [
    "#### CCD Detector"
   ]
  },
  {
   "cell_type": "code",
   "execution_count": 182,
   "metadata": {},
   "outputs": [],
   "source": [
    "Det_xpic=24.0 # microns per pixel\n",
    "Det_NbPix=2048 # number of pixels per CCD side\n",
    "Det_size=Det_xpic*Det_NbPix*1e-3 # CCD size in mm, 5 cm or 2 inches"
   ]
  },
  {
   "cell_type": "code",
   "execution_count": 183,
   "metadata": {},
   "outputs": [
    {
     "data": {
      "text/plain": [
       "49.152"
      ]
     },
     "execution_count": 183,
     "metadata": {},
     "output_type": "execute_result"
    }
   ],
   "source": [
    "Det_size"
   ]
  },
  {
   "cell_type": "code",
   "execution_count": 184,
   "metadata": {},
   "outputs": [],
   "source": [
    "Det_pix_angl=Det_xpic*micr_to_m/Tel_Focal_Length   # in radian"
   ]
  },
  {
   "cell_type": "code",
   "execution_count": 185,
   "metadata": {},
   "outputs": [
    {
     "name": "stdout",
     "output_type": "stream",
     "text": [
      "pixel viewing angle in arcsec =  0.3928853452325645\n"
     ]
    }
   ],
   "source": [
    "print(\"pixel viewing angle in arcsec = \", Det_pix_angl*rad_to_deg*arcdeg_to_arcsec)"
   ]
  },
  {
   "cell_type": "markdown",
   "metadata": {},
   "source": [
    "## Location of the source in the field of view\n",
    "\n",
    "The Field of view of the delescope is 13.6 arcmin\n",
    "\n",
    "\n",
    "- ($\\theta_x, \\theta_y$) in arcmin to be specified\n",
    "- ($\\alpha_x, \\alpha_y$) in radian calculated "
   ]
  },
  {
   "cell_type": "code",
   "execution_count": 186,
   "metadata": {},
   "outputs": [],
   "source": [
    "theta_max=13.6/2.\n",
    "theta_max=-13.6/2."
   ]
  },
  {
   "cell_type": "code",
   "execution_count": 187,
   "metadata": {},
   "outputs": [],
   "source": [
    "alpha_x=theta_x*arcmin_ro_rad\n",
    "alpha_y=theta_y*arcmin_ro_rad"
   ]
  },
  {
   "cell_type": "markdown",
   "metadata": {},
   "source": [
    "## Where to start the tracking of rays\n",
    "\n",
    "- Units in mm\n",
    "- The origin is where the optical effective conveging system start at O(0,0,0)\n",
    "- (X0,Y0,Z0) : coordinates of Beam rays starting points"
   ]
  },
  {
   "cell_type": "code",
   "execution_count": 188,
   "metadata": {},
   "outputs": [],
   "source": [
    "D0=Filt_D*m_to_mm  # distance between plane where the trcking beam start"
   ]
  },
  {
   "cell_type": "code",
   "execution_count": 189,
   "metadata": {},
   "outputs": [],
   "source": [
    "Z0=Tel_Focal_Length*m_to_mm"
   ]
  },
  {
   "cell_type": "code",
   "execution_count": 190,
   "metadata": {},
   "outputs": [],
   "source": [
    "Z1=Z0-2.*D0  # please set where you want to start the beam"
   ]
  },
  {
   "cell_type": "code",
   "execution_count": 191,
   "metadata": {},
   "outputs": [],
   "source": [
    "XMIN=-Tel_Diameter*m_to_mm/(2.*np.sqrt(2.))\n",
    "XMAX=Tel_Diameter*m_to_mm/(2.*np.sqrt(2.))"
   ]
  },
  {
   "cell_type": "code",
   "execution_count": 192,
   "metadata": {},
   "outputs": [],
   "source": [
    "YMIN=-Tel_Diameter*m_to_mm/(2.*np.sqrt(2.))\n",
    "YMAX=Tel_Diameter*m_to_mm/(2.*np.sqrt(2.))"
   ]
  },
  {
   "cell_type": "markdown",
   "metadata": {},
   "source": [
    "# Number of points"
   ]
  },
  {
   "cell_type": "code",
   "execution_count": 193,
   "metadata": {},
   "outputs": [],
   "source": [
    "X = np.linspace(XMIN, XMAX, NBEAM_X)\n",
    "Y = np.linspace(YMIN, YMAX, NBEAM_Y)\n",
    "XX, YY = np.meshgrid(X, Y)"
   ]
  },
  {
   "cell_type": "code",
   "execution_count": 194,
   "metadata": {},
   "outputs": [],
   "source": [
    "pts = itertools.product(X, Y)"
   ]
  },
  {
   "cell_type": "code",
   "execution_count": 195,
   "metadata": {},
   "outputs": [
    {
     "data": {
      "text/plain": [
       "<matplotlib.collections.PathCollection at 0x125142350>"
      ]
     },
     "execution_count": 195,
     "metadata": {},
     "output_type": "execute_result"
    },
    {
     "data": {
      "image/png": "[encoded data removed]",
      "text/plain": [
       "<Figure size 576x576 with 1 Axes>"
      ]
     },
     "metadata": {
      "needs_background": "light"
     },
     "output_type": "display_data"
    }
   ],
   "source": [
    "plt.grid()\n",
    "plt.scatter(*zip(*pts), marker='o', s=30, color='red')"
   ]
  },
  {
   "cell_type": "code",
   "execution_count": 196,
   "metadata": {},
   "outputs": [
    {
     "data": {
      "text/plain": [
       "Text(0.5, 1.0, 'Impact points at telescope aperture')"
      ]
     },
     "execution_count": 196,
     "metadata": {},
     "output_type": "execute_result"
    },
    {
     "data": {
      "image/png": "[encoded data removed]",
      "text/plain": [
       "<Figure size 576x576 with 1 Axes>"
      ]
     },
     "metadata": {
      "needs_background": "light"
     },
     "output_type": "display_data"
    }
   ],
   "source": [
    "plt.scatter(XX,YY, marker='o', s=30, color='red')\n",
    "#plt.ylim(YMIN,YMAX)\n",
    "#plt.xlim(XMIN,XMAX)\n",
    "plt.grid()\n",
    "plt.xlabel(\"X\")\n",
    "plt.ylabel(\"Y\")\n",
    "plt.title(\"Impact points at telescope aperture\")"
   ]
  },
  {
   "cell_type": "code",
   "execution_count": 197,
   "metadata": {},
   "outputs": [],
   "source": [
    "def GetCosinusDirector(X,Y,thealpha_x,thealpha_y,f):\n",
    "    \"\"\"\n",
    "    The size of X,Y is the number of Rays\n",
    "    \"\"\"\n",
    "    \n",
    "    \n",
    "    Norm=np.sqrt( np.power(X+f*np.tan(thealpha_x),2) + np.power(Y+f*np.tan(thealpha_y),2)+ f**2)\n",
    "    UX=-(X+f*np.tan(thealpha_x))/Norm\n",
    "    UY=-(Y+f*np.tan(thealpha_y))/Norm\n",
    "    UZ=f/Norm\n",
    "    return UX,UY,UZ    \n",
    "    "
   ]
  },
  {
   "cell_type": "code",
   "execution_count": 198,
   "metadata": {},
   "outputs": [],
   "source": [
    "UX,UY,UZ=GetCosinusDirector(XX,YY,alpha_x,alpha_y,Z0)"
   ]
  },
  {
   "cell_type": "code",
   "execution_count": 199,
   "metadata": {},
   "outputs": [
    {
     "data": {
      "text/plain": [
       "Text(0.5, 1.0, 'Vector field')"
      ]
     },
     "execution_count": 199,
     "metadata": {},
     "output_type": "execute_result"
    },
    {
     "data": {
      "image/png": "[encoded data removed]",
      "text/plain": [
       "<Figure size 576x576 with 1 Axes>"
      ]
     },
     "metadata": {
      "needs_background": "light"
     },
     "output_type": "display_data"
    }
   ],
   "source": [
    "\n",
    "plt.grid()\n",
    "q = plt.quiver(XX,YY,UX,UY,angles='xy',scale=0.5,color='r')\n",
    "plt.scatter(XX,YY, marker='o', s=10, color='black')\n",
    "plt.xlabel(\"X\")\n",
    "plt.ylabel(\"Y\")\n",
    "plt.title(\"Vector field\")"
   ]
  },
  {
   "cell_type": "code",
   "execution_count": 200,
   "metadata": {},
   "outputs": [],
   "source": [
    "def GetStartingPoint(X,Y,thealpha_x,the_alpha_y,f,Z0):\n",
    "    theX0=(1-Z0/f)*X-Z0*np.tan(alpha_x)\n",
    "    theY0=(1-Z0/f)*Y-Z0*np.tan(alpha_y)\n",
    "    return theX0,theY0\n",
    "    "
   ]
  },
  {
   "cell_type": "code",
   "execution_count": 201,
   "metadata": {},
   "outputs": [],
   "source": [
    "(X0,Y0)=GetStartingPoint(XX,YY,alpha_x,alpha_y,Z0,Z1)"
   ]
  },
  {
   "cell_type": "code",
   "execution_count": 202,
   "metadata": {},
   "outputs": [
    {
     "data": {
      "text/plain": [
       "Text(0.5, 1.0, 'Impact point at selected entrance of Ray tracer')"
      ]
     },
     "execution_count": 202,
     "metadata": {},
     "output_type": "execute_result"
    },
    {
     "data": {
      "image/png": "[encoded data removed]",
      "text/plain": [
       "<Figure size 576x576 with 1 Axes>"
      ]
     },
     "metadata": {
      "needs_background": "light"
     },
     "output_type": "display_data"
    }
   ],
   "source": [
    "plt.scatter(X0,Y0, marker='o', s=20, color='red')\n",
    "plt.grid()\n",
    "#plt.ylim(YMIN,YMAX)\n",
    "#plt.xlim(XMIN,XMAX)\n",
    "\n",
    "#plt.xlim(-Filt_size/2, Filt_size/2)\n",
    "#plt.ylim(-Filt_size/2, Filt_size/2)\n",
    "\n",
    "plt.xlabel(\"X\")\n",
    "plt.ylabel(\"Y\")\n",
    "plt.title(\"Impact point at selected entrance of Ray tracer\")"
   ]
  },
  {
   "cell_type": "markdown",
   "metadata": {},
   "source": [
    "## Create Dataframe"
   ]
  },
  {
   "cell_type": "code",
   "execution_count": 203,
   "metadata": {},
   "outputs": [],
   "source": [
    "df = pd.DataFrame()"
   ]
  },
  {
   "cell_type": "code",
   "execution_count": 204,
   "metadata": {},
   "outputs": [],
   "source": [
    "Xout=X0.flatten()\n",
    "Yout=Y0.flatten()"
   ]
  },
  {
   "cell_type": "code",
   "execution_count": 205,
   "metadata": {},
   "outputs": [],
   "source": [
    "Uout=UX.flatten()\n",
    "Vout=UY.flatten()\n",
    "Wout=UZ.flatten()"
   ]
  },
  {
   "cell_type": "code",
   "execution_count": 206,
   "metadata": {},
   "outputs": [],
   "source": [
    "Zout=np.zeros(NBEAM)"
   ]
  },
  {
   "cell_type": "code",
   "execution_count": 207,
   "metadata": {},
   "outputs": [],
   "source": [
    "Wave=Wavelength*np.ones(NBEAM)"
   ]
  },
  {
   "cell_type": "code",
   "execution_count": 208,
   "metadata": {},
   "outputs": [],
   "source": [
    "df[\"X0\"]=Xout\n",
    "df[\"Y0\"]=Yout\n",
    "df[\"Z0\"]=Zout\n",
    "df[\"U0\"]=Uout\n",
    "df[\"V0\"]=Vout\n",
    "df[\"W0\"]=Wout\n",
    "df[\"wave\"]=Wave"
   ]
  },
  {
   "cell_type": "code",
   "execution_count": 209,
   "metadata": {},
   "outputs": [
    {
     "data": {
      "text/html": [
       "<div>\n",
       "<style scoped>\n",
       "    .dataframe tbody tr th:only-of-type {\n",
       "        vertical-align: middle;\n",
       "    }\n",
       "\n",
       "    .dataframe tbody tr th {\n",
       "        vertical-align: top;\n",
       "    }\n",
       "\n",
       "    .dataframe thead th {\n",
       "        text-align: right;\n",
       "    }\n",
       "</style>\n",
       "<table border=\"1\" class=\"dataframe\">\n",
       "  <thead>\n",
       "    <tr style=\"text-align: right;\">\n",
       "      <th></th>\n",
       "      <th>X0</th>\n",
       "      <th>Y0</th>\n",
       "      <th>Z0</th>\n",
       "      <th>U0</th>\n",
       "      <th>V0</th>\n",
       "      <th>W0</th>\n",
       "      <th>wave</th>\n",
       "    </tr>\n",
       "  </thead>\n",
       "  <tbody>\n",
       "    <tr>\n",
       "      <th>0</th>\n",
       "      <td>-2.913785</td>\n",
       "      <td>-2.913785</td>\n",
       "      <td>0.0</td>\n",
       "      <td>0.025238</td>\n",
       "      <td>0.025238</td>\n",
       "      <td>0.999363</td>\n",
       "      <td>1.0</td>\n",
       "    </tr>\n",
       "    <tr>\n",
       "      <th>1</th>\n",
       "      <td>-2.331028</td>\n",
       "      <td>-2.913785</td>\n",
       "      <td>0.0</td>\n",
       "      <td>0.020192</td>\n",
       "      <td>0.025241</td>\n",
       "      <td>0.999477</td>\n",
       "      <td>1.0</td>\n",
       "    </tr>\n",
       "    <tr>\n",
       "      <th>2</th>\n",
       "      <td>-1.748271</td>\n",
       "      <td>-2.913785</td>\n",
       "      <td>0.0</td>\n",
       "      <td>0.015146</td>\n",
       "      <td>0.025243</td>\n",
       "      <td>0.999567</td>\n",
       "      <td>1.0</td>\n",
       "    </tr>\n",
       "    <tr>\n",
       "      <th>3</th>\n",
       "      <td>-1.165514</td>\n",
       "      <td>-2.913785</td>\n",
       "      <td>0.0</td>\n",
       "      <td>0.010098</td>\n",
       "      <td>0.025244</td>\n",
       "      <td>0.999630</td>\n",
       "      <td>1.0</td>\n",
       "    </tr>\n",
       "    <tr>\n",
       "      <th>4</th>\n",
       "      <td>-0.582757</td>\n",
       "      <td>-2.913785</td>\n",
       "      <td>0.0</td>\n",
       "      <td>0.005049</td>\n",
       "      <td>0.025245</td>\n",
       "      <td>0.999669</td>\n",
       "      <td>1.0</td>\n",
       "    </tr>\n",
       "    <tr>\n",
       "      <th>...</th>\n",
       "      <td>...</td>\n",
       "      <td>...</td>\n",
       "      <td>...</td>\n",
       "      <td>...</td>\n",
       "      <td>...</td>\n",
       "      <td>...</td>\n",
       "      <td>...</td>\n",
       "    </tr>\n",
       "    <tr>\n",
       "      <th>116</th>\n",
       "      <td>0.582757</td>\n",
       "      <td>2.913785</td>\n",
       "      <td>0.0</td>\n",
       "      <td>-0.005049</td>\n",
       "      <td>-0.025245</td>\n",
       "      <td>0.999669</td>\n",
       "      <td>1.0</td>\n",
       "    </tr>\n",
       "    <tr>\n",
       "      <th>117</th>\n",
       "      <td>1.165514</td>\n",
       "      <td>2.913785</td>\n",
       "      <td>0.0</td>\n",
       "      <td>-0.010098</td>\n",
       "      <td>-0.025244</td>\n",
       "      <td>0.999630</td>\n",
       "      <td>1.0</td>\n",
       "    </tr>\n",
       "    <tr>\n",
       "      <th>118</th>\n",
       "      <td>1.748271</td>\n",
       "      <td>2.913785</td>\n",
       "      <td>0.0</td>\n",
       "      <td>-0.015146</td>\n",
       "      <td>-0.025243</td>\n",
       "      <td>0.999567</td>\n",
       "      <td>1.0</td>\n",
       "    </tr>\n",
       "    <tr>\n",
       "      <th>119</th>\n",
       "      <td>2.331028</td>\n",
       "      <td>2.913785</td>\n",
       "      <td>0.0</td>\n",
       "      <td>-0.020192</td>\n",
       "      <td>-0.025241</td>\n",
       "      <td>0.999477</td>\n",
       "      <td>1.0</td>\n",
       "    </tr>\n",
       "    <tr>\n",
       "      <th>120</th>\n",
       "      <td>2.913785</td>\n",
       "      <td>2.913785</td>\n",
       "      <td>0.0</td>\n",
       "      <td>-0.025238</td>\n",
       "      <td>-0.025238</td>\n",
       "      <td>0.999363</td>\n",
       "      <td>1.0</td>\n",
       "    </tr>\n",
       "  </tbody>\n",
       "</table>\n",
       "<p>121 rows × 7 columns</p>\n",
       "</div>"
      ],
      "text/plain": [
       "           X0        Y0   Z0        U0        V0        W0  wave\n",
       "0   -2.913785 -2.913785  0.0  0.025238  0.025238  0.999363   1.0\n",
       "1   -2.331028 -2.913785  0.0  0.020192  0.025241  0.999477   1.0\n",
       "2   -1.748271 -2.913785  0.0  0.015146  0.025243  0.999567   1.0\n",
       "3   -1.165514 -2.913785  0.0  0.010098  0.025244  0.999630   1.0\n",
       "4   -0.582757 -2.913785  0.0  0.005049  0.025245  0.999669   1.0\n",
       "..        ...       ...  ...       ...       ...       ...   ...\n",
       "116  0.582757  2.913785  0.0 -0.005049 -0.025245  0.999669   1.0\n",
       "117  1.165514  2.913785  0.0 -0.010098 -0.025244  0.999630   1.0\n",
       "118  1.748271  2.913785  0.0 -0.015146 -0.025243  0.999567   1.0\n",
       "119  2.331028  2.913785  0.0 -0.020192 -0.025241  0.999477   1.0\n",
       "120  2.913785  2.913785  0.0 -0.025238 -0.025238  0.999363   1.0\n",
       "\n",
       "[121 rows x 7 columns]"
      ]
     },
     "execution_count": 209,
     "metadata": {},
     "output_type": "execute_result"
    }
   ],
   "source": [
    "df"
   ]
  },
  {
   "cell_type": "markdown",
   "metadata": {},
   "source": [
    "# Save file"
   ]
  },
  {
   "cell_type": "code",
   "execution_count": 210,
   "metadata": {},
   "outputs": [
    {
     "name": "stdout",
     "output_type": "stream",
     "text": [
      "121 rays Beam4_Rayfile_121_1000nm_m00_m00.RAY\n"
     ]
    }
   ],
   "source": [
    "header = \"{} rays {}\".format(NBEAM,Beam4_Rayfile_RAY)\n",
    "print(header)"
   ]
  },
  {
   "cell_type": "code",
   "execution_count": 211,
   "metadata": {},
   "outputs": [],
   "source": [
    "# Need to format well output for BeamFour\n",
    "writer = pd.ExcelWriter(Beam4_Rayfile_EXCEL,engine='xlsxwriter')\n",
    "df.to_excel(writer, index=False,sheet_name=\"Sheet1\",float_format=\"%2.7f\",header=True)\n",
    "writer.save()"
   ]
  },
  {
   "cell_type": "code",
   "execution_count": null,
   "metadata": {},
   "outputs": [],
   "source": []
  }
 ],
 "metadata": {
  "anaconda-cloud": {},
  "kernelspec": {
   "display_name": "Python 3",
   "language": "python",
   "name": "python3"
  },
  "language_info": {
   "codemirror_mode": {
    "name": "ipython",
    "version": 3
   },
   "file_extension": ".py",
   "mimetype": "text/x-python",
   "name": "python",
   "nbconvert_exporter": "python",
   "pygments_lexer": "ipython3",
   "version": "3.7.6"
  },
  "toc": {
   "nav_menu": {},
   "number_sections": true,
   "sideBar": true,
   "skip_h1_title": false,
   "toc_cell": false,
   "toc_position": {},
   "toc_section_display": "block",
   "toc_window_display": false
  }
 },
 "nbformat": 4,
 "nbformat_minor": 1
}
