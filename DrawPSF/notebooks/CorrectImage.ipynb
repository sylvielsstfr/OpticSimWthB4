{
 "cells": [
  {
   "cell_type": "markdown",
   "metadata": {},
   "source": [
    "# Correct for paper Fig 11 on FWHM : Data/Sim comparison \n",
    "\n",
    "- author : Sylvie Dagoret-Campagne\n",
    "- affiliation : IJCLab/IN2P3/CNRS\n",
    "\n",
    "- creation date : May 27th 2020\n",
    "- update : May 31 2020\n",
    "\n",
    "add R300 sim for comparison\n"
   ]
  },
  {
   "cell_type": "code",
   "execution_count": 55,
   "metadata": {},
   "outputs": [],
   "source": [
    "%matplotlib inline\n",
    "import matplotlib.pyplot as plt\n",
    "import numpy as np\n",
    "import os\n",
    "import matplotlib as mpl\n",
    "import pandas as pd\n",
    "import itertools\n",
    "import matplotlib.gridspec as gridspec\n",
    "from matplotlib.patches import Circle,Ellipse"
   ]
  },
  {
   "cell_type": "code",
   "execution_count": 56,
   "metadata": {},
   "outputs": [],
   "source": [
    "from scipy.interpolate import interp1d"
   ]
  },
  {
   "cell_type": "code",
   "execution_count": 57,
   "metadata": {},
   "outputs": [],
   "source": [
    "# to enlarge the sizes\n",
    "params = {'legend.fontsize': 'x-large',\n",
    "          'figure.figsize': (13, 13),\n",
    "         'axes.labelsize': 'x-large',\n",
    "         'axes.titlesize':'x-large',\n",
    "         'xtick.labelsize':'x-large',\n",
    "         'ytick.labelsize':'x-large',\n",
    "         'font.size': 14}\n",
    "plt.rcParams.update(params)"
   ]
  },
  {
   "cell_type": "code",
   "execution_count": 58,
   "metadata": {},
   "outputs": [],
   "source": [
    "from scipy.interpolate import interp1d"
   ]
  },
  {
   "cell_type": "markdown",
   "metadata": {},
   "source": [
    "## Constants for conversions"
   ]
  },
  {
   "cell_type": "code",
   "execution_count": 59,
   "metadata": {},
   "outputs": [],
   "source": [
    "m_to_mm=1000.\n",
    "mm_to_m=1e-3\n",
    "inch_to_mm=25.4\n",
    "mm_to_inch=1./inch_to_mm\n",
    "mm_to_micr=1e3\n",
    "micr_to_m=1e-6\n",
    "micr_to_mm=1e-3\n",
    "m_to_micr=1./micr_to_m\n",
    "m_to_cm=100.\n",
    "m_to_nm=1e9\n",
    "nm_to_m=1./m_to_nm\n",
    "nm_to_micr=0.001"
   ]
  },
  {
   "cell_type": "code",
   "execution_count": 60,
   "metadata": {},
   "outputs": [],
   "source": [
    "arcdeg_to_arcmin=60.\n",
    "arcmin_to_arcdeg=1./arcdeg_to_arcmin\n",
    "arcmin_to_arcsec=60.\n",
    "arcdeg_to_arcsec=arcdeg_to_arcmin*arcmin_to_arcsec\n",
    "arcsec_to_arcdeg=1./arcdeg_to_arcsec"
   ]
  },
  {
   "cell_type": "code",
   "execution_count": 61,
   "metadata": {},
   "outputs": [],
   "source": [
    "deg_to_rad=np.pi/180."
   ]
  },
  {
   "cell_type": "code",
   "execution_count": 62,
   "metadata": {},
   "outputs": [],
   "source": [
    "rad_to_deg=1./deg_to_rad\n",
    "rad_to_arcsec=rad_to_deg*arcdeg_to_arcsec\n",
    "rad_to_arcmin=rad_to_deg*arcdeg_to_arcmin\n",
    "arcmin_to_rad=1./rad_to_arcmin"
   ]
  },
  {
   "cell_type": "markdown",
   "metadata": {},
   "source": [
    "## Configuration parameters at the telescope"
   ]
  },
  {
   "cell_type": "markdown",
   "metadata": {},
   "source": [
    "#### telescope"
   ]
  },
  {
   "cell_type": "code",
   "execution_count": 63,
   "metadata": {},
   "outputs": [],
   "source": [
    "Tel_Focal_Length=12.6 # m : Focal length of the telescope\n",
    "Tel_Diameter=0.9 # m : Diameter of the telescope    \n",
    "Tel_Fnum=Tel_Focal_Length/Tel_Diameter\n",
    "plt_scale=206265/(Tel_Focal_Length*m_to_mm)  # arcsec per mm"
   ]
  },
  {
   "cell_type": "markdown",
   "metadata": {},
   "source": [
    "#### filter"
   ]
  },
  {
   "cell_type": "code",
   "execution_count": 64,
   "metadata": {},
   "outputs": [],
   "source": [
    "Filt_D=0.05769 # m distance of the filter position wrt CCD plane\n",
    "Filt_size=3*inch_to_mm"
   ]
  },
  {
   "cell_type": "markdown",
   "metadata": {},
   "source": [
    "#### CCD detector"
   ]
  },
  {
   "cell_type": "code",
   "execution_count": 65,
   "metadata": {},
   "outputs": [],
   "source": [
    "Det_xpic=24.0 # microns per pixel\n",
    "#Det_NbPix=2048 # number of pixels per CCD side\n",
    "Det_NbPix=2512 # number of pixels per CCD side For 400 only\n",
    "Det_size=Det_xpic*Det_NbPix*micr_to_mm # CCD size in mm, 5 cm or 2 inch"
   ]
  },
  {
   "cell_type": "markdown",
   "metadata": {},
   "source": [
    "## Input file beam"
   ]
  },
  {
   "cell_type": "code",
   "execution_count": 66,
   "metadata": {},
   "outputs": [],
   "source": [
    "# number of rays\n",
    "NBEAM_X=11\n",
    "NBEAM_Y=11\n",
    "NBEAM=NBEAM_X*NBEAM_Y\n",
    "NWL=4\n",
    "NBTOT=NBEAM*NWL"
   ]
  },
  {
   "cell_type": "code",
   "execution_count": 67,
   "metadata": {},
   "outputs": [],
   "source": [
    "theta_x=0.  # angle in arcmin\n",
    "theta_y=0.  # angle in arcmin "
   ]
  },
  {
   "cell_type": "code",
   "execution_count": 68,
   "metadata": {},
   "outputs": [],
   "source": [
    "theta_x_num=int(theta_x*10)\n",
    "theta_y_num=int(theta_y*10)"
   ]
  },
  {
   "cell_type": "code",
   "execution_count": 69,
   "metadata": {},
   "outputs": [],
   "source": [
    "if theta_x_num>0:\n",
    "    theta_nstr='{:0>2}'.format(theta_x_num)\n",
    "    theta_x_str=\"p\"+theta_nstr\n",
    "else:\n",
    "    theta_nstr='{:0>2}'.format(-theta_x_num)\n",
    "    theta_x_str=\"m\"+theta_nstr"
   ]
  },
  {
   "cell_type": "code",
   "execution_count": 70,
   "metadata": {},
   "outputs": [],
   "source": [
    "if theta_y_num>0:\n",
    "    theta_nstr='{:0>2}'.format(theta_y_num)\n",
    "    theta_y_str=\"p\"+theta_nstr\n",
    "else:\n",
    "    theta_nstr='{:0>2}'.format(-theta_y_num)\n",
    "    theta_y_str=\"m\"+theta_nstr"
   ]
  },
  {
   "cell_type": "code",
   "execution_count": 71,
   "metadata": {},
   "outputs": [],
   "source": [
    "Beam4_Rayfile=\"Beam4_Rayfile_{:d}_allwl_{}_{}\".format(NBTOT,theta_x_str,theta_y_str)"
   ]
  },
  {
   "cell_type": "code",
   "execution_count": 72,
   "metadata": {},
   "outputs": [
    {
     "data": {
      "text/plain": [
       "'Beam4_Rayfile_484_allwl_m00_m00'"
      ]
     },
     "execution_count": 72,
     "metadata": {},
     "output_type": "execute_result"
    }
   ],
   "source": [
    "Beam4_Rayfile"
   ]
  },
  {
   "cell_type": "code",
   "execution_count": 73,
   "metadata": {},
   "outputs": [],
   "source": [
    "WLSIM=np.array([400.,600.,800.,1000.])"
   ]
  },
  {
   "cell_type": "markdown",
   "metadata": {},
   "source": [
    "# functions"
   ]
  },
  {
   "cell_type": "markdown",
   "metadata": {},
   "source": [
    "## Utility"
   ]
  },
  {
   "cell_type": "code",
   "execution_count": 74,
   "metadata": {},
   "outputs": [],
   "source": [
    "def find_nearest_idx(array, value):\n",
    "    array = np.asarray(array)\n",
    "    idx = (np.abs(array - value)).argmin()\n",
    "    return idx"
   ]
  },
  {
   "cell_type": "markdown",
   "metadata": {},
   "source": [
    "## Dispersion and dispersion rate"
   ]
  },
  {
   "cell_type": "code",
   "execution_count": 75,
   "metadata": {},
   "outputs": [],
   "source": [
    "def Dispersion(wl,a,D):\n",
    "    \"\"\" \n",
    "    Dispersion(wl,a,D) : number of dx per wavelength\n",
    "    input arguments:\n",
    "    - wl : wavelength\n",
    "    - a  : line pitch\n",
    "    - D  : Distance CCD-Hologram\n",
    "    \n",
    "    recommended : all input arguments should be expressed in microns.\n",
    "    \n",
    "    - output : dx, x in microns and lambdas in microns\n",
    "    \"\"\"\n",
    "    X=D/a*wl/np.sqrt(1-(wl/a)**2)\n",
    "    return X"
   ]
  },
  {
   "cell_type": "code",
   "execution_count": 76,
   "metadata": {},
   "outputs": [],
   "source": [
    "def Dispersion_Rate(wl,a,D):\n",
    "    \"\"\"\n",
    "    Dispersion_Rate(wl) : number of dx per wavelength\n",
    "    input arguments:\n",
    "    - wl : wavelength\n",
    "    - a  : line pitch\n",
    "    - D  : Distance CCD-Hologram\n",
    "    \n",
    "    recommended : all input arguments should be expressed in microns.\n",
    "    \n",
    "    - output : dx/dlambda, x in microns and lambdas in microns\n",
    "    \n",
    "    \"\"\"\n",
    "    dxdlambda=D/a*(np.sqrt(1-(wl/a)**2)+ (wl/a)**2)/(1-(wl/a)**2)\n",
    "    return dxdlambda "
   ]
  },
  {
   "cell_type": "code",
   "execution_count": 77,
   "metadata": {},
   "outputs": [
    {
     "data": {
      "text/plain": [
       "<matplotlib.legend.Legend at 0x11d8c0f90>"
      ]
     },
     "execution_count": 77,
     "metadata": {},
     "output_type": "execute_result"
    },
    {
     "data": {
      "image/png": "[encoded data removed]",
      "text/plain": [
       "<Figure size 864x576 with 2 Axes>"
      ]
     },
     "metadata": {
      "needs_background": "light"
     },
     "output_type": "display_data"
    }
   ],
   "source": [
    "fig, ax1 = plt.subplots(figsize=(12,8))\n",
    "WL=np.linspace(300.,1000.,100)\n",
    "a=1/350.*mm_to_micr\n",
    "D=58*mm_to_micr\n",
    "\n",
    "Y1=Dispersion(WL*nm_to_micr,a,D)*micr_to_mm\n",
    "ax1.plot(WL,Y1,\"b\",label=\"$x(\\lambda)$\")\n",
    "\n",
    "ax1.set_xlabel(\"$\\lambda$  (nm)\")\n",
    "ax1.set_ylabel(\"$x(\\lambda)$  ($mm$)\",color=\"blue\")\n",
    "ax1.set_title(\"Dispersion X\")\n",
    "ax1.legend(loc=\"upper left\")\n",
    "ax1.grid()\n",
    "\n",
    "ax2 = ax1.twinx()  # instantiate a second axes that shares the same x-axis\n",
    "\n",
    "Y2=Dispersion_Rate(WL*nm_to_micr,a,D)*micr_to_mm  ## mm per microns\n",
    "ax2.plot(WL, Y2,\"r\",label=\"$dx/d\\lambda$\")\n",
    "ax2.set_xlabel(\"$\\lambda$  (nm)\")\n",
    "ax2.set_ylabel(\"$dx/d\\lambda$  ($mm/\\mu m$)\",color=\"red\")\n",
    "#ax2.set_title(\"Dispersion rate\")\n",
    "ax2.legend(loc=\"lower right\")\n",
    "#ax2.grid()"
   ]
  },
  {
   "cell_type": "code",
   "execution_count": null,
   "metadata": {},
   "outputs": [
    {
     "data": {
      "text/plain": [
       "<matplotlib.legend.Legend at 0x11d7bbb90>"
      ]
     },
     "execution_count": 78,
     "metadata": {},
     "output_type": "execute_result"
    }
   ],
   "source": [
    "fig, ax1 = plt.subplots(figsize=(12,8))\n",
    "WL=np.linspace(300.,1000.,100)\n",
    "a=1/350.*mm_to_micr\n",
    "D=58*mm_to_micr\n",
    "\n",
    "Y1=Dispersion(WL*nm_to_micr,a,D)/Det_xpic   # pixel\n",
    "Y1400=Dispersion(WL*nm_to_micr,1/400.*mm_to_micr,D)/Det_xpic   # pixel\n",
    "Y1300=Dispersion(WL*nm_to_micr,1/300.*mm_to_micr,D)/Det_xpic   # pixel\n",
    "ax1.plot(WL,Y1,\"b\",label=\"Hologram\")\n",
    "ax1.plot(WL,Y1400,\"b-.\",label=\"Ronchi 400\")\n",
    "ax1.plot(WL,Y1300,\"b:\",label=\"Thor 300\")\n",
    "\n",
    "ax1.set_xlabel(\"$\\lambda$  (nm)\")\n",
    "ax1.set_ylabel(\"$x(\\lambda)$  (pixel)\",color=\"blue\")\n",
    "ax1.set_title(\"Dispersion X\")\n",
    "ax1.legend(loc=\"upper left\")\n",
    "ax1.grid()\n",
    "\n",
    "ax2 = ax1.twinx()  # instantiate a second axes that shares the same x-axis\n",
    "\n",
    "Y2=Dispersion_Rate(WL*nm_to_micr,a,D)/Det_xpic*1e-3   # pixel per nm\n",
    "ax2.plot(WL, Y2,\"r\",label=\"Hologram\")\n",
    "Y2400=Dispersion_Rate(WL*nm_to_micr,1/400.*mm_to_micr,D)/Det_xpic*1e-3   # pixel per nm\n",
    "Y2300=Dispersion_Rate(WL*nm_to_micr,1/300.*mm_to_micr,D)/Det_xpic*1e-3   # pixel per nm\n",
    "ax2.plot(WL, Y2400,\"r-.\",label=\"Ronchi 400\")\n",
    "ax2.plot(WL, Y2300,\"r:\",label=\"Ronchi 300\")\n",
    "\n",
    "ax2.set_xlabel(\"$\\lambda$  (nm)\")\n",
    "ax2.set_ylabel(\"$dx/d\\lambda$  ($pixel/nm$)\",color=\"red\")\n",
    "#ax2.set_title(\"Dispersion rate\")\n",
    "ax2.legend(loc=\"lower right\")\n",
    "#ax2.grid()"
   ]
  },
  {
   "cell_type": "markdown",
   "metadata": {},
   "source": [
    "# Read the image of the data on FWMH (paper image)"
   ]
  },
  {
   "cell_type": "code",
   "execution_count": null,
   "metadata": {},
   "outputs": [],
   "source": [
    "img = plt.imread(\"FWHM.jpg\")\n",
    "fig, ax = plt.subplots()\n",
    "ax.imshow(img)"
   ]
  },
  {
   "cell_type": "markdown",
   "metadata": {},
   "source": [
    "# Input Data Files\n",
    "\n",
    "- previous image scanned with PlotDigitizer"
   ]
  },
  {
   "cell_type": "code",
   "execution_count": null,
   "metadata": {},
   "outputs": [],
   "source": [
    "dirdata=\"dataFWHM\""
   ]
  },
  {
   "cell_type": "code",
   "execution_count": null,
   "metadata": {},
   "outputs": [],
   "source": [
    "file_R400=os.path.join(dirdata,\"FWHMR_400_rawdata.csv\")\n",
    "file_T300=os.path.join(dirdata,\"FWHM_Thor300_v2.csv\")\n",
    "file_HoloPhAg=os.path.join(dirdata,\"FWHM_HoloPhAg.csv\")\n",
    "file_HoloAmAg=os.path.join(dirdata,\"FWHM_HoloAmAg.csv\")"
   ]
  },
  {
   "cell_type": "markdown",
   "metadata": {},
   "source": [
    "# Read Data"
   ]
  },
  {
   "cell_type": "markdown",
   "metadata": {},
   "source": [
    "## Ronchi 400"
   ]
  },
  {
   "cell_type": "code",
   "execution_count": null,
   "metadata": {},
   "outputs": [],
   "source": [
    "df_R400=pd.read_csv(file_R400,header=3,index_col=False)"
   ]
  },
  {
   "cell_type": "code",
   "execution_count": null,
   "metadata": {},
   "outputs": [],
   "source": [
    "df_R400.head()"
   ]
  },
  {
   "cell_type": "markdown",
   "metadata": {},
   "source": [
    "## Thor 300"
   ]
  },
  {
   "cell_type": "code",
   "execution_count": null,
   "metadata": {},
   "outputs": [],
   "source": [
    "df_T300=pd.read_csv(file_T300,index_col=False,header=0)"
   ]
  },
  {
   "cell_type": "code",
   "execution_count": null,
   "metadata": {},
   "outputs": [],
   "source": [
    "df_T300.head()"
   ]
  },
  {
   "cell_type": "code",
   "execution_count": null,
   "metadata": {},
   "outputs": [],
   "source": [
    "df_T300=df_T300.drop([\"_n\",\"_x\",\"_y\"],axis=1)"
   ]
  },
  {
   "cell_type": "code",
   "execution_count": null,
   "metadata": {},
   "outputs": [],
   "source": [
    "df_T300=df_T300.rename({'_dx': 'X', '_dy': 'Y'}, axis=1) "
   ]
  },
  {
   "cell_type": "markdown",
   "metadata": {},
   "source": [
    "## Holo PhAg"
   ]
  },
  {
   "cell_type": "code",
   "execution_count": null,
   "metadata": {},
   "outputs": [],
   "source": [
    "df_HoloPhAg= pd.read_csv(file_HoloPhAg,index_col=False,header=3)"
   ]
  },
  {
   "cell_type": "code",
   "execution_count": null,
   "metadata": {},
   "outputs": [],
   "source": [
    "df_HoloPhAg.head()"
   ]
  },
  {
   "cell_type": "markdown",
   "metadata": {},
   "source": [
    "## Holo AmAg"
   ]
  },
  {
   "cell_type": "code",
   "execution_count": null,
   "metadata": {},
   "outputs": [],
   "source": [
    "df_HoloAmAg= pd.read_csv(file_HoloAmAg,index_col=False,header=0)"
   ]
  },
  {
   "cell_type": "code",
   "execution_count": null,
   "metadata": {},
   "outputs": [],
   "source": [
    "df_HoloAmAg.head()"
   ]
  },
  {
   "cell_type": "code",
   "execution_count": null,
   "metadata": {},
   "outputs": [],
   "source": [
    "df_HoloAmAg=df_HoloAmAg.drop([\"_n\",\"_x\",\"_y\"],axis=1)"
   ]
  },
  {
   "cell_type": "code",
   "execution_count": null,
   "metadata": {},
   "outputs": [],
   "source": [
    "df_HoloAmAg=df_HoloAmAg.rename({'_dx': 'X', '_dy': 'Y'}, axis=1) "
   ]
  },
  {
   "cell_type": "code",
   "execution_count": null,
   "metadata": {},
   "outputs": [],
   "source": [
    "plt.figure(figsize=(14,6))\n",
    "plt.plot(df_R400[\"X\"],df_R400[\"Y\"],color=\"blue\",label=\"Ronchi 400\",lw=2)\n",
    "plt.plot(df_T300[\"X\"],df_T300[\"Y\"],color=\"orange\",label=\"Thor 300\",lw=2)\n",
    "plt.plot(df_HoloPhAg[\"X\"],df_HoloPhAg[\"Y\"],color=\"green\",label=\"Hologram PhAg\",lw=2)\n",
    "plt.plot(df_HoloAmAg[\"X\"], df_HoloAmAg[\"Y\"],color=\"red\",label=\"Hologram AmAg\",lw=2)\n",
    "plt.legend()\n",
    "plt.grid()\n",
    "plt.xlabel(\"$d(\\lambda)$ [pixels]\")\n",
    "plt.ylabel(\"$FWHM$ [pixels]\")\n",
    "plt.title(\"Disperser resolution\")"
   ]
  },
  {
   "cell_type": "markdown",
   "metadata": {},
   "source": [
    "# Conversion"
   ]
  },
  {
   "cell_type": "code",
   "execution_count": null,
   "metadata": {},
   "outputs": [],
   "source": [
    "WL=np.linspace(200.,1200.,100)\n",
    "D=58*mm_to_micr"
   ]
  },
  {
   "cell_type": "code",
   "execution_count": null,
   "metadata": {},
   "outputs": [],
   "source": [
    "WL=np.linspace(200.,1200.,100)\n",
    "#----------\n",
    "# Thor 300\n",
    "#----------\n",
    "a=1/300.*mm_to_micr\n",
    "\n",
    "## deviation\n",
    "DX_mm=Dispersion(WL*nm_to_micr,a,D)*micr_to_mm  # mm\n",
    "DX_pix=Dispersion(WL*nm_to_micr,a,D)/Det_xpic   # pixel\n",
    "## dispersion rate\n",
    "DX_mmperDLmic=Dispersion_Rate(WL*nm_to_micr,a,D)*micr_to_mm    # mm per microns\n",
    "DXpixperDLnm=Dispersion_Rate(WL*nm_to_micr,a,D)/Det_xpic*1e-3  # pixel per nm\n",
    "\n",
    "T300_DXpix_to_DWL=interp1d(DX_pix,WL, kind='cubic')  # convert deviation in pixel into wavelength\n",
    "T300_FWHMpix_to_FWHM_mm=interp1d(WL,DXpixperDLnm,kind='cubic')  # convert WL into cooresponding DxpixdivdWL_nm\n",
    "\n",
    "X_T300=T300_DXpix_to_DWL(df_T300[\"X\"])  # convert pixels to WL in nm\n",
    "Y_T300=df_T300[\"Y\"]*Det_xpic*micr_to_mm       "
   ]
  },
  {
   "cell_type": "code",
   "execution_count": null,
   "metadata": {},
   "outputs": [],
   "source": [
    "#----------\n",
    "# R 400\n",
    "#----------\n",
    "a=1/400.*mm_to_micr\n",
    "\n",
    "## deviation\n",
    "DX_mm=Dispersion(WL*nm_to_micr,a,D)*micr_to_mm  # mm\n",
    "DX_pix=Dispersion(WL*nm_to_micr,a,D)/Det_xpic   # pixel\n",
    "\n",
    "R400_DXpix_to_DWL=interp1d(DX_pix,WL, kind='cubic')  # convert deviation in pixel into wavelength\n",
    "\n",
    "X_R400=R400_DXpix_to_DWL(df_R400[\"X\"])  # convert pixels to WL in nm\n",
    "Y_R400=df_R400[\"Y\"]*Det_xpic*micr_to_mm  \n"
   ]
  },
  {
   "cell_type": "code",
   "execution_count": null,
   "metadata": {},
   "outputs": [],
   "source": [
    "#----------\n",
    "# H 350\n",
    "#----------\n",
    "a=1/350.*mm_to_micr\n",
    "\n",
    "## deviation\n",
    "DX_mm=Dispersion(WL*nm_to_micr,a,D)*micr_to_mm  # mm\n",
    "DX_pix=Dispersion(WL*nm_to_micr,a,D)/Det_xpic   # pixel\n",
    "\n",
    "H350_DXpix_to_DWL=interp1d(DX_pix,WL, kind='cubic')  # convert deviation in pixel into wavelength\n",
    "\n",
    "\n",
    "X_HoloPhAg=H350_DXpix_to_DWL(df_HoloPhAg[\"X\"])  # convert pixels to WL in nm\n",
    "Y_HoloPhAg=df_HoloPhAg[\"Y\"]*Det_xpic*micr_to_mm  \n",
    "\n",
    "\n",
    "X_HoloAmAg=H350_DXpix_to_DWL(df_HoloAmAg[\"X\"])  # convert pixels to WL in nm\n",
    "Y_HoloAmAg=df_HoloAmAg[\"Y\"]*Det_xpic*micr_to_mm  "
   ]
  },
  {
   "cell_type": "code",
   "execution_count": null,
   "metadata": {},
   "outputs": [],
   "source": [
    "fig, ax1 = plt.subplots(figsize=(14,8))\n",
    "\n",
    "#color = 'tab:red'\n",
    "color = 'red'\n",
    "\n",
    "ax1.set_ylim(0,250)\n",
    "ax1.plot(X_R400,Y_R400*mm_to_micr,color=\"blue\",label=\"Ronchi 400\",lw=2)\n",
    "ax1.plot(X_HoloPhAg,Y_HoloPhAg*mm_to_micr,color=\"green\",label=\"Hologram PhAg\",lw=2)\n",
    "ax1.plot(X_HoloAmAg,Y_HoloAmAg*mm_to_micr,color=\"red\",label=\"Hologram PhAg\",lw=2)\n",
    "ax1.plot(X_T300,Y_T300*mm_to_micr,color=\"orange\",label=\"Thor 300\",lw=2)\n",
    "\n",
    "ax1.set_title(\" Transverse FWHM\")\n",
    "ax1.set_xlabel(\"$\\lambda$\")\n",
    "ax1.set_ylabel(\"$FWHM$ ($\\mu$m)\",color=color)\n",
    "ax1.grid()\n",
    "ax1.legend()\n",
    "ax1.tick_params(axis='y', labelcolor=color)\n",
    "\n",
    "ax2 = ax1.twinx()  # instantiate a second axes that shares the same x-axis\n",
    "\n",
    "#color = 'tab:blue'\n",
    "color = 'blue'\n",
    "\n",
    "ax2.plot(X_R400,Y_R400*plt_scale,color=\"blue\",lw=2)\n",
    "ax2.plot(X_HoloPhAg,Y_HoloPhAg*plt_scale,color=\"green\",lw=2)\n",
    "ax2.plot(X_HoloAmAg,Y_HoloAmAg*plt_scale,color=\"red\",lw=2)\n",
    "ax2.plot(X_T300,Y_T300*plt_scale,color=\"orange\",lw=2)\n",
    "ax2.set_ylabel('$FWHM$ (arcsec)', color=color)  # we already handled the x-label with ax1\n",
    "#ax2.plot(t, data2, color=color)\n",
    "ax2.tick_params(axis='y', labelcolor=color)\n",
    "\n",
    "ax2.set_ylim(0,0.25*plt_scale)\n",
    "\n",
    "#fig.tight_layout()  # otherwise the right y-label is slightly clipped\n",
    "plt.savefig(\"PSF_FWHM_DATACTIO.pdf\")\n",
    "plt.show()\n",
    "\n",
    "\n"
   ]
  },
  {
   "cell_type": "markdown",
   "metadata": {},
   "source": [
    "# Read simulation"
   ]
  },
  {
   "cell_type": "code",
   "execution_count": null,
   "metadata": {},
   "outputs": [],
   "source": [
    "disperser_name=[\"Ronchi 400\",\"Ronchi 350\",\"Ronchi 300\",\"Ronchi 200\",\"Hologram\"]\n",
    "disperser_color=[\"k\",\"b\",\"y\",\"g\",\"r\"]"
   ]
  },
  {
   "cell_type": "code",
   "execution_count": null,
   "metadata": {},
   "outputs": [],
   "source": [
    "infileR400data_excel=\"R400_PSF_\"+ Beam4_Rayfile+\"_out_v2.xlsx\"\n",
    "infileR350data_excel=\"R350_PSF_\"+ Beam4_Rayfile+\"_out_v2.xlsx\"\n",
    "infileR200data_excel=\"R200_PSF_\"+ Beam4_Rayfile+\"_out_v2.xlsx\"\n",
    "infileR300data_excel=\"R300_PSF_\"+ Beam4_Rayfile+\"_out_v2.xlsx\"\n",
    "infileHOEdata_excel=\"HOE_PSF_\"+ Beam4_Rayfile+\"_out_v2.xlsx\""
   ]
  },
  {
   "cell_type": "code",
   "execution_count": null,
   "metadata": {},
   "outputs": [],
   "source": [
    "all_simfiles=[infileR400data_excel,infileR350data_excel,infileR300data_excel,infileR200data_excel,infileHOEdata_excel]"
   ]
  },
  {
   "cell_type": "code",
   "execution_count": null,
   "metadata": {},
   "outputs": [],
   "source": [
    "all_simdf=[]\n",
    "\n",
    "for file in all_simfiles:\n",
    "    df = pd.read_excel(file,index_col=0)\n",
    "    \n",
    "    #\n",
    "    df[\"a\"]=df[\"xmax\"]-df[\"xav\"]\n",
    "    df[\"b\"]=df[\"xav\"]-df[\"xmin\"]\n",
    "    df[\"RXmax\"]=df[[\"a\",\"b\"]].apply(max, axis=1)\n",
    "    df.drop([\"a\",\"b\"],axis=1,inplace=True)\n",
    "    df[\"FWHMx\"]=df[\"RXmax\"]*np.sqrt(3)\n",
    "    \n",
    "    #\n",
    "    df[\"a\"]=df[\"ymax\"]-df[\"yav\"]\n",
    "    df[\"b\"]=df[\"yav\"]-df[\"ymin\"]\n",
    "    df[\"RYmax\"]=df[[\"a\",\"b\"]].apply(max, axis=1)\n",
    "    df.drop([\"a\",\"b\"],axis=1,inplace=True)\n",
    "    df[\"FWHMy\"]=df[\"RYmax\"]*np.sqrt(3)\n",
    "    \n",
    "    all_simdf.append(df)"
   ]
  },
  {
   "cell_type": "code",
   "execution_count": null,
   "metadata": {},
   "outputs": [],
   "source": [
    "len(all_simdf)"
   ]
  },
  {
   "cell_type": "code",
   "execution_count": null,
   "metadata": {},
   "outputs": [],
   "source": [
    "fig, ax1 = plt.subplots(figsize=(14,8))\n",
    "\n",
    "#color = 'tab:red'\n",
    "color = 'red'\n",
    "\n",
    "ax1.set_ylim(0,250)\n",
    "ax1.set_xlim(350,1000)\n",
    "ax1.plot(X_R400,Y_R400*mm_to_micr,color=\"blue\",label=\"Ronchi 400\",lw=2)\n",
    "ax1.plot(X_HoloPhAg,Y_HoloPhAg*mm_to_micr,color=\"green\",label=\"Hologram PhAg\",lw=2)\n",
    "ax1.plot(X_HoloAmAg,Y_HoloAmAg*mm_to_micr,color=\"red\",label=\"Hologram PhAg\",lw=2)\n",
    "ax1.plot(X_T300,Y_T300*mm_to_micr,color=\"orange\",label=\"Thor 300\",lw=2)\n",
    "\n",
    "ax1.set_title(\" transverse FWHM : Data and Simulation \")\n",
    "ax1.set_xlabel(\"$\\lambda$\")\n",
    "ax1.set_ylabel(\"$FWHM$ ($\\mu$m)\",color=color)\n",
    "ax1.grid()\n",
    "ax1.legend()\n",
    "ax1.tick_params(axis='y', labelcolor=color)\n",
    "\n",
    "ax1.plot(X_R400,Y_R400*mm_to_micr,color=\"blue\",label=\"Ronchi 400\",lw=2)\n",
    "\n",
    "# simlulation\n",
    "sim_R400=all_simdf[0]\n",
    "ax1.plot(WLSIM,sim_R400[\"FWHMy\"].values*mm_to_micr,\"o-.\",color=\"blue\",lw=1)\n",
    "#ax1.plot(WLSIM,sim_R400[\"RXmax\"].values*mm_to_micr,\"o-.\",color=\"blue\",lw=1)\n",
    "\n",
    "sim_R300=all_simdf[2]\n",
    "ax1.plot(WLSIM,sim_R300[\"FWHMy\"].values*mm_to_micr,\"o-.\",color=\"orange\",lw=1)\n",
    "#ax1.plot(WLSIM,sim_R300[\"RYmax\"].values*mm_to_micr,\"o-.\",color=\"orange\",lw=1)\n",
    "\n",
    "sim_HOE=all_simdf[4]\n",
    "ax1.plot(WLSIM,sim_HOE[\"FWHMy\"].values*mm_to_micr,\"o-.\",color=\"red\",lw=1)\n",
    "#ax1.plot(WLSIM,sim_HOE[\"RYmax\"].values*mm_to_micr,\"o-.\",color=\"red\",lw=1)\n",
    "\n",
    "# arcsec axis\n",
    "\n",
    "ax2 = ax1.twinx()  # instantiate a second axes that shares the same x-axis\n",
    "\n",
    "#color = 'tab:blue'\n",
    "color = 'blue'\n",
    "\n",
    "ax2.plot(X_R400,Y_R400*plt_scale,color=\"blue\",lw=2)\n",
    "ax2.plot(X_HoloPhAg,Y_HoloPhAg*plt_scale,color=\"green\",lw=2)\n",
    "ax2.plot(X_HoloAmAg,Y_HoloAmAg*plt_scale,color=\"red\",lw=2)\n",
    "ax2.plot(X_T300,Y_T300*plt_scale,color=\"orange\",lw=2)\n",
    "ax2.set_ylabel('$FWHM$ (arcsec)', color=color)  # we already handled the x-label with ax1\n",
    "#ax2.plot(t, data2, color=color)\n",
    "ax2.tick_params(axis='y', labelcolor=color)\n",
    "\n",
    "ax2.set_xlim(350,1000)\n",
    "ax2.set_ylim(0,0.25*plt_scale)\n",
    "\n",
    "#fig.tight_layout()  # otherwise the right y-label is slightly clipped\n",
    "plt.savefig(\"PSF_FWHM_DATASIMCTIO.pdf\")\n",
    "plt.show()\n",
    "\n"
   ]
  },
  {
   "cell_type": "code",
   "execution_count": null,
   "metadata": {},
   "outputs": [],
   "source": []
  }
 ],
 "metadata": {
  "anaconda-cloud": {},
  "kernelspec": {
   "display_name": "Python 3",
   "language": "python",
   "name": "python3"
  },
  "language_info": {
   "codemirror_mode": {
    "name": "ipython",
    "version": 3
   },
   "file_extension": ".py",
   "mimetype": "text/x-python",
   "name": "python",
   "nbconvert_exporter": "python",
   "pygments_lexer": "ipython3",
   "version": "3.7.6"
  },
  "toc": {
   "nav_menu": {},
   "number_sections": true,
   "sideBar": true,
   "skip_h1_title": false,
   "toc_cell": false,
   "toc_position": {},
   "toc_section_display": "block",
   "toc_window_display": false
  }
 },
 "nbformat": 4,
 "nbformat_minor": 2
}
