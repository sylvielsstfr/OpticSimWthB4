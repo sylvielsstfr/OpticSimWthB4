{
 "cells": [
  {
   "cell_type": "markdown",
   "metadata": {},
   "source": [
    "# Draw Interpolated PSF\n",
    "\n",
    "\n",
    "Interpolate the PSF within the simulated ray grid\n",
    "\n",
    "- author : Sylvie Dagoret-Campagne\n",
    "- affiliation : IJCLab/IN2P3/CNRS\n",
    "\n",
    "- creation date : June 3rd 2020\n"
   ]
  },
  {
   "cell_type": "code",
   "execution_count": 329,
   "metadata": {},
   "outputs": [],
   "source": [
    "%matplotlib inline\n",
    "import matplotlib.pyplot as plt\n",
    "import numpy as np\n",
    "import os\n",
    "import matplotlib as mpl\n",
    "import pandas as pd\n",
    "import itertools\n",
    "import matplotlib.gridspec as gridspec\n",
    "from matplotlib.patches import Circle,Ellipse\n",
    "\n",
    "import matplotlib.colors as colors\n",
    "import matplotlib.cm as cmx\n",
    "from matplotlib import cm"
   ]
  },
  {
   "cell_type": "code",
   "execution_count": 330,
   "metadata": {},
   "outputs": [],
   "source": [
    "# to enlarge the sizes\n",
    "params = {'legend.fontsize': 'x-large',\n",
    "          'figure.figsize': (13, 13),\n",
    "         'axes.labelsize': 'x-large',\n",
    "         'axes.titlesize':'x-large',\n",
    "         'xtick.labelsize':'x-large',\n",
    "         'ytick.labelsize':'x-large',\n",
    "         'font.size': 14}\n",
    "plt.rcParams.update(params)"
   ]
  },
  {
   "cell_type": "code",
   "execution_count": 331,
   "metadata": {},
   "outputs": [],
   "source": [
    "from astropy.modeling import models, fitting\n",
    "from astropy.modeling.models import custom_model"
   ]
  },
  {
   "cell_type": "code",
   "execution_count": 332,
   "metadata": {},
   "outputs": [],
   "source": [
    "from scipy import interpolate"
   ]
  },
  {
   "cell_type": "code",
   "execution_count": 333,
   "metadata": {},
   "outputs": [],
   "source": [
    "from sklearn.neighbors import NearestNeighbors"
   ]
  },
  {
   "cell_type": "code",
   "execution_count": 334,
   "metadata": {},
   "outputs": [],
   "source": [
    "from astropy.modeling import models, fitting\n",
    "from astropy.modeling.models import custom_model"
   ]
  },
  {
   "cell_type": "code",
   "execution_count": 335,
   "metadata": {},
   "outputs": [],
   "source": [
    "from datetime import datetime,date"
   ]
  },
  {
   "cell_type": "code",
   "execution_count": 336,
   "metadata": {},
   "outputs": [],
   "source": [
    "today = date.today()\n",
    "string_date=today.strftime(\"%Y-%m-%d\")"
   ]
  },
  {
   "cell_type": "markdown",
   "metadata": {},
   "source": [
    "## Constants for conversions"
   ]
  },
  {
   "cell_type": "code",
   "execution_count": 337,
   "metadata": {},
   "outputs": [],
   "source": [
    "m_to_mm=1000.\n",
    "mm_to_m=1e-3\n",
    "mm_to_micr=1e3\n",
    "inch_to_mm=25.4\n",
    "mm_to_inch=1./inch_to_mm\n",
    "micr_to_m=1e-6\n",
    "micr_to_mm=1e-3\n",
    "m_to_micr=1./micr_to_m\n",
    "m_to_cm=100.\n",
    "m_to_nm=1e9\n",
    "nm_to_m=1./m_to_nm"
   ]
  },
  {
   "cell_type": "code",
   "execution_count": 338,
   "metadata": {},
   "outputs": [],
   "source": [
    "arcdeg_to_arcmin=60.\n",
    "arcmin_to_arcdeg=1./arcdeg_to_arcmin\n",
    "arcmin_to_arcsec=60.\n",
    "arcdeg_to_arcsec=arcdeg_to_arcmin*arcmin_to_arcsec\n",
    "arcsec_to_arcdeg=1./arcdeg_to_arcsec"
   ]
  },
  {
   "cell_type": "code",
   "execution_count": 339,
   "metadata": {},
   "outputs": [],
   "source": [
    "deg_to_rad=np.pi/180."
   ]
  },
  {
   "cell_type": "code",
   "execution_count": 340,
   "metadata": {},
   "outputs": [],
   "source": [
    "rad_to_deg=1./deg_to_rad\n",
    "rad_to_arcsec=rad_to_deg*arcdeg_to_arcsec\n",
    "rad_to_arcmin=rad_to_deg*arcdeg_to_arcmin\n",
    "arcmin_to_rad=1./rad_to_arcmin"
   ]
  },
  {
   "cell_type": "markdown",
   "metadata": {},
   "source": [
    "## Configuration parameters at the telescope"
   ]
  },
  {
   "cell_type": "markdown",
   "metadata": {},
   "source": [
    "#### telescope"
   ]
  },
  {
   "cell_type": "code",
   "execution_count": 341,
   "metadata": {},
   "outputs": [],
   "source": [
    "Tel_Focal_Length=12.6 # m : Focal length of the telescope\n",
    "Tel_Diameter=0.9 # m : Diameter of the telescope    \n",
    "Tel_Fnum=Tel_Focal_Length/Tel_Diameter\n",
    "pltscale=206265/(Tel_Focal_Length*m_to_mm)  # arcsec per mm"
   ]
  },
  {
   "cell_type": "code",
   "execution_count": 342,
   "metadata": {},
   "outputs": [
    {
     "name": "stdout",
     "output_type": "stream",
     "text": [
      "plate_scale=16.37 arcsec per mm \n"
     ]
    }
   ],
   "source": [
    "print(\"plate_scale={:2.2f} arcsec per mm \".format(pltscale))"
   ]
  },
  {
   "cell_type": "code",
   "execution_count": 343,
   "metadata": {},
   "outputs": [
    {
     "name": "stdout",
     "output_type": "stream",
     "text": [
      "1 arsec = 61.09 microns\n"
     ]
    }
   ],
   "source": [
    "print(\"1 arsec = {:2.2f} microns\".format(1/pltscale*mm_to_micr))"
   ]
  },
  {
   "cell_type": "code",
   "execution_count": 344,
   "metadata": {},
   "outputs": [
    {
     "data": {
      "text/plain": [
       "77.65228784593788"
      ]
     },
     "execution_count": 344,
     "metadata": {},
     "output_type": "execute_result"
    }
   ],
   "source": [
    "1/pltscale*mm_to_micr/2.36*3"
   ]
  },
  {
   "cell_type": "markdown",
   "metadata": {},
   "source": [
    "#### filter"
   ]
  },
  {
   "cell_type": "code",
   "execution_count": 345,
   "metadata": {},
   "outputs": [],
   "source": [
    "Filt_D=0.05769 # m distance of the filter position wrt CCD plane\n",
    "Filt_size=3*inch_to_mm"
   ]
  },
  {
   "cell_type": "markdown",
   "metadata": {},
   "source": [
    "#### CCD detector"
   ]
  },
  {
   "cell_type": "code",
   "execution_count": 346,
   "metadata": {},
   "outputs": [],
   "source": [
    "Det_xpic=24.0 # microns per pixel\n",
    "#Det_NbPix=2048 # number of pixels per CCD side\n",
    "Det_NbPix=2512 # number of pixels per CCD side For 400 only\n",
    "Det_size=Det_xpic*Det_NbPix*micr_to_mm # CCD size in mm, 5 cm or 2 inch"
   ]
  },
  {
   "cell_type": "markdown",
   "metadata": {},
   "source": [
    "## Input file"
   ]
  },
  {
   "cell_type": "code",
   "execution_count": 347,
   "metadata": {},
   "outputs": [],
   "source": [
    "# number of rays\n",
    "NBEAM_X=11\n",
    "NBEAM_Y=11\n",
    "NBEAM=NBEAM_X*NBEAM_Y\n",
    "NWL=4\n",
    "NBTOT=NBEAM*NWL"
   ]
  },
  {
   "cell_type": "code",
   "execution_count": 348,
   "metadata": {},
   "outputs": [],
   "source": [
    "theta_x=0.  # angle in arcmin\n",
    "theta_y=0.  # angle in arcmin "
   ]
  },
  {
   "cell_type": "code",
   "execution_count": 349,
   "metadata": {},
   "outputs": [],
   "source": [
    "theta_x_num=int(theta_x*10)\n",
    "theta_y_num=int(theta_y*10)"
   ]
  },
  {
   "cell_type": "code",
   "execution_count": 350,
   "metadata": {},
   "outputs": [],
   "source": [
    "if theta_x_num>0:\n",
    "    theta_nstr='{:0>2}'.format(theta_x_num)\n",
    "    theta_x_str=\"p\"+theta_nstr\n",
    "else:\n",
    "    theta_nstr='{:0>2}'.format(-theta_x_num)\n",
    "    theta_x_str=\"m\"+theta_nstr"
   ]
  },
  {
   "cell_type": "code",
   "execution_count": 351,
   "metadata": {},
   "outputs": [],
   "source": [
    "if theta_y_num>0:\n",
    "    theta_nstr='{:0>2}'.format(theta_y_num)\n",
    "    theta_y_str=\"p\"+theta_nstr\n",
    "else:\n",
    "    theta_nstr='{:0>2}'.format(-theta_y_num)\n",
    "    theta_y_str=\"m\"+theta_nstr"
   ]
  },
  {
   "cell_type": "code",
   "execution_count": 352,
   "metadata": {},
   "outputs": [],
   "source": [
    "Beam4_Rayfile=\"Beam4_Rayfile_{:d}_allwl_{}_{}\".format(NBTOT,theta_x_str,theta_y_str)"
   ]
  },
  {
   "cell_type": "code",
   "execution_count": 353,
   "metadata": {},
   "outputs": [
    {
     "data": {
      "text/plain": [
       "'Beam4_Rayfile_484_allwl_m00_m00'"
      ]
     },
     "execution_count": 353,
     "metadata": {},
     "output_type": "execute_result"
    }
   ],
   "source": [
    "Beam4_Rayfile"
   ]
  },
  {
   "cell_type": "code",
   "execution_count": 354,
   "metadata": {},
   "outputs": [],
   "source": [
    "order=\"OP1\"\n",
    "order_str=\"+1\""
   ]
  },
  {
   "cell_type": "markdown",
   "metadata": {},
   "source": [
    "# Read input files"
   ]
  },
  {
   "cell_type": "code",
   "execution_count": 355,
   "metadata": {},
   "outputs": [],
   "source": [
    "FLAG_R350=True # show RON350 instead of R200"
   ]
  },
  {
   "cell_type": "code",
   "execution_count": 356,
   "metadata": {},
   "outputs": [],
   "source": [
    "#rayfile_hoe=Beam4_Rayfile+\"_RAY_HOE_OUT.xlsx\"\n",
    "#rayfile_R400=Beam4_Rayfile+\"_RAY_RON400_OUT.xlsx\"\n",
    "#rayfile_R200=Beam4_Rayfile+\"_RAY_RON200_OUT.xlsx\"\n",
    "#rayfile_R350=Beam4_Rayfile+\"_RAY_RON350_OUT.xlsx\""
   ]
  },
  {
   "cell_type": "code",
   "execution_count": 357,
   "metadata": {},
   "outputs": [],
   "source": [
    "rayfile_R200=\"R200_Beam4_Rayfile_484_allwl_m00_m00_2020_05_25_B4OUT_RAY.xlsx\"\n",
    "rayfile_R350=\"R350_Beam4_Rayfile_484_allwl_m00_m00_2020_05_25_B4OUT_RAY.xlsx\"\n",
    "rayfile_R400=\"R400_Beam4_Rayfile_484_allwl_m00_m00_2020_05_25_B4OUT_RAY.xlsx\"\n",
    "rayfile_hoe=\"HOE_Beam4_Rayfile_484_allwl_m00_m00_2020_05_25_B4OUT_RAY.xlsx\"\n",
    "rayfile_R300=\"R300_Beam4_Rayfile_484_allwl_m00_m00_2020_05_31_B4OUT_RAY.xlsx\""
   ]
  },
  {
   "cell_type": "code",
   "execution_count": 358,
   "metadata": {},
   "outputs": [],
   "source": [
    "input_hoe = pd.ExcelFile(rayfile_hoe)\n",
    "df_hoe = input_hoe.parse(index_row=0,header=1)\n",
    "df_hoe=df_hoe.iloc[0:NBTOT]"
   ]
  },
  {
   "cell_type": "code",
   "execution_count": 359,
   "metadata": {},
   "outputs": [],
   "source": [
    "# rename columns otherwise they are not recognize and swap X,Y\n",
    "#df_hoe.columns = [\"X0\",\"Y0\",\"Z0\",\"U0\",\"V0\",\"W0\",\"wave\",\"X1\",\"Y1\",\"Z1\",\"X2\",\"Y2\",\"Z2\",\"X3\",\"Y3\",\"Z3\",\"Xfinal\",\"Yfinal\",\"Zfinal\",\"Notes\"]\n",
    "#df_hoe.columns = [\"Y0\",\"X0\",\"Z0\",\"V0\",\"U0\",\"W0\",\"wave\",\"Y1\",\"X1\",\"Z1\",\"Y2\",\"X2\",\"Z2\",\"Y3\",\"X3\",\"Z3\",\"Yfinal\",\"Xfinal\",\"Zfinal\",\"Notes\"]"
   ]
  },
  {
   "cell_type": "code",
   "execution_count": 360,
   "metadata": {},
   "outputs": [
    {
     "data": {
      "text/html": [
       "<div>\n",
       "<style scoped>\n",
       "    .dataframe tbody tr th:only-of-type {\n",
       "        vertical-align: middle;\n",
       "    }\n",
       "\n",
       "    .dataframe tbody tr th {\n",
       "        vertical-align: top;\n",
       "    }\n",
       "\n",
       "    .dataframe thead th {\n",
       "        text-align: right;\n",
       "    }\n",
       "</style>\n",
       "<table border=\"1\" class=\"dataframe\">\n",
       "  <thead>\n",
       "    <tr style=\"text-align: right;\">\n",
       "      <th></th>\n",
       "      <th>X0</th>\n",
       "      <th>Y0</th>\n",
       "      <th>Z0</th>\n",
       "      <th>U0</th>\n",
       "      <th>V0</th>\n",
       "      <th>W0</th>\n",
       "      <th>wave</th>\n",
       "      <th>col</th>\n",
       "      <th>X1</th>\n",
       "      <th>Y1</th>\n",
       "      <th>...</th>\n",
       "      <th>X3</th>\n",
       "      <th>Y3</th>\n",
       "      <th>Z3</th>\n",
       "      <th>Xgoal</th>\n",
       "      <th>Ygoal</th>\n",
       "      <th>Xfinal</th>\n",
       "      <th>Yfinal</th>\n",
       "      <th>Zfinal</th>\n",
       "      <th>Notes</th>\n",
       "      <th>Unnamed: 23</th>\n",
       "    </tr>\n",
       "  </thead>\n",
       "  <tbody>\n",
       "    <tr>\n",
       "      <th>0</th>\n",
       "      <td>-2.856536</td>\n",
       "      <td>-2.856536</td>\n",
       "      <td>0</td>\n",
       "      <td>0.035661</td>\n",
       "      <td>0.035661</td>\n",
       "      <td>0.998727</td>\n",
       "      <td>0.0004</td>\n",
       "      <td>b</td>\n",
       "      <td>-2.106694</td>\n",
       "      <td>-2.10669</td>\n",
       "      <td>...</td>\n",
       "      <td>8.27790</td>\n",
       "      <td>-0.01283</td>\n",
       "      <td>79.99998</td>\n",
       "      <td>0</td>\n",
       "      <td>0</td>\n",
       "      <td>8.27790</td>\n",
       "      <td>-0.01283</td>\n",
       "      <td>80</td>\n",
       "      <td>OK</td>\n",
       "      <td>3</td>\n",
       "    </tr>\n",
       "    <tr>\n",
       "      <th>1</th>\n",
       "      <td>-2.285228</td>\n",
       "      <td>-2.856536</td>\n",
       "      <td>0</td>\n",
       "      <td>0.028535</td>\n",
       "      <td>0.035669</td>\n",
       "      <td>0.998956</td>\n",
       "      <td>0.0004</td>\n",
       "      <td>b</td>\n",
       "      <td>-1.685357</td>\n",
       "      <td>-2.10670</td>\n",
       "      <td>...</td>\n",
       "      <td>8.28523</td>\n",
       "      <td>-0.01285</td>\n",
       "      <td>79.99998</td>\n",
       "      <td>0</td>\n",
       "      <td>0</td>\n",
       "      <td>8.28523</td>\n",
       "      <td>-0.01285</td>\n",
       "      <td>80</td>\n",
       "      <td>OK</td>\n",
       "      <td>3</td>\n",
       "    </tr>\n",
       "    <tr>\n",
       "      <th>2</th>\n",
       "      <td>-1.713921</td>\n",
       "      <td>-2.856536</td>\n",
       "      <td>0</td>\n",
       "      <td>0.021406</td>\n",
       "      <td>0.035676</td>\n",
       "      <td>0.999134</td>\n",
       "      <td>0.0004</td>\n",
       "      <td>b</td>\n",
       "      <td>-1.264016</td>\n",
       "      <td>-2.10669</td>\n",
       "      <td>...</td>\n",
       "      <td>8.29260</td>\n",
       "      <td>-0.01287</td>\n",
       "      <td>79.99998</td>\n",
       "      <td>0</td>\n",
       "      <td>0</td>\n",
       "      <td>8.29260</td>\n",
       "      <td>-0.01287</td>\n",
       "      <td>80</td>\n",
       "      <td>OK</td>\n",
       "      <td>3</td>\n",
       "    </tr>\n",
       "    <tr>\n",
       "      <th>3</th>\n",
       "      <td>-1.142614</td>\n",
       "      <td>-2.856536</td>\n",
       "      <td>0</td>\n",
       "      <td>0.014272</td>\n",
       "      <td>0.035680</td>\n",
       "      <td>0.999261</td>\n",
       "      <td>0.0004</td>\n",
       "      <td>b</td>\n",
       "      <td>-0.842679</td>\n",
       "      <td>-2.10670</td>\n",
       "      <td>...</td>\n",
       "      <td>8.30001</td>\n",
       "      <td>-0.01289</td>\n",
       "      <td>79.99998</td>\n",
       "      <td>0</td>\n",
       "      <td>0</td>\n",
       "      <td>8.30001</td>\n",
       "      <td>-0.01289</td>\n",
       "      <td>80</td>\n",
       "      <td>OK</td>\n",
       "      <td>3</td>\n",
       "    </tr>\n",
       "    <tr>\n",
       "      <th>4</th>\n",
       "      <td>-0.571307</td>\n",
       "      <td>-2.856536</td>\n",
       "      <td>0</td>\n",
       "      <td>0.007137</td>\n",
       "      <td>0.035683</td>\n",
       "      <td>0.999338</td>\n",
       "      <td>0.0004</td>\n",
       "      <td>b</td>\n",
       "      <td>-0.421339</td>\n",
       "      <td>-2.10670</td>\n",
       "      <td>...</td>\n",
       "      <td>8.30745</td>\n",
       "      <td>-0.01291</td>\n",
       "      <td>79.99998</td>\n",
       "      <td>0</td>\n",
       "      <td>0</td>\n",
       "      <td>8.30745</td>\n",
       "      <td>-0.01291</td>\n",
       "      <td>80</td>\n",
       "      <td>OK</td>\n",
       "      <td>3</td>\n",
       "    </tr>\n",
       "    <tr>\n",
       "      <th>...</th>\n",
       "      <td>...</td>\n",
       "      <td>...</td>\n",
       "      <td>...</td>\n",
       "      <td>...</td>\n",
       "      <td>...</td>\n",
       "      <td>...</td>\n",
       "      <td>...</td>\n",
       "      <td>...</td>\n",
       "      <td>...</td>\n",
       "      <td>...</td>\n",
       "      <td>...</td>\n",
       "      <td>...</td>\n",
       "      <td>...</td>\n",
       "      <td>...</td>\n",
       "      <td>...</td>\n",
       "      <td>...</td>\n",
       "      <td>...</td>\n",
       "      <td>...</td>\n",
       "      <td>...</td>\n",
       "      <td>...</td>\n",
       "      <td>...</td>\n",
       "    </tr>\n",
       "    <tr>\n",
       "      <th>479</th>\n",
       "      <td>0.571307</td>\n",
       "      <td>2.856536</td>\n",
       "      <td>0</td>\n",
       "      <td>-0.007137</td>\n",
       "      <td>-0.035683</td>\n",
       "      <td>0.999338</td>\n",
       "      <td>0.0010</td>\n",
       "      <td>k</td>\n",
       "      <td>0.421339</td>\n",
       "      <td>2.10670</td>\n",
       "      <td>...</td>\n",
       "      <td>21.97558</td>\n",
       "      <td>-0.05372</td>\n",
       "      <td>79.99998</td>\n",
       "      <td>0</td>\n",
       "      <td>0</td>\n",
       "      <td>21.97558</td>\n",
       "      <td>-0.05372</td>\n",
       "      <td>80</td>\n",
       "      <td>OK</td>\n",
       "      <td>3</td>\n",
       "    </tr>\n",
       "    <tr>\n",
       "      <th>480</th>\n",
       "      <td>1.142614</td>\n",
       "      <td>2.856536</td>\n",
       "      <td>0</td>\n",
       "      <td>-0.014272</td>\n",
       "      <td>-0.035680</td>\n",
       "      <td>0.999261</td>\n",
       "      <td>0.0010</td>\n",
       "      <td>k</td>\n",
       "      <td>0.842679</td>\n",
       "      <td>2.10670</td>\n",
       "      <td>...</td>\n",
       "      <td>21.94330</td>\n",
       "      <td>-0.05361</td>\n",
       "      <td>79.99998</td>\n",
       "      <td>0</td>\n",
       "      <td>0</td>\n",
       "      <td>21.94330</td>\n",
       "      <td>-0.05361</td>\n",
       "      <td>80</td>\n",
       "      <td>OK</td>\n",
       "      <td>3</td>\n",
       "    </tr>\n",
       "    <tr>\n",
       "      <th>481</th>\n",
       "      <td>1.713921</td>\n",
       "      <td>2.856536</td>\n",
       "      <td>0</td>\n",
       "      <td>-0.021406</td>\n",
       "      <td>-0.035676</td>\n",
       "      <td>0.999134</td>\n",
       "      <td>0.0010</td>\n",
       "      <td>k</td>\n",
       "      <td>1.264016</td>\n",
       "      <td>2.10669</td>\n",
       "      <td>...</td>\n",
       "      <td>21.91098</td>\n",
       "      <td>-0.05350</td>\n",
       "      <td>79.99998</td>\n",
       "      <td>0</td>\n",
       "      <td>0</td>\n",
       "      <td>21.91098</td>\n",
       "      <td>-0.05350</td>\n",
       "      <td>80</td>\n",
       "      <td>OK</td>\n",
       "      <td>3</td>\n",
       "    </tr>\n",
       "    <tr>\n",
       "      <th>482</th>\n",
       "      <td>2.285228</td>\n",
       "      <td>2.856536</td>\n",
       "      <td>0</td>\n",
       "      <td>-0.028535</td>\n",
       "      <td>-0.035669</td>\n",
       "      <td>0.998956</td>\n",
       "      <td>0.0010</td>\n",
       "      <td>k</td>\n",
       "      <td>1.685357</td>\n",
       "      <td>2.10670</td>\n",
       "      <td>...</td>\n",
       "      <td>21.87866</td>\n",
       "      <td>-0.05338</td>\n",
       "      <td>79.99998</td>\n",
       "      <td>0</td>\n",
       "      <td>0</td>\n",
       "      <td>21.87866</td>\n",
       "      <td>-0.05338</td>\n",
       "      <td>80</td>\n",
       "      <td>OK</td>\n",
       "      <td>3</td>\n",
       "    </tr>\n",
       "    <tr>\n",
       "      <th>483</th>\n",
       "      <td>2.856536</td>\n",
       "      <td>2.856536</td>\n",
       "      <td>0</td>\n",
       "      <td>-0.035661</td>\n",
       "      <td>-0.035661</td>\n",
       "      <td>0.998727</td>\n",
       "      <td>0.0010</td>\n",
       "      <td>k</td>\n",
       "      <td>2.106694</td>\n",
       "      <td>2.10669</td>\n",
       "      <td>...</td>\n",
       "      <td>21.84632</td>\n",
       "      <td>-0.05325</td>\n",
       "      <td>79.99998</td>\n",
       "      <td>0</td>\n",
       "      <td>0</td>\n",
       "      <td>21.84632</td>\n",
       "      <td>-0.05325</td>\n",
       "      <td>80</td>\n",
       "      <td>OK</td>\n",
       "      <td>3</td>\n",
       "    </tr>\n",
       "  </tbody>\n",
       "</table>\n",
       "<p>484 rows × 24 columns</p>\n",
       "</div>"
      ],
      "text/plain": [
       "           X0        Y0  Z0        U0        V0        W0    wave col  \\\n",
       "0   -2.856536 -2.856536   0  0.035661  0.035661  0.998727  0.0004   b   \n",
       "1   -2.285228 -2.856536   0  0.028535  0.035669  0.998956  0.0004   b   \n",
       "2   -1.713921 -2.856536   0  0.021406  0.035676  0.999134  0.0004   b   \n",
       "3   -1.142614 -2.856536   0  0.014272  0.035680  0.999261  0.0004   b   \n",
       "4   -0.571307 -2.856536   0  0.007137  0.035683  0.999338  0.0004   b   \n",
       "..        ...       ...  ..       ...       ...       ...     ...  ..   \n",
       "479  0.571307  2.856536   0 -0.007137 -0.035683  0.999338  0.0010   k   \n",
       "480  1.142614  2.856536   0 -0.014272 -0.035680  0.999261  0.0010   k   \n",
       "481  1.713921  2.856536   0 -0.021406 -0.035676  0.999134  0.0010   k   \n",
       "482  2.285228  2.856536   0 -0.028535 -0.035669  0.998956  0.0010   k   \n",
       "483  2.856536  2.856536   0 -0.035661 -0.035661  0.998727  0.0010   k   \n",
       "\n",
       "           X1       Y1  ...        X3       Y3        Z3  Xgoal  Ygoal  \\\n",
       "0   -2.106694 -2.10669  ...   8.27790 -0.01283  79.99998      0      0   \n",
       "1   -1.685357 -2.10670  ...   8.28523 -0.01285  79.99998      0      0   \n",
       "2   -1.264016 -2.10669  ...   8.29260 -0.01287  79.99998      0      0   \n",
       "3   -0.842679 -2.10670  ...   8.30001 -0.01289  79.99998      0      0   \n",
       "4   -0.421339 -2.10670  ...   8.30745 -0.01291  79.99998      0      0   \n",
       "..        ...      ...  ...       ...      ...       ...    ...    ...   \n",
       "479  0.421339  2.10670  ...  21.97558 -0.05372  79.99998      0      0   \n",
       "480  0.842679  2.10670  ...  21.94330 -0.05361  79.99998      0      0   \n",
       "481  1.264016  2.10669  ...  21.91098 -0.05350  79.99998      0      0   \n",
       "482  1.685357  2.10670  ...  21.87866 -0.05338  79.99998      0      0   \n",
       "483  2.106694  2.10669  ...  21.84632 -0.05325  79.99998      0      0   \n",
       "\n",
       "       Xfinal   Yfinal  Zfinal  Notes  Unnamed: 23  \n",
       "0     8.27790 -0.01283      80     OK            3  \n",
       "1     8.28523 -0.01285      80     OK            3  \n",
       "2     8.29260 -0.01287      80     OK            3  \n",
       "3     8.30001 -0.01289      80     OK            3  \n",
       "4     8.30745 -0.01291      80     OK            3  \n",
       "..        ...      ...     ...    ...          ...  \n",
       "479  21.97558 -0.05372      80     OK            3  \n",
       "480  21.94330 -0.05361      80     OK            3  \n",
       "481  21.91098 -0.05350      80     OK            3  \n",
       "482  21.87866 -0.05338      80     OK            3  \n",
       "483  21.84632 -0.05325      80     OK            3  \n",
       "\n",
       "[484 rows x 24 columns]"
      ]
     },
     "execution_count": 360,
     "metadata": {},
     "output_type": "execute_result"
    }
   ],
   "source": [
    "df_hoe"
   ]
  },
  {
   "cell_type": "code",
   "execution_count": 361,
   "metadata": {},
   "outputs": [],
   "source": [
    "input_R400 = pd.ExcelFile(rayfile_R400)\n",
    "df_R400 = input_R400.parse(index_row=0,header=1)\n",
    "df_R400=df_R400.iloc[0:NBTOT]"
   ]
  },
  {
   "cell_type": "code",
   "execution_count": 362,
   "metadata": {},
   "outputs": [],
   "source": [
    "# rename columns otherwise they are not recognize\n",
    "#df_R400.columns = [\"X0\",\"Y0\",\"Z0\",\"U0\",\"V0\",\"W0\",\"wave\",\"X1\",\"Y1\",\"Z1\",\"X2\",\"Y2\",\"Z2\",\"X3\",\"Y3\",\"Z3\",\"Xfinal\",\"Yfinal\",\"Zfinal\",\"Notes\"]"
   ]
  },
  {
   "cell_type": "code",
   "execution_count": 363,
   "metadata": {},
   "outputs": [
    {
     "data": {
      "text/html": [
       "<div>\n",
       "<style scoped>\n",
       "    .dataframe tbody tr th:only-of-type {\n",
       "        vertical-align: middle;\n",
       "    }\n",
       "\n",
       "    .dataframe tbody tr th {\n",
       "        vertical-align: top;\n",
       "    }\n",
       "\n",
       "    .dataframe thead th {\n",
       "        text-align: right;\n",
       "    }\n",
       "</style>\n",
       "<table border=\"1\" class=\"dataframe\">\n",
       "  <thead>\n",
       "    <tr style=\"text-align: right;\">\n",
       "      <th></th>\n",
       "      <th>X0</th>\n",
       "      <th>Y0</th>\n",
       "      <th>Z0</th>\n",
       "      <th>U0</th>\n",
       "      <th>V0</th>\n",
       "      <th>W0</th>\n",
       "      <th>wave</th>\n",
       "      <th>col</th>\n",
       "      <th>X1</th>\n",
       "      <th>Y1</th>\n",
       "      <th>...</th>\n",
       "      <th>X3</th>\n",
       "      <th>Y3</th>\n",
       "      <th>Z3</th>\n",
       "      <th>Xgoal</th>\n",
       "      <th>Ygoal</th>\n",
       "      <th>Xfinal</th>\n",
       "      <th>Yfinal</th>\n",
       "      <th>Zfinal</th>\n",
       "      <th>Notes</th>\n",
       "      <th>Unnamed: 23</th>\n",
       "    </tr>\n",
       "  </thead>\n",
       "  <tbody>\n",
       "    <tr>\n",
       "      <th>0</th>\n",
       "      <td>-2.856536</td>\n",
       "      <td>-2.856536</td>\n",
       "      <td>0</td>\n",
       "      <td>0.035661</td>\n",
       "      <td>0.035661</td>\n",
       "      <td>0.998727</td>\n",
       "      <td>0.0004</td>\n",
       "      <td>b</td>\n",
       "      <td>-2.106694</td>\n",
       "      <td>-2.10669</td>\n",
       "      <td>...</td>\n",
       "      <td>9.50870</td>\n",
       "      <td>0.03953</td>\n",
       "      <td>80</td>\n",
       "      <td>0</td>\n",
       "      <td>0</td>\n",
       "      <td>9.50870</td>\n",
       "      <td>0.03953</td>\n",
       "      <td>80</td>\n",
       "      <td>OK</td>\n",
       "      <td>3</td>\n",
       "    </tr>\n",
       "    <tr>\n",
       "      <th>1</th>\n",
       "      <td>-2.285228</td>\n",
       "      <td>-2.856536</td>\n",
       "      <td>0</td>\n",
       "      <td>0.028535</td>\n",
       "      <td>0.035669</td>\n",
       "      <td>0.998956</td>\n",
       "      <td>0.0004</td>\n",
       "      <td>b</td>\n",
       "      <td>-1.685357</td>\n",
       "      <td>-2.10670</td>\n",
       "      <td>...</td>\n",
       "      <td>9.48531</td>\n",
       "      <td>0.03701</td>\n",
       "      <td>80</td>\n",
       "      <td>0</td>\n",
       "      <td>0</td>\n",
       "      <td>9.48531</td>\n",
       "      <td>0.03701</td>\n",
       "      <td>80</td>\n",
       "      <td>OK</td>\n",
       "      <td>3</td>\n",
       "    </tr>\n",
       "    <tr>\n",
       "      <th>2</th>\n",
       "      <td>-1.713921</td>\n",
       "      <td>-2.856536</td>\n",
       "      <td>0</td>\n",
       "      <td>0.021406</td>\n",
       "      <td>0.035676</td>\n",
       "      <td>0.999134</td>\n",
       "      <td>0.0004</td>\n",
       "      <td>b</td>\n",
       "      <td>-1.264016</td>\n",
       "      <td>-2.10669</td>\n",
       "      <td>...</td>\n",
       "      <td>9.46349</td>\n",
       "      <td>0.03451</td>\n",
       "      <td>80</td>\n",
       "      <td>0</td>\n",
       "      <td>0</td>\n",
       "      <td>9.46349</td>\n",
       "      <td>0.03451</td>\n",
       "      <td>80</td>\n",
       "      <td>OK</td>\n",
       "      <td>3</td>\n",
       "    </tr>\n",
       "    <tr>\n",
       "      <th>3</th>\n",
       "      <td>-1.142614</td>\n",
       "      <td>-2.856536</td>\n",
       "      <td>0</td>\n",
       "      <td>0.014272</td>\n",
       "      <td>0.035680</td>\n",
       "      <td>0.999261</td>\n",
       "      <td>0.0004</td>\n",
       "      <td>b</td>\n",
       "      <td>-0.842678</td>\n",
       "      <td>-2.10670</td>\n",
       "      <td>...</td>\n",
       "      <td>9.44321</td>\n",
       "      <td>0.03201</td>\n",
       "      <td>80</td>\n",
       "      <td>0</td>\n",
       "      <td>0</td>\n",
       "      <td>9.44321</td>\n",
       "      <td>0.03201</td>\n",
       "      <td>80</td>\n",
       "      <td>OK</td>\n",
       "      <td>3</td>\n",
       "    </tr>\n",
       "    <tr>\n",
       "      <th>4</th>\n",
       "      <td>-0.571307</td>\n",
       "      <td>-2.856536</td>\n",
       "      <td>0</td>\n",
       "      <td>0.007137</td>\n",
       "      <td>0.035683</td>\n",
       "      <td>0.999338</td>\n",
       "      <td>0.0004</td>\n",
       "      <td>b</td>\n",
       "      <td>-0.421339</td>\n",
       "      <td>-2.10670</td>\n",
       "      <td>...</td>\n",
       "      <td>9.42447</td>\n",
       "      <td>0.02953</td>\n",
       "      <td>80</td>\n",
       "      <td>0</td>\n",
       "      <td>0</td>\n",
       "      <td>9.42447</td>\n",
       "      <td>0.02953</td>\n",
       "      <td>80</td>\n",
       "      <td>OK</td>\n",
       "      <td>3</td>\n",
       "    </tr>\n",
       "    <tr>\n",
       "      <th>...</th>\n",
       "      <td>...</td>\n",
       "      <td>...</td>\n",
       "      <td>...</td>\n",
       "      <td>...</td>\n",
       "      <td>...</td>\n",
       "      <td>...</td>\n",
       "      <td>...</td>\n",
       "      <td>...</td>\n",
       "      <td>...</td>\n",
       "      <td>...</td>\n",
       "      <td>...</td>\n",
       "      <td>...</td>\n",
       "      <td>...</td>\n",
       "      <td>...</td>\n",
       "      <td>...</td>\n",
       "      <td>...</td>\n",
       "      <td>...</td>\n",
       "      <td>...</td>\n",
       "      <td>...</td>\n",
       "      <td>...</td>\n",
       "      <td>...</td>\n",
       "    </tr>\n",
       "    <tr>\n",
       "      <th>479</th>\n",
       "      <td>0.571307</td>\n",
       "      <td>2.856536</td>\n",
       "      <td>0</td>\n",
       "      <td>-0.007137</td>\n",
       "      <td>-0.035683</td>\n",
       "      <td>0.999338</td>\n",
       "      <td>0.0010</td>\n",
       "      <td>k</td>\n",
       "      <td>0.421339</td>\n",
       "      <td>2.10670</td>\n",
       "      <td>...</td>\n",
       "      <td>25.21121</td>\n",
       "      <td>-0.18127</td>\n",
       "      <td>80</td>\n",
       "      <td>0</td>\n",
       "      <td>0</td>\n",
       "      <td>25.21121</td>\n",
       "      <td>-0.18127</td>\n",
       "      <td>80</td>\n",
       "      <td>OK</td>\n",
       "      <td>3</td>\n",
       "    </tr>\n",
       "    <tr>\n",
       "      <th>480</th>\n",
       "      <td>1.142614</td>\n",
       "      <td>2.856536</td>\n",
       "      <td>0</td>\n",
       "      <td>-0.014272</td>\n",
       "      <td>-0.035680</td>\n",
       "      <td>0.999261</td>\n",
       "      <td>0.0010</td>\n",
       "      <td>k</td>\n",
       "      <td>0.842678</td>\n",
       "      <td>2.10670</td>\n",
       "      <td>...</td>\n",
       "      <td>25.09532</td>\n",
       "      <td>-0.17373</td>\n",
       "      <td>80</td>\n",
       "      <td>0</td>\n",
       "      <td>0</td>\n",
       "      <td>25.09532</td>\n",
       "      <td>-0.17373</td>\n",
       "      <td>80</td>\n",
       "      <td>OK</td>\n",
       "      <td>3</td>\n",
       "    </tr>\n",
       "    <tr>\n",
       "      <th>481</th>\n",
       "      <td>1.713921</td>\n",
       "      <td>2.856536</td>\n",
       "      <td>0</td>\n",
       "      <td>-0.021406</td>\n",
       "      <td>-0.035676</td>\n",
       "      <td>0.999134</td>\n",
       "      <td>0.0010</td>\n",
       "      <td>k</td>\n",
       "      <td>1.264016</td>\n",
       "      <td>2.10669</td>\n",
       "      <td>...</td>\n",
       "      <td>24.98470</td>\n",
       "      <td>-0.16628</td>\n",
       "      <td>80</td>\n",
       "      <td>0</td>\n",
       "      <td>0</td>\n",
       "      <td>24.98470</td>\n",
       "      <td>-0.16628</td>\n",
       "      <td>80</td>\n",
       "      <td>OK</td>\n",
       "      <td>3</td>\n",
       "    </tr>\n",
       "    <tr>\n",
       "      <th>482</th>\n",
       "      <td>2.285228</td>\n",
       "      <td>2.856536</td>\n",
       "      <td>0</td>\n",
       "      <td>-0.028535</td>\n",
       "      <td>-0.035669</td>\n",
       "      <td>0.998956</td>\n",
       "      <td>0.0010</td>\n",
       "      <td>k</td>\n",
       "      <td>1.685357</td>\n",
       "      <td>2.10670</td>\n",
       "      <td>...</td>\n",
       "      <td>24.87929</td>\n",
       "      <td>-0.15892</td>\n",
       "      <td>80</td>\n",
       "      <td>0</td>\n",
       "      <td>0</td>\n",
       "      <td>24.87929</td>\n",
       "      <td>-0.15892</td>\n",
       "      <td>80</td>\n",
       "      <td>OK</td>\n",
       "      <td>3</td>\n",
       "    </tr>\n",
       "    <tr>\n",
       "      <th>483</th>\n",
       "      <td>2.856536</td>\n",
       "      <td>2.856536</td>\n",
       "      <td>0</td>\n",
       "      <td>-0.035661</td>\n",
       "      <td>-0.035661</td>\n",
       "      <td>0.998727</td>\n",
       "      <td>0.0010</td>\n",
       "      <td>k</td>\n",
       "      <td>2.106694</td>\n",
       "      <td>2.10669</td>\n",
       "      <td>...</td>\n",
       "      <td>24.77894</td>\n",
       "      <td>-0.15166</td>\n",
       "      <td>80</td>\n",
       "      <td>0</td>\n",
       "      <td>0</td>\n",
       "      <td>24.77894</td>\n",
       "      <td>-0.15166</td>\n",
       "      <td>80</td>\n",
       "      <td>OK</td>\n",
       "      <td>3</td>\n",
       "    </tr>\n",
       "  </tbody>\n",
       "</table>\n",
       "<p>484 rows × 24 columns</p>\n",
       "</div>"
      ],
      "text/plain": [
       "           X0        Y0  Z0        U0        V0        W0    wave col  \\\n",
       "0   -2.856536 -2.856536   0  0.035661  0.035661  0.998727  0.0004   b   \n",
       "1   -2.285228 -2.856536   0  0.028535  0.035669  0.998956  0.0004   b   \n",
       "2   -1.713921 -2.856536   0  0.021406  0.035676  0.999134  0.0004   b   \n",
       "3   -1.142614 -2.856536   0  0.014272  0.035680  0.999261  0.0004   b   \n",
       "4   -0.571307 -2.856536   0  0.007137  0.035683  0.999338  0.0004   b   \n",
       "..        ...       ...  ..       ...       ...       ...     ...  ..   \n",
       "479  0.571307  2.856536   0 -0.007137 -0.035683  0.999338  0.0010   k   \n",
       "480  1.142614  2.856536   0 -0.014272 -0.035680  0.999261  0.0010   k   \n",
       "481  1.713921  2.856536   0 -0.021406 -0.035676  0.999134  0.0010   k   \n",
       "482  2.285228  2.856536   0 -0.028535 -0.035669  0.998956  0.0010   k   \n",
       "483  2.856536  2.856536   0 -0.035661 -0.035661  0.998727  0.0010   k   \n",
       "\n",
       "           X1       Y1  ...        X3       Y3  Z3  Xgoal  Ygoal    Xfinal  \\\n",
       "0   -2.106694 -2.10669  ...   9.50870  0.03953  80      0      0   9.50870   \n",
       "1   -1.685357 -2.10670  ...   9.48531  0.03701  80      0      0   9.48531   \n",
       "2   -1.264016 -2.10669  ...   9.46349  0.03451  80      0      0   9.46349   \n",
       "3   -0.842678 -2.10670  ...   9.44321  0.03201  80      0      0   9.44321   \n",
       "4   -0.421339 -2.10670  ...   9.42447  0.02953  80      0      0   9.42447   \n",
       "..        ...      ...  ...       ...      ...  ..    ...    ...       ...   \n",
       "479  0.421339  2.10670  ...  25.21121 -0.18127  80      0      0  25.21121   \n",
       "480  0.842678  2.10670  ...  25.09532 -0.17373  80      0      0  25.09532   \n",
       "481  1.264016  2.10669  ...  24.98470 -0.16628  80      0      0  24.98470   \n",
       "482  1.685357  2.10670  ...  24.87929 -0.15892  80      0      0  24.87929   \n",
       "483  2.106694  2.10669  ...  24.77894 -0.15166  80      0      0  24.77894   \n",
       "\n",
       "      Yfinal  Zfinal  Notes  Unnamed: 23  \n",
       "0    0.03953      80     OK            3  \n",
       "1    0.03701      80     OK            3  \n",
       "2    0.03451      80     OK            3  \n",
       "3    0.03201      80     OK            3  \n",
       "4    0.02953      80     OK            3  \n",
       "..       ...     ...    ...          ...  \n",
       "479 -0.18127      80     OK            3  \n",
       "480 -0.17373      80     OK            3  \n",
       "481 -0.16628      80     OK            3  \n",
       "482 -0.15892      80     OK            3  \n",
       "483 -0.15166      80     OK            3  \n",
       "\n",
       "[484 rows x 24 columns]"
      ]
     },
     "execution_count": 363,
     "metadata": {},
     "output_type": "execute_result"
    }
   ],
   "source": [
    "df_R400"
   ]
  },
  {
   "cell_type": "code",
   "execution_count": 364,
   "metadata": {},
   "outputs": [],
   "source": [
    "input_R300 = pd.ExcelFile(rayfile_R300)\n",
    "df_R300 = input_R300.parse(index_row=0,header=1)\n",
    "df_R300=df_R300.iloc[0:NBTOT]"
   ]
  },
  {
   "cell_type": "code",
   "execution_count": 365,
   "metadata": {},
   "outputs": [
    {
     "data": {
      "text/html": [
       "<div>\n",
       "<style scoped>\n",
       "    .dataframe tbody tr th:only-of-type {\n",
       "        vertical-align: middle;\n",
       "    }\n",
       "\n",
       "    .dataframe tbody tr th {\n",
       "        vertical-align: top;\n",
       "    }\n",
       "\n",
       "    .dataframe thead th {\n",
       "        text-align: right;\n",
       "    }\n",
       "</style>\n",
       "<table border=\"1\" class=\"dataframe\">\n",
       "  <thead>\n",
       "    <tr style=\"text-align: right;\">\n",
       "      <th></th>\n",
       "      <th>X0</th>\n",
       "      <th>Y0</th>\n",
       "      <th>Z0</th>\n",
       "      <th>U0</th>\n",
       "      <th>V0</th>\n",
       "      <th>W0</th>\n",
       "      <th>wave</th>\n",
       "      <th>col</th>\n",
       "      <th>X1</th>\n",
       "      <th>Y1</th>\n",
       "      <th>...</th>\n",
       "      <th>X3</th>\n",
       "      <th>Y3</th>\n",
       "      <th>Z3</th>\n",
       "      <th>Xgoal</th>\n",
       "      <th>Ygoal</th>\n",
       "      <th>Xfinal</th>\n",
       "      <th>Yfinal</th>\n",
       "      <th>Zfinal</th>\n",
       "      <th>Notes</th>\n",
       "      <th>Unnamed: 23</th>\n",
       "    </tr>\n",
       "  </thead>\n",
       "  <tbody>\n",
       "    <tr>\n",
       "      <th>0</th>\n",
       "      <td>-2.856536</td>\n",
       "      <td>-2.856536</td>\n",
       "      <td>0</td>\n",
       "      <td>0.035661</td>\n",
       "      <td>0.035661</td>\n",
       "      <td>0.998727</td>\n",
       "      <td>0.0004</td>\n",
       "      <td>b</td>\n",
       "      <td>-2.106694</td>\n",
       "      <td>-2.10669</td>\n",
       "      <td>...</td>\n",
       "      <td>7.07474</td>\n",
       "      <td>0.02426</td>\n",
       "      <td>80</td>\n",
       "      <td>0</td>\n",
       "      <td>0</td>\n",
       "      <td>7.07474</td>\n",
       "      <td>0.02426</td>\n",
       "      <td>80</td>\n",
       "      <td>OK</td>\n",
       "      <td>3</td>\n",
       "    </tr>\n",
       "    <tr>\n",
       "      <th>1</th>\n",
       "      <td>-2.285228</td>\n",
       "      <td>-2.856536</td>\n",
       "      <td>0</td>\n",
       "      <td>0.028535</td>\n",
       "      <td>0.035669</td>\n",
       "      <td>0.998956</td>\n",
       "      <td>0.0004</td>\n",
       "      <td>b</td>\n",
       "      <td>-1.685357</td>\n",
       "      <td>-2.10670</td>\n",
       "      <td>...</td>\n",
       "      <td>7.06058</td>\n",
       "      <td>0.02241</td>\n",
       "      <td>80</td>\n",
       "      <td>0</td>\n",
       "      <td>0</td>\n",
       "      <td>7.06058</td>\n",
       "      <td>0.02241</td>\n",
       "      <td>80</td>\n",
       "      <td>OK</td>\n",
       "      <td>3</td>\n",
       "    </tr>\n",
       "    <tr>\n",
       "      <th>2</th>\n",
       "      <td>-1.713921</td>\n",
       "      <td>-2.856536</td>\n",
       "      <td>0</td>\n",
       "      <td>0.021406</td>\n",
       "      <td>0.035676</td>\n",
       "      <td>0.999134</td>\n",
       "      <td>0.0004</td>\n",
       "      <td>b</td>\n",
       "      <td>-1.264016</td>\n",
       "      <td>-2.10669</td>\n",
       "      <td>...</td>\n",
       "      <td>7.04756</td>\n",
       "      <td>0.02057</td>\n",
       "      <td>80</td>\n",
       "      <td>0</td>\n",
       "      <td>0</td>\n",
       "      <td>7.04756</td>\n",
       "      <td>0.02057</td>\n",
       "      <td>80</td>\n",
       "      <td>OK</td>\n",
       "      <td>3</td>\n",
       "    </tr>\n",
       "    <tr>\n",
       "      <th>3</th>\n",
       "      <td>-1.142614</td>\n",
       "      <td>-2.856536</td>\n",
       "      <td>0</td>\n",
       "      <td>0.014272</td>\n",
       "      <td>0.035680</td>\n",
       "      <td>0.999261</td>\n",
       "      <td>0.0004</td>\n",
       "      <td>b</td>\n",
       "      <td>-0.842678</td>\n",
       "      <td>-2.10670</td>\n",
       "      <td>...</td>\n",
       "      <td>7.03565</td>\n",
       "      <td>0.01874</td>\n",
       "      <td>80</td>\n",
       "      <td>0</td>\n",
       "      <td>0</td>\n",
       "      <td>7.03565</td>\n",
       "      <td>0.01874</td>\n",
       "      <td>80</td>\n",
       "      <td>OK</td>\n",
       "      <td>3</td>\n",
       "    </tr>\n",
       "    <tr>\n",
       "      <th>4</th>\n",
       "      <td>-0.571307</td>\n",
       "      <td>-2.856536</td>\n",
       "      <td>0</td>\n",
       "      <td>0.007137</td>\n",
       "      <td>0.035683</td>\n",
       "      <td>0.999338</td>\n",
       "      <td>0.0004</td>\n",
       "      <td>b</td>\n",
       "      <td>-0.421339</td>\n",
       "      <td>-2.10670</td>\n",
       "      <td>...</td>\n",
       "      <td>7.02487</td>\n",
       "      <td>0.01691</td>\n",
       "      <td>80</td>\n",
       "      <td>0</td>\n",
       "      <td>0</td>\n",
       "      <td>7.02487</td>\n",
       "      <td>0.01691</td>\n",
       "      <td>80</td>\n",
       "      <td>OK</td>\n",
       "      <td>3</td>\n",
       "    </tr>\n",
       "    <tr>\n",
       "      <th>...</th>\n",
       "      <td>...</td>\n",
       "      <td>...</td>\n",
       "      <td>...</td>\n",
       "      <td>...</td>\n",
       "      <td>...</td>\n",
       "      <td>...</td>\n",
       "      <td>...</td>\n",
       "      <td>...</td>\n",
       "      <td>...</td>\n",
       "      <td>...</td>\n",
       "      <td>...</td>\n",
       "      <td>...</td>\n",
       "      <td>...</td>\n",
       "      <td>...</td>\n",
       "      <td>...</td>\n",
       "      <td>...</td>\n",
       "      <td>...</td>\n",
       "      <td>...</td>\n",
       "      <td>...</td>\n",
       "      <td>...</td>\n",
       "      <td>...</td>\n",
       "    </tr>\n",
       "    <tr>\n",
       "      <th>479</th>\n",
       "      <td>0.571307</td>\n",
       "      <td>2.856536</td>\n",
       "      <td>0</td>\n",
       "      <td>-0.007137</td>\n",
       "      <td>-0.035683</td>\n",
       "      <td>0.999338</td>\n",
       "      <td>0.0010</td>\n",
       "      <td>k</td>\n",
       "      <td>0.421339</td>\n",
       "      <td>2.10670</td>\n",
       "      <td>...</td>\n",
       "      <td>18.19158</td>\n",
       "      <td>-0.09504</td>\n",
       "      <td>80</td>\n",
       "      <td>0</td>\n",
       "      <td>0</td>\n",
       "      <td>18.19158</td>\n",
       "      <td>-0.09504</td>\n",
       "      <td>80</td>\n",
       "      <td>OK</td>\n",
       "      <td>3</td>\n",
       "    </tr>\n",
       "    <tr>\n",
       "      <th>480</th>\n",
       "      <td>1.142614</td>\n",
       "      <td>2.856536</td>\n",
       "      <td>0</td>\n",
       "      <td>-0.014272</td>\n",
       "      <td>-0.035680</td>\n",
       "      <td>0.999261</td>\n",
       "      <td>0.0010</td>\n",
       "      <td>k</td>\n",
       "      <td>0.842678</td>\n",
       "      <td>2.10670</td>\n",
       "      <td>...</td>\n",
       "      <td>18.13355</td>\n",
       "      <td>-0.08999</td>\n",
       "      <td>80</td>\n",
       "      <td>0</td>\n",
       "      <td>0</td>\n",
       "      <td>18.13355</td>\n",
       "      <td>-0.08999</td>\n",
       "      <td>80</td>\n",
       "      <td>OK</td>\n",
       "      <td>3</td>\n",
       "    </tr>\n",
       "    <tr>\n",
       "      <th>481</th>\n",
       "      <td>1.713921</td>\n",
       "      <td>2.856536</td>\n",
       "      <td>0</td>\n",
       "      <td>-0.021406</td>\n",
       "      <td>-0.035676</td>\n",
       "      <td>0.999134</td>\n",
       "      <td>0.0010</td>\n",
       "      <td>k</td>\n",
       "      <td>1.264016</td>\n",
       "      <td>2.10669</td>\n",
       "      <td>...</td>\n",
       "      <td>18.07880</td>\n",
       "      <td>-0.08500</td>\n",
       "      <td>80</td>\n",
       "      <td>0</td>\n",
       "      <td>0</td>\n",
       "      <td>18.07880</td>\n",
       "      <td>-0.08500</td>\n",
       "      <td>80</td>\n",
       "      <td>OK</td>\n",
       "      <td>3</td>\n",
       "    </tr>\n",
       "    <tr>\n",
       "      <th>482</th>\n",
       "      <td>2.285228</td>\n",
       "      <td>2.856536</td>\n",
       "      <td>0</td>\n",
       "      <td>-0.028535</td>\n",
       "      <td>-0.035669</td>\n",
       "      <td>0.998956</td>\n",
       "      <td>0.0010</td>\n",
       "      <td>k</td>\n",
       "      <td>1.685357</td>\n",
       "      <td>2.10670</td>\n",
       "      <td>...</td>\n",
       "      <td>18.02729</td>\n",
       "      <td>-0.08003</td>\n",
       "      <td>80</td>\n",
       "      <td>0</td>\n",
       "      <td>0</td>\n",
       "      <td>18.02729</td>\n",
       "      <td>-0.08003</td>\n",
       "      <td>80</td>\n",
       "      <td>OK</td>\n",
       "      <td>3</td>\n",
       "    </tr>\n",
       "    <tr>\n",
       "      <th>483</th>\n",
       "      <td>2.856536</td>\n",
       "      <td>2.856536</td>\n",
       "      <td>0</td>\n",
       "      <td>-0.035661</td>\n",
       "      <td>-0.035661</td>\n",
       "      <td>0.998727</td>\n",
       "      <td>0.0010</td>\n",
       "      <td>k</td>\n",
       "      <td>2.106694</td>\n",
       "      <td>2.10669</td>\n",
       "      <td>...</td>\n",
       "      <td>17.97897</td>\n",
       "      <td>-0.07512</td>\n",
       "      <td>80</td>\n",
       "      <td>0</td>\n",
       "      <td>0</td>\n",
       "      <td>17.97897</td>\n",
       "      <td>-0.07512</td>\n",
       "      <td>80</td>\n",
       "      <td>OK</td>\n",
       "      <td>3</td>\n",
       "    </tr>\n",
       "  </tbody>\n",
       "</table>\n",
       "<p>484 rows × 24 columns</p>\n",
       "</div>"
      ],
      "text/plain": [
       "           X0        Y0  Z0        U0        V0        W0    wave col  \\\n",
       "0   -2.856536 -2.856536   0  0.035661  0.035661  0.998727  0.0004   b   \n",
       "1   -2.285228 -2.856536   0  0.028535  0.035669  0.998956  0.0004   b   \n",
       "2   -1.713921 -2.856536   0  0.021406  0.035676  0.999134  0.0004   b   \n",
       "3   -1.142614 -2.856536   0  0.014272  0.035680  0.999261  0.0004   b   \n",
       "4   -0.571307 -2.856536   0  0.007137  0.035683  0.999338  0.0004   b   \n",
       "..        ...       ...  ..       ...       ...       ...     ...  ..   \n",
       "479  0.571307  2.856536   0 -0.007137 -0.035683  0.999338  0.0010   k   \n",
       "480  1.142614  2.856536   0 -0.014272 -0.035680  0.999261  0.0010   k   \n",
       "481  1.713921  2.856536   0 -0.021406 -0.035676  0.999134  0.0010   k   \n",
       "482  2.285228  2.856536   0 -0.028535 -0.035669  0.998956  0.0010   k   \n",
       "483  2.856536  2.856536   0 -0.035661 -0.035661  0.998727  0.0010   k   \n",
       "\n",
       "           X1       Y1  ...        X3       Y3  Z3  Xgoal  Ygoal    Xfinal  \\\n",
       "0   -2.106694 -2.10669  ...   7.07474  0.02426  80      0      0   7.07474   \n",
       "1   -1.685357 -2.10670  ...   7.06058  0.02241  80      0      0   7.06058   \n",
       "2   -1.264016 -2.10669  ...   7.04756  0.02057  80      0      0   7.04756   \n",
       "3   -0.842678 -2.10670  ...   7.03565  0.01874  80      0      0   7.03565   \n",
       "4   -0.421339 -2.10670  ...   7.02487  0.01691  80      0      0   7.02487   \n",
       "..        ...      ...  ...       ...      ...  ..    ...    ...       ...   \n",
       "479  0.421339  2.10670  ...  18.19158 -0.09504  80      0      0  18.19158   \n",
       "480  0.842678  2.10670  ...  18.13355 -0.08999  80      0      0  18.13355   \n",
       "481  1.264016  2.10669  ...  18.07880 -0.08500  80      0      0  18.07880   \n",
       "482  1.685357  2.10670  ...  18.02729 -0.08003  80      0      0  18.02729   \n",
       "483  2.106694  2.10669  ...  17.97897 -0.07512  80      0      0  17.97897   \n",
       "\n",
       "      Yfinal  Zfinal  Notes  Unnamed: 23  \n",
       "0    0.02426      80     OK            3  \n",
       "1    0.02241      80     OK            3  \n",
       "2    0.02057      80     OK            3  \n",
       "3    0.01874      80     OK            3  \n",
       "4    0.01691      80     OK            3  \n",
       "..       ...     ...    ...          ...  \n",
       "479 -0.09504      80     OK            3  \n",
       "480 -0.08999      80     OK            3  \n",
       "481 -0.08500      80     OK            3  \n",
       "482 -0.08003      80     OK            3  \n",
       "483 -0.07512      80     OK            3  \n",
       "\n",
       "[484 rows x 24 columns]"
      ]
     },
     "execution_count": 365,
     "metadata": {},
     "output_type": "execute_result"
    }
   ],
   "source": [
    "df_R300"
   ]
  },
  {
   "cell_type": "code",
   "execution_count": 366,
   "metadata": {},
   "outputs": [],
   "source": [
    "input_R200 = pd.ExcelFile(rayfile_R200)\n",
    "df_R200 = input_R200.parse(index_row=0,header=1)\n",
    "df_R200=df_R200.iloc[0:NBTOT]"
   ]
  },
  {
   "cell_type": "code",
   "execution_count": 367,
   "metadata": {},
   "outputs": [],
   "source": [
    "# rename columns otherwise they are not recognize\n",
    "#df_R200.columns = [\"X0\",\"Y0\",\"Z0\",\"U0\",\"V0\",\"W0\",\"wave\",\"X1\",\"Y1\",\"Z1\",\"X2\",\"Y2\",\"Z2\",\"X3\",\"Y3\",\"Z3\",\"Xfinal\",\"Yfinal\",\"Zfinal\",\"Notes\"]"
   ]
  },
  {
   "cell_type": "code",
   "execution_count": 368,
   "metadata": {},
   "outputs": [
    {
     "data": {
      "text/html": [
       "<div>\n",
       "<style scoped>\n",
       "    .dataframe tbody tr th:only-of-type {\n",
       "        vertical-align: middle;\n",
       "    }\n",
       "\n",
       "    .dataframe tbody tr th {\n",
       "        vertical-align: top;\n",
       "    }\n",
       "\n",
       "    .dataframe thead th {\n",
       "        text-align: right;\n",
       "    }\n",
       "</style>\n",
       "<table border=\"1\" class=\"dataframe\">\n",
       "  <thead>\n",
       "    <tr style=\"text-align: right;\">\n",
       "      <th></th>\n",
       "      <th>X0</th>\n",
       "      <th>Y0</th>\n",
       "      <th>Z0</th>\n",
       "      <th>U0</th>\n",
       "      <th>V0</th>\n",
       "      <th>W0</th>\n",
       "      <th>wave</th>\n",
       "      <th>col</th>\n",
       "      <th>X1</th>\n",
       "      <th>Y1</th>\n",
       "      <th>...</th>\n",
       "      <th>X3</th>\n",
       "      <th>Y3</th>\n",
       "      <th>Z3</th>\n",
       "      <th>Xgoal</th>\n",
       "      <th>Ygoal</th>\n",
       "      <th>Xfinal</th>\n",
       "      <th>Yfinal</th>\n",
       "      <th>Zfinal</th>\n",
       "      <th>Notes</th>\n",
       "      <th>Unnamed: 23</th>\n",
       "    </tr>\n",
       "  </thead>\n",
       "  <tbody>\n",
       "    <tr>\n",
       "      <th>0</th>\n",
       "      <td>-2.856536</td>\n",
       "      <td>-2.856536</td>\n",
       "      <td>0</td>\n",
       "      <td>0.035661</td>\n",
       "      <td>0.035661</td>\n",
       "      <td>0.998727</td>\n",
       "      <td>0.0004</td>\n",
       "      <td>b</td>\n",
       "      <td>-2.106694</td>\n",
       "      <td>-2.10669</td>\n",
       "      <td>...</td>\n",
       "      <td>4.68705</td>\n",
       "      <td>0.01269</td>\n",
       "      <td>80</td>\n",
       "      <td>0</td>\n",
       "      <td>0</td>\n",
       "      <td>4.68705</td>\n",
       "      <td>0.01269</td>\n",
       "      <td>80</td>\n",
       "      <td>OK</td>\n",
       "      <td>3</td>\n",
       "    </tr>\n",
       "    <tr>\n",
       "      <th>1</th>\n",
       "      <td>-2.285228</td>\n",
       "      <td>-2.856536</td>\n",
       "      <td>0</td>\n",
       "      <td>0.028535</td>\n",
       "      <td>0.035669</td>\n",
       "      <td>0.998956</td>\n",
       "      <td>0.0004</td>\n",
       "      <td>b</td>\n",
       "      <td>-1.685357</td>\n",
       "      <td>-2.10670</td>\n",
       "      <td>...</td>\n",
       "      <td>4.67976</td>\n",
       "      <td>0.01147</td>\n",
       "      <td>80</td>\n",
       "      <td>0</td>\n",
       "      <td>0</td>\n",
       "      <td>4.67976</td>\n",
       "      <td>0.01147</td>\n",
       "      <td>80</td>\n",
       "      <td>OK</td>\n",
       "      <td>3</td>\n",
       "    </tr>\n",
       "    <tr>\n",
       "      <th>2</th>\n",
       "      <td>-1.713921</td>\n",
       "      <td>-2.856536</td>\n",
       "      <td>0</td>\n",
       "      <td>0.021406</td>\n",
       "      <td>0.035676</td>\n",
       "      <td>0.999134</td>\n",
       "      <td>0.0004</td>\n",
       "      <td>b</td>\n",
       "      <td>-1.264016</td>\n",
       "      <td>-2.10669</td>\n",
       "      <td>...</td>\n",
       "      <td>4.67321</td>\n",
       "      <td>0.01027</td>\n",
       "      <td>80</td>\n",
       "      <td>0</td>\n",
       "      <td>0</td>\n",
       "      <td>4.67321</td>\n",
       "      <td>0.01027</td>\n",
       "      <td>80</td>\n",
       "      <td>OK</td>\n",
       "      <td>3</td>\n",
       "    </tr>\n",
       "    <tr>\n",
       "      <th>3</th>\n",
       "      <td>-1.142614</td>\n",
       "      <td>-2.856536</td>\n",
       "      <td>0</td>\n",
       "      <td>0.014272</td>\n",
       "      <td>0.035680</td>\n",
       "      <td>0.999261</td>\n",
       "      <td>0.0004</td>\n",
       "      <td>b</td>\n",
       "      <td>-0.842678</td>\n",
       "      <td>-2.10670</td>\n",
       "      <td>...</td>\n",
       "      <td>4.66738</td>\n",
       "      <td>0.00906</td>\n",
       "      <td>80</td>\n",
       "      <td>0</td>\n",
       "      <td>0</td>\n",
       "      <td>4.66738</td>\n",
       "      <td>0.00906</td>\n",
       "      <td>80</td>\n",
       "      <td>OK</td>\n",
       "      <td>3</td>\n",
       "    </tr>\n",
       "    <tr>\n",
       "      <th>4</th>\n",
       "      <td>-0.571307</td>\n",
       "      <td>-2.856536</td>\n",
       "      <td>0</td>\n",
       "      <td>0.007137</td>\n",
       "      <td>0.035683</td>\n",
       "      <td>0.999338</td>\n",
       "      <td>0.0004</td>\n",
       "      <td>b</td>\n",
       "      <td>-0.421339</td>\n",
       "      <td>-2.10670</td>\n",
       "      <td>...</td>\n",
       "      <td>4.66228</td>\n",
       "      <td>0.00786</td>\n",
       "      <td>80</td>\n",
       "      <td>0</td>\n",
       "      <td>0</td>\n",
       "      <td>4.66228</td>\n",
       "      <td>0.00786</td>\n",
       "      <td>80</td>\n",
       "      <td>OK</td>\n",
       "      <td>3</td>\n",
       "    </tr>\n",
       "    <tr>\n",
       "      <th>...</th>\n",
       "      <td>...</td>\n",
       "      <td>...</td>\n",
       "      <td>...</td>\n",
       "      <td>...</td>\n",
       "      <td>...</td>\n",
       "      <td>...</td>\n",
       "      <td>...</td>\n",
       "      <td>...</td>\n",
       "      <td>...</td>\n",
       "      <td>...</td>\n",
       "      <td>...</td>\n",
       "      <td>...</td>\n",
       "      <td>...</td>\n",
       "      <td>...</td>\n",
       "      <td>...</td>\n",
       "      <td>...</td>\n",
       "      <td>...</td>\n",
       "      <td>...</td>\n",
       "      <td>...</td>\n",
       "      <td>...</td>\n",
       "      <td>...</td>\n",
       "    </tr>\n",
       "    <tr>\n",
       "      <th>479</th>\n",
       "      <td>0.571307</td>\n",
       "      <td>2.856536</td>\n",
       "      <td>0</td>\n",
       "      <td>-0.007137</td>\n",
       "      <td>-0.035683</td>\n",
       "      <td>0.999338</td>\n",
       "      <td>0.0010</td>\n",
       "      <td>k</td>\n",
       "      <td>0.421339</td>\n",
       "      <td>2.10670</td>\n",
       "      <td>...</td>\n",
       "      <td>11.82185</td>\n",
       "      <td>-0.03962</td>\n",
       "      <td>80</td>\n",
       "      <td>0</td>\n",
       "      <td>0</td>\n",
       "      <td>11.82185</td>\n",
       "      <td>-0.03962</td>\n",
       "      <td>80</td>\n",
       "      <td>OK</td>\n",
       "      <td>3</td>\n",
       "    </tr>\n",
       "    <tr>\n",
       "      <th>480</th>\n",
       "      <td>1.142614</td>\n",
       "      <td>2.856536</td>\n",
       "      <td>0</td>\n",
       "      <td>-0.014272</td>\n",
       "      <td>-0.035680</td>\n",
       "      <td>0.999261</td>\n",
       "      <td>0.0010</td>\n",
       "      <td>k</td>\n",
       "      <td>0.842678</td>\n",
       "      <td>2.10670</td>\n",
       "      <td>...</td>\n",
       "      <td>11.79859</td>\n",
       "      <td>-0.03650</td>\n",
       "      <td>80</td>\n",
       "      <td>0</td>\n",
       "      <td>0</td>\n",
       "      <td>11.79859</td>\n",
       "      <td>-0.03650</td>\n",
       "      <td>80</td>\n",
       "      <td>OK</td>\n",
       "      <td>3</td>\n",
       "    </tr>\n",
       "    <tr>\n",
       "      <th>481</th>\n",
       "      <td>1.713921</td>\n",
       "      <td>2.856536</td>\n",
       "      <td>0</td>\n",
       "      <td>-0.021406</td>\n",
       "      <td>-0.035676</td>\n",
       "      <td>0.999134</td>\n",
       "      <td>0.0010</td>\n",
       "      <td>k</td>\n",
       "      <td>1.264016</td>\n",
       "      <td>2.10669</td>\n",
       "      <td>...</td>\n",
       "      <td>11.77726</td>\n",
       "      <td>-0.03340</td>\n",
       "      <td>80</td>\n",
       "      <td>0</td>\n",
       "      <td>0</td>\n",
       "      <td>11.77726</td>\n",
       "      <td>-0.03340</td>\n",
       "      <td>80</td>\n",
       "      <td>OK</td>\n",
       "      <td>3</td>\n",
       "    </tr>\n",
       "    <tr>\n",
       "      <th>482</th>\n",
       "      <td>2.285228</td>\n",
       "      <td>2.856536</td>\n",
       "      <td>0</td>\n",
       "      <td>-0.028535</td>\n",
       "      <td>-0.035669</td>\n",
       "      <td>0.998956</td>\n",
       "      <td>0.0010</td>\n",
       "      <td>k</td>\n",
       "      <td>1.685357</td>\n",
       "      <td>2.10670</td>\n",
       "      <td>...</td>\n",
       "      <td>11.75785</td>\n",
       "      <td>-0.03031</td>\n",
       "      <td>80</td>\n",
       "      <td>0</td>\n",
       "      <td>0</td>\n",
       "      <td>11.75785</td>\n",
       "      <td>-0.03031</td>\n",
       "      <td>80</td>\n",
       "      <td>OK</td>\n",
       "      <td>3</td>\n",
       "    </tr>\n",
       "    <tr>\n",
       "      <th>483</th>\n",
       "      <td>2.856536</td>\n",
       "      <td>2.856536</td>\n",
       "      <td>0</td>\n",
       "      <td>-0.035661</td>\n",
       "      <td>-0.035661</td>\n",
       "      <td>0.998727</td>\n",
       "      <td>0.0010</td>\n",
       "      <td>k</td>\n",
       "      <td>2.106694</td>\n",
       "      <td>2.10669</td>\n",
       "      <td>...</td>\n",
       "      <td>11.74033</td>\n",
       "      <td>-0.02725</td>\n",
       "      <td>80</td>\n",
       "      <td>0</td>\n",
       "      <td>0</td>\n",
       "      <td>11.74033</td>\n",
       "      <td>-0.02725</td>\n",
       "      <td>80</td>\n",
       "      <td>OK</td>\n",
       "      <td>3</td>\n",
       "    </tr>\n",
       "  </tbody>\n",
       "</table>\n",
       "<p>484 rows × 24 columns</p>\n",
       "</div>"
      ],
      "text/plain": [
       "           X0        Y0  Z0        U0        V0        W0    wave col  \\\n",
       "0   -2.856536 -2.856536   0  0.035661  0.035661  0.998727  0.0004   b   \n",
       "1   -2.285228 -2.856536   0  0.028535  0.035669  0.998956  0.0004   b   \n",
       "2   -1.713921 -2.856536   0  0.021406  0.035676  0.999134  0.0004   b   \n",
       "3   -1.142614 -2.856536   0  0.014272  0.035680  0.999261  0.0004   b   \n",
       "4   -0.571307 -2.856536   0  0.007137  0.035683  0.999338  0.0004   b   \n",
       "..        ...       ...  ..       ...       ...       ...     ...  ..   \n",
       "479  0.571307  2.856536   0 -0.007137 -0.035683  0.999338  0.0010   k   \n",
       "480  1.142614  2.856536   0 -0.014272 -0.035680  0.999261  0.0010   k   \n",
       "481  1.713921  2.856536   0 -0.021406 -0.035676  0.999134  0.0010   k   \n",
       "482  2.285228  2.856536   0 -0.028535 -0.035669  0.998956  0.0010   k   \n",
       "483  2.856536  2.856536   0 -0.035661 -0.035661  0.998727  0.0010   k   \n",
       "\n",
       "           X1       Y1  ...        X3       Y3  Z3  Xgoal  Ygoal    Xfinal  \\\n",
       "0   -2.106694 -2.10669  ...   4.68705  0.01269  80      0      0   4.68705   \n",
       "1   -1.685357 -2.10670  ...   4.67976  0.01147  80      0      0   4.67976   \n",
       "2   -1.264016 -2.10669  ...   4.67321  0.01027  80      0      0   4.67321   \n",
       "3   -0.842678 -2.10670  ...   4.66738  0.00906  80      0      0   4.66738   \n",
       "4   -0.421339 -2.10670  ...   4.66228  0.00786  80      0      0   4.66228   \n",
       "..        ...      ...  ...       ...      ...  ..    ...    ...       ...   \n",
       "479  0.421339  2.10670  ...  11.82185 -0.03962  80      0      0  11.82185   \n",
       "480  0.842678  2.10670  ...  11.79859 -0.03650  80      0      0  11.79859   \n",
       "481  1.264016  2.10669  ...  11.77726 -0.03340  80      0      0  11.77726   \n",
       "482  1.685357  2.10670  ...  11.75785 -0.03031  80      0      0  11.75785   \n",
       "483  2.106694  2.10669  ...  11.74033 -0.02725  80      0      0  11.74033   \n",
       "\n",
       "      Yfinal  Zfinal  Notes  Unnamed: 23  \n",
       "0    0.01269      80     OK            3  \n",
       "1    0.01147      80     OK            3  \n",
       "2    0.01027      80     OK            3  \n",
       "3    0.00906      80     OK            3  \n",
       "4    0.00786      80     OK            3  \n",
       "..       ...     ...    ...          ...  \n",
       "479 -0.03962      80     OK            3  \n",
       "480 -0.03650      80     OK            3  \n",
       "481 -0.03340      80     OK            3  \n",
       "482 -0.03031      80     OK            3  \n",
       "483 -0.02725      80     OK            3  \n",
       "\n",
       "[484 rows x 24 columns]"
      ]
     },
     "execution_count": 368,
     "metadata": {},
     "output_type": "execute_result"
    }
   ],
   "source": [
    "df_R200"
   ]
  },
  {
   "cell_type": "code",
   "execution_count": 369,
   "metadata": {},
   "outputs": [],
   "source": [
    "input_R350 = pd.ExcelFile(rayfile_R350)\n",
    "df_R350 = input_R350.parse(index_row=0,header=1)\n",
    "df_R350=df_R350.iloc[0:NBTOT]"
   ]
  },
  {
   "cell_type": "code",
   "execution_count": 370,
   "metadata": {},
   "outputs": [
    {
     "data": {
      "text/html": [
       "<div>\n",
       "<style scoped>\n",
       "    .dataframe tbody tr th:only-of-type {\n",
       "        vertical-align: middle;\n",
       "    }\n",
       "\n",
       "    .dataframe tbody tr th {\n",
       "        vertical-align: top;\n",
       "    }\n",
       "\n",
       "    .dataframe thead th {\n",
       "        text-align: right;\n",
       "    }\n",
       "</style>\n",
       "<table border=\"1\" class=\"dataframe\">\n",
       "  <thead>\n",
       "    <tr style=\"text-align: right;\">\n",
       "      <th></th>\n",
       "      <th>X0</th>\n",
       "      <th>Y0</th>\n",
       "      <th>Z0</th>\n",
       "      <th>U0</th>\n",
       "      <th>V0</th>\n",
       "      <th>W0</th>\n",
       "      <th>wave</th>\n",
       "      <th>col</th>\n",
       "      <th>X1</th>\n",
       "      <th>Y1</th>\n",
       "      <th>...</th>\n",
       "      <th>X3</th>\n",
       "      <th>Y3</th>\n",
       "      <th>Z3</th>\n",
       "      <th>Xgoal</th>\n",
       "      <th>Ygoal</th>\n",
       "      <th>Xfinal</th>\n",
       "      <th>Yfinal</th>\n",
       "      <th>Zfinal</th>\n",
       "      <th>Notes</th>\n",
       "      <th>Unnamed: 23</th>\n",
       "    </tr>\n",
       "  </thead>\n",
       "  <tbody>\n",
       "    <tr>\n",
       "      <th>0</th>\n",
       "      <td>-2.856536</td>\n",
       "      <td>-2.856536</td>\n",
       "      <td>0</td>\n",
       "      <td>0.035661</td>\n",
       "      <td>0.035661</td>\n",
       "      <td>0.998727</td>\n",
       "      <td>0.0004</td>\n",
       "      <td>b</td>\n",
       "      <td>-2.106694</td>\n",
       "      <td>-2.10669</td>\n",
       "      <td>...</td>\n",
       "      <td>8.28509</td>\n",
       "      <td>0.03142</td>\n",
       "      <td>80</td>\n",
       "      <td>0</td>\n",
       "      <td>0</td>\n",
       "      <td>8.28509</td>\n",
       "      <td>0.03142</td>\n",
       "      <td>80</td>\n",
       "      <td>OK</td>\n",
       "      <td>3</td>\n",
       "    </tr>\n",
       "    <tr>\n",
       "      <th>1</th>\n",
       "      <td>-2.285228</td>\n",
       "      <td>-2.856536</td>\n",
       "      <td>0</td>\n",
       "      <td>0.028535</td>\n",
       "      <td>0.035669</td>\n",
       "      <td>0.998956</td>\n",
       "      <td>0.0004</td>\n",
       "      <td>b</td>\n",
       "      <td>-1.685357</td>\n",
       "      <td>-2.10670</td>\n",
       "      <td>...</td>\n",
       "      <td>8.26662</td>\n",
       "      <td>0.02923</td>\n",
       "      <td>80</td>\n",
       "      <td>0</td>\n",
       "      <td>0</td>\n",
       "      <td>8.26662</td>\n",
       "      <td>0.02923</td>\n",
       "      <td>80</td>\n",
       "      <td>OK</td>\n",
       "      <td>3</td>\n",
       "    </tr>\n",
       "    <tr>\n",
       "      <th>2</th>\n",
       "      <td>-1.713921</td>\n",
       "      <td>-2.856536</td>\n",
       "      <td>0</td>\n",
       "      <td>0.021406</td>\n",
       "      <td>0.035676</td>\n",
       "      <td>0.999134</td>\n",
       "      <td>0.0004</td>\n",
       "      <td>b</td>\n",
       "      <td>-1.264016</td>\n",
       "      <td>-2.10669</td>\n",
       "      <td>...</td>\n",
       "      <td>8.24951</td>\n",
       "      <td>0.02707</td>\n",
       "      <td>80</td>\n",
       "      <td>0</td>\n",
       "      <td>0</td>\n",
       "      <td>8.24951</td>\n",
       "      <td>0.02707</td>\n",
       "      <td>80</td>\n",
       "      <td>OK</td>\n",
       "      <td>3</td>\n",
       "    </tr>\n",
       "    <tr>\n",
       "      <th>3</th>\n",
       "      <td>-1.142614</td>\n",
       "      <td>-2.856536</td>\n",
       "      <td>0</td>\n",
       "      <td>0.014272</td>\n",
       "      <td>0.035680</td>\n",
       "      <td>0.999261</td>\n",
       "      <td>0.0004</td>\n",
       "      <td>b</td>\n",
       "      <td>-0.842678</td>\n",
       "      <td>-2.10670</td>\n",
       "      <td>...</td>\n",
       "      <td>8.23371</td>\n",
       "      <td>0.02491</td>\n",
       "      <td>80</td>\n",
       "      <td>0</td>\n",
       "      <td>0</td>\n",
       "      <td>8.23371</td>\n",
       "      <td>0.02491</td>\n",
       "      <td>80</td>\n",
       "      <td>OK</td>\n",
       "      <td>3</td>\n",
       "    </tr>\n",
       "    <tr>\n",
       "      <th>4</th>\n",
       "      <td>-0.571307</td>\n",
       "      <td>-2.856536</td>\n",
       "      <td>0</td>\n",
       "      <td>0.007137</td>\n",
       "      <td>0.035683</td>\n",
       "      <td>0.999338</td>\n",
       "      <td>0.0004</td>\n",
       "      <td>b</td>\n",
       "      <td>-0.421339</td>\n",
       "      <td>-2.10670</td>\n",
       "      <td>...</td>\n",
       "      <td>8.21925</td>\n",
       "      <td>0.02276</td>\n",
       "      <td>80</td>\n",
       "      <td>0</td>\n",
       "      <td>0</td>\n",
       "      <td>8.21925</td>\n",
       "      <td>0.02276</td>\n",
       "      <td>80</td>\n",
       "      <td>OK</td>\n",
       "      <td>3</td>\n",
       "    </tr>\n",
       "    <tr>\n",
       "      <th>...</th>\n",
       "      <td>...</td>\n",
       "      <td>...</td>\n",
       "      <td>...</td>\n",
       "      <td>...</td>\n",
       "      <td>...</td>\n",
       "      <td>...</td>\n",
       "      <td>...</td>\n",
       "      <td>...</td>\n",
       "      <td>...</td>\n",
       "      <td>...</td>\n",
       "      <td>...</td>\n",
       "      <td>...</td>\n",
       "      <td>...</td>\n",
       "      <td>...</td>\n",
       "      <td>...</td>\n",
       "      <td>...</td>\n",
       "      <td>...</td>\n",
       "      <td>...</td>\n",
       "      <td>...</td>\n",
       "      <td>...</td>\n",
       "      <td>...</td>\n",
       "    </tr>\n",
       "    <tr>\n",
       "      <th>479</th>\n",
       "      <td>0.571307</td>\n",
       "      <td>2.856536</td>\n",
       "      <td>0</td>\n",
       "      <td>-0.007137</td>\n",
       "      <td>-0.035683</td>\n",
       "      <td>0.999338</td>\n",
       "      <td>0.0010</td>\n",
       "      <td>k</td>\n",
       "      <td>0.421339</td>\n",
       "      <td>2.10670</td>\n",
       "      <td>...</td>\n",
       "      <td>21.59873</td>\n",
       "      <td>-0.13376</td>\n",
       "      <td>80</td>\n",
       "      <td>0</td>\n",
       "      <td>0</td>\n",
       "      <td>21.59873</td>\n",
       "      <td>-0.13376</td>\n",
       "      <td>80</td>\n",
       "      <td>OK</td>\n",
       "      <td>3</td>\n",
       "    </tr>\n",
       "    <tr>\n",
       "      <th>480</th>\n",
       "      <td>1.142614</td>\n",
       "      <td>2.856536</td>\n",
       "      <td>0</td>\n",
       "      <td>-0.014272</td>\n",
       "      <td>-0.035680</td>\n",
       "      <td>0.999261</td>\n",
       "      <td>0.0010</td>\n",
       "      <td>k</td>\n",
       "      <td>0.842678</td>\n",
       "      <td>2.10670</td>\n",
       "      <td>...</td>\n",
       "      <td>21.51529</td>\n",
       "      <td>-0.12756</td>\n",
       "      <td>80</td>\n",
       "      <td>0</td>\n",
       "      <td>0</td>\n",
       "      <td>21.51529</td>\n",
       "      <td>-0.12756</td>\n",
       "      <td>80</td>\n",
       "      <td>OK</td>\n",
       "      <td>3</td>\n",
       "    </tr>\n",
       "    <tr>\n",
       "      <th>481</th>\n",
       "      <td>1.713921</td>\n",
       "      <td>2.856536</td>\n",
       "      <td>0</td>\n",
       "      <td>-0.021406</td>\n",
       "      <td>-0.035676</td>\n",
       "      <td>0.999134</td>\n",
       "      <td>0.0010</td>\n",
       "      <td>k</td>\n",
       "      <td>1.264016</td>\n",
       "      <td>2.10669</td>\n",
       "      <td>...</td>\n",
       "      <td>21.43600</td>\n",
       "      <td>-0.12143</td>\n",
       "      <td>80</td>\n",
       "      <td>0</td>\n",
       "      <td>0</td>\n",
       "      <td>21.43600</td>\n",
       "      <td>-0.12143</td>\n",
       "      <td>80</td>\n",
       "      <td>OK</td>\n",
       "      <td>3</td>\n",
       "    </tr>\n",
       "    <tr>\n",
       "      <th>482</th>\n",
       "      <td>2.285228</td>\n",
       "      <td>2.856536</td>\n",
       "      <td>0</td>\n",
       "      <td>-0.028535</td>\n",
       "      <td>-0.035669</td>\n",
       "      <td>0.998956</td>\n",
       "      <td>0.0010</td>\n",
       "      <td>k</td>\n",
       "      <td>1.685357</td>\n",
       "      <td>2.10670</td>\n",
       "      <td>...</td>\n",
       "      <td>21.36083</td>\n",
       "      <td>-0.11535</td>\n",
       "      <td>80</td>\n",
       "      <td>0</td>\n",
       "      <td>0</td>\n",
       "      <td>21.36083</td>\n",
       "      <td>-0.11535</td>\n",
       "      <td>80</td>\n",
       "      <td>OK</td>\n",
       "      <td>3</td>\n",
       "    </tr>\n",
       "    <tr>\n",
       "      <th>483</th>\n",
       "      <td>2.856536</td>\n",
       "      <td>2.856536</td>\n",
       "      <td>0</td>\n",
       "      <td>-0.035661</td>\n",
       "      <td>-0.035661</td>\n",
       "      <td>0.998727</td>\n",
       "      <td>0.0010</td>\n",
       "      <td>k</td>\n",
       "      <td>2.106694</td>\n",
       "      <td>2.10669</td>\n",
       "      <td>...</td>\n",
       "      <td>21.28969</td>\n",
       "      <td>-0.10935</td>\n",
       "      <td>80</td>\n",
       "      <td>0</td>\n",
       "      <td>0</td>\n",
       "      <td>21.28969</td>\n",
       "      <td>-0.10935</td>\n",
       "      <td>80</td>\n",
       "      <td>OK</td>\n",
       "      <td>3</td>\n",
       "    </tr>\n",
       "  </tbody>\n",
       "</table>\n",
       "<p>484 rows × 24 columns</p>\n",
       "</div>"
      ],
      "text/plain": [
       "           X0        Y0  Z0        U0        V0        W0    wave col  \\\n",
       "0   -2.856536 -2.856536   0  0.035661  0.035661  0.998727  0.0004   b   \n",
       "1   -2.285228 -2.856536   0  0.028535  0.035669  0.998956  0.0004   b   \n",
       "2   -1.713921 -2.856536   0  0.021406  0.035676  0.999134  0.0004   b   \n",
       "3   -1.142614 -2.856536   0  0.014272  0.035680  0.999261  0.0004   b   \n",
       "4   -0.571307 -2.856536   0  0.007137  0.035683  0.999338  0.0004   b   \n",
       "..        ...       ...  ..       ...       ...       ...     ...  ..   \n",
       "479  0.571307  2.856536   0 -0.007137 -0.035683  0.999338  0.0010   k   \n",
       "480  1.142614  2.856536   0 -0.014272 -0.035680  0.999261  0.0010   k   \n",
       "481  1.713921  2.856536   0 -0.021406 -0.035676  0.999134  0.0010   k   \n",
       "482  2.285228  2.856536   0 -0.028535 -0.035669  0.998956  0.0010   k   \n",
       "483  2.856536  2.856536   0 -0.035661 -0.035661  0.998727  0.0010   k   \n",
       "\n",
       "           X1       Y1  ...        X3       Y3  Z3  Xgoal  Ygoal    Xfinal  \\\n",
       "0   -2.106694 -2.10669  ...   8.28509  0.03142  80      0      0   8.28509   \n",
       "1   -1.685357 -2.10670  ...   8.26662  0.02923  80      0      0   8.26662   \n",
       "2   -1.264016 -2.10669  ...   8.24951  0.02707  80      0      0   8.24951   \n",
       "3   -0.842678 -2.10670  ...   8.23371  0.02491  80      0      0   8.23371   \n",
       "4   -0.421339 -2.10670  ...   8.21925  0.02276  80      0      0   8.21925   \n",
       "..        ...      ...  ...       ...      ...  ..    ...    ...       ...   \n",
       "479  0.421339  2.10670  ...  21.59873 -0.13376  80      0      0  21.59873   \n",
       "480  0.842678  2.10670  ...  21.51529 -0.12756  80      0      0  21.51529   \n",
       "481  1.264016  2.10669  ...  21.43600 -0.12143  80      0      0  21.43600   \n",
       "482  1.685357  2.10670  ...  21.36083 -0.11535  80      0      0  21.36083   \n",
       "483  2.106694  2.10669  ...  21.28969 -0.10935  80      0      0  21.28969   \n",
       "\n",
       "      Yfinal  Zfinal  Notes  Unnamed: 23  \n",
       "0    0.03142      80     OK            3  \n",
       "1    0.02923      80     OK            3  \n",
       "2    0.02707      80     OK            3  \n",
       "3    0.02491      80     OK            3  \n",
       "4    0.02276      80     OK            3  \n",
       "..       ...     ...    ...          ...  \n",
       "479 -0.13376      80     OK            3  \n",
       "480 -0.12756      80     OK            3  \n",
       "481 -0.12143      80     OK            3  \n",
       "482 -0.11535      80     OK            3  \n",
       "483 -0.10935      80     OK            3  \n",
       "\n",
       "[484 rows x 24 columns]"
      ]
     },
     "execution_count": 370,
     "metadata": {},
     "output_type": "execute_result"
    }
   ],
   "source": [
    "df_R350"
   ]
  },
  {
   "cell_type": "markdown",
   "metadata": {},
   "source": [
    "# Choose disperser"
   ]
  },
  {
   "cell_type": "code",
   "execution_count": 371,
   "metadata": {},
   "outputs": [],
   "source": [
    "FLAG_R400 = False\n",
    "FLAG_R300 = True\n",
    "FLAG_R350 = False\n",
    "FLAG_R200 = False\n",
    "FLAG_HOE = False"
   ]
  },
  {
   "cell_type": "code",
   "execution_count": 372,
   "metadata": {},
   "outputs": [
    {
     "data": {
      "text/plain": [
       "'Beam4_Rayfile_484_allwl_m00_m00'"
      ]
     },
     "execution_count": 372,
     "metadata": {},
     "output_type": "execute_result"
    }
   ],
   "source": [
    "Beam4_Rayfile"
   ]
  },
  {
   "cell_type": "code",
   "execution_count": 373,
   "metadata": {},
   "outputs": [],
   "source": [
    "if FLAG_R400:\n",
    "    df=df_R400\n",
    "    outputdata_excel=\"R400_PSF_\"+ Beam4_Rayfile+\"_out_v2.xlsx\"\n",
    "    figname1=\"R400_DISP_\"+  Beam4_Rayfile+\".pdf\"\n",
    "    figname2=\"R400_PSF_\" +   Beam4_Rayfile+\".pdf\"  \n",
    "    figname3=\"R400_PSF_\" +   Beam4_Rayfile+\"_v2.pdf\"  \n",
    "    fulltitle1=\"Ronchi 400 : Dispersion at Focal Plane for angles ({:2.2f} , {:2.2f}) arcmin, order = {}\".format(theta_x,theta_y,order_str)\n",
    "    fulltitle2=\"Ronchi 400 : PSF at Focal Plane for angles ({:2.2f} , {:2.2f}) arcmin, order = {}\".format(theta_x,theta_y,order_str)\n",
    "elif FLAG_R300:\n",
    "    df=df_R300\n",
    "    outputdata_excel=\"R300_PSF_\"+ Beam4_Rayfile+\"_out_v2.xlsx\"\n",
    "    figname1=\"R300_DISP_\"+  Beam4_Rayfile+\".pdf\"\n",
    "    figname2=\"R300_PSF_\" +   Beam4_Rayfile+\".pdf\"  \n",
    "    figname3=\"R300_PSF_\" +   Beam4_Rayfile+\"_v2.pdf\"  \n",
    "    fulltitle1=\"Ronchi 300 : Dispersion at Focal Plane for angles ({:2.2f} , {:2.2f}) arcmin, order = {}\".format(theta_x,theta_y,order_str)\n",
    "    fulltitle2=\"Ronchi 300 : PSF at Focal Plane for angles ({:2.2f} , {:2.2f}) arcmin, order = {}\".format(theta_x,theta_y,order_str)\n",
    "    \n",
    "elif FLAG_R350:\n",
    "    df=df_R350\n",
    "    outputdata_excel=\"R350_PSF_\"+ Beam4_Rayfile+\"_out_v2.xlsx\"\n",
    "    figname1=\"R350_DISP_\"+  Beam4_Rayfile+\".pdf\"\n",
    "    figname2=\"R350_PSF_\" +   Beam4_Rayfile+\".pdf\"\n",
    "    figname3=\"R350_PSF_\" +   Beam4_Rayfile+\"_v2.pdf\"\n",
    "    fulltitle1=\"Ronchi 350 : Dispersion at Focal Plane for angles ({:2.2f} , {:2.2f}) arcmin, order = {}\".format(theta_x,theta_y,order_str)\n",
    "    fulltitle2=\"Ronchi 350 : PSF at Focal Plane for angles ({:2.2f} , {:2.2f}) arcmin, order = {}\".format(theta_x,theta_y,order_str)\n",
    "elif FLAG_R200:\n",
    "    df=df_R200\n",
    "    outputdata_excel=\"R200_PSF_\"+ Beam4_Rayfile+\"_out_v2.xlsx\"\n",
    "    figname1=\"R200_DISP_\"+  Beam4_Rayfile+\".pdf\"\n",
    "    figname2=\"R200_PSF_\" +   Beam4_Rayfile+\".pdf\"\n",
    "    figname3=\"R200_PSF_\" +   Beam4_Rayfile+\"_v2.pdf\"\n",
    "    fulltitle1=\"Ronchi 200 : Dispersion at Focal Plane for angles ({:2.2f} , {:2.2f}) arcmin, order = {}\".format(theta_x,theta_y,order_str)\n",
    "    fulltitle2=\"Ronchi 200 : PSF at Focal Plane for angles ({:2.2f} , {:2.2f}) arcmin, order = {}\".format(theta_x,theta_y,order_str)\n",
    "else:\n",
    "    df=df_hoe\n",
    "    outputdata_excel=\"HOE_PSF_\"+ Beam4_Rayfile+\"_out_v2.xlsx\"\n",
    "    figname1=\"HOE_DISP_\"+  Beam4_Rayfile+\".pdf\"\n",
    "    figname2=\"HOE_PSF_\" +   Beam4_Rayfile+\".pdf\" \n",
    "    figname3=\"HOE_PSF_\" +   Beam4_Rayfile+\"_v2.pdf\"\n",
    "    fulltitle1=\"HOE : Dispersion at Focal Plane for angles ({:2.2f} , {:2.2f}) arcmin, order = {}\".format(theta_x,theta_y,order_str)\n",
    "    fulltitle2=\"HOE : PSF at Focal Plane for angles ({:2.2f} , {:2.2f}) arcmin, order = {}\".format(theta_x,theta_y,order_str)"
   ]
  },
  {
   "cell_type": "markdown",
   "metadata": {},
   "source": [
    "# Show beam"
   ]
  },
  {
   "cell_type": "code",
   "execution_count": 374,
   "metadata": {},
   "outputs": [],
   "source": [
    "X0C=df[\"X0\"].mean()\n",
    "Y0C=df[\"Y0\"].mean()"
   ]
  },
  {
   "cell_type": "code",
   "execution_count": 375,
   "metadata": {},
   "outputs": [],
   "source": [
    "RXMAX=np.max(np.abs(df[\"X0\"].values-X0C))\n",
    "RYMAX=np.max(np.abs(df[\"Y0\"].values-Y0C))          "
   ]
  },
  {
   "cell_type": "code",
   "execution_count": 376,
   "metadata": {},
   "outputs": [],
   "source": [
    "RMAX=np.max(np.array([RXMAX,RYMAX]))"
   ]
  },
  {
   "cell_type": "code",
   "execution_count": 377,
   "metadata": {},
   "outputs": [
    {
     "data": {
      "text/plain": [
       "2.8565355"
      ]
     },
     "execution_count": 377,
     "metadata": {},
     "output_type": "execute_result"
    }
   ],
   "source": [
    "RMAX"
   ]
  },
  {
   "cell_type": "code",
   "execution_count": 378,
   "metadata": {},
   "outputs": [],
   "source": [
    "def Select_Beam(row):\n",
    "    return (row[\"X0\"]-X0C)**2+(row[\"Y0\"]-Y0C)**2 <= RMAX**2"
   ]
  },
  {
   "cell_type": "code",
   "execution_count": 379,
   "metadata": {},
   "outputs": [
    {
     "data": {
      "text/plain": [
       "Text(0.5, 0.98, 'Unfiltered square beam')"
      ]
     },
     "execution_count": 379,
     "metadata": {},
     "output_type": "execute_result"
    },
    {
     "data": {
      "image/png": "[encoded data removed]",
      "text/plain": [
       "<Figure size 1296x648 with 2 Axes>"
      ]
     },
     "metadata": {
      "needs_background": "light"
     },
     "output_type": "display_data"
    }
   ],
   "source": [
    "f, ((ax1, ax2)) = plt.subplots(1, 2,figsize=(18,9),sharex=True,sharey=True)\n",
    "df.plot.scatter(x=\"X0\", y=\"Y0\",c=\"DarkBlue\",marker=\"o\",ax=ax1)\n",
    "ax1.set_aspect(\"equal\")\n",
    "ax1.grid()\n",
    "\n",
    "q = ax2.quiver(df[\"X0\"], df[\"Y0\"], df[\"U0\"], df[\"V0\"],color=\"red\")\n",
    "ax2.set_aspect(\"equal\")\n",
    "ax2.set_xlabel(\"X0 (mm)\")\n",
    "ax2.grid()\n",
    "\n",
    "plt.suptitle(\"Unfiltered square beam\")"
   ]
  },
  {
   "cell_type": "code",
   "execution_count": 380,
   "metadata": {},
   "outputs": [],
   "source": [
    "#df_filter=df.copy()"
   ]
  },
  {
   "cell_type": "code",
   "execution_count": 381,
   "metadata": {},
   "outputs": [],
   "source": [
    "#df_filter[\"sel_flag\"]= df_filter.apply(Select_Beam, axis=1)"
   ]
  },
  {
   "cell_type": "code",
   "execution_count": 382,
   "metadata": {},
   "outputs": [],
   "source": [
    "#df_filter"
   ]
  },
  {
   "cell_type": "code",
   "execution_count": 383,
   "metadata": {},
   "outputs": [],
   "source": [
    "# Do the filtering of the selected rays\n",
    "#df_filter=df_filter.loc[df_filter.apply(Select_Beam, axis=1)]"
   ]
  },
  {
   "cell_type": "code",
   "execution_count": 384,
   "metadata": {},
   "outputs": [],
   "source": [
    "#f, ((ax1, ax2)) = plt.subplots(1, 2,figsize=(18,9),sharex=True,sharey=True)\n",
    "#df_filter.plot.scatter(x=\"X0\", y=\"Y0\",c=\"DarkBlue\",marker=\"o\",ax=ax1)\n",
    "#ax1.set_aspect(\"equal\")\n",
    "#ax1.grid()\n",
    "\n",
    "#q = ax2.quiver(df_filter[\"X0\"], df_filter[\"Y0\"], df_filter[\"U0\"], df_filter[\"V0\"],color=\"red\")\n",
    "#ax2.set_aspect(\"equal\")\n",
    "#ax2.set_xlabel(\"X0 (mm)\")\n",
    "#ax2.grid()\n",
    "\n",
    "#plt.suptitle(\"Filtered circular beam\")"
   ]
  },
  {
   "cell_type": "markdown",
   "metadata": {},
   "source": [
    "## reafect df_filter to df"
   ]
  },
  {
   "cell_type": "code",
   "execution_count": 385,
   "metadata": {},
   "outputs": [],
   "source": [
    "#df_filter=df_filter.reset_index()   # reset index\n",
    "#df=df_filter.copy()"
   ]
  },
  {
   "cell_type": "code",
   "execution_count": 386,
   "metadata": {},
   "outputs": [],
   "source": [
    "#df.reindex()"
   ]
  },
  {
   "cell_type": "code",
   "execution_count": 387,
   "metadata": {},
   "outputs": [],
   "source": [
    "NBEAMS=len(df)"
   ]
  },
  {
   "cell_type": "markdown",
   "metadata": {},
   "source": [
    "## Select one wavelength"
   ]
  },
  {
   "cell_type": "code",
   "execution_count": 388,
   "metadata": {},
   "outputs": [],
   "source": [
    "#WL_IR=0.001\n",
    "\n",
    "WL_IR=0.0004"
   ]
  },
  {
   "cell_type": "code",
   "execution_count": 389,
   "metadata": {},
   "outputs": [],
   "source": [
    "df_IR=df.loc[df.wave==WL_IR]"
   ]
  },
  {
   "cell_type": "code",
   "execution_count": 390,
   "metadata": {},
   "outputs": [],
   "source": [
    "NBEAMS=len(df_IR)"
   ]
  },
  {
   "cell_type": "code",
   "execution_count": 391,
   "metadata": {},
   "outputs": [],
   "source": [
    "jet = plt.get_cmap('jet')\n",
    "cNorm = colors.Normalize(vmin=0, vmax=NBEAMS)\n",
    "scalarMap = cmx.ScalarMappable(norm=cNorm, cmap=jet)\n",
    "all_colors = scalarMap.to_rgba(np.arange(NBEAMS), alpha=1)"
   ]
  },
  {
   "cell_type": "code",
   "execution_count": 392,
   "metadata": {
    "scrolled": false
   },
   "outputs": [
    {
     "data": {
      "image/png": "[encoded data removed]",
      "text/plain": [
       "<Figure size 1296x648 with 2 Axes>"
      ]
     },
     "metadata": {
      "needs_background": "light"
     },
     "output_type": "display_data"
    }
   ],
   "source": [
    "f, ((ax1, ax2)) = plt.subplots(1, 2,figsize=(18,9))\n",
    "df_IR.plot.scatter(x=\"X2\", y=\"Y2\",c=all_colors,marker=\"o\",ax=ax1,s=50)\n",
    "ax1.set_aspect(\"equal\")\n",
    "ax1.grid()\n",
    "ax1.set_title(\"Rays at Hologram\")\n",
    "\n",
    "\n",
    "df_IR.plot.scatter(x=\"X3\", y=\"Y3\",c=all_colors,marker=\"o\",ax=ax2,s=50)\n",
    "ax2.set_aspect(\"equal\")\n",
    "ax2.grid()\n",
    "ax2.set_title(\"Ray at focal plane \")\n",
    "\n",
    "plt.suptitle(\"wavelength = 1 $\\mu$ m\",Y=1.1,fontsize=25)\n",
    "plt.tight_layout()"
   ]
  },
  {
   "cell_type": "markdown",
   "metadata": {},
   "source": [
    "# 1D PSF"
   ]
  },
  {
   "cell_type": "code",
   "execution_count": 393,
   "metadata": {
    "scrolled": false
   },
   "outputs": [
    {
     "data": {
      "text/plain": [
       "Text(0.5, 0, 'Y (mm)')"
      ]
     },
     "execution_count": 393,
     "metadata": {},
     "output_type": "execute_result"
    },
    {
     "data": {
      "image/png": "[encoded data removed]",
      "text/plain": [
       "<Figure size 1296x432 with 2 Axes>"
      ]
     },
     "metadata": {
      "needs_background": "light"
     },
     "output_type": "display_data"
    }
   ],
   "source": [
    "f, ((ax1, ax2)) = plt.subplots(1, 2,figsize=(18,6))\n",
    "Xpos=df_IR[\"X3\"].values\n",
    "Ypos=df_IR[\"Y3\"].values\n",
    "NBINS=21\n",
    "X3C=Xpos.mean()\n",
    "Y3C=Ypos.mean()\n",
    "\n",
    "RX=Xpos.max()-X3C\n",
    "RY=Ypos.max()-Y3C\n",
    "\n",
    "h1=np.histogram(Xpos,bins=NBINS)\n",
    "h2=np.histogram(Ypos,bins=NBINS)\n",
    "\n",
    "counts1, bins1 = h1\n",
    "counts2, bins2 = h2\n",
    "\n",
    "NPOINTS=50\n",
    "all_x=np.linspace(-RX,RX,NPOINTS)\n",
    "all_y=np.linspace(-RY,RY,NPOINTS)\n",
    "DX=2/NBINS*NBEAMS*(2*RX)\n",
    "DY=2/NBINS*NBEAMS*(2*RY)\n",
    "\n",
    "Yx=1/np.pi/RX*DX*np.sqrt(1-all_x**2/RX**2)\n",
    "Yy=1/np.pi/RY*DY*np.sqrt(1-all_y**2/RY**2)\n",
    "YxMax=1/np.pi/RX*DX\n",
    "YyMax=1/np.pi/RY*DY\n",
    "\n",
    "#ax1.hist(Xpos,bins=NBINS,facecolor=\"blue\",density=True)\n",
    "ax1.hist(bins1[:-1], bins1, weights=counts1,facecolor=\"blue\",density=False)\n",
    "ax1.plot(all_x+Xpos.mean(),Yx,color='green')\n",
    "ax1.grid()\n",
    "ax1.set_title(\"PSF along dispersion axis Rx={:2.2f} mm\".format(RX))\n",
    "ax1.axhline(y=YxMax/2,color=\"k\")\n",
    "ax1.axvline(x=-np.sqrt(3)*RX/2.+Xpos.mean(),color=\"k\")\n",
    "ax1.axvline(x=np.sqrt(3)*RX/2.+Xpos.mean(),color=\"k\")\n",
    "ax1.set_xlabel(\"X (mm)\")\n",
    "\n",
    "#ax2.hist(Ypos,bins=NBINS,facecolor=\"red\",density=True)\n",
    "ax2.hist(bins2[:-1], bins2, weights=counts2,facecolor=\"red\",density=False)\n",
    "ax2.plot(all_y+Ypos.mean(),Yy,color=\"green\")\n",
    "ax2.axhline(y=YyMax/2.,color=\"k\")\n",
    "ax2.axvline(x=-np.sqrt(3)*RY/2.+Ypos.mean(),color=\"k\")\n",
    "ax2.axvline(x=np.sqrt(3)*RY/2.+Ypos.mean(),color=\"k\")\n",
    "ax2.grid()\n",
    "ax2.set_title(\"PSF transverse dispersion axis Ry={:2.2f}mm\".format(RY))\n",
    "ax2.set_xlabel(\"Y (mm)\")"
   ]
  },
  {
   "cell_type": "markdown",
   "metadata": {},
   "source": [
    "# Uniform sampling of the surface"
   ]
  },
  {
   "cell_type": "code",
   "execution_count": 394,
   "metadata": {},
   "outputs": [],
   "source": [
    "NSIMRAYS=200000"
   ]
  },
  {
   "cell_type": "code",
   "execution_count": 395,
   "metadata": {},
   "outputs": [],
   "source": [
    "SIMRAYS_COORDINATES=(np.random.random((NSIMRAYS,2))-0.5)*2*RMAX"
   ]
  },
  {
   "cell_type": "code",
   "execution_count": 396,
   "metadata": {},
   "outputs": [],
   "source": [
    "simrays_sel_idx=np.where(SIMRAYS_COORDINATES[:,0]**2+SIMRAYS_COORDINATES[:,1]**2<(RMAX)**2)[0]"
   ]
  },
  {
   "cell_type": "code",
   "execution_count": 397,
   "metadata": {},
   "outputs": [],
   "source": [
    "SIMRAYSSEL_COORDINATES = SIMRAYS_COORDINATES[simrays_sel_idx]"
   ]
  },
  {
   "cell_type": "code",
   "execution_count": 398,
   "metadata": {},
   "outputs": [],
   "source": [
    "SIMRAYSSEL_COORDINATES = SIMRAYSSEL_COORDINATES # -np.array([X0C,Y0C])   recenter the beam at hologram place"
   ]
  },
  {
   "cell_type": "code",
   "execution_count": 399,
   "metadata": {},
   "outputs": [],
   "source": [
    "NBSIMRAYSSEL=len(SIMRAYSSEL_COORDINATES)"
   ]
  },
  {
   "cell_type": "code",
   "execution_count": 400,
   "metadata": {},
   "outputs": [
    {
     "data": {
      "text/plain": [
       "Text(0.5, 1.0, ' Random beam')"
      ]
     },
     "execution_count": 400,
     "metadata": {},
     "output_type": "execute_result"
    },
    {
     "data": {
      "text/plain": [
       "<Figure size 864x720 with 0 Axes>"
      ]
     },
     "metadata": {},
     "output_type": "display_data"
    },
    {
     "data": {
      "image/png": "[encoded data removed]",
      "text/plain": [
       "<Figure size 720x720 with 1 Axes>"
      ]
     },
     "metadata": {
      "needs_background": "light"
     },
     "output_type": "display_data"
    }
   ],
   "source": [
    "plt.figure(figsize=(12,10))\n",
    "f, ax = plt.subplots(figsize=(10,10))\n",
    "ax.scatter(SIMRAYSSEL_COORDINATES[:,0],SIMRAYSSEL_COORDINATES[:,1],marker=\"o\" ,color=\"DarkBlue\",s=10)\n",
    "ax.scatter(df_IR[\"X0\"].values, df_IR[\"Y0\"],marker=\"o\" ,color=\"red\",s=50)\n",
    "ax.grid()\n",
    "ax.set_aspect(\"auto\")\n",
    "ax.set_xlabel(\"X mm\")\n",
    "ax.set_ylabel(\"Y mm\")\n",
    "ax.set_title(\" Random beam\")"
   ]
  },
  {
   "cell_type": "markdown",
   "metadata": {},
   "source": [
    "# K neareast neightbourg"
   ]
  },
  {
   "cell_type": "markdown",
   "metadata": {},
   "source": [
    "## Defines the reference sample of rays simulated bu B4"
   ]
  },
  {
   "cell_type": "code",
   "execution_count": 401,
   "metadata": {},
   "outputs": [],
   "source": [
    "X=df_IR[\"X0\"].values\n",
    "Y=df_IR[\"Y0\"].values\n",
    "Z1=df_IR[\"X3\"].values\n",
    "Z2=df_IR[\"Y3\"].values\n",
    "\n",
    "refXY = np.dstack((X,Y))[0]"
   ]
  },
  {
   "cell_type": "markdown",
   "metadata": {},
   "source": [
    "## Fit KNN"
   ]
  },
  {
   "cell_type": "code",
   "execution_count": 402,
   "metadata": {},
   "outputs": [],
   "source": [
    "nbrs = NearestNeighbors(n_neighbors=4, algorithm='ball_tree').fit(refXY)"
   ]
  },
  {
   "cell_type": "markdown",
   "metadata": {},
   "source": [
    "## Find the neighbours of simulated resampled"
   ]
  },
  {
   "cell_type": "code",
   "execution_count": 403,
   "metadata": {},
   "outputs": [],
   "source": [
    "distances, indices = nbrs.kneighbors(SIMRAYSSEL_COORDINATES) "
   ]
  },
  {
   "cell_type": "markdown",
   "metadata": {},
   "source": [
    "# 2D bilinear Interpolation\n",
    "    "
   ]
  },
  {
   "cell_type": "code",
   "execution_count": 404,
   "metadata": {},
   "outputs": [
    {
     "name": "stderr",
     "output_type": "stream",
     "text": [
      "/Users/dagoret/anaconda3/lib/python3.7/site-packages/scipy/interpolate/_fitpack_impl.py:976: RuntimeWarning: The required storage space exceeds the available storage space.\n",
      "Probable causes: nxest or nyest too small or s is too small. (fp>s)\n",
      "\tkx,ky=1,1 nx,ny=4,4 m=4 fp=0.000000 s=0.000000\n",
      "  warnings.warn(RuntimeWarning(_iermess2[ierm][0] + _mess))\n"
     ]
    }
   ],
   "source": [
    "Xccd=np.zeros(NBSIMRAYSSEL)\n",
    "Yccd=np.zeros(NBSIMRAYSSEL)\n",
    "\n",
    "for idx in np.arange(NBSIMRAYSSEL):\n",
    "    dd=distances[idx]\n",
    "    indrays=indices[idx]\n",
    "    \n",
    "    \n",
    "    # reference rays original coordinates\n",
    "    theX=df_IR.iloc[indrays][\"X0\"].values\n",
    "    theY=df_IR.iloc[indrays][\"Y0\"].values\n",
    "    \n",
    "    # reference rays final coordinates on CCD\n",
    "    ZX=df_IR.iloc[indrays][\"X3\"].values\n",
    "    ZY=df_IR.iloc[indrays][\"Y3\"].values\n",
    "    \n",
    "    fX = interpolate.interp2d(theX, theY, ZX, kind='linear')\n",
    "    fY = interpolate.interp2d(theX, theY, ZY, kind='linear')\n",
    "    \n",
    "    Xccd[idx]=fX(SIMRAYSSEL_COORDINATES[idx,0],SIMRAYSSEL_COORDINATES[idx,1])\n",
    "    Yccd[idx]=fY(SIMRAYSSEL_COORDINATES[idx,0],SIMRAYSSEL_COORDINATES[idx,1])\n",
    "    \n",
    "    "
   ]
  },
  {
   "cell_type": "code",
   "execution_count": 405,
   "metadata": {},
   "outputs": [
    {
     "data": {
      "text/plain": [
       "Text(0.5, 1.0, ' Random beam on CCD')"
      ]
     },
     "execution_count": 405,
     "metadata": {},
     "output_type": "execute_result"
    },
    {
     "data": {
      "text/plain": [
       "<Figure size 864x720 with 0 Axes>"
      ]
     },
     "metadata": {},
     "output_type": "display_data"
    },
    {
     "data": {
      "image/png": "[encoded data removed]",
      "text/plain": [
       "<Figure size 720x720 with 2 Axes>"
      ]
     },
     "metadata": {
      "needs_background": "light"
     },
     "output_type": "display_data"
    }
   ],
   "source": [
    "plt.figure(figsize=(12,10))\n",
    "f, (ax1,ax2) = plt.subplots(2,1,figsize=(10,10))\n",
    "NBINX=(Xccd.max()-Xccd.min())/(Det_xpic*micr_to_mm)\n",
    "NBINY=(Yccd.max()-Yccd.min())/(Det_xpic*micr_to_mm) \n",
    "\n",
    "ax1.scatter(Xccd,Yccd,marker=\"o\" ,color=\"DarkBlue\",s=1)\n",
    "ax1.scatter(df_IR[\"X3\"].values, df_IR[\"Y3\"],marker=\"o\" ,color=\"red\",s=50)\n",
    "ax1.grid()\n",
    "ax1.set_aspect(\"equal\")\n",
    "ax1.set_xlabel(\"Xccd mm\")\n",
    "ax1.set_ylabel(\"Yccd mm\")\n",
    "ax1.set_title(\" Random beam on CCD\")\n",
    "\n",
    "ax2.hist2d(Xccd,Yccd,bins=(NBINX,NBINY),cmap=cm.get_cmap('jet', 512))\n",
    "ax2.set_aspect(\"equal\")\n",
    "ax2.set_xlabel(\"Xccd mm\")\n",
    "ax2.set_ylabel(\"Yccd mm\")\n",
    "ax2.set_title(\" Random beam on CCD\")"
   ]
  },
  {
   "cell_type": "markdown",
   "metadata": {},
   "source": [
    "## Histogram and Fit"
   ]
  },
  {
   "cell_type": "code",
   "execution_count": 406,
   "metadata": {},
   "outputs": [],
   "source": [
    "def ComputeFWHM(values,nbins,thetitle=\"fwhm\",thexlabel=\"X ($\\mu m$)\",flagplot=False):\n",
    "    \"\"\"\n",
    "    ComputeFWHM(values,nbins,flagplot)\n",
    "    \n",
    "    input arg :\n",
    "       values : list of values\n",
    "       nbins. : number of bins in the histogram\n",
    "       flagplot : flag to plot the distribution\n",
    "    \"\"\"\n",
    "    \n",
    "    counts, bins =np.histogram(values,bins=nbins)\n",
    "    \n",
    "    # compute bin width\n",
    "    binwidths=(np.roll(bins,-1)-bins)[:-1]\n",
    "    binwidth=np.mean(binwidths)\n",
    "    \n",
    "    # find max\n",
    "    idx_max=np.where(counts==counts.max())[0][0]\n",
    "    count_max=counts[idx_max]\n",
    "    counts_halfmax=count_max/2.\n",
    "    \n",
    "    # bins above half max\n",
    "    topmost=np.where(counts>=counts_halfmax)[0]\n",
    "    idx_min_fwhm=topmost[0]\n",
    "    idx_max_fwhm=topmost[-1]\n",
    "    \n",
    "    # lower upper part\n",
    "    min_fwhm=bins[idx_min_fwhm]+binwidth/2.\n",
    "    max_fwhm=bins[idx_max_fwhm]+binwidth/2.\n",
    "    \n",
    "    #fwhm\n",
    "    fwhm=max_fwhm-min_fwhm\n",
    "    \n",
    "    \n",
    "    if flagplot:\n",
    "        f, ax = plt.subplots(figsize=(10,5))\n",
    "        \n",
    "        ax.hist(bins[:-1]+binwidth/2., bins+binwidth/2., weights=counts,facecolor=\"red\",density=False)\n",
    "        ax.axhline(y=counts_halfmax)\n",
    "        ax.axvline(x=min_fwhm,color=\"k\")\n",
    "        ax.axvline(x=max_fwhm,color=\"k\")\n",
    "        \n",
    "        ax.grid()\n",
    "        thetitle=thetitle+\" = {:3.0f} $\\mu m$\".format(fwhm*1000)\n",
    "        ax.set_title(thetitle)\n",
    "        ax.set_xlabel(thexlabel)\n",
    "        \n",
    "    return fwhm\n",
    "            "
   ]
  },
  {
   "cell_type": "markdown",
   "metadata": {},
   "source": [
    "### histogram in CCD pixels"
   ]
  },
  {
   "cell_type": "code",
   "execution_count": 407,
   "metadata": {},
   "outputs": [],
   "source": [
    "NBINSX=int((Xccd.max()-Xccd.min())/(Det_xpic*micr_to_mm))\n",
    "NBINSY=int((Yccd.max()-Yccd.min())/(Det_xpic*micr_to_mm)) \n",
    "\n",
    "# compute the histogram\n",
    "h1=np.histogram(Xccd,bins=NBINSX)\n",
    "h2=np.histogram(Yccd,bins=NBINSY)\n",
    "\n",
    "counts1, bins1 = h1\n",
    "counts2, bins2 = h2\n",
    "\n",
    "\n",
    "# compute bin width\n",
    "# compute bin width\n",
    "binwidths1=(np.roll(bins1,-1)-bins1)[:-1]\n",
    "binwidth1=np.mean(binwidths1)\n",
    "\n",
    "binwidths2=(np.roll(bins2,-1)-bins2)[:-1]\n",
    "binwidth2=np.mean(binwidths2)\n",
    "\n",
    "# What to fit\n",
    "\n",
    "theX1=(bins1+binwidth1/2)[:-1]\n",
    "theY1=counts1\n",
    "\n",
    "theX2=(bins2+binwidth2/2)[:-1]\n",
    "theY2=counts2"
   ]
  },
  {
   "cell_type": "code",
   "execution_count": 408,
   "metadata": {},
   "outputs": [
    {
     "ename": "TypeError",
     "evalue": "Improper input: N=3 must not exceed M=1",
     "output_type": "error",
     "traceback": [
      "\u001b[0;31m---------------------------------------------------------------------------\u001b[0m",
      "\u001b[0;31mTypeError\u001b[0m                                 Traceback (most recent call last)",
      "\u001b[0;32m<ipython-input-408-1337be9c1bd6>\u001b[0m in \u001b[0;36m<module>\u001b[0;34m\u001b[0m\n\u001b[1;32m     16\u001b[0m \u001b[0mmodel_gauss\u001b[0m \u001b[0;34m=\u001b[0m \u001b[0mmodels\u001b[0m\u001b[0;34m.\u001b[0m\u001b[0mGaussian1D\u001b[0m\u001b[0;34m(\u001b[0m\u001b[0;34m)\u001b[0m\u001b[0;34m\u001b[0m\u001b[0;34m\u001b[0m\u001b[0m\n\u001b[1;32m     17\u001b[0m \u001b[0mfitter_gauss\u001b[0m \u001b[0;34m=\u001b[0m \u001b[0mfitting\u001b[0m\u001b[0;34m.\u001b[0m\u001b[0mLevMarLSQFitter\u001b[0m\u001b[0;34m(\u001b[0m\u001b[0;34m)\u001b[0m\u001b[0;34m\u001b[0m\u001b[0;34m\u001b[0m\u001b[0m\n\u001b[0;32m---> 18\u001b[0;31m \u001b[0mbest_fit_gauss\u001b[0m \u001b[0;34m=\u001b[0m \u001b[0mfitter_gauss\u001b[0m\u001b[0;34m(\u001b[0m\u001b[0mmodel_gauss\u001b[0m\u001b[0;34m,\u001b[0m \u001b[0mtheX2\u001b[0m\u001b[0;34m,\u001b[0m\u001b[0mtheY2\u001b[0m\u001b[0;34m,\u001b[0m\u001b[0mweights\u001b[0m\u001b[0;34m=\u001b[0m\u001b[0;36m1\u001b[0m\u001b[0;34m)\u001b[0m\u001b[0;34m\u001b[0m\u001b[0;34m\u001b[0m\u001b[0m\n\u001b[0m\u001b[1;32m     19\u001b[0m \u001b[0mprint\u001b[0m\u001b[0;34m(\u001b[0m\u001b[0mbest_fit_gauss\u001b[0m\u001b[0;34m)\u001b[0m\u001b[0;34m\u001b[0m\u001b[0;34m\u001b[0m\u001b[0m\n\u001b[1;32m     20\u001b[0m \u001b[0;34m\u001b[0m\u001b[0m\n",
      "\u001b[0;32m~/anaconda3/lib/python3.7/site-packages/astropy/modeling/fitting.py\u001b[0m in \u001b[0;36mwrapper\u001b[0;34m(self, model, x, y, z, **kwargs)\u001b[0m\n\u001b[1;32m    174\u001b[0m         \u001b[0;32melse\u001b[0m\u001b[0;34m:\u001b[0m\u001b[0;34m\u001b[0m\u001b[0;34m\u001b[0m\u001b[0m\n\u001b[1;32m    175\u001b[0m \u001b[0;34m\u001b[0m\u001b[0m\n\u001b[0;32m--> 176\u001b[0;31m             \u001b[0;32mreturn\u001b[0m \u001b[0mfunc\u001b[0m\u001b[0;34m(\u001b[0m\u001b[0mself\u001b[0m\u001b[0;34m,\u001b[0m \u001b[0mmodel\u001b[0m\u001b[0;34m,\u001b[0m \u001b[0mx\u001b[0m\u001b[0;34m,\u001b[0m \u001b[0my\u001b[0m\u001b[0;34m,\u001b[0m \u001b[0mz\u001b[0m\u001b[0;34m=\u001b[0m\u001b[0mz\u001b[0m\u001b[0;34m,\u001b[0m \u001b[0;34m**\u001b[0m\u001b[0mkwargs\u001b[0m\u001b[0;34m)\u001b[0m\u001b[0;34m\u001b[0m\u001b[0;34m\u001b[0m\u001b[0m\n\u001b[0m\u001b[1;32m    177\u001b[0m \u001b[0;34m\u001b[0m\u001b[0m\n\u001b[1;32m    178\u001b[0m     \u001b[0;32mreturn\u001b[0m \u001b[0mwrapper\u001b[0m\u001b[0;34m\u001b[0m\u001b[0;34m\u001b[0m\u001b[0m\n",
      "\u001b[0;32m~/anaconda3/lib/python3.7/site-packages/astropy/modeling/fitting.py\u001b[0m in \u001b[0;36m__call__\u001b[0;34m(self, model, x, y, z, weights, maxiter, acc, epsilon, estimate_jacobian)\u001b[0m\n\u001b[1;32m    883\u001b[0m             \u001b[0mself\u001b[0m\u001b[0;34m.\u001b[0m\u001b[0mobjective_function\u001b[0m\u001b[0;34m,\u001b[0m \u001b[0minit_values\u001b[0m\u001b[0;34m,\u001b[0m \u001b[0margs\u001b[0m\u001b[0;34m=\u001b[0m\u001b[0mfarg\u001b[0m\u001b[0;34m,\u001b[0m \u001b[0mDfun\u001b[0m\u001b[0;34m=\u001b[0m\u001b[0mdfunc\u001b[0m\u001b[0;34m,\u001b[0m\u001b[0;34m\u001b[0m\u001b[0;34m\u001b[0m\u001b[0m\n\u001b[1;32m    884\u001b[0m             \u001b[0mcol_deriv\u001b[0m\u001b[0;34m=\u001b[0m\u001b[0mmodel_copy\u001b[0m\u001b[0;34m.\u001b[0m\u001b[0mcol_fit_deriv\u001b[0m\u001b[0;34m,\u001b[0m \u001b[0mmaxfev\u001b[0m\u001b[0;34m=\u001b[0m\u001b[0mmaxiter\u001b[0m\u001b[0;34m,\u001b[0m \u001b[0mepsfcn\u001b[0m\u001b[0;34m=\u001b[0m\u001b[0mepsilon\u001b[0m\u001b[0;34m,\u001b[0m\u001b[0;34m\u001b[0m\u001b[0;34m\u001b[0m\u001b[0m\n\u001b[0;32m--> 885\u001b[0;31m             xtol=acc, full_output=True)\n\u001b[0m\u001b[1;32m    886\u001b[0m         \u001b[0m_fitter_to_model_params\u001b[0m\u001b[0;34m(\u001b[0m\u001b[0mmodel_copy\u001b[0m\u001b[0;34m,\u001b[0m \u001b[0mfitparams\u001b[0m\u001b[0;34m)\u001b[0m\u001b[0;34m\u001b[0m\u001b[0;34m\u001b[0m\u001b[0m\n\u001b[1;32m    887\u001b[0m         \u001b[0mself\u001b[0m\u001b[0;34m.\u001b[0m\u001b[0mfit_info\u001b[0m\u001b[0;34m.\u001b[0m\u001b[0mupdate\u001b[0m\u001b[0;34m(\u001b[0m\u001b[0mdinfo\u001b[0m\u001b[0;34m)\u001b[0m\u001b[0;34m\u001b[0m\u001b[0;34m\u001b[0m\u001b[0m\n",
      "\u001b[0;32m~/anaconda3/lib/python3.7/site-packages/scipy/optimize/minpack.py\u001b[0m in \u001b[0;36mleastsq\u001b[0;34m(func, x0, args, Dfun, full_output, col_deriv, ftol, xtol, gtol, maxfev, epsfcn, factor, diag)\u001b[0m\n\u001b[1;32m    390\u001b[0m \u001b[0;34m\u001b[0m\u001b[0m\n\u001b[1;32m    391\u001b[0m     \u001b[0;32mif\u001b[0m \u001b[0mn\u001b[0m \u001b[0;34m>\u001b[0m \u001b[0mm\u001b[0m\u001b[0;34m:\u001b[0m\u001b[0;34m\u001b[0m\u001b[0;34m\u001b[0m\u001b[0m\n\u001b[0;32m--> 392\u001b[0;31m         \u001b[0;32mraise\u001b[0m \u001b[0mTypeError\u001b[0m\u001b[0;34m(\u001b[0m\u001b[0;34m'Improper input: N=%s must not exceed M=%s'\u001b[0m \u001b[0;34m%\u001b[0m \u001b[0;34m(\u001b[0m\u001b[0mn\u001b[0m\u001b[0;34m,\u001b[0m \u001b[0mm\u001b[0m\u001b[0;34m)\u001b[0m\u001b[0;34m)\u001b[0m\u001b[0;34m\u001b[0m\u001b[0;34m\u001b[0m\u001b[0m\n\u001b[0m\u001b[1;32m    393\u001b[0m \u001b[0;34m\u001b[0m\u001b[0m\n\u001b[1;32m    394\u001b[0m     \u001b[0;32mif\u001b[0m \u001b[0mepsfcn\u001b[0m \u001b[0;32mis\u001b[0m \u001b[0;32mNone\u001b[0m\u001b[0;34m:\u001b[0m\u001b[0;34m\u001b[0m\u001b[0;34m\u001b[0m\u001b[0m\n",
      "\u001b[0;31mTypeError\u001b[0m: Improper input: N=3 must not exceed M=1"
     ]
    },
    {
     "data": {
      "text/plain": [
       "<Figure size 864x720 with 0 Axes>"
      ]
     },
     "metadata": {},
     "output_type": "display_data"
    },
    {
     "data": {
      "image/png": "[encoded data removed]",
      "text/plain": [
       "<Figure size 1296x432 with 2 Axes>"
      ]
     },
     "metadata": {
      "needs_background": "light"
     },
     "output_type": "display_data"
    }
   ],
   "source": [
    "plt.figure(figsize=(12,10))\n",
    "f, (ax1,ax2) = plt.subplots(1,2,figsize=(18,6))\n",
    "\n",
    "\n",
    "# in X\n",
    "#ax1.hist(Xccd,bins=NBINSX,facecolor=\"blue\")\n",
    "ax1.hist(bins1[:-1], bins1, weights=counts1,facecolor=\"DarkBlue\",density=False,alpha=0.9)\n",
    "ax1.set_xlabel(\"Xccd  (mm) \")\n",
    "ax1.set_title(\"Marginal PSF$_x$\")\n",
    "\n",
    "# in Y\n",
    "#ax2.hist(Yccd,bins=NBINSY,facecolor=\"blue\")\n",
    "ax2.hist(bins2[:-1], bins2, weights=counts2,facecolor=\"DarkBlue\",density=False,alpha=0.9)\n",
    "\n",
    "# gaussian fit\n",
    "model_gauss = models.Gaussian1D()\n",
    "fitter_gauss = fitting.LevMarLSQFitter()\n",
    "best_fit_gauss = fitter_gauss(model_gauss, theX2,theY2,weights=1)\n",
    "print(best_fit_gauss)\n",
    "\n",
    "ax2.set_xlabel(\"Yccd (mm)\")\n",
    "ax2.set_title(\"Marginal PSF$_y$\")"
   ]
  },
  {
   "cell_type": "markdown",
   "metadata": {},
   "source": [
    "### Compute FWHM "
   ]
  },
  {
   "cell_type": "code",
   "execution_count": 409,
   "metadata": {},
   "outputs": [
    {
     "data": {
      "text/plain": [
       "0.06396218552325905"
      ]
     },
     "execution_count": 409,
     "metadata": {},
     "output_type": "execute_result"
    },
    {
     "data": {
      "image/png": "[encoded data removed]",
      "text/plain": [
       "<Figure size 720x360 with 1 Axes>"
      ]
     },
     "metadata": {
      "needs_background": "light"
     },
     "output_type": "display_data"
    }
   ],
   "source": [
    "ComputeFWHM(Xccd,50,thetitle=\"fwhm X\",thexlabel=\"X ($\\mu m$)\",flagplot=True)"
   ]
  },
  {
   "cell_type": "code",
   "execution_count": 410,
   "metadata": {},
   "outputs": [
    {
     "data": {
      "text/plain": [
       "0.01991271389522184"
      ]
     },
     "execution_count": 410,
     "metadata": {},
     "output_type": "execute_result"
    },
    {
     "data": {
      "image/png": "[encoded data removed]",
      "text/plain": [
       "<Figure size 720x360 with 1 Axes>"
      ]
     },
     "metadata": {
      "needs_background": "light"
     },
     "output_type": "display_data"
    }
   ],
   "source": [
    "ComputeFWHM(Yccd,50,thetitle=\"fwhm Y\",thexlabel=\"Y ($\\mu m$)\",flagplot=True)"
   ]
  },
  {
   "cell_type": "markdown",
   "metadata": {},
   "source": [
    "# Fit"
   ]
  },
  {
   "cell_type": "code",
   "execution_count": 1,
   "metadata": {},
   "outputs": [
    {
     "ename": "NameError",
     "evalue": "name 'custom_model' is not defined",
     "output_type": "error",
     "traceback": [
      "\u001b[0;31m---------------------------------------------------------------------------\u001b[0m",
      "\u001b[0;31mNameError\u001b[0m                                 Traceback (most recent call last)",
      "\u001b[0;32m<ipython-input-1-010e4a6e7054>\u001b[0m in \u001b[0;36m<module>\u001b[0;34m\u001b[0m\n\u001b[0;32m----> 1\u001b[0;31m \u001b[0;34m@\u001b[0m\u001b[0mcustom_model\u001b[0m\u001b[0;34m\u001b[0m\u001b[0;34m\u001b[0m\u001b[0m\n\u001b[0m\u001b[1;32m      2\u001b[0m \u001b[0;32mdef\u001b[0m \u001b[0mexponential\u001b[0m\u001b[0;34m(\u001b[0m\u001b[0mx\u001b[0m\u001b[0;34m,\u001b[0m \u001b[0ma\u001b[0m\u001b[0;34m=\u001b[0m\u001b[0;36m10.\u001b[0m\u001b[0;34m,\u001b[0m \u001b[0mb\u001b[0m\u001b[0;34m=\u001b[0m\u001b[0;36m1.\u001b[0m\u001b[0;34m,\u001b[0m \u001b[0mc\u001b[0m\u001b[0;34m=\u001b[0m\u001b[0;36m0.\u001b[0m\u001b[0;34m)\u001b[0m\u001b[0;34m:\u001b[0m\u001b[0;34m\u001b[0m\u001b[0;34m\u001b[0m\u001b[0m\n\u001b[1;32m      3\u001b[0m     '''\n\u001b[1;32m      4\u001b[0m     \u001b[0mf\u001b[0m\u001b[0;34m(\u001b[0m\u001b[0mx\u001b[0m\u001b[0;34m)\u001b[0m\u001b[0;34m=\u001b[0m\u001b[0ma\u001b[0m\u001b[0;34m*\u001b[0m\u001b[0mexp\u001b[0m\u001b[0;34m(\u001b[0m\u001b[0mb\u001b[0m\u001b[0;34m*\u001b[0m\u001b[0mx\u001b[0m \u001b[0;34m+\u001b[0m \u001b[0mc\u001b[0m\u001b[0;34m)\u001b[0m\u001b[0;34m\u001b[0m\u001b[0;34m\u001b[0m\u001b[0m\n\u001b[1;32m      5\u001b[0m     '''\n",
      "\u001b[0;31mNameError\u001b[0m: name 'custom_model' is not defined"
     ]
    }
   ],
   "source": [
    "@custom_model\n",
    "def exponential(x, a=10., b=1., c=0.):\n",
    "    '''\n",
    "    f(x)=a*exp(b*x + c)\n",
    "    '''\n",
    "    return a*np.exp(-np.abs(b*(x-c)))"
   ]
  },
  {
   "cell_type": "code",
   "execution_count": null,
   "metadata": {},
   "outputs": [],
   "source": []
  }
 ],
 "metadata": {
  "anaconda-cloud": {},
  "kernelspec": {
   "display_name": "Python 3",
   "language": "python",
   "name": "python3"
  },
  "language_info": {
   "codemirror_mode": {
    "name": "ipython",
    "version": 3
   },
   "file_extension": ".py",
   "mimetype": "text/x-python",
   "name": "python",
   "nbconvert_exporter": "python",
   "pygments_lexer": "ipython3",
   "version": "3.7.6"
  },
  "toc": {
   "nav_menu": {},
   "number_sections": true,
   "sideBar": true,
   "skip_h1_title": false,
   "toc_cell": false,
   "toc_position": {},
   "toc_section_display": "block",
   "toc_window_display": false
  }
 },
 "nbformat": 4,
 "nbformat_minor": 2
}
