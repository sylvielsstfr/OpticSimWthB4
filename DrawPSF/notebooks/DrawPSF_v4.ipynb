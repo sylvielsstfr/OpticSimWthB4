{
 "cells": [
  {
   "cell_type": "markdown",
   "metadata": {},
   "source": [
    "# DrawPSF, version 4 for paper\n",
    "\n",
    "\n",
    "- author : Sylvie Dagoret-Campagne\n",
    "- affiliation : IJCLab/IN2P3/CNRS\n",
    "\n",
    "- creation date : May 26th 2020\n",
    "- update : June 1st 2020 : compute fwhm\n",
    "- last update : April 6th 2021 : for the paper\n",
    "\n"
   ]
  },
  {
   "cell_type": "code",
   "execution_count": 1,
   "metadata": {},
   "outputs": [],
   "source": [
    "%matplotlib inline\n",
    "import matplotlib.pyplot as plt\n",
    "import numpy as np\n",
    "import os\n",
    "import matplotlib as mpl\n",
    "import pandas as pd\n",
    "import itertools\n",
    "import matplotlib.gridspec as gridspec\n",
    "from matplotlib.patches import Circle,Ellipse\n",
    "\n",
    "import matplotlib.colors as colors\n",
    "import matplotlib.cm as cmx"
   ]
  },
  {
   "cell_type": "code",
   "execution_count": 2,
   "metadata": {},
   "outputs": [],
   "source": [
    "# to enlarge the sizes\n",
    "params = {'legend.fontsize': 'x-large',\n",
    "          'figure.figsize': (13, 13),\n",
    "         'axes.labelsize': 'x-large',\n",
    "         'axes.titlesize':'x-large',\n",
    "         'xtick.labelsize':'x-large',\n",
    "         'ytick.labelsize':'x-large',\n",
    "         'font.size': 14}\n",
    "plt.rcParams.update(params)"
   ]
  },
  {
   "cell_type": "code",
   "execution_count": 3,
   "metadata": {},
   "outputs": [],
   "source": [
    "from astropy.modeling import models, fitting\n",
    "from astropy.modeling.models import custom_model"
   ]
  },
  {
   "cell_type": "code",
   "execution_count": 4,
   "metadata": {},
   "outputs": [],
   "source": [
    "from datetime import datetime,date"
   ]
  },
  {
   "cell_type": "code",
   "execution_count": 5,
   "metadata": {},
   "outputs": [],
   "source": [
    "today = date.today()\n",
    "string_date=today.strftime(\"%Y-%m-%d\")"
   ]
  },
  {
   "cell_type": "code",
   "execution_count": 6,
   "metadata": {},
   "outputs": [],
   "source": [
    "import matplotlib.offsetbox\n",
    "from matplotlib.lines import Line2D"
   ]
  },
  {
   "cell_type": "markdown",
   "metadata": {},
   "source": [
    "##### scale bar\n",
    "https://stackoverflow.com/questions/43258638/is-there-a-convenient-way-to-add-a-scale-indicator-to-a-plot-in-matplotlib"
   ]
  },
  {
   "cell_type": "code",
   "execution_count": 7,
   "metadata": {},
   "outputs": [],
   "source": [
    "class AnchoredHScaleBar(matplotlib.offsetbox.AnchoredOffsetbox):\n",
    "    \"\"\" size: length of bar in data units\n",
    "        extent : height of bar ends in axes units \"\"\"\n",
    "    def __init__(self, size=1, extent = 0.03, label=\"\", loc=2, ax=None,\n",
    "                 pad=0.4, borderpad=0.5, ppad = 0, sep=2, prop=None, \n",
    "                 frameon=True, linekw={},textkw={} ,**kwargs):\n",
    "        if not ax:\n",
    "            ax = plt.gca()\n",
    "        trans = ax.get_xaxis_transform()\n",
    "        size_bar = matplotlib.offsetbox.AuxTransformBox(trans)\n",
    "        line = Line2D([0,size],[0,0], **linekw)\n",
    "        vline1 = Line2D([0,0],[-extent/2.,extent/2.], **linekw)\n",
    "        vline2 = Line2D([size,size],[-extent/2.,extent/2.], **linekw)\n",
    "        size_bar.add_artist(line)\n",
    "        size_bar.add_artist(vline1)\n",
    "        size_bar.add_artist(vline2)\n",
    "        txt = matplotlib.offsetbox.TextArea(label, minimumdescent=False,textprops=textkw)\n",
    "        self.vpac = matplotlib.offsetbox.VPacker(children=[size_bar,txt],  \n",
    "                                 align=\"center\", pad=ppad, sep=sep) \n",
    "        matplotlib.offsetbox.AnchoredOffsetbox.__init__(self, loc, pad=pad, \n",
    "                 borderpad=borderpad, child=self.vpac, prop=prop, frameon=frameon,\n",
    "                 **kwargs)"
   ]
  },
  {
   "cell_type": "code",
   "execution_count": 8,
   "metadata": {},
   "outputs": [],
   "source": [
    "def Dispersion(wl,a,D):\n",
    "    \"\"\" \n",
    "    Dispersion(wl,a,D) : number of dx per wavelength\n",
    "    input arguments:\n",
    "    - wl : wavelength\n",
    "    - a  : line pitch\n",
    "    - D  : Distance CCD-Hologram\n",
    "    \n",
    "    recommended : all input arguments should be expressed in microns.\n",
    "    \n",
    "    - output : dx, x in microns and lambdas in microns\n",
    "    \"\"\"\n",
    "    X=D/a*wl/np.sqrt(1-(wl/a)**2)\n",
    "    return X"
   ]
  },
  {
   "cell_type": "markdown",
   "metadata": {},
   "source": [
    "## Constants for conversions"
   ]
  },
  {
   "cell_type": "code",
   "execution_count": 9,
   "metadata": {},
   "outputs": [],
   "source": [
    "m_to_mm=1000.\n",
    "mm_to_m=1e-3\n",
    "mm_to_micr=1e3\n",
    "nm_to_micr=1e-3\n",
    "inch_to_mm=25.4\n",
    "mm_to_inch=1./inch_to_mm\n",
    "micr_to_m=1e-6\n",
    "micr_to_mm=1e-3\n",
    "m_to_micr=1./micr_to_m\n",
    "m_to_cm=100.\n",
    "m_to_nm=1e9\n",
    "nm_to_m=1./m_to_nm"
   ]
  },
  {
   "cell_type": "code",
   "execution_count": 10,
   "metadata": {},
   "outputs": [],
   "source": [
    "arcdeg_to_arcmin=60.\n",
    "arcmin_to_arcdeg=1./arcdeg_to_arcmin\n",
    "arcmin_to_arcsec=60.\n",
    "arcdeg_to_arcsec=arcdeg_to_arcmin*arcmin_to_arcsec\n",
    "arcsec_to_arcdeg=1./arcdeg_to_arcsec"
   ]
  },
  {
   "cell_type": "code",
   "execution_count": 11,
   "metadata": {},
   "outputs": [],
   "source": [
    "deg_to_rad=np.pi/180."
   ]
  },
  {
   "cell_type": "code",
   "execution_count": 12,
   "metadata": {},
   "outputs": [],
   "source": [
    "rad_to_deg=1./deg_to_rad\n",
    "rad_to_arcsec=rad_to_deg*arcdeg_to_arcsec\n",
    "rad_to_arcmin=rad_to_deg*arcdeg_to_arcmin\n",
    "arcmin_to_rad=1./rad_to_arcmin"
   ]
  },
  {
   "cell_type": "markdown",
   "metadata": {},
   "source": [
    "## Configuration parameters at the telescope"
   ]
  },
  {
   "cell_type": "markdown",
   "metadata": {},
   "source": [
    "#### telescope"
   ]
  },
  {
   "cell_type": "code",
   "execution_count": 13,
   "metadata": {},
   "outputs": [],
   "source": [
    "Tel_Focal_Length=12.6 # m : Focal length of the telescope\n",
    "Tel_Diameter=0.9 # m : Diameter of the telescope    \n",
    "Tel_Fnum=Tel_Focal_Length/Tel_Diameter\n",
    "pltscale=206265/(Tel_Focal_Length*m_to_mm)  # arcsec per mm"
   ]
  },
  {
   "cell_type": "code",
   "execution_count": 14,
   "metadata": {},
   "outputs": [
    {
     "name": "stdout",
     "output_type": "stream",
     "text": [
      "plate_scale=16.37 arcsec per mm \n"
     ]
    }
   ],
   "source": [
    "print(\"plate_scale={:2.2f} arcsec per mm \".format(pltscale))"
   ]
  },
  {
   "cell_type": "code",
   "execution_count": 15,
   "metadata": {},
   "outputs": [
    {
     "name": "stdout",
     "output_type": "stream",
     "text": [
      "1 arsec = 61.09 microns\n"
     ]
    }
   ],
   "source": [
    "print(\"1 arsec = {:2.2f} microns\".format(1/pltscale*mm_to_micr))"
   ]
  },
  {
   "cell_type": "code",
   "execution_count": 16,
   "metadata": {},
   "outputs": [
    {
     "data": {
      "text/plain": [
       "77.65228784593788"
      ]
     },
     "execution_count": 16,
     "metadata": {},
     "output_type": "execute_result"
    }
   ],
   "source": [
    "1/pltscale*mm_to_micr/2.36*3"
   ]
  },
  {
   "cell_type": "markdown",
   "metadata": {},
   "source": [
    "#### filter"
   ]
  },
  {
   "cell_type": "code",
   "execution_count": 17,
   "metadata": {},
   "outputs": [],
   "source": [
    "#Filt_D=0.05769 # m distance of the filter position wrt CCD plane\n",
    "Filt_D=0.058 # m distance of the filter position wrt CCD plane\n",
    "Filt_size=3*inch_to_mm"
   ]
  },
  {
   "cell_type": "markdown",
   "metadata": {},
   "source": [
    "#### CCD detector"
   ]
  },
  {
   "cell_type": "code",
   "execution_count": 18,
   "metadata": {},
   "outputs": [],
   "source": [
    "Det_xpic=24.0 # microns per pixel\n",
    "#Det_NbPix=2048 # number of pixels per CCD side\n",
    "Det_NbPix=2512 # number of pixels per CCD side For 400 only\n",
    "Det_size=Det_xpic*Det_NbPix*micr_to_mm # CCD size in mm, 5 cm or 2 inch"
   ]
  },
  {
   "cell_type": "markdown",
   "metadata": {},
   "source": [
    "## Input file"
   ]
  },
  {
   "cell_type": "code",
   "execution_count": 19,
   "metadata": {},
   "outputs": [],
   "source": [
    "# number of rays\n",
    "NBEAM_X=11\n",
    "NBEAM_Y=11\n",
    "NBEAM=NBEAM_X*NBEAM_Y\n",
    "NWL=4\n",
    "NBTOT=NBEAM*NWL"
   ]
  },
  {
   "cell_type": "code",
   "execution_count": 20,
   "metadata": {},
   "outputs": [],
   "source": [
    "theta_x=0.  # angle in arcmin\n",
    "theta_y=0.  # angle in arcmin "
   ]
  },
  {
   "cell_type": "code",
   "execution_count": 21,
   "metadata": {},
   "outputs": [],
   "source": [
    "theta_x_num=int(theta_x*10)\n",
    "theta_y_num=int(theta_y*10)"
   ]
  },
  {
   "cell_type": "code",
   "execution_count": 22,
   "metadata": {},
   "outputs": [],
   "source": [
    "if theta_x_num>0:\n",
    "    theta_nstr='{:0>2}'.format(theta_x_num)\n",
    "    theta_x_str=\"p\"+theta_nstr\n",
    "else:\n",
    "    theta_nstr='{:0>2}'.format(-theta_x_num)\n",
    "    theta_x_str=\"m\"+theta_nstr"
   ]
  },
  {
   "cell_type": "code",
   "execution_count": 23,
   "metadata": {},
   "outputs": [],
   "source": [
    "if theta_y_num>0:\n",
    "    theta_nstr='{:0>2}'.format(theta_y_num)\n",
    "    theta_y_str=\"p\"+theta_nstr\n",
    "else:\n",
    "    theta_nstr='{:0>2}'.format(-theta_y_num)\n",
    "    theta_y_str=\"m\"+theta_nstr"
   ]
  },
  {
   "cell_type": "code",
   "execution_count": 24,
   "metadata": {},
   "outputs": [],
   "source": [
    "Beam4_Rayfile=\"Beam4_Rayfile_{:d}_allwl_{}_{}\".format(NBTOT,theta_x_str,theta_y_str)"
   ]
  },
  {
   "cell_type": "code",
   "execution_count": 25,
   "metadata": {},
   "outputs": [
    {
     "data": {
      "text/plain": [
       "'Beam4_Rayfile_484_allwl_m00_m00'"
      ]
     },
     "execution_count": 25,
     "metadata": {},
     "output_type": "execute_result"
    }
   ],
   "source": [
    "Beam4_Rayfile"
   ]
  },
  {
   "cell_type": "code",
   "execution_count": 26,
   "metadata": {},
   "outputs": [],
   "source": [
    "order=\"OP1\"\n",
    "order_str=\"+1\""
   ]
  },
  {
   "cell_type": "markdown",
   "metadata": {},
   "source": [
    "# Read input files"
   ]
  },
  {
   "cell_type": "code",
   "execution_count": 27,
   "metadata": {},
   "outputs": [],
   "source": [
    "FLAG_R350=True # show RON350 instead of R200"
   ]
  },
  {
   "cell_type": "code",
   "execution_count": 28,
   "metadata": {},
   "outputs": [],
   "source": [
    "#rayfile_hoe=Beam4_Rayfile+\"_RAY_HOE_OUT.xlsx\"\n",
    "#rayfile_R400=Beam4_Rayfile+\"_RAY_RON400_OUT.xlsx\"\n",
    "#rayfile_R200=Beam4_Rayfile+\"_RAY_RON200_OUT.xlsx\"\n",
    "#rayfile_R350=Beam4_Rayfile+\"_RAY_RON350_OUT.xlsx\""
   ]
  },
  {
   "cell_type": "code",
   "execution_count": 29,
   "metadata": {},
   "outputs": [],
   "source": [
    "rayfile_R200=\"R200_Beam4_Rayfile_484_allwl_m00_m00_2020_05_25_B4OUT_RAY.xlsx\"\n",
    "rayfile_R350=\"R350_Beam4_Rayfile_484_allwl_m00_m00_2020_05_25_B4OUT_RAY.xlsx\"\n",
    "rayfile_R400=\"R400_Beam4_Rayfile_484_allwl_m00_m00_2020_05_25_B4OUT_RAY.xlsx\"\n",
    "rayfile_hoe=\"HOE_Beam4_Rayfile_484_allwl_m00_m00_2020_05_25_B4OUT_RAY.xlsx\"\n",
    "rayfile_R300=\"R300_Beam4_Rayfile_484_allwl_m00_m00_2020_05_31_B4OUT_RAY.xlsx\""
   ]
  },
  {
   "cell_type": "code",
   "execution_count": 30,
   "metadata": {},
   "outputs": [],
   "source": [
    "input_hoe = pd.ExcelFile(rayfile_hoe)\n",
    "df_hoe = input_hoe.parse(index_row=0,header=1)\n",
    "df_hoe=df_hoe.iloc[0:NBTOT]"
   ]
  },
  {
   "cell_type": "code",
   "execution_count": 31,
   "metadata": {},
   "outputs": [],
   "source": [
    "# rename columns otherwise they are not recognize and swap X,Y\n",
    "#df_hoe.columns = [\"X0\",\"Y0\",\"Z0\",\"U0\",\"V0\",\"W0\",\"wave\",\"X1\",\"Y1\",\"Z1\",\"X2\",\"Y2\",\"Z2\",\"X3\",\"Y3\",\"Z3\",\"Xfinal\",\"Yfinal\",\"Zfinal\",\"Notes\"]\n",
    "#df_hoe.columns = [\"Y0\",\"X0\",\"Z0\",\"V0\",\"U0\",\"W0\",\"wave\",\"Y1\",\"X1\",\"Z1\",\"Y2\",\"X2\",\"Z2\",\"Y3\",\"X3\",\"Z3\",\"Yfinal\",\"Xfinal\",\"Zfinal\",\"Notes\"]"
   ]
  },
  {
   "cell_type": "code",
   "execution_count": 32,
   "metadata": {},
   "outputs": [
    {
     "data": {
      "text/html": [
       "<div>\n",
       "<style scoped>\n",
       "    .dataframe tbody tr th:only-of-type {\n",
       "        vertical-align: middle;\n",
       "    }\n",
       "\n",
       "    .dataframe tbody tr th {\n",
       "        vertical-align: top;\n",
       "    }\n",
       "\n",
       "    .dataframe thead th {\n",
       "        text-align: right;\n",
       "    }\n",
       "</style>\n",
       "<table border=\"1\" class=\"dataframe\">\n",
       "  <thead>\n",
       "    <tr style=\"text-align: right;\">\n",
       "      <th></th>\n",
       "      <th>X0</th>\n",
       "      <th>Y0</th>\n",
       "      <th>Z0</th>\n",
       "      <th>U0</th>\n",
       "      <th>V0</th>\n",
       "      <th>W0</th>\n",
       "      <th>wave</th>\n",
       "      <th>col</th>\n",
       "      <th>X1</th>\n",
       "      <th>Y1</th>\n",
       "      <th>...</th>\n",
       "      <th>X3</th>\n",
       "      <th>Y3</th>\n",
       "      <th>Z3</th>\n",
       "      <th>Xgoal</th>\n",
       "      <th>Ygoal</th>\n",
       "      <th>Xfinal</th>\n",
       "      <th>Yfinal</th>\n",
       "      <th>Zfinal</th>\n",
       "      <th>Notes</th>\n",
       "      <th>Unnamed: 23</th>\n",
       "    </tr>\n",
       "  </thead>\n",
       "  <tbody>\n",
       "    <tr>\n",
       "      <th>0</th>\n",
       "      <td>-2.856536</td>\n",
       "      <td>-2.856536</td>\n",
       "      <td>0</td>\n",
       "      <td>0.035661</td>\n",
       "      <td>0.035661</td>\n",
       "      <td>0.998727</td>\n",
       "      <td>0.0004</td>\n",
       "      <td>b</td>\n",
       "      <td>-2.106694</td>\n",
       "      <td>-2.10669</td>\n",
       "      <td>...</td>\n",
       "      <td>8.27790</td>\n",
       "      <td>-0.01283</td>\n",
       "      <td>79.99998</td>\n",
       "      <td>0</td>\n",
       "      <td>0</td>\n",
       "      <td>8.27790</td>\n",
       "      <td>-0.01283</td>\n",
       "      <td>80</td>\n",
       "      <td>OK</td>\n",
       "      <td>3</td>\n",
       "    </tr>\n",
       "    <tr>\n",
       "      <th>1</th>\n",
       "      <td>-2.285228</td>\n",
       "      <td>-2.856536</td>\n",
       "      <td>0</td>\n",
       "      <td>0.028535</td>\n",
       "      <td>0.035669</td>\n",
       "      <td>0.998956</td>\n",
       "      <td>0.0004</td>\n",
       "      <td>b</td>\n",
       "      <td>-1.685357</td>\n",
       "      <td>-2.10670</td>\n",
       "      <td>...</td>\n",
       "      <td>8.28523</td>\n",
       "      <td>-0.01285</td>\n",
       "      <td>79.99998</td>\n",
       "      <td>0</td>\n",
       "      <td>0</td>\n",
       "      <td>8.28523</td>\n",
       "      <td>-0.01285</td>\n",
       "      <td>80</td>\n",
       "      <td>OK</td>\n",
       "      <td>3</td>\n",
       "    </tr>\n",
       "    <tr>\n",
       "      <th>2</th>\n",
       "      <td>-1.713921</td>\n",
       "      <td>-2.856536</td>\n",
       "      <td>0</td>\n",
       "      <td>0.021406</td>\n",
       "      <td>0.035676</td>\n",
       "      <td>0.999134</td>\n",
       "      <td>0.0004</td>\n",
       "      <td>b</td>\n",
       "      <td>-1.264016</td>\n",
       "      <td>-2.10669</td>\n",
       "      <td>...</td>\n",
       "      <td>8.29260</td>\n",
       "      <td>-0.01287</td>\n",
       "      <td>79.99998</td>\n",
       "      <td>0</td>\n",
       "      <td>0</td>\n",
       "      <td>8.29260</td>\n",
       "      <td>-0.01287</td>\n",
       "      <td>80</td>\n",
       "      <td>OK</td>\n",
       "      <td>3</td>\n",
       "    </tr>\n",
       "    <tr>\n",
       "      <th>3</th>\n",
       "      <td>-1.142614</td>\n",
       "      <td>-2.856536</td>\n",
       "      <td>0</td>\n",
       "      <td>0.014272</td>\n",
       "      <td>0.035680</td>\n",
       "      <td>0.999261</td>\n",
       "      <td>0.0004</td>\n",
       "      <td>b</td>\n",
       "      <td>-0.842679</td>\n",
       "      <td>-2.10670</td>\n",
       "      <td>...</td>\n",
       "      <td>8.30001</td>\n",
       "      <td>-0.01289</td>\n",
       "      <td>79.99998</td>\n",
       "      <td>0</td>\n",
       "      <td>0</td>\n",
       "      <td>8.30001</td>\n",
       "      <td>-0.01289</td>\n",
       "      <td>80</td>\n",
       "      <td>OK</td>\n",
       "      <td>3</td>\n",
       "    </tr>\n",
       "    <tr>\n",
       "      <th>4</th>\n",
       "      <td>-0.571307</td>\n",
       "      <td>-2.856536</td>\n",
       "      <td>0</td>\n",
       "      <td>0.007137</td>\n",
       "      <td>0.035683</td>\n",
       "      <td>0.999338</td>\n",
       "      <td>0.0004</td>\n",
       "      <td>b</td>\n",
       "      <td>-0.421339</td>\n",
       "      <td>-2.10670</td>\n",
       "      <td>...</td>\n",
       "      <td>8.30745</td>\n",
       "      <td>-0.01291</td>\n",
       "      <td>79.99998</td>\n",
       "      <td>0</td>\n",
       "      <td>0</td>\n",
       "      <td>8.30745</td>\n",
       "      <td>-0.01291</td>\n",
       "      <td>80</td>\n",
       "      <td>OK</td>\n",
       "      <td>3</td>\n",
       "    </tr>\n",
       "    <tr>\n",
       "      <th>...</th>\n",
       "      <td>...</td>\n",
       "      <td>...</td>\n",
       "      <td>...</td>\n",
       "      <td>...</td>\n",
       "      <td>...</td>\n",
       "      <td>...</td>\n",
       "      <td>...</td>\n",
       "      <td>...</td>\n",
       "      <td>...</td>\n",
       "      <td>...</td>\n",
       "      <td>...</td>\n",
       "      <td>...</td>\n",
       "      <td>...</td>\n",
       "      <td>...</td>\n",
       "      <td>...</td>\n",
       "      <td>...</td>\n",
       "      <td>...</td>\n",
       "      <td>...</td>\n",
       "      <td>...</td>\n",
       "      <td>...</td>\n",
       "      <td>...</td>\n",
       "    </tr>\n",
       "    <tr>\n",
       "      <th>479</th>\n",
       "      <td>0.571307</td>\n",
       "      <td>2.856536</td>\n",
       "      <td>0</td>\n",
       "      <td>-0.007137</td>\n",
       "      <td>-0.035683</td>\n",
       "      <td>0.999338</td>\n",
       "      <td>0.0010</td>\n",
       "      <td>k</td>\n",
       "      <td>0.421339</td>\n",
       "      <td>2.10670</td>\n",
       "      <td>...</td>\n",
       "      <td>21.97558</td>\n",
       "      <td>-0.05372</td>\n",
       "      <td>79.99998</td>\n",
       "      <td>0</td>\n",
       "      <td>0</td>\n",
       "      <td>21.97558</td>\n",
       "      <td>-0.05372</td>\n",
       "      <td>80</td>\n",
       "      <td>OK</td>\n",
       "      <td>3</td>\n",
       "    </tr>\n",
       "    <tr>\n",
       "      <th>480</th>\n",
       "      <td>1.142614</td>\n",
       "      <td>2.856536</td>\n",
       "      <td>0</td>\n",
       "      <td>-0.014272</td>\n",
       "      <td>-0.035680</td>\n",
       "      <td>0.999261</td>\n",
       "      <td>0.0010</td>\n",
       "      <td>k</td>\n",
       "      <td>0.842679</td>\n",
       "      <td>2.10670</td>\n",
       "      <td>...</td>\n",
       "      <td>21.94330</td>\n",
       "      <td>-0.05361</td>\n",
       "      <td>79.99998</td>\n",
       "      <td>0</td>\n",
       "      <td>0</td>\n",
       "      <td>21.94330</td>\n",
       "      <td>-0.05361</td>\n",
       "      <td>80</td>\n",
       "      <td>OK</td>\n",
       "      <td>3</td>\n",
       "    </tr>\n",
       "    <tr>\n",
       "      <th>481</th>\n",
       "      <td>1.713921</td>\n",
       "      <td>2.856536</td>\n",
       "      <td>0</td>\n",
       "      <td>-0.021406</td>\n",
       "      <td>-0.035676</td>\n",
       "      <td>0.999134</td>\n",
       "      <td>0.0010</td>\n",
       "      <td>k</td>\n",
       "      <td>1.264016</td>\n",
       "      <td>2.10669</td>\n",
       "      <td>...</td>\n",
       "      <td>21.91098</td>\n",
       "      <td>-0.05350</td>\n",
       "      <td>79.99998</td>\n",
       "      <td>0</td>\n",
       "      <td>0</td>\n",
       "      <td>21.91098</td>\n",
       "      <td>-0.05350</td>\n",
       "      <td>80</td>\n",
       "      <td>OK</td>\n",
       "      <td>3</td>\n",
       "    </tr>\n",
       "    <tr>\n",
       "      <th>482</th>\n",
       "      <td>2.285228</td>\n",
       "      <td>2.856536</td>\n",
       "      <td>0</td>\n",
       "      <td>-0.028535</td>\n",
       "      <td>-0.035669</td>\n",
       "      <td>0.998956</td>\n",
       "      <td>0.0010</td>\n",
       "      <td>k</td>\n",
       "      <td>1.685357</td>\n",
       "      <td>2.10670</td>\n",
       "      <td>...</td>\n",
       "      <td>21.87866</td>\n",
       "      <td>-0.05338</td>\n",
       "      <td>79.99998</td>\n",
       "      <td>0</td>\n",
       "      <td>0</td>\n",
       "      <td>21.87866</td>\n",
       "      <td>-0.05338</td>\n",
       "      <td>80</td>\n",
       "      <td>OK</td>\n",
       "      <td>3</td>\n",
       "    </tr>\n",
       "    <tr>\n",
       "      <th>483</th>\n",
       "      <td>2.856536</td>\n",
       "      <td>2.856536</td>\n",
       "      <td>0</td>\n",
       "      <td>-0.035661</td>\n",
       "      <td>-0.035661</td>\n",
       "      <td>0.998727</td>\n",
       "      <td>0.0010</td>\n",
       "      <td>k</td>\n",
       "      <td>2.106694</td>\n",
       "      <td>2.10669</td>\n",
       "      <td>...</td>\n",
       "      <td>21.84632</td>\n",
       "      <td>-0.05325</td>\n",
       "      <td>79.99998</td>\n",
       "      <td>0</td>\n",
       "      <td>0</td>\n",
       "      <td>21.84632</td>\n",
       "      <td>-0.05325</td>\n",
       "      <td>80</td>\n",
       "      <td>OK</td>\n",
       "      <td>3</td>\n",
       "    </tr>\n",
       "  </tbody>\n",
       "</table>\n",
       "<p>484 rows × 24 columns</p>\n",
       "</div>"
      ],
      "text/plain": [
       "           X0        Y0  Z0        U0        V0        W0    wave col  \\\n",
       "0   -2.856536 -2.856536   0  0.035661  0.035661  0.998727  0.0004   b   \n",
       "1   -2.285228 -2.856536   0  0.028535  0.035669  0.998956  0.0004   b   \n",
       "2   -1.713921 -2.856536   0  0.021406  0.035676  0.999134  0.0004   b   \n",
       "3   -1.142614 -2.856536   0  0.014272  0.035680  0.999261  0.0004   b   \n",
       "4   -0.571307 -2.856536   0  0.007137  0.035683  0.999338  0.0004   b   \n",
       "..        ...       ...  ..       ...       ...       ...     ...  ..   \n",
       "479  0.571307  2.856536   0 -0.007137 -0.035683  0.999338  0.0010   k   \n",
       "480  1.142614  2.856536   0 -0.014272 -0.035680  0.999261  0.0010   k   \n",
       "481  1.713921  2.856536   0 -0.021406 -0.035676  0.999134  0.0010   k   \n",
       "482  2.285228  2.856536   0 -0.028535 -0.035669  0.998956  0.0010   k   \n",
       "483  2.856536  2.856536   0 -0.035661 -0.035661  0.998727  0.0010   k   \n",
       "\n",
       "           X1       Y1  ...        X3       Y3        Z3  Xgoal  Ygoal  \\\n",
       "0   -2.106694 -2.10669  ...   8.27790 -0.01283  79.99998      0      0   \n",
       "1   -1.685357 -2.10670  ...   8.28523 -0.01285  79.99998      0      0   \n",
       "2   -1.264016 -2.10669  ...   8.29260 -0.01287  79.99998      0      0   \n",
       "3   -0.842679 -2.10670  ...   8.30001 -0.01289  79.99998      0      0   \n",
       "4   -0.421339 -2.10670  ...   8.30745 -0.01291  79.99998      0      0   \n",
       "..        ...      ...  ...       ...      ...       ...    ...    ...   \n",
       "479  0.421339  2.10670  ...  21.97558 -0.05372  79.99998      0      0   \n",
       "480  0.842679  2.10670  ...  21.94330 -0.05361  79.99998      0      0   \n",
       "481  1.264016  2.10669  ...  21.91098 -0.05350  79.99998      0      0   \n",
       "482  1.685357  2.10670  ...  21.87866 -0.05338  79.99998      0      0   \n",
       "483  2.106694  2.10669  ...  21.84632 -0.05325  79.99998      0      0   \n",
       "\n",
       "       Xfinal   Yfinal  Zfinal  Notes  Unnamed: 23  \n",
       "0     8.27790 -0.01283      80     OK            3  \n",
       "1     8.28523 -0.01285      80     OK            3  \n",
       "2     8.29260 -0.01287      80     OK            3  \n",
       "3     8.30001 -0.01289      80     OK            3  \n",
       "4     8.30745 -0.01291      80     OK            3  \n",
       "..        ...      ...     ...    ...          ...  \n",
       "479  21.97558 -0.05372      80     OK            3  \n",
       "480  21.94330 -0.05361      80     OK            3  \n",
       "481  21.91098 -0.05350      80     OK            3  \n",
       "482  21.87866 -0.05338      80     OK            3  \n",
       "483  21.84632 -0.05325      80     OK            3  \n",
       "\n",
       "[484 rows x 24 columns]"
      ]
     },
     "execution_count": 32,
     "metadata": {},
     "output_type": "execute_result"
    }
   ],
   "source": [
    "df_hoe"
   ]
  },
  {
   "cell_type": "code",
   "execution_count": 33,
   "metadata": {},
   "outputs": [],
   "source": [
    "input_R400 = pd.ExcelFile(rayfile_R400)\n",
    "df_R400 = input_R400.parse(index_row=0,header=1)\n",
    "df_R400=df_R400.iloc[0:NBTOT]"
   ]
  },
  {
   "cell_type": "code",
   "execution_count": 34,
   "metadata": {},
   "outputs": [],
   "source": [
    "# rename columns otherwise they are not recognize\n",
    "#df_R400.columns = [\"X0\",\"Y0\",\"Z0\",\"U0\",\"V0\",\"W0\",\"wave\",\"X1\",\"Y1\",\"Z1\",\"X2\",\"Y2\",\"Z2\",\"X3\",\"Y3\",\"Z3\",\"Xfinal\",\"Yfinal\",\"Zfinal\",\"Notes\"]"
   ]
  },
  {
   "cell_type": "code",
   "execution_count": 35,
   "metadata": {},
   "outputs": [
    {
     "data": {
      "text/html": [
       "<div>\n",
       "<style scoped>\n",
       "    .dataframe tbody tr th:only-of-type {\n",
       "        vertical-align: middle;\n",
       "    }\n",
       "\n",
       "    .dataframe tbody tr th {\n",
       "        vertical-align: top;\n",
       "    }\n",
       "\n",
       "    .dataframe thead th {\n",
       "        text-align: right;\n",
       "    }\n",
       "</style>\n",
       "<table border=\"1\" class=\"dataframe\">\n",
       "  <thead>\n",
       "    <tr style=\"text-align: right;\">\n",
       "      <th></th>\n",
       "      <th>X0</th>\n",
       "      <th>Y0</th>\n",
       "      <th>Z0</th>\n",
       "      <th>U0</th>\n",
       "      <th>V0</th>\n",
       "      <th>W0</th>\n",
       "      <th>wave</th>\n",
       "      <th>col</th>\n",
       "      <th>X1</th>\n",
       "      <th>Y1</th>\n",
       "      <th>...</th>\n",
       "      <th>X3</th>\n",
       "      <th>Y3</th>\n",
       "      <th>Z3</th>\n",
       "      <th>Xgoal</th>\n",
       "      <th>Ygoal</th>\n",
       "      <th>Xfinal</th>\n",
       "      <th>Yfinal</th>\n",
       "      <th>Zfinal</th>\n",
       "      <th>Notes</th>\n",
       "      <th>Unnamed: 23</th>\n",
       "    </tr>\n",
       "  </thead>\n",
       "  <tbody>\n",
       "    <tr>\n",
       "      <th>0</th>\n",
       "      <td>-2.856536</td>\n",
       "      <td>-2.856536</td>\n",
       "      <td>0</td>\n",
       "      <td>0.035661</td>\n",
       "      <td>0.035661</td>\n",
       "      <td>0.998727</td>\n",
       "      <td>0.0004</td>\n",
       "      <td>b</td>\n",
       "      <td>-2.106694</td>\n",
       "      <td>-2.10669</td>\n",
       "      <td>...</td>\n",
       "      <td>9.50870</td>\n",
       "      <td>0.03953</td>\n",
       "      <td>80</td>\n",
       "      <td>0</td>\n",
       "      <td>0</td>\n",
       "      <td>9.50870</td>\n",
       "      <td>0.03953</td>\n",
       "      <td>80</td>\n",
       "      <td>OK</td>\n",
       "      <td>3</td>\n",
       "    </tr>\n",
       "    <tr>\n",
       "      <th>1</th>\n",
       "      <td>-2.285228</td>\n",
       "      <td>-2.856536</td>\n",
       "      <td>0</td>\n",
       "      <td>0.028535</td>\n",
       "      <td>0.035669</td>\n",
       "      <td>0.998956</td>\n",
       "      <td>0.0004</td>\n",
       "      <td>b</td>\n",
       "      <td>-1.685357</td>\n",
       "      <td>-2.10670</td>\n",
       "      <td>...</td>\n",
       "      <td>9.48531</td>\n",
       "      <td>0.03701</td>\n",
       "      <td>80</td>\n",
       "      <td>0</td>\n",
       "      <td>0</td>\n",
       "      <td>9.48531</td>\n",
       "      <td>0.03701</td>\n",
       "      <td>80</td>\n",
       "      <td>OK</td>\n",
       "      <td>3</td>\n",
       "    </tr>\n",
       "    <tr>\n",
       "      <th>2</th>\n",
       "      <td>-1.713921</td>\n",
       "      <td>-2.856536</td>\n",
       "      <td>0</td>\n",
       "      <td>0.021406</td>\n",
       "      <td>0.035676</td>\n",
       "      <td>0.999134</td>\n",
       "      <td>0.0004</td>\n",
       "      <td>b</td>\n",
       "      <td>-1.264016</td>\n",
       "      <td>-2.10669</td>\n",
       "      <td>...</td>\n",
       "      <td>9.46349</td>\n",
       "      <td>0.03451</td>\n",
       "      <td>80</td>\n",
       "      <td>0</td>\n",
       "      <td>0</td>\n",
       "      <td>9.46349</td>\n",
       "      <td>0.03451</td>\n",
       "      <td>80</td>\n",
       "      <td>OK</td>\n",
       "      <td>3</td>\n",
       "    </tr>\n",
       "    <tr>\n",
       "      <th>3</th>\n",
       "      <td>-1.142614</td>\n",
       "      <td>-2.856536</td>\n",
       "      <td>0</td>\n",
       "      <td>0.014272</td>\n",
       "      <td>0.035680</td>\n",
       "      <td>0.999261</td>\n",
       "      <td>0.0004</td>\n",
       "      <td>b</td>\n",
       "      <td>-0.842678</td>\n",
       "      <td>-2.10670</td>\n",
       "      <td>...</td>\n",
       "      <td>9.44321</td>\n",
       "      <td>0.03201</td>\n",
       "      <td>80</td>\n",
       "      <td>0</td>\n",
       "      <td>0</td>\n",
       "      <td>9.44321</td>\n",
       "      <td>0.03201</td>\n",
       "      <td>80</td>\n",
       "      <td>OK</td>\n",
       "      <td>3</td>\n",
       "    </tr>\n",
       "    <tr>\n",
       "      <th>4</th>\n",
       "      <td>-0.571307</td>\n",
       "      <td>-2.856536</td>\n",
       "      <td>0</td>\n",
       "      <td>0.007137</td>\n",
       "      <td>0.035683</td>\n",
       "      <td>0.999338</td>\n",
       "      <td>0.0004</td>\n",
       "      <td>b</td>\n",
       "      <td>-0.421339</td>\n",
       "      <td>-2.10670</td>\n",
       "      <td>...</td>\n",
       "      <td>9.42447</td>\n",
       "      <td>0.02953</td>\n",
       "      <td>80</td>\n",
       "      <td>0</td>\n",
       "      <td>0</td>\n",
       "      <td>9.42447</td>\n",
       "      <td>0.02953</td>\n",
       "      <td>80</td>\n",
       "      <td>OK</td>\n",
       "      <td>3</td>\n",
       "    </tr>\n",
       "    <tr>\n",
       "      <th>...</th>\n",
       "      <td>...</td>\n",
       "      <td>...</td>\n",
       "      <td>...</td>\n",
       "      <td>...</td>\n",
       "      <td>...</td>\n",
       "      <td>...</td>\n",
       "      <td>...</td>\n",
       "      <td>...</td>\n",
       "      <td>...</td>\n",
       "      <td>...</td>\n",
       "      <td>...</td>\n",
       "      <td>...</td>\n",
       "      <td>...</td>\n",
       "      <td>...</td>\n",
       "      <td>...</td>\n",
       "      <td>...</td>\n",
       "      <td>...</td>\n",
       "      <td>...</td>\n",
       "      <td>...</td>\n",
       "      <td>...</td>\n",
       "      <td>...</td>\n",
       "    </tr>\n",
       "    <tr>\n",
       "      <th>479</th>\n",
       "      <td>0.571307</td>\n",
       "      <td>2.856536</td>\n",
       "      <td>0</td>\n",
       "      <td>-0.007137</td>\n",
       "      <td>-0.035683</td>\n",
       "      <td>0.999338</td>\n",
       "      <td>0.0010</td>\n",
       "      <td>k</td>\n",
       "      <td>0.421339</td>\n",
       "      <td>2.10670</td>\n",
       "      <td>...</td>\n",
       "      <td>25.21121</td>\n",
       "      <td>-0.18127</td>\n",
       "      <td>80</td>\n",
       "      <td>0</td>\n",
       "      <td>0</td>\n",
       "      <td>25.21121</td>\n",
       "      <td>-0.18127</td>\n",
       "      <td>80</td>\n",
       "      <td>OK</td>\n",
       "      <td>3</td>\n",
       "    </tr>\n",
       "    <tr>\n",
       "      <th>480</th>\n",
       "      <td>1.142614</td>\n",
       "      <td>2.856536</td>\n",
       "      <td>0</td>\n",
       "      <td>-0.014272</td>\n",
       "      <td>-0.035680</td>\n",
       "      <td>0.999261</td>\n",
       "      <td>0.0010</td>\n",
       "      <td>k</td>\n",
       "      <td>0.842678</td>\n",
       "      <td>2.10670</td>\n",
       "      <td>...</td>\n",
       "      <td>25.09532</td>\n",
       "      <td>-0.17373</td>\n",
       "      <td>80</td>\n",
       "      <td>0</td>\n",
       "      <td>0</td>\n",
       "      <td>25.09532</td>\n",
       "      <td>-0.17373</td>\n",
       "      <td>80</td>\n",
       "      <td>OK</td>\n",
       "      <td>3</td>\n",
       "    </tr>\n",
       "    <tr>\n",
       "      <th>481</th>\n",
       "      <td>1.713921</td>\n",
       "      <td>2.856536</td>\n",
       "      <td>0</td>\n",
       "      <td>-0.021406</td>\n",
       "      <td>-0.035676</td>\n",
       "      <td>0.999134</td>\n",
       "      <td>0.0010</td>\n",
       "      <td>k</td>\n",
       "      <td>1.264016</td>\n",
       "      <td>2.10669</td>\n",
       "      <td>...</td>\n",
       "      <td>24.98470</td>\n",
       "      <td>-0.16628</td>\n",
       "      <td>80</td>\n",
       "      <td>0</td>\n",
       "      <td>0</td>\n",
       "      <td>24.98470</td>\n",
       "      <td>-0.16628</td>\n",
       "      <td>80</td>\n",
       "      <td>OK</td>\n",
       "      <td>3</td>\n",
       "    </tr>\n",
       "    <tr>\n",
       "      <th>482</th>\n",
       "      <td>2.285228</td>\n",
       "      <td>2.856536</td>\n",
       "      <td>0</td>\n",
       "      <td>-0.028535</td>\n",
       "      <td>-0.035669</td>\n",
       "      <td>0.998956</td>\n",
       "      <td>0.0010</td>\n",
       "      <td>k</td>\n",
       "      <td>1.685357</td>\n",
       "      <td>2.10670</td>\n",
       "      <td>...</td>\n",
       "      <td>24.87929</td>\n",
       "      <td>-0.15892</td>\n",
       "      <td>80</td>\n",
       "      <td>0</td>\n",
       "      <td>0</td>\n",
       "      <td>24.87929</td>\n",
       "      <td>-0.15892</td>\n",
       "      <td>80</td>\n",
       "      <td>OK</td>\n",
       "      <td>3</td>\n",
       "    </tr>\n",
       "    <tr>\n",
       "      <th>483</th>\n",
       "      <td>2.856536</td>\n",
       "      <td>2.856536</td>\n",
       "      <td>0</td>\n",
       "      <td>-0.035661</td>\n",
       "      <td>-0.035661</td>\n",
       "      <td>0.998727</td>\n",
       "      <td>0.0010</td>\n",
       "      <td>k</td>\n",
       "      <td>2.106694</td>\n",
       "      <td>2.10669</td>\n",
       "      <td>...</td>\n",
       "      <td>24.77894</td>\n",
       "      <td>-0.15166</td>\n",
       "      <td>80</td>\n",
       "      <td>0</td>\n",
       "      <td>0</td>\n",
       "      <td>24.77894</td>\n",
       "      <td>-0.15166</td>\n",
       "      <td>80</td>\n",
       "      <td>OK</td>\n",
       "      <td>3</td>\n",
       "    </tr>\n",
       "  </tbody>\n",
       "</table>\n",
       "<p>484 rows × 24 columns</p>\n",
       "</div>"
      ],
      "text/plain": [
       "           X0        Y0  Z0        U0        V0        W0    wave col  \\\n",
       "0   -2.856536 -2.856536   0  0.035661  0.035661  0.998727  0.0004   b   \n",
       "1   -2.285228 -2.856536   0  0.028535  0.035669  0.998956  0.0004   b   \n",
       "2   -1.713921 -2.856536   0  0.021406  0.035676  0.999134  0.0004   b   \n",
       "3   -1.142614 -2.856536   0  0.014272  0.035680  0.999261  0.0004   b   \n",
       "4   -0.571307 -2.856536   0  0.007137  0.035683  0.999338  0.0004   b   \n",
       "..        ...       ...  ..       ...       ...       ...     ...  ..   \n",
       "479  0.571307  2.856536   0 -0.007137 -0.035683  0.999338  0.0010   k   \n",
       "480  1.142614  2.856536   0 -0.014272 -0.035680  0.999261  0.0010   k   \n",
       "481  1.713921  2.856536   0 -0.021406 -0.035676  0.999134  0.0010   k   \n",
       "482  2.285228  2.856536   0 -0.028535 -0.035669  0.998956  0.0010   k   \n",
       "483  2.856536  2.856536   0 -0.035661 -0.035661  0.998727  0.0010   k   \n",
       "\n",
       "           X1       Y1  ...        X3       Y3  Z3  Xgoal  Ygoal    Xfinal  \\\n",
       "0   -2.106694 -2.10669  ...   9.50870  0.03953  80      0      0   9.50870   \n",
       "1   -1.685357 -2.10670  ...   9.48531  0.03701  80      0      0   9.48531   \n",
       "2   -1.264016 -2.10669  ...   9.46349  0.03451  80      0      0   9.46349   \n",
       "3   -0.842678 -2.10670  ...   9.44321  0.03201  80      0      0   9.44321   \n",
       "4   -0.421339 -2.10670  ...   9.42447  0.02953  80      0      0   9.42447   \n",
       "..        ...      ...  ...       ...      ...  ..    ...    ...       ...   \n",
       "479  0.421339  2.10670  ...  25.21121 -0.18127  80      0      0  25.21121   \n",
       "480  0.842678  2.10670  ...  25.09532 -0.17373  80      0      0  25.09532   \n",
       "481  1.264016  2.10669  ...  24.98470 -0.16628  80      0      0  24.98470   \n",
       "482  1.685357  2.10670  ...  24.87929 -0.15892  80      0      0  24.87929   \n",
       "483  2.106694  2.10669  ...  24.77894 -0.15166  80      0      0  24.77894   \n",
       "\n",
       "      Yfinal  Zfinal  Notes  Unnamed: 23  \n",
       "0    0.03953      80     OK            3  \n",
       "1    0.03701      80     OK            3  \n",
       "2    0.03451      80     OK            3  \n",
       "3    0.03201      80     OK            3  \n",
       "4    0.02953      80     OK            3  \n",
       "..       ...     ...    ...          ...  \n",
       "479 -0.18127      80     OK            3  \n",
       "480 -0.17373      80     OK            3  \n",
       "481 -0.16628      80     OK            3  \n",
       "482 -0.15892      80     OK            3  \n",
       "483 -0.15166      80     OK            3  \n",
       "\n",
       "[484 rows x 24 columns]"
      ]
     },
     "execution_count": 35,
     "metadata": {},
     "output_type": "execute_result"
    }
   ],
   "source": [
    "df_R400"
   ]
  },
  {
   "cell_type": "code",
   "execution_count": 36,
   "metadata": {},
   "outputs": [],
   "source": [
    "input_R300 = pd.ExcelFile(rayfile_R300)\n",
    "df_R300 = input_R300.parse(index_row=0,header=1)\n",
    "df_R300=df_R300.iloc[0:NBTOT]"
   ]
  },
  {
   "cell_type": "code",
   "execution_count": 37,
   "metadata": {},
   "outputs": [
    {
     "data": {
      "text/html": [
       "<div>\n",
       "<style scoped>\n",
       "    .dataframe tbody tr th:only-of-type {\n",
       "        vertical-align: middle;\n",
       "    }\n",
       "\n",
       "    .dataframe tbody tr th {\n",
       "        vertical-align: top;\n",
       "    }\n",
       "\n",
       "    .dataframe thead th {\n",
       "        text-align: right;\n",
       "    }\n",
       "</style>\n",
       "<table border=\"1\" class=\"dataframe\">\n",
       "  <thead>\n",
       "    <tr style=\"text-align: right;\">\n",
       "      <th></th>\n",
       "      <th>X0</th>\n",
       "      <th>Y0</th>\n",
       "      <th>Z0</th>\n",
       "      <th>U0</th>\n",
       "      <th>V0</th>\n",
       "      <th>W0</th>\n",
       "      <th>wave</th>\n",
       "      <th>col</th>\n",
       "      <th>X1</th>\n",
       "      <th>Y1</th>\n",
       "      <th>...</th>\n",
       "      <th>X3</th>\n",
       "      <th>Y3</th>\n",
       "      <th>Z3</th>\n",
       "      <th>Xgoal</th>\n",
       "      <th>Ygoal</th>\n",
       "      <th>Xfinal</th>\n",
       "      <th>Yfinal</th>\n",
       "      <th>Zfinal</th>\n",
       "      <th>Notes</th>\n",
       "      <th>Unnamed: 23</th>\n",
       "    </tr>\n",
       "  </thead>\n",
       "  <tbody>\n",
       "    <tr>\n",
       "      <th>0</th>\n",
       "      <td>-2.856536</td>\n",
       "      <td>-2.856536</td>\n",
       "      <td>0</td>\n",
       "      <td>0.035661</td>\n",
       "      <td>0.035661</td>\n",
       "      <td>0.998727</td>\n",
       "      <td>0.0004</td>\n",
       "      <td>b</td>\n",
       "      <td>-2.106694</td>\n",
       "      <td>-2.10669</td>\n",
       "      <td>...</td>\n",
       "      <td>7.07474</td>\n",
       "      <td>0.02426</td>\n",
       "      <td>80</td>\n",
       "      <td>0</td>\n",
       "      <td>0</td>\n",
       "      <td>7.07474</td>\n",
       "      <td>0.02426</td>\n",
       "      <td>80</td>\n",
       "      <td>OK</td>\n",
       "      <td>3</td>\n",
       "    </tr>\n",
       "    <tr>\n",
       "      <th>1</th>\n",
       "      <td>-2.285228</td>\n",
       "      <td>-2.856536</td>\n",
       "      <td>0</td>\n",
       "      <td>0.028535</td>\n",
       "      <td>0.035669</td>\n",
       "      <td>0.998956</td>\n",
       "      <td>0.0004</td>\n",
       "      <td>b</td>\n",
       "      <td>-1.685357</td>\n",
       "      <td>-2.10670</td>\n",
       "      <td>...</td>\n",
       "      <td>7.06058</td>\n",
       "      <td>0.02241</td>\n",
       "      <td>80</td>\n",
       "      <td>0</td>\n",
       "      <td>0</td>\n",
       "      <td>7.06058</td>\n",
       "      <td>0.02241</td>\n",
       "      <td>80</td>\n",
       "      <td>OK</td>\n",
       "      <td>3</td>\n",
       "    </tr>\n",
       "    <tr>\n",
       "      <th>2</th>\n",
       "      <td>-1.713921</td>\n",
       "      <td>-2.856536</td>\n",
       "      <td>0</td>\n",
       "      <td>0.021406</td>\n",
       "      <td>0.035676</td>\n",
       "      <td>0.999134</td>\n",
       "      <td>0.0004</td>\n",
       "      <td>b</td>\n",
       "      <td>-1.264016</td>\n",
       "      <td>-2.10669</td>\n",
       "      <td>...</td>\n",
       "      <td>7.04756</td>\n",
       "      <td>0.02057</td>\n",
       "      <td>80</td>\n",
       "      <td>0</td>\n",
       "      <td>0</td>\n",
       "      <td>7.04756</td>\n",
       "      <td>0.02057</td>\n",
       "      <td>80</td>\n",
       "      <td>OK</td>\n",
       "      <td>3</td>\n",
       "    </tr>\n",
       "    <tr>\n",
       "      <th>3</th>\n",
       "      <td>-1.142614</td>\n",
       "      <td>-2.856536</td>\n",
       "      <td>0</td>\n",
       "      <td>0.014272</td>\n",
       "      <td>0.035680</td>\n",
       "      <td>0.999261</td>\n",
       "      <td>0.0004</td>\n",
       "      <td>b</td>\n",
       "      <td>-0.842678</td>\n",
       "      <td>-2.10670</td>\n",
       "      <td>...</td>\n",
       "      <td>7.03565</td>\n",
       "      <td>0.01874</td>\n",
       "      <td>80</td>\n",
       "      <td>0</td>\n",
       "      <td>0</td>\n",
       "      <td>7.03565</td>\n",
       "      <td>0.01874</td>\n",
       "      <td>80</td>\n",
       "      <td>OK</td>\n",
       "      <td>3</td>\n",
       "    </tr>\n",
       "    <tr>\n",
       "      <th>4</th>\n",
       "      <td>-0.571307</td>\n",
       "      <td>-2.856536</td>\n",
       "      <td>0</td>\n",
       "      <td>0.007137</td>\n",
       "      <td>0.035683</td>\n",
       "      <td>0.999338</td>\n",
       "      <td>0.0004</td>\n",
       "      <td>b</td>\n",
       "      <td>-0.421339</td>\n",
       "      <td>-2.10670</td>\n",
       "      <td>...</td>\n",
       "      <td>7.02487</td>\n",
       "      <td>0.01691</td>\n",
       "      <td>80</td>\n",
       "      <td>0</td>\n",
       "      <td>0</td>\n",
       "      <td>7.02487</td>\n",
       "      <td>0.01691</td>\n",
       "      <td>80</td>\n",
       "      <td>OK</td>\n",
       "      <td>3</td>\n",
       "    </tr>\n",
       "    <tr>\n",
       "      <th>...</th>\n",
       "      <td>...</td>\n",
       "      <td>...</td>\n",
       "      <td>...</td>\n",
       "      <td>...</td>\n",
       "      <td>...</td>\n",
       "      <td>...</td>\n",
       "      <td>...</td>\n",
       "      <td>...</td>\n",
       "      <td>...</td>\n",
       "      <td>...</td>\n",
       "      <td>...</td>\n",
       "      <td>...</td>\n",
       "      <td>...</td>\n",
       "      <td>...</td>\n",
       "      <td>...</td>\n",
       "      <td>...</td>\n",
       "      <td>...</td>\n",
       "      <td>...</td>\n",
       "      <td>...</td>\n",
       "      <td>...</td>\n",
       "      <td>...</td>\n",
       "    </tr>\n",
       "    <tr>\n",
       "      <th>479</th>\n",
       "      <td>0.571307</td>\n",
       "      <td>2.856536</td>\n",
       "      <td>0</td>\n",
       "      <td>-0.007137</td>\n",
       "      <td>-0.035683</td>\n",
       "      <td>0.999338</td>\n",
       "      <td>0.0010</td>\n",
       "      <td>k</td>\n",
       "      <td>0.421339</td>\n",
       "      <td>2.10670</td>\n",
       "      <td>...</td>\n",
       "      <td>18.19158</td>\n",
       "      <td>-0.09504</td>\n",
       "      <td>80</td>\n",
       "      <td>0</td>\n",
       "      <td>0</td>\n",
       "      <td>18.19158</td>\n",
       "      <td>-0.09504</td>\n",
       "      <td>80</td>\n",
       "      <td>OK</td>\n",
       "      <td>3</td>\n",
       "    </tr>\n",
       "    <tr>\n",
       "      <th>480</th>\n",
       "      <td>1.142614</td>\n",
       "      <td>2.856536</td>\n",
       "      <td>0</td>\n",
       "      <td>-0.014272</td>\n",
       "      <td>-0.035680</td>\n",
       "      <td>0.999261</td>\n",
       "      <td>0.0010</td>\n",
       "      <td>k</td>\n",
       "      <td>0.842678</td>\n",
       "      <td>2.10670</td>\n",
       "      <td>...</td>\n",
       "      <td>18.13355</td>\n",
       "      <td>-0.08999</td>\n",
       "      <td>80</td>\n",
       "      <td>0</td>\n",
       "      <td>0</td>\n",
       "      <td>18.13355</td>\n",
       "      <td>-0.08999</td>\n",
       "      <td>80</td>\n",
       "      <td>OK</td>\n",
       "      <td>3</td>\n",
       "    </tr>\n",
       "    <tr>\n",
       "      <th>481</th>\n",
       "      <td>1.713921</td>\n",
       "      <td>2.856536</td>\n",
       "      <td>0</td>\n",
       "      <td>-0.021406</td>\n",
       "      <td>-0.035676</td>\n",
       "      <td>0.999134</td>\n",
       "      <td>0.0010</td>\n",
       "      <td>k</td>\n",
       "      <td>1.264016</td>\n",
       "      <td>2.10669</td>\n",
       "      <td>...</td>\n",
       "      <td>18.07880</td>\n",
       "      <td>-0.08500</td>\n",
       "      <td>80</td>\n",
       "      <td>0</td>\n",
       "      <td>0</td>\n",
       "      <td>18.07880</td>\n",
       "      <td>-0.08500</td>\n",
       "      <td>80</td>\n",
       "      <td>OK</td>\n",
       "      <td>3</td>\n",
       "    </tr>\n",
       "    <tr>\n",
       "      <th>482</th>\n",
       "      <td>2.285228</td>\n",
       "      <td>2.856536</td>\n",
       "      <td>0</td>\n",
       "      <td>-0.028535</td>\n",
       "      <td>-0.035669</td>\n",
       "      <td>0.998956</td>\n",
       "      <td>0.0010</td>\n",
       "      <td>k</td>\n",
       "      <td>1.685357</td>\n",
       "      <td>2.10670</td>\n",
       "      <td>...</td>\n",
       "      <td>18.02729</td>\n",
       "      <td>-0.08003</td>\n",
       "      <td>80</td>\n",
       "      <td>0</td>\n",
       "      <td>0</td>\n",
       "      <td>18.02729</td>\n",
       "      <td>-0.08003</td>\n",
       "      <td>80</td>\n",
       "      <td>OK</td>\n",
       "      <td>3</td>\n",
       "    </tr>\n",
       "    <tr>\n",
       "      <th>483</th>\n",
       "      <td>2.856536</td>\n",
       "      <td>2.856536</td>\n",
       "      <td>0</td>\n",
       "      <td>-0.035661</td>\n",
       "      <td>-0.035661</td>\n",
       "      <td>0.998727</td>\n",
       "      <td>0.0010</td>\n",
       "      <td>k</td>\n",
       "      <td>2.106694</td>\n",
       "      <td>2.10669</td>\n",
       "      <td>...</td>\n",
       "      <td>17.97897</td>\n",
       "      <td>-0.07512</td>\n",
       "      <td>80</td>\n",
       "      <td>0</td>\n",
       "      <td>0</td>\n",
       "      <td>17.97897</td>\n",
       "      <td>-0.07512</td>\n",
       "      <td>80</td>\n",
       "      <td>OK</td>\n",
       "      <td>3</td>\n",
       "    </tr>\n",
       "  </tbody>\n",
       "</table>\n",
       "<p>484 rows × 24 columns</p>\n",
       "</div>"
      ],
      "text/plain": [
       "           X0        Y0  Z0        U0        V0        W0    wave col  \\\n",
       "0   -2.856536 -2.856536   0  0.035661  0.035661  0.998727  0.0004   b   \n",
       "1   -2.285228 -2.856536   0  0.028535  0.035669  0.998956  0.0004   b   \n",
       "2   -1.713921 -2.856536   0  0.021406  0.035676  0.999134  0.0004   b   \n",
       "3   -1.142614 -2.856536   0  0.014272  0.035680  0.999261  0.0004   b   \n",
       "4   -0.571307 -2.856536   0  0.007137  0.035683  0.999338  0.0004   b   \n",
       "..        ...       ...  ..       ...       ...       ...     ...  ..   \n",
       "479  0.571307  2.856536   0 -0.007137 -0.035683  0.999338  0.0010   k   \n",
       "480  1.142614  2.856536   0 -0.014272 -0.035680  0.999261  0.0010   k   \n",
       "481  1.713921  2.856536   0 -0.021406 -0.035676  0.999134  0.0010   k   \n",
       "482  2.285228  2.856536   0 -0.028535 -0.035669  0.998956  0.0010   k   \n",
       "483  2.856536  2.856536   0 -0.035661 -0.035661  0.998727  0.0010   k   \n",
       "\n",
       "           X1       Y1  ...        X3       Y3  Z3  Xgoal  Ygoal    Xfinal  \\\n",
       "0   -2.106694 -2.10669  ...   7.07474  0.02426  80      0      0   7.07474   \n",
       "1   -1.685357 -2.10670  ...   7.06058  0.02241  80      0      0   7.06058   \n",
       "2   -1.264016 -2.10669  ...   7.04756  0.02057  80      0      0   7.04756   \n",
       "3   -0.842678 -2.10670  ...   7.03565  0.01874  80      0      0   7.03565   \n",
       "4   -0.421339 -2.10670  ...   7.02487  0.01691  80      0      0   7.02487   \n",
       "..        ...      ...  ...       ...      ...  ..    ...    ...       ...   \n",
       "479  0.421339  2.10670  ...  18.19158 -0.09504  80      0      0  18.19158   \n",
       "480  0.842678  2.10670  ...  18.13355 -0.08999  80      0      0  18.13355   \n",
       "481  1.264016  2.10669  ...  18.07880 -0.08500  80      0      0  18.07880   \n",
       "482  1.685357  2.10670  ...  18.02729 -0.08003  80      0      0  18.02729   \n",
       "483  2.106694  2.10669  ...  17.97897 -0.07512  80      0      0  17.97897   \n",
       "\n",
       "      Yfinal  Zfinal  Notes  Unnamed: 23  \n",
       "0    0.02426      80     OK            3  \n",
       "1    0.02241      80     OK            3  \n",
       "2    0.02057      80     OK            3  \n",
       "3    0.01874      80     OK            3  \n",
       "4    0.01691      80     OK            3  \n",
       "..       ...     ...    ...          ...  \n",
       "479 -0.09504      80     OK            3  \n",
       "480 -0.08999      80     OK            3  \n",
       "481 -0.08500      80     OK            3  \n",
       "482 -0.08003      80     OK            3  \n",
       "483 -0.07512      80     OK            3  \n",
       "\n",
       "[484 rows x 24 columns]"
      ]
     },
     "execution_count": 37,
     "metadata": {},
     "output_type": "execute_result"
    }
   ],
   "source": [
    "df_R300"
   ]
  },
  {
   "cell_type": "code",
   "execution_count": 38,
   "metadata": {},
   "outputs": [],
   "source": [
    "input_R200 = pd.ExcelFile(rayfile_R200)\n",
    "df_R200 = input_R200.parse(index_row=0,header=1)\n",
    "df_R200=df_R200.iloc[0:NBTOT]"
   ]
  },
  {
   "cell_type": "code",
   "execution_count": 39,
   "metadata": {},
   "outputs": [],
   "source": [
    "# rename columns otherwise they are not recognize\n",
    "#df_R200.columns = [\"X0\",\"Y0\",\"Z0\",\"U0\",\"V0\",\"W0\",\"wave\",\"X1\",\"Y1\",\"Z1\",\"X2\",\"Y2\",\"Z2\",\"X3\",\"Y3\",\"Z3\",\"Xfinal\",\"Yfinal\",\"Zfinal\",\"Notes\"]"
   ]
  },
  {
   "cell_type": "code",
   "execution_count": 40,
   "metadata": {},
   "outputs": [
    {
     "data": {
      "text/html": [
       "<div>\n",
       "<style scoped>\n",
       "    .dataframe tbody tr th:only-of-type {\n",
       "        vertical-align: middle;\n",
       "    }\n",
       "\n",
       "    .dataframe tbody tr th {\n",
       "        vertical-align: top;\n",
       "    }\n",
       "\n",
       "    .dataframe thead th {\n",
       "        text-align: right;\n",
       "    }\n",
       "</style>\n",
       "<table border=\"1\" class=\"dataframe\">\n",
       "  <thead>\n",
       "    <tr style=\"text-align: right;\">\n",
       "      <th></th>\n",
       "      <th>X0</th>\n",
       "      <th>Y0</th>\n",
       "      <th>Z0</th>\n",
       "      <th>U0</th>\n",
       "      <th>V0</th>\n",
       "      <th>W0</th>\n",
       "      <th>wave</th>\n",
       "      <th>col</th>\n",
       "      <th>X1</th>\n",
       "      <th>Y1</th>\n",
       "      <th>...</th>\n",
       "      <th>X3</th>\n",
       "      <th>Y3</th>\n",
       "      <th>Z3</th>\n",
       "      <th>Xgoal</th>\n",
       "      <th>Ygoal</th>\n",
       "      <th>Xfinal</th>\n",
       "      <th>Yfinal</th>\n",
       "      <th>Zfinal</th>\n",
       "      <th>Notes</th>\n",
       "      <th>Unnamed: 23</th>\n",
       "    </tr>\n",
       "  </thead>\n",
       "  <tbody>\n",
       "    <tr>\n",
       "      <th>0</th>\n",
       "      <td>-2.856536</td>\n",
       "      <td>-2.856536</td>\n",
       "      <td>0</td>\n",
       "      <td>0.035661</td>\n",
       "      <td>0.035661</td>\n",
       "      <td>0.998727</td>\n",
       "      <td>0.0004</td>\n",
       "      <td>b</td>\n",
       "      <td>-2.106694</td>\n",
       "      <td>-2.10669</td>\n",
       "      <td>...</td>\n",
       "      <td>4.68705</td>\n",
       "      <td>0.01269</td>\n",
       "      <td>80</td>\n",
       "      <td>0</td>\n",
       "      <td>0</td>\n",
       "      <td>4.68705</td>\n",
       "      <td>0.01269</td>\n",
       "      <td>80</td>\n",
       "      <td>OK</td>\n",
       "      <td>3</td>\n",
       "    </tr>\n",
       "    <tr>\n",
       "      <th>1</th>\n",
       "      <td>-2.285228</td>\n",
       "      <td>-2.856536</td>\n",
       "      <td>0</td>\n",
       "      <td>0.028535</td>\n",
       "      <td>0.035669</td>\n",
       "      <td>0.998956</td>\n",
       "      <td>0.0004</td>\n",
       "      <td>b</td>\n",
       "      <td>-1.685357</td>\n",
       "      <td>-2.10670</td>\n",
       "      <td>...</td>\n",
       "      <td>4.67976</td>\n",
       "      <td>0.01147</td>\n",
       "      <td>80</td>\n",
       "      <td>0</td>\n",
       "      <td>0</td>\n",
       "      <td>4.67976</td>\n",
       "      <td>0.01147</td>\n",
       "      <td>80</td>\n",
       "      <td>OK</td>\n",
       "      <td>3</td>\n",
       "    </tr>\n",
       "    <tr>\n",
       "      <th>2</th>\n",
       "      <td>-1.713921</td>\n",
       "      <td>-2.856536</td>\n",
       "      <td>0</td>\n",
       "      <td>0.021406</td>\n",
       "      <td>0.035676</td>\n",
       "      <td>0.999134</td>\n",
       "      <td>0.0004</td>\n",
       "      <td>b</td>\n",
       "      <td>-1.264016</td>\n",
       "      <td>-2.10669</td>\n",
       "      <td>...</td>\n",
       "      <td>4.67321</td>\n",
       "      <td>0.01027</td>\n",
       "      <td>80</td>\n",
       "      <td>0</td>\n",
       "      <td>0</td>\n",
       "      <td>4.67321</td>\n",
       "      <td>0.01027</td>\n",
       "      <td>80</td>\n",
       "      <td>OK</td>\n",
       "      <td>3</td>\n",
       "    </tr>\n",
       "    <tr>\n",
       "      <th>3</th>\n",
       "      <td>-1.142614</td>\n",
       "      <td>-2.856536</td>\n",
       "      <td>0</td>\n",
       "      <td>0.014272</td>\n",
       "      <td>0.035680</td>\n",
       "      <td>0.999261</td>\n",
       "      <td>0.0004</td>\n",
       "      <td>b</td>\n",
       "      <td>-0.842678</td>\n",
       "      <td>-2.10670</td>\n",
       "      <td>...</td>\n",
       "      <td>4.66738</td>\n",
       "      <td>0.00906</td>\n",
       "      <td>80</td>\n",
       "      <td>0</td>\n",
       "      <td>0</td>\n",
       "      <td>4.66738</td>\n",
       "      <td>0.00906</td>\n",
       "      <td>80</td>\n",
       "      <td>OK</td>\n",
       "      <td>3</td>\n",
       "    </tr>\n",
       "    <tr>\n",
       "      <th>4</th>\n",
       "      <td>-0.571307</td>\n",
       "      <td>-2.856536</td>\n",
       "      <td>0</td>\n",
       "      <td>0.007137</td>\n",
       "      <td>0.035683</td>\n",
       "      <td>0.999338</td>\n",
       "      <td>0.0004</td>\n",
       "      <td>b</td>\n",
       "      <td>-0.421339</td>\n",
       "      <td>-2.10670</td>\n",
       "      <td>...</td>\n",
       "      <td>4.66228</td>\n",
       "      <td>0.00786</td>\n",
       "      <td>80</td>\n",
       "      <td>0</td>\n",
       "      <td>0</td>\n",
       "      <td>4.66228</td>\n",
       "      <td>0.00786</td>\n",
       "      <td>80</td>\n",
       "      <td>OK</td>\n",
       "      <td>3</td>\n",
       "    </tr>\n",
       "    <tr>\n",
       "      <th>...</th>\n",
       "      <td>...</td>\n",
       "      <td>...</td>\n",
       "      <td>...</td>\n",
       "      <td>...</td>\n",
       "      <td>...</td>\n",
       "      <td>...</td>\n",
       "      <td>...</td>\n",
       "      <td>...</td>\n",
       "      <td>...</td>\n",
       "      <td>...</td>\n",
       "      <td>...</td>\n",
       "      <td>...</td>\n",
       "      <td>...</td>\n",
       "      <td>...</td>\n",
       "      <td>...</td>\n",
       "      <td>...</td>\n",
       "      <td>...</td>\n",
       "      <td>...</td>\n",
       "      <td>...</td>\n",
       "      <td>...</td>\n",
       "      <td>...</td>\n",
       "    </tr>\n",
       "    <tr>\n",
       "      <th>479</th>\n",
       "      <td>0.571307</td>\n",
       "      <td>2.856536</td>\n",
       "      <td>0</td>\n",
       "      <td>-0.007137</td>\n",
       "      <td>-0.035683</td>\n",
       "      <td>0.999338</td>\n",
       "      <td>0.0010</td>\n",
       "      <td>k</td>\n",
       "      <td>0.421339</td>\n",
       "      <td>2.10670</td>\n",
       "      <td>...</td>\n",
       "      <td>11.82185</td>\n",
       "      <td>-0.03962</td>\n",
       "      <td>80</td>\n",
       "      <td>0</td>\n",
       "      <td>0</td>\n",
       "      <td>11.82185</td>\n",
       "      <td>-0.03962</td>\n",
       "      <td>80</td>\n",
       "      <td>OK</td>\n",
       "      <td>3</td>\n",
       "    </tr>\n",
       "    <tr>\n",
       "      <th>480</th>\n",
       "      <td>1.142614</td>\n",
       "      <td>2.856536</td>\n",
       "      <td>0</td>\n",
       "      <td>-0.014272</td>\n",
       "      <td>-0.035680</td>\n",
       "      <td>0.999261</td>\n",
       "      <td>0.0010</td>\n",
       "      <td>k</td>\n",
       "      <td>0.842678</td>\n",
       "      <td>2.10670</td>\n",
       "      <td>...</td>\n",
       "      <td>11.79859</td>\n",
       "      <td>-0.03650</td>\n",
       "      <td>80</td>\n",
       "      <td>0</td>\n",
       "      <td>0</td>\n",
       "      <td>11.79859</td>\n",
       "      <td>-0.03650</td>\n",
       "      <td>80</td>\n",
       "      <td>OK</td>\n",
       "      <td>3</td>\n",
       "    </tr>\n",
       "    <tr>\n",
       "      <th>481</th>\n",
       "      <td>1.713921</td>\n",
       "      <td>2.856536</td>\n",
       "      <td>0</td>\n",
       "      <td>-0.021406</td>\n",
       "      <td>-0.035676</td>\n",
       "      <td>0.999134</td>\n",
       "      <td>0.0010</td>\n",
       "      <td>k</td>\n",
       "      <td>1.264016</td>\n",
       "      <td>2.10669</td>\n",
       "      <td>...</td>\n",
       "      <td>11.77726</td>\n",
       "      <td>-0.03340</td>\n",
       "      <td>80</td>\n",
       "      <td>0</td>\n",
       "      <td>0</td>\n",
       "      <td>11.77726</td>\n",
       "      <td>-0.03340</td>\n",
       "      <td>80</td>\n",
       "      <td>OK</td>\n",
       "      <td>3</td>\n",
       "    </tr>\n",
       "    <tr>\n",
       "      <th>482</th>\n",
       "      <td>2.285228</td>\n",
       "      <td>2.856536</td>\n",
       "      <td>0</td>\n",
       "      <td>-0.028535</td>\n",
       "      <td>-0.035669</td>\n",
       "      <td>0.998956</td>\n",
       "      <td>0.0010</td>\n",
       "      <td>k</td>\n",
       "      <td>1.685357</td>\n",
       "      <td>2.10670</td>\n",
       "      <td>...</td>\n",
       "      <td>11.75785</td>\n",
       "      <td>-0.03031</td>\n",
       "      <td>80</td>\n",
       "      <td>0</td>\n",
       "      <td>0</td>\n",
       "      <td>11.75785</td>\n",
       "      <td>-0.03031</td>\n",
       "      <td>80</td>\n",
       "      <td>OK</td>\n",
       "      <td>3</td>\n",
       "    </tr>\n",
       "    <tr>\n",
       "      <th>483</th>\n",
       "      <td>2.856536</td>\n",
       "      <td>2.856536</td>\n",
       "      <td>0</td>\n",
       "      <td>-0.035661</td>\n",
       "      <td>-0.035661</td>\n",
       "      <td>0.998727</td>\n",
       "      <td>0.0010</td>\n",
       "      <td>k</td>\n",
       "      <td>2.106694</td>\n",
       "      <td>2.10669</td>\n",
       "      <td>...</td>\n",
       "      <td>11.74033</td>\n",
       "      <td>-0.02725</td>\n",
       "      <td>80</td>\n",
       "      <td>0</td>\n",
       "      <td>0</td>\n",
       "      <td>11.74033</td>\n",
       "      <td>-0.02725</td>\n",
       "      <td>80</td>\n",
       "      <td>OK</td>\n",
       "      <td>3</td>\n",
       "    </tr>\n",
       "  </tbody>\n",
       "</table>\n",
       "<p>484 rows × 24 columns</p>\n",
       "</div>"
      ],
      "text/plain": [
       "           X0        Y0  Z0        U0        V0        W0    wave col  \\\n",
       "0   -2.856536 -2.856536   0  0.035661  0.035661  0.998727  0.0004   b   \n",
       "1   -2.285228 -2.856536   0  0.028535  0.035669  0.998956  0.0004   b   \n",
       "2   -1.713921 -2.856536   0  0.021406  0.035676  0.999134  0.0004   b   \n",
       "3   -1.142614 -2.856536   0  0.014272  0.035680  0.999261  0.0004   b   \n",
       "4   -0.571307 -2.856536   0  0.007137  0.035683  0.999338  0.0004   b   \n",
       "..        ...       ...  ..       ...       ...       ...     ...  ..   \n",
       "479  0.571307  2.856536   0 -0.007137 -0.035683  0.999338  0.0010   k   \n",
       "480  1.142614  2.856536   0 -0.014272 -0.035680  0.999261  0.0010   k   \n",
       "481  1.713921  2.856536   0 -0.021406 -0.035676  0.999134  0.0010   k   \n",
       "482  2.285228  2.856536   0 -0.028535 -0.035669  0.998956  0.0010   k   \n",
       "483  2.856536  2.856536   0 -0.035661 -0.035661  0.998727  0.0010   k   \n",
       "\n",
       "           X1       Y1  ...        X3       Y3  Z3  Xgoal  Ygoal    Xfinal  \\\n",
       "0   -2.106694 -2.10669  ...   4.68705  0.01269  80      0      0   4.68705   \n",
       "1   -1.685357 -2.10670  ...   4.67976  0.01147  80      0      0   4.67976   \n",
       "2   -1.264016 -2.10669  ...   4.67321  0.01027  80      0      0   4.67321   \n",
       "3   -0.842678 -2.10670  ...   4.66738  0.00906  80      0      0   4.66738   \n",
       "4   -0.421339 -2.10670  ...   4.66228  0.00786  80      0      0   4.66228   \n",
       "..        ...      ...  ...       ...      ...  ..    ...    ...       ...   \n",
       "479  0.421339  2.10670  ...  11.82185 -0.03962  80      0      0  11.82185   \n",
       "480  0.842678  2.10670  ...  11.79859 -0.03650  80      0      0  11.79859   \n",
       "481  1.264016  2.10669  ...  11.77726 -0.03340  80      0      0  11.77726   \n",
       "482  1.685357  2.10670  ...  11.75785 -0.03031  80      0      0  11.75785   \n",
       "483  2.106694  2.10669  ...  11.74033 -0.02725  80      0      0  11.74033   \n",
       "\n",
       "      Yfinal  Zfinal  Notes  Unnamed: 23  \n",
       "0    0.01269      80     OK            3  \n",
       "1    0.01147      80     OK            3  \n",
       "2    0.01027      80     OK            3  \n",
       "3    0.00906      80     OK            3  \n",
       "4    0.00786      80     OK            3  \n",
       "..       ...     ...    ...          ...  \n",
       "479 -0.03962      80     OK            3  \n",
       "480 -0.03650      80     OK            3  \n",
       "481 -0.03340      80     OK            3  \n",
       "482 -0.03031      80     OK            3  \n",
       "483 -0.02725      80     OK            3  \n",
       "\n",
       "[484 rows x 24 columns]"
      ]
     },
     "execution_count": 40,
     "metadata": {},
     "output_type": "execute_result"
    }
   ],
   "source": [
    "df_R200"
   ]
  },
  {
   "cell_type": "code",
   "execution_count": 41,
   "metadata": {},
   "outputs": [],
   "source": [
    "input_R350 = pd.ExcelFile(rayfile_R350)\n",
    "df_R350 = input_R350.parse(index_row=0,header=1)\n",
    "df_R350=df_R350.iloc[0:NBTOT]"
   ]
  },
  {
   "cell_type": "code",
   "execution_count": 42,
   "metadata": {},
   "outputs": [
    {
     "data": {
      "text/html": [
       "<div>\n",
       "<style scoped>\n",
       "    .dataframe tbody tr th:only-of-type {\n",
       "        vertical-align: middle;\n",
       "    }\n",
       "\n",
       "    .dataframe tbody tr th {\n",
       "        vertical-align: top;\n",
       "    }\n",
       "\n",
       "    .dataframe thead th {\n",
       "        text-align: right;\n",
       "    }\n",
       "</style>\n",
       "<table border=\"1\" class=\"dataframe\">\n",
       "  <thead>\n",
       "    <tr style=\"text-align: right;\">\n",
       "      <th></th>\n",
       "      <th>X0</th>\n",
       "      <th>Y0</th>\n",
       "      <th>Z0</th>\n",
       "      <th>U0</th>\n",
       "      <th>V0</th>\n",
       "      <th>W0</th>\n",
       "      <th>wave</th>\n",
       "      <th>col</th>\n",
       "      <th>X1</th>\n",
       "      <th>Y1</th>\n",
       "      <th>...</th>\n",
       "      <th>X3</th>\n",
       "      <th>Y3</th>\n",
       "      <th>Z3</th>\n",
       "      <th>Xgoal</th>\n",
       "      <th>Ygoal</th>\n",
       "      <th>Xfinal</th>\n",
       "      <th>Yfinal</th>\n",
       "      <th>Zfinal</th>\n",
       "      <th>Notes</th>\n",
       "      <th>Unnamed: 23</th>\n",
       "    </tr>\n",
       "  </thead>\n",
       "  <tbody>\n",
       "    <tr>\n",
       "      <th>0</th>\n",
       "      <td>-2.856536</td>\n",
       "      <td>-2.856536</td>\n",
       "      <td>0</td>\n",
       "      <td>0.035661</td>\n",
       "      <td>0.035661</td>\n",
       "      <td>0.998727</td>\n",
       "      <td>0.0004</td>\n",
       "      <td>b</td>\n",
       "      <td>-2.106694</td>\n",
       "      <td>-2.10669</td>\n",
       "      <td>...</td>\n",
       "      <td>8.28509</td>\n",
       "      <td>0.03142</td>\n",
       "      <td>80</td>\n",
       "      <td>0</td>\n",
       "      <td>0</td>\n",
       "      <td>8.28509</td>\n",
       "      <td>0.03142</td>\n",
       "      <td>80</td>\n",
       "      <td>OK</td>\n",
       "      <td>3</td>\n",
       "    </tr>\n",
       "    <tr>\n",
       "      <th>1</th>\n",
       "      <td>-2.285228</td>\n",
       "      <td>-2.856536</td>\n",
       "      <td>0</td>\n",
       "      <td>0.028535</td>\n",
       "      <td>0.035669</td>\n",
       "      <td>0.998956</td>\n",
       "      <td>0.0004</td>\n",
       "      <td>b</td>\n",
       "      <td>-1.685357</td>\n",
       "      <td>-2.10670</td>\n",
       "      <td>...</td>\n",
       "      <td>8.26662</td>\n",
       "      <td>0.02923</td>\n",
       "      <td>80</td>\n",
       "      <td>0</td>\n",
       "      <td>0</td>\n",
       "      <td>8.26662</td>\n",
       "      <td>0.02923</td>\n",
       "      <td>80</td>\n",
       "      <td>OK</td>\n",
       "      <td>3</td>\n",
       "    </tr>\n",
       "    <tr>\n",
       "      <th>2</th>\n",
       "      <td>-1.713921</td>\n",
       "      <td>-2.856536</td>\n",
       "      <td>0</td>\n",
       "      <td>0.021406</td>\n",
       "      <td>0.035676</td>\n",
       "      <td>0.999134</td>\n",
       "      <td>0.0004</td>\n",
       "      <td>b</td>\n",
       "      <td>-1.264016</td>\n",
       "      <td>-2.10669</td>\n",
       "      <td>...</td>\n",
       "      <td>8.24951</td>\n",
       "      <td>0.02707</td>\n",
       "      <td>80</td>\n",
       "      <td>0</td>\n",
       "      <td>0</td>\n",
       "      <td>8.24951</td>\n",
       "      <td>0.02707</td>\n",
       "      <td>80</td>\n",
       "      <td>OK</td>\n",
       "      <td>3</td>\n",
       "    </tr>\n",
       "    <tr>\n",
       "      <th>3</th>\n",
       "      <td>-1.142614</td>\n",
       "      <td>-2.856536</td>\n",
       "      <td>0</td>\n",
       "      <td>0.014272</td>\n",
       "      <td>0.035680</td>\n",
       "      <td>0.999261</td>\n",
       "      <td>0.0004</td>\n",
       "      <td>b</td>\n",
       "      <td>-0.842678</td>\n",
       "      <td>-2.10670</td>\n",
       "      <td>...</td>\n",
       "      <td>8.23371</td>\n",
       "      <td>0.02491</td>\n",
       "      <td>80</td>\n",
       "      <td>0</td>\n",
       "      <td>0</td>\n",
       "      <td>8.23371</td>\n",
       "      <td>0.02491</td>\n",
       "      <td>80</td>\n",
       "      <td>OK</td>\n",
       "      <td>3</td>\n",
       "    </tr>\n",
       "    <tr>\n",
       "      <th>4</th>\n",
       "      <td>-0.571307</td>\n",
       "      <td>-2.856536</td>\n",
       "      <td>0</td>\n",
       "      <td>0.007137</td>\n",
       "      <td>0.035683</td>\n",
       "      <td>0.999338</td>\n",
       "      <td>0.0004</td>\n",
       "      <td>b</td>\n",
       "      <td>-0.421339</td>\n",
       "      <td>-2.10670</td>\n",
       "      <td>...</td>\n",
       "      <td>8.21925</td>\n",
       "      <td>0.02276</td>\n",
       "      <td>80</td>\n",
       "      <td>0</td>\n",
       "      <td>0</td>\n",
       "      <td>8.21925</td>\n",
       "      <td>0.02276</td>\n",
       "      <td>80</td>\n",
       "      <td>OK</td>\n",
       "      <td>3</td>\n",
       "    </tr>\n",
       "    <tr>\n",
       "      <th>...</th>\n",
       "      <td>...</td>\n",
       "      <td>...</td>\n",
       "      <td>...</td>\n",
       "      <td>...</td>\n",
       "      <td>...</td>\n",
       "      <td>...</td>\n",
       "      <td>...</td>\n",
       "      <td>...</td>\n",
       "      <td>...</td>\n",
       "      <td>...</td>\n",
       "      <td>...</td>\n",
       "      <td>...</td>\n",
       "      <td>...</td>\n",
       "      <td>...</td>\n",
       "      <td>...</td>\n",
       "      <td>...</td>\n",
       "      <td>...</td>\n",
       "      <td>...</td>\n",
       "      <td>...</td>\n",
       "      <td>...</td>\n",
       "      <td>...</td>\n",
       "    </tr>\n",
       "    <tr>\n",
       "      <th>479</th>\n",
       "      <td>0.571307</td>\n",
       "      <td>2.856536</td>\n",
       "      <td>0</td>\n",
       "      <td>-0.007137</td>\n",
       "      <td>-0.035683</td>\n",
       "      <td>0.999338</td>\n",
       "      <td>0.0010</td>\n",
       "      <td>k</td>\n",
       "      <td>0.421339</td>\n",
       "      <td>2.10670</td>\n",
       "      <td>...</td>\n",
       "      <td>21.59873</td>\n",
       "      <td>-0.13376</td>\n",
       "      <td>80</td>\n",
       "      <td>0</td>\n",
       "      <td>0</td>\n",
       "      <td>21.59873</td>\n",
       "      <td>-0.13376</td>\n",
       "      <td>80</td>\n",
       "      <td>OK</td>\n",
       "      <td>3</td>\n",
       "    </tr>\n",
       "    <tr>\n",
       "      <th>480</th>\n",
       "      <td>1.142614</td>\n",
       "      <td>2.856536</td>\n",
       "      <td>0</td>\n",
       "      <td>-0.014272</td>\n",
       "      <td>-0.035680</td>\n",
       "      <td>0.999261</td>\n",
       "      <td>0.0010</td>\n",
       "      <td>k</td>\n",
       "      <td>0.842678</td>\n",
       "      <td>2.10670</td>\n",
       "      <td>...</td>\n",
       "      <td>21.51529</td>\n",
       "      <td>-0.12756</td>\n",
       "      <td>80</td>\n",
       "      <td>0</td>\n",
       "      <td>0</td>\n",
       "      <td>21.51529</td>\n",
       "      <td>-0.12756</td>\n",
       "      <td>80</td>\n",
       "      <td>OK</td>\n",
       "      <td>3</td>\n",
       "    </tr>\n",
       "    <tr>\n",
       "      <th>481</th>\n",
       "      <td>1.713921</td>\n",
       "      <td>2.856536</td>\n",
       "      <td>0</td>\n",
       "      <td>-0.021406</td>\n",
       "      <td>-0.035676</td>\n",
       "      <td>0.999134</td>\n",
       "      <td>0.0010</td>\n",
       "      <td>k</td>\n",
       "      <td>1.264016</td>\n",
       "      <td>2.10669</td>\n",
       "      <td>...</td>\n",
       "      <td>21.43600</td>\n",
       "      <td>-0.12143</td>\n",
       "      <td>80</td>\n",
       "      <td>0</td>\n",
       "      <td>0</td>\n",
       "      <td>21.43600</td>\n",
       "      <td>-0.12143</td>\n",
       "      <td>80</td>\n",
       "      <td>OK</td>\n",
       "      <td>3</td>\n",
       "    </tr>\n",
       "    <tr>\n",
       "      <th>482</th>\n",
       "      <td>2.285228</td>\n",
       "      <td>2.856536</td>\n",
       "      <td>0</td>\n",
       "      <td>-0.028535</td>\n",
       "      <td>-0.035669</td>\n",
       "      <td>0.998956</td>\n",
       "      <td>0.0010</td>\n",
       "      <td>k</td>\n",
       "      <td>1.685357</td>\n",
       "      <td>2.10670</td>\n",
       "      <td>...</td>\n",
       "      <td>21.36083</td>\n",
       "      <td>-0.11535</td>\n",
       "      <td>80</td>\n",
       "      <td>0</td>\n",
       "      <td>0</td>\n",
       "      <td>21.36083</td>\n",
       "      <td>-0.11535</td>\n",
       "      <td>80</td>\n",
       "      <td>OK</td>\n",
       "      <td>3</td>\n",
       "    </tr>\n",
       "    <tr>\n",
       "      <th>483</th>\n",
       "      <td>2.856536</td>\n",
       "      <td>2.856536</td>\n",
       "      <td>0</td>\n",
       "      <td>-0.035661</td>\n",
       "      <td>-0.035661</td>\n",
       "      <td>0.998727</td>\n",
       "      <td>0.0010</td>\n",
       "      <td>k</td>\n",
       "      <td>2.106694</td>\n",
       "      <td>2.10669</td>\n",
       "      <td>...</td>\n",
       "      <td>21.28969</td>\n",
       "      <td>-0.10935</td>\n",
       "      <td>80</td>\n",
       "      <td>0</td>\n",
       "      <td>0</td>\n",
       "      <td>21.28969</td>\n",
       "      <td>-0.10935</td>\n",
       "      <td>80</td>\n",
       "      <td>OK</td>\n",
       "      <td>3</td>\n",
       "    </tr>\n",
       "  </tbody>\n",
       "</table>\n",
       "<p>484 rows × 24 columns</p>\n",
       "</div>"
      ],
      "text/plain": [
       "           X0        Y0  Z0        U0        V0        W0    wave col  \\\n",
       "0   -2.856536 -2.856536   0  0.035661  0.035661  0.998727  0.0004   b   \n",
       "1   -2.285228 -2.856536   0  0.028535  0.035669  0.998956  0.0004   b   \n",
       "2   -1.713921 -2.856536   0  0.021406  0.035676  0.999134  0.0004   b   \n",
       "3   -1.142614 -2.856536   0  0.014272  0.035680  0.999261  0.0004   b   \n",
       "4   -0.571307 -2.856536   0  0.007137  0.035683  0.999338  0.0004   b   \n",
       "..        ...       ...  ..       ...       ...       ...     ...  ..   \n",
       "479  0.571307  2.856536   0 -0.007137 -0.035683  0.999338  0.0010   k   \n",
       "480  1.142614  2.856536   0 -0.014272 -0.035680  0.999261  0.0010   k   \n",
       "481  1.713921  2.856536   0 -0.021406 -0.035676  0.999134  0.0010   k   \n",
       "482  2.285228  2.856536   0 -0.028535 -0.035669  0.998956  0.0010   k   \n",
       "483  2.856536  2.856536   0 -0.035661 -0.035661  0.998727  0.0010   k   \n",
       "\n",
       "           X1       Y1  ...        X3       Y3  Z3  Xgoal  Ygoal    Xfinal  \\\n",
       "0   -2.106694 -2.10669  ...   8.28509  0.03142  80      0      0   8.28509   \n",
       "1   -1.685357 -2.10670  ...   8.26662  0.02923  80      0      0   8.26662   \n",
       "2   -1.264016 -2.10669  ...   8.24951  0.02707  80      0      0   8.24951   \n",
       "3   -0.842678 -2.10670  ...   8.23371  0.02491  80      0      0   8.23371   \n",
       "4   -0.421339 -2.10670  ...   8.21925  0.02276  80      0      0   8.21925   \n",
       "..        ...      ...  ...       ...      ...  ..    ...    ...       ...   \n",
       "479  0.421339  2.10670  ...  21.59873 -0.13376  80      0      0  21.59873   \n",
       "480  0.842678  2.10670  ...  21.51529 -0.12756  80      0      0  21.51529   \n",
       "481  1.264016  2.10669  ...  21.43600 -0.12143  80      0      0  21.43600   \n",
       "482  1.685357  2.10670  ...  21.36083 -0.11535  80      0      0  21.36083   \n",
       "483  2.106694  2.10669  ...  21.28969 -0.10935  80      0      0  21.28969   \n",
       "\n",
       "      Yfinal  Zfinal  Notes  Unnamed: 23  \n",
       "0    0.03142      80     OK            3  \n",
       "1    0.02923      80     OK            3  \n",
       "2    0.02707      80     OK            3  \n",
       "3    0.02491      80     OK            3  \n",
       "4    0.02276      80     OK            3  \n",
       "..       ...     ...    ...          ...  \n",
       "479 -0.13376      80     OK            3  \n",
       "480 -0.12756      80     OK            3  \n",
       "481 -0.12143      80     OK            3  \n",
       "482 -0.11535      80     OK            3  \n",
       "483 -0.10935      80     OK            3  \n",
       "\n",
       "[484 rows x 24 columns]"
      ]
     },
     "execution_count": 42,
     "metadata": {},
     "output_type": "execute_result"
    }
   ],
   "source": [
    "df_R350"
   ]
  },
  {
   "cell_type": "markdown",
   "metadata": {},
   "source": [
    "# Simulated FWHM with resampled beam"
   ]
  },
  {
   "cell_type": "code",
   "execution_count": 43,
   "metadata": {},
   "outputs": [],
   "source": [
    "FWHMX_HOE_SIMBEAM = np.array([63,15,89,271])*micr_to_mm\n",
    "FWHMY_HOE_SIMBEAM = np.array([22,6,30,90])*micr_to_mm\n",
    "\n",
    "FWHMX_R400_SIMBEAM = np.array([124,325,585,1043])*micr_to_mm\n",
    "FWHMY_R400_SIMBEAM = np.array([41,99,184,316])*micr_to_mm\n",
    "\n",
    "FWHMX_R300_SIMBEAM = np.array([64,164,301,505])*micr_to_mm\n",
    "FWHMY_R300_SIMBEAM = np.array([20,53,102,165])*micr_to_mm"
   ]
  },
  {
   "cell_type": "markdown",
   "metadata": {},
   "source": [
    "# Choose disperser"
   ]
  },
  {
   "cell_type": "code",
   "execution_count": 831,
   "metadata": {},
   "outputs": [],
   "source": [
    "FLAG_R400 = True\n",
    "FLAG_R300 = False\n",
    "FLAG_R350 = False\n",
    "FLAG_R200 = False\n",
    "FLAG_HOE = False"
   ]
  },
  {
   "cell_type": "code",
   "execution_count": 832,
   "metadata": {},
   "outputs": [
    {
     "data": {
      "text/plain": [
       "'Beam4_Rayfile_484_allwl_m00_m00'"
      ]
     },
     "execution_count": 832,
     "metadata": {},
     "output_type": "execute_result"
    }
   ],
   "source": [
    "Beam4_Rayfile"
   ]
  },
  {
   "cell_type": "code",
   "execution_count": 833,
   "metadata": {},
   "outputs": [],
   "source": [
    "if FLAG_R400:\n",
    "    df=df_R400\n",
    "    outputdata_excel=\"R400_PSF_\"+ Beam4_Rayfile+\"_out_v2.xlsx\"\n",
    "    figname1=\"R400_DISP_\"+  Beam4_Rayfile+\".pdf\"\n",
    "    figname2=\"R400_PSF_\" +   Beam4_Rayfile+\".pdf\"  \n",
    "    figname3=\"R400_PSF_\" +   Beam4_Rayfile+\"_v2.pdf\"  \n",
    "    fulltitle1=\"Ronchi 400 : Dispersion at Focal Plane for angles ({:2.2f} , {:2.2f}) arcmin, order = {}\".format(theta_x,theta_y,order_str)\n",
    "    fulltitle2=\"Ronchi 400 : PSF at Focal Plane for angles ({:2.2f} , {:2.2f}) arcmin, order = {}\".format(theta_x,theta_y,order_str)\n",
    "    Neff=400\n",
    "    aeff=1/Neff\n",
    "elif FLAG_R300:\n",
    "    df=df_R300\n",
    "    outputdata_excel=\"R300_PSF_\"+ Beam4_Rayfile+\"_out_v2.xlsx\"\n",
    "    figname1=\"R300_DISP_\"+  Beam4_Rayfile+\".pdf\"\n",
    "    figname2=\"R300_PSF_\" +   Beam4_Rayfile+\".pdf\"  \n",
    "    figname3=\"R300_PSF_\" +   Beam4_Rayfile+\"_v2.pdf\"  \n",
    "    fulltitle1=\"Ronchi 300 : Dispersion at Focal Plane for angles ({:2.2f} , {:2.2f}) arcmin, order = {}\".format(theta_x,theta_y,order_str)\n",
    "    fulltitle2=\"Ronchi 300 : PSF at Focal Plane for angles ({:2.2f} , {:2.2f}) arcmin, order = {}\".format(theta_x,theta_y,order_str)\n",
    "    Neff=300\n",
    "    aeff=1/Neff\n",
    "elif FLAG_R350:\n",
    "    df=df_R350\n",
    "    outputdata_excel=\"R350_PSF_\"+ Beam4_Rayfile+\"_out_v2.xlsx\"\n",
    "    figname1=\"R350_DISP_\"+  Beam4_Rayfile+\".pdf\"\n",
    "    figname2=\"R350_PSF_\" +   Beam4_Rayfile+\".pdf\"\n",
    "    figname3=\"R350_PSF_\" +   Beam4_Rayfile+\"_v2.pdf\"\n",
    "    fulltitle1=\"Ronchi 350 : Dispersion at Focal Plane for angles ({:2.2f} , {:2.2f}) arcmin, order = {}\".format(theta_x,theta_y,order_str)\n",
    "    fulltitle2=\"Ronchi 350 : PSF at Focal Plane for angles ({:2.2f} , {:2.2f}) arcmin, order = {}\".format(theta_x,theta_y,order_str)\n",
    "    Neff=350\n",
    "    aeff=1/Neff\n",
    "elif FLAG_R200:\n",
    "    df=df_R200\n",
    "    outputdata_excel=\"R200_PSF_\"+ Beam4_Rayfile+\"_out_v2.xlsx\"\n",
    "    figname1=\"R200_DISP_\"+  Beam4_Rayfile+\".pdf\"\n",
    "    figname2=\"R200_PSF_\" +   Beam4_Rayfile+\".pdf\"\n",
    "    figname3=\"R200_PSF_\" +   Beam4_Rayfile+\"_v2.pdf\"\n",
    "    fulltitle1=\"Ronchi 200 : Dispersion at Focal Plane for angles ({:2.2f} , {:2.2f}) arcmin, order = {}\".format(theta_x,theta_y,order_str)\n",
    "    fulltitle2=\"Ronchi 200 : PSF at Focal Plane for angles ({:2.2f} , {:2.2f}) arcmin, order = {}\".format(theta_x,theta_y,order_str)\n",
    "    Neff=200\n",
    "    aeff=1/Neff\n",
    "else:\n",
    "    df=df_hoe\n",
    "    outputdata_excel=\"HOE_PSF_\"+ Beam4_Rayfile+\"_out_v2.xlsx\"\n",
    "    figname1=\"HOE_DISP_\"+  Beam4_Rayfile+\".pdf\"\n",
    "    figname2=\"HOE_PSF_\" +   Beam4_Rayfile+\".pdf\" \n",
    "    figname3=\"HOE_PSF_\" +   Beam4_Rayfile+\"_v2.pdf\"\n",
    "    fulltitle1=\"HOE : Dispersion at Focal Plane for angles ({:2.2f} , {:2.2f}) arcmin, order = {}\".format(theta_x,theta_y,order_str)\n",
    "    fulltitle2=\"HOE : PSF at Focal Plane for angles ({:2.2f} , {:2.2f}) arcmin, order = {}\".format(theta_x,theta_y,order_str)\n",
    "    #Neff=355\n",
    "    Neff=354.7\n",
    "    aeff=1/Neff"
   ]
  },
  {
   "cell_type": "markdown",
   "metadata": {},
   "source": [
    "# Show beam"
   ]
  },
  {
   "cell_type": "code",
   "execution_count": 834,
   "metadata": {},
   "outputs": [],
   "source": [
    "X0C=df[\"X0\"].mean()\n",
    "Y0C=df[\"Y0\"].mean()"
   ]
  },
  {
   "cell_type": "code",
   "execution_count": 835,
   "metadata": {},
   "outputs": [],
   "source": [
    "RXMAX=np.max(np.abs(df[\"X0\"].values-X0C))\n",
    "RYMAX=np.max(np.abs(df[\"Y0\"].values-Y0C))          "
   ]
  },
  {
   "cell_type": "code",
   "execution_count": 836,
   "metadata": {},
   "outputs": [],
   "source": [
    "RMAX=np.max(np.array([RXMAX,RYMAX]))"
   ]
  },
  {
   "cell_type": "code",
   "execution_count": 837,
   "metadata": {},
   "outputs": [
    {
     "data": {
      "text/plain": [
       "2.8565355"
      ]
     },
     "execution_count": 837,
     "metadata": {},
     "output_type": "execute_result"
    }
   ],
   "source": [
    "RMAX"
   ]
  },
  {
   "cell_type": "code",
   "execution_count": 838,
   "metadata": {},
   "outputs": [],
   "source": [
    "def Select_Beam(row):\n",
    "    return (row[\"X0\"]-X0C)**2+(row[\"Y0\"]-Y0C)**2 <= RMAX**2"
   ]
  },
  {
   "cell_type": "code",
   "execution_count": 839,
   "metadata": {},
   "outputs": [
    {
     "data": {
      "text/plain": [
       "Text(0.5, 0.98, 'Unfiltered square beam')"
      ]
     },
     "execution_count": 839,
     "metadata": {},
     "output_type": "execute_result"
    },
    {
     "data": {
      "image/png": "[encoded data removed]",
      "text/plain": [
       "<Figure size 1296x648 with 2 Axes>"
      ]
     },
     "metadata": {
      "needs_background": "light"
     },
     "output_type": "display_data"
    }
   ],
   "source": [
    "f, ((ax1, ax2)) = plt.subplots(1, 2,figsize=(18,9),sharex=True,sharey=True)\n",
    "df.plot.scatter(x=\"X0\", y=\"Y0\",c=\"DarkBlue\",marker=\"o\",ax=ax1)\n",
    "ax1.set_aspect(\"equal\")\n",
    "ax1.grid()\n",
    "\n",
    "q = ax2.quiver(df[\"X0\"], df[\"Y0\"], df[\"U0\"], df[\"V0\"],color=\"red\")\n",
    "ax2.set_aspect(\"equal\")\n",
    "ax2.set_xlabel(\"X0 (mm)\")\n",
    "ax2.grid()\n",
    "\n",
    "plt.suptitle(\"Unfiltered square beam\")"
   ]
  },
  {
   "cell_type": "code",
   "execution_count": 840,
   "metadata": {},
   "outputs": [],
   "source": [
    "df_filter=df.copy()"
   ]
  },
  {
   "cell_type": "code",
   "execution_count": 841,
   "metadata": {},
   "outputs": [],
   "source": [
    "#df_filter[\"sel_flag\"]= df_filter.apply(Select_Beam, axis=1)"
   ]
  },
  {
   "cell_type": "code",
   "execution_count": 842,
   "metadata": {},
   "outputs": [],
   "source": [
    "#df_filter"
   ]
  },
  {
   "cell_type": "code",
   "execution_count": 843,
   "metadata": {},
   "outputs": [],
   "source": [
    "# Do the filtering of the selected rays\n",
    "df_filter=df_filter.loc[df_filter.apply(Select_Beam, axis=1)]"
   ]
  },
  {
   "cell_type": "code",
   "execution_count": 844,
   "metadata": {},
   "outputs": [
    {
     "data": {
      "text/plain": [
       "Text(0.5, 0.98, 'Filtered circular beam')"
      ]
     },
     "execution_count": 844,
     "metadata": {},
     "output_type": "execute_result"
    },
    {
     "data": {
      "image/png": "[encoded data removed]",
      "text/plain": [
       "<Figure size 1296x648 with 2 Axes>"
      ]
     },
     "metadata": {
      "needs_background": "light"
     },
     "output_type": "display_data"
    }
   ],
   "source": [
    "f, ((ax1, ax2)) = plt.subplots(1, 2,figsize=(18,9),sharex=True,sharey=True)\n",
    "df_filter.plot.scatter(x=\"X0\", y=\"Y0\",c=\"DarkBlue\",marker=\"o\",ax=ax1)\n",
    "ax1.set_aspect(\"equal\")\n",
    "ax1.grid()\n",
    "\n",
    "q = ax2.quiver(df_filter[\"X0\"], df_filter[\"Y0\"], df_filter[\"U0\"], df_filter[\"V0\"],color=\"red\")\n",
    "ax2.set_aspect(\"equal\")\n",
    "ax2.set_xlabel(\"X0 (mm)\")\n",
    "ax2.grid()\n",
    "\n",
    "plt.suptitle(\"Filtered circular beam\")"
   ]
  },
  {
   "cell_type": "markdown",
   "metadata": {},
   "source": [
    "## reafect df_filter to df"
   ]
  },
  {
   "cell_type": "code",
   "execution_count": 845,
   "metadata": {},
   "outputs": [],
   "source": [
    "df_filter=df_filter.reset_index()   # reset index\n",
    "df=df_filter.copy()"
   ]
  },
  {
   "cell_type": "code",
   "execution_count": 846,
   "metadata": {},
   "outputs": [],
   "source": [
    "#df.reindex()"
   ]
  },
  {
   "cell_type": "code",
   "execution_count": 847,
   "metadata": {},
   "outputs": [],
   "source": [
    "NBEAMS=len(df)"
   ]
  },
  {
   "cell_type": "markdown",
   "metadata": {},
   "source": [
    "## Where the beam rays are going"
   ]
  },
  {
   "cell_type": "code",
   "execution_count": 848,
   "metadata": {},
   "outputs": [],
   "source": [
    "WL_IR=0.001"
   ]
  },
  {
   "cell_type": "code",
   "execution_count": 849,
   "metadata": {},
   "outputs": [],
   "source": [
    "df_IR=df.loc[df.wave==WL_IR]"
   ]
  },
  {
   "cell_type": "code",
   "execution_count": 850,
   "metadata": {},
   "outputs": [],
   "source": [
    "NBEAMS=len(df_IR)"
   ]
  },
  {
   "cell_type": "code",
   "execution_count": 851,
   "metadata": {},
   "outputs": [],
   "source": [
    "jet = plt.get_cmap('jet')\n",
    "cNorm = colors.Normalize(vmin=0, vmax=NBEAMS)\n",
    "scalarMap = cmx.ScalarMappable(norm=cNorm, cmap=jet)\n",
    "all_colors = scalarMap.to_rgba(np.arange(NBEAMS), alpha=1)"
   ]
  },
  {
   "cell_type": "code",
   "execution_count": 852,
   "metadata": {
    "scrolled": false
   },
   "outputs": [
    {
     "name": "stderr",
     "output_type": "stream",
     "text": [
      "<ipython-input-852-4610b223806c>:13: MatplotlibDeprecationWarning: Case-insensitive properties were deprecated in 3.3 and support will be removed two minor releases later\n",
      "  plt.suptitle(\"wavelength = 1 $\\mu$ m\",Y=1.1,fontsize=25)\n"
     ]
    },
    {
     "data": {
      "image/png": "[encoded data removed]",
      "text/plain": [
       "<Figure size 1296x648 with 2 Axes>"
      ]
     },
     "metadata": {
      "needs_background": "light"
     },
     "output_type": "display_data"
    }
   ],
   "source": [
    "f, ((ax1, ax2)) = plt.subplots(1, 2,figsize=(18,9))\n",
    "df_IR.plot.scatter(x=\"X2\", y=\"Y2\",c=all_colors,marker=\"o\",ax=ax1,s=50)\n",
    "ax1.set_aspect(\"equal\")\n",
    "ax1.grid()\n",
    "ax1.set_title(\"Rays at Hologram\")\n",
    "\n",
    "\n",
    "df_IR.plot.scatter(x=\"X3\", y=\"Y3\",c=all_colors,marker=\"o\",ax=ax2,s=50)\n",
    "ax2.set_aspect(\"equal\")\n",
    "ax2.grid()\n",
    "ax2.set_title(\"Ray at focal plane \")\n",
    "\n",
    "plt.suptitle(\"wavelength = 1 $\\mu$ m\",Y=1.1,fontsize=25)\n",
    "plt.tight_layout()"
   ]
  },
  {
   "cell_type": "markdown",
   "metadata": {},
   "source": [
    "## PSF"
   ]
  },
  {
   "cell_type": "code",
   "execution_count": 853,
   "metadata": {},
   "outputs": [
    {
     "data": {
      "text/plain": [
       "Text(0.5, 0, 'Y (mm)')"
      ]
     },
     "execution_count": 853,
     "metadata": {},
     "output_type": "execute_result"
    },
    {
     "data": {
      "image/png": "[encoded data removed]",
      "text/plain": [
       "<Figure size 1296x432 with 2 Axes>"
      ]
     },
     "metadata": {
      "needs_background": "light"
     },
     "output_type": "display_data"
    }
   ],
   "source": [
    "f, ((ax1, ax2)) = plt.subplots(1, 2,figsize=(18,6))\n",
    "Xpos=df_IR[\"X3\"].values\n",
    "Ypos=df_IR[\"Y3\"].values\n",
    "NBINS=21\n",
    "RX=Xpos.max()-Xpos.mean()\n",
    "RY=Ypos.max()-Ypos.mean()\n",
    "h1=np.histogram(Xpos,bins=NBINS)\n",
    "h2=np.histogram(Ypos,bins=NBINS)\n",
    "\n",
    "counts1, bins1 = h1\n",
    "counts2, bins2 = h2\n",
    "\n",
    "NPOINTS=50\n",
    "all_x=np.linspace(-RX,RX,NPOINTS)\n",
    "all_y=np.linspace(-RY,RY,NPOINTS)\n",
    "DX=4/NBINS*NBEAMS*(2*RX)\n",
    "DY=4/NBINS*NBEAMS*(2*RY)\n",
    "\n",
    "Yx=1/np.pi/RX*DX*np.sqrt(1-all_x**2/RX**2)\n",
    "Yy=1/np.pi/RY*DY*np.sqrt(1-all_y**2/RY**2)\n",
    "YxMax=1/np.pi/RX*DX\n",
    "YyMax=1/np.pi/RY*DY\n",
    "\n",
    "#ax1.hist(Xpos,bins=NBINS,facecolor=\"blue\",density=True)\n",
    "ax1.hist(bins1[:-1], bins1, weights=counts1,facecolor=\"blue\",density=False)\n",
    "ax1.plot(all_x+Xpos.mean(),Yx,color='green')\n",
    "ax1.grid()\n",
    "ax1.set_title(\"PSF along dispersion axis Rx={:2.2f} mm\".format(RX))\n",
    "ax1.axhline(y=YxMax/2,color=\"k\")\n",
    "ax1.axvline(x=-np.sqrt(3)*RX/2.+Xpos.mean(),color=\"k\")\n",
    "ax1.axvline(x=np.sqrt(3)*RX/2.+Xpos.mean(),color=\"k\")\n",
    "ax1.set_xlabel(\"X (mm)\")\n",
    "\n",
    "#ax2.hist(Ypos,bins=NBINS,facecolor=\"red\",density=True)\n",
    "ax2.hist(bins2[:-1], bins2, weights=counts2,facecolor=\"red\",density=False)\n",
    "ax2.plot(all_y+Ypos.mean(),Yy,color=\"green\")\n",
    "ax2.axhline(y=YyMax/2.,color=\"k\")\n",
    "ax2.axvline(x=-np.sqrt(3)*RY/2.+Ypos.mean(),color=\"k\")\n",
    "ax2.axvline(x=np.sqrt(3)*RY/2.+Ypos.mean(),color=\"k\")\n",
    "ax2.grid()\n",
    "ax2.set_title(\"PSF transverse dispersion axis Ry={:2.2f}mm\".format(RY))\n",
    "ax2.set_xlabel(\"Y (mm)\")"
   ]
  },
  {
   "cell_type": "markdown",
   "metadata": {},
   "source": [
    "## Fit transverse dispersion"
   ]
  },
  {
   "cell_type": "code",
   "execution_count": 854,
   "metadata": {},
   "outputs": [],
   "source": [
    "@custom_model\n",
    "def exponential(x, a=10., b=1., c=0.):\n",
    "    '''\n",
    "    f(x)=a*exp(b*x + c)\n",
    "    '''\n",
    "    return a*np.exp(-np.abs(b*(x-c)))"
   ]
  },
  {
   "cell_type": "code",
   "execution_count": 855,
   "metadata": {},
   "outputs": [
    {
     "name": "stdout",
     "output_type": "stream",
     "text": [
      "Model: Gaussian1D\n",
      "Inputs: ('x',)\n",
      "Outputs: ('y',)\n",
      "Model set size: 1\n",
      "Parameters:\n",
      "        amplitude               mean                 stddev      \n",
      "    ----------------- ----------------------- -------------------\n",
      "    4.946025610589803 -2.0964446541000964e-18 0.14711607572963684\n",
      "Model: Lorentz1D\n",
      "Inputs: ('x',)\n",
      "Outputs: ('y',)\n",
      "Model set size: 1\n",
      "Parameters:\n",
      "        amplitude              x_0                   fwhm       \n",
      "    ----------------- ---------------------- -------------------\n",
      "    5.018151842066387 1.3418934213422884e-17 0.35097543207765375\n",
      "Model: Trapezoid1D\n",
      "Inputs: ('x',)\n",
      "Outputs: ('y',)\n",
      "Model set size: 1\n",
      "Parameters:\n",
      "        amplitude     x_0 width slope\n",
      "    ----------------- --- ----- -----\n",
      "    3.857142857142833 0.0   1.0   1.0\n",
      "Model: exponential\n",
      "Inputs: ('x',)\n",
      "Outputs: ('y',)\n",
      "Model set size: 1\n",
      "Parameters:\n",
      "            a                  b                   c           \n",
      "    ------------------ ----------------- ----------------------\n",
      "    5.2893182106067735 3.424598540498268 1.9386345049463607e-09\n",
      "Model: Voigt1D\n",
      "Inputs: ('x',)\n",
      "Outputs: ('y',)\n",
      "Model set size: 1\n",
      "Parameters:\n",
      "             x_0             amplitude_L    ...        fwhm_G      \n",
      "    --------------------- ----------------- ... -------------------\n",
      "    8.010113586308604e-18 51.71007435619735 ... -0.3346408772299025\n"
     ]
    },
    {
     "name": "stderr",
     "output_type": "stream",
     "text": [
      "WARNING: The fit may be unsuccessful; check fit_info['message'] for more information. [astropy.modeling.fitting]\n"
     ]
    },
    {
     "data": {
      "text/plain": [
       "Text(0.5, 1.0, 'Fit PSF in Y axis')"
      ]
     },
     "execution_count": 855,
     "metadata": {},
     "output_type": "execute_result"
    },
    {
     "data": {
      "image/png": "[encoded data removed]",
      "text/plain": [
       "<Figure size 1008x576 with 1 Axes>"
      ]
     },
     "metadata": {
      "needs_background": "light"
     },
     "output_type": "display_data"
    }
   ],
   "source": [
    "f, ax = plt.subplots(figsize=(14,8))\n",
    "Xpos=df_IR[\"X3\"].values\n",
    "Ypos=df_IR[\"Y3\"].values\n",
    "NBINS=21\n",
    "RX=Xpos.max()-Xpos.mean()\n",
    "RY=Ypos.max()-Ypos.mean()\n",
    "# compute the histogram\n",
    "h1=np.histogram(Xpos,bins=NBINS)\n",
    "h2=np.histogram(Ypos,bins=NBINS)\n",
    "counts1, bins1 = h1\n",
    "counts2, bins2 = h2\n",
    "\n",
    "# compute bin width\n",
    "binwidths2=(np.roll(bins2,-1)-bins2)[:-1]\n",
    "binwidth2=np.mean(binwidths2)\n",
    "\n",
    "# What to fit\n",
    "theX=(bins2+binwidth2/2)[:-1]\n",
    "theY=counts2\n",
    "\n",
    "# fitter \n",
    "#fitter = fitting.LinearLSQFitter()\n",
    "fitter = fitting.LevMarLSQFitter() \n",
    "\n",
    "# gaussian fit\n",
    "model_gauss = models.Gaussian1D()\n",
    "fitter_gauss = fitting.LevMarLSQFitter()\n",
    "best_fit_gauss = fitter_gauss(model_gauss, theX,theY,weights=1)\n",
    "print(best_fit_gauss)\n",
    "\n",
    "# models in astropy\n",
    "model_lorentz = models.Lorentz1D(amplitude=10., x_0=0.)\n",
    "model_trapezoid = models.Trapezoid1D(amplitude=100., x_0=0.)\n",
    "#model_exponential = models.Exponential1D(amplitude=10.,fwhm=0.05)\n",
    "model_exponential = exponential(a=10., b=1., c=0.)\n",
    "model_voigt = models.Voigt1D()\n",
    "\n",
    "best_fit_lorentz=fitter(model_lorentz, theX,theY,weights=1)\n",
    "best_fit_trapezoid=fitter(model_trapezoid, theX,theY,weights=1)\n",
    "best_fit_exponential=fitter(model_exponential, theX,theY,weights=1)\n",
    "best_fit_voigt=fitter(model_voigt, theX,theY,weights=1)\n",
    "\n",
    "# do the fit\n",
    "#best_fit = fitter(model, log_period, k_mag, weights=1.0/k_mag_err**2)\n",
    "print(best_fit_lorentz)\n",
    "print(best_fit_trapezoid)\n",
    "print(best_fit_exponential)\n",
    "print(best_fit_voigt)\n",
    "\n",
    "ax.hist(bins2[:-1], bins2, weights=counts2,facecolor=\"red\",density=False)\n",
    "\n",
    "Xfit=np.linspace(-RY,RY,50)\n",
    "plt.plot(Xfit, best_fit_gauss(Xfit), 'g-', linewidth=3, label='astropy.modeling gaussian')\n",
    "plt.plot(Xfit, best_fit_lorentz(Xfit), 'b-', linewidth=3, label='astropy.modeling lorentz')\n",
    "plt.plot(Xfit, best_fit_exponential(Xfit), 'r-', linewidth=3, label='astropy.modeling exponential')\n",
    "plt.plot(Xfit, best_fit_trapezoid(Xfit), '-', color=\"grey\",linewidth=3, label='astropy.modeling trapezoid')\n",
    "plt.plot(Xfit, best_fit_voigt(Xfit), '-', color=\"pink\",linewidth=3, label='astropy.modeling voigt')\n",
    "\n",
    "ax.grid()\n",
    "ax.legend()\n",
    "ax.set_xlabel(\"dY (mm)\")\n",
    "ax.set_title(\"Fit PSF in Y axis\")"
   ]
  },
  {
   "cell_type": "markdown",
   "metadata": {},
   "source": [
    "# decoding by wavelength"
   ]
  },
  {
   "cell_type": "code",
   "execution_count": 856,
   "metadata": {},
   "outputs": [],
   "source": [
    "wave=df[\"wave\"]"
   ]
  },
  {
   "cell_type": "code",
   "execution_count": 857,
   "metadata": {},
   "outputs": [],
   "source": [
    "Xfinal=df[\"Xfinal\"]\n",
    "Yfinal=df[\"Yfinal\"]"
   ]
  },
  {
   "cell_type": "code",
   "execution_count": 858,
   "metadata": {},
   "outputs": [],
   "source": [
    "selected_indexes1=np.where(wave==0.0004)\n",
    "selected_indexes2=np.where(wave==0.0006)\n",
    "selected_indexes3=np.where(wave==0.0008)\n",
    "selected_indexes4=np.where(wave==0.0010)"
   ]
  },
  {
   "cell_type": "code",
   "execution_count": 859,
   "metadata": {},
   "outputs": [],
   "source": [
    "def GetInfo(a):\n",
    "    a_av=np.mean(a)   # mean\n",
    "    a_rms=np.std(a)   # RMS\n",
    "    a_min=np.min(a)   # Min\n",
    "    a_max=np.max(a)   # Max \n",
    "    a_width=a_max-a_min   # Width\n",
    "    return a_av,a_rms,a_min,a_max,a_width"
   ]
  },
  {
   "cell_type": "code",
   "execution_count": 860,
   "metadata": {},
   "outputs": [],
   "source": [
    "def ComputeFWHM(values,nbins,thetitle=\"fwhm\",flagplot=False):\n",
    "    \"\"\"\n",
    "    ComputeFWHM(values,nbins,flagplot)\n",
    "    \n",
    "    input arg :\n",
    "       values : list of values\n",
    "       nbins. : number of bins in the histogram\n",
    "       flagplot : flag to plot the distribution\n",
    "    \"\"\"\n",
    "    \n",
    "    counts, bins =np.histogram(values,bins=nbins)\n",
    "    \n",
    "    # compute bin width\n",
    "    binwidths=(np.roll(bins,-1)-bins)[:-1]\n",
    "    binwidth=np.mean(binwidths)\n",
    "    \n",
    "    # find max\n",
    "    idx_max=np.where(counts==counts.max())[0][0]\n",
    "    count_max=counts[idx_max]\n",
    "    counts_halfmax=count_max/2.\n",
    "    \n",
    "    # bins above half max\n",
    "    topmost=np.where(counts>=counts_halfmax)[0]\n",
    "    idx_min_fwhm=topmost[0]\n",
    "    idx_max_fwhm=topmost[-1]\n",
    "    \n",
    "    # lower upper part\n",
    "    min_fwhm=bins[idx_min_fwhm]+binwidth/2.\n",
    "    max_fwhm=bins[idx_max_fwhm]+binwidth/2.\n",
    "    \n",
    "    #fwhm\n",
    "    fwhm=max_fwhm-min_fwhm\n",
    "    \n",
    "    \n",
    "    if flagplot:\n",
    "        f, ax = plt.subplots(figsize=(10,5))\n",
    "        \n",
    "        ax.hist(bins[:-1]+binwidth/2., bins+binwidth/2., weights=counts,facecolor=\"red\",density=False)\n",
    "        ax.axhline(y=counts_halfmax)\n",
    "        ax.axvline(x=min_fwhm,color=\"k\")\n",
    "        ax.axvline(x=max_fwhm,color=\"k\")\n",
    "        \n",
    "        ax.grid()\n",
    "        ax.set_title(thetitle)\n",
    "        \n",
    "    return fwhm\n",
    "            "
   ]
  },
  {
   "cell_type": "code",
   "execution_count": 861,
   "metadata": {},
   "outputs": [],
   "source": [
    "# 400 nm\n",
    "x1=Xfinal[selected_indexes1[0]]\n",
    "y1=Yfinal[selected_indexes1[0]]\n",
    "x1av,x1std,x1min,x1max,x1wdt=GetInfo(x1)\n",
    "y1av,y1std,y1min,y1max,y1wdt=GetInfo(y1)"
   ]
  },
  {
   "cell_type": "code",
   "execution_count": 862,
   "metadata": {},
   "outputs": [
    {
     "name": "stdout",
     "output_type": "stream",
     "text": [
      "fwhm_x1= = 0.13, fwhm_y1=0.0401\n"
     ]
    }
   ],
   "source": [
    "fwhmx1=ComputeFWHM(x1-x1av,nbins=11,thetitle=\"FWHM x1\",flagplot=False)\n",
    "fwhmy1=ComputeFWHM(y1-y1av,nbins=11,thetitle=\"FWHM y1\",flagplot=False)\n",
    "print(\"fwhm_x1= = {:2.2f}, fwhm_y1={:2.4f}\".format(fwhmx1,fwhmy1))"
   ]
  },
  {
   "cell_type": "code",
   "execution_count": 863,
   "metadata": {},
   "outputs": [
    {
     "name": "stdout",
     "output_type": "stream",
     "text": [
      "rmax_x1= = 0.09, rmax_y1=0.0276\n"
     ]
    }
   ],
   "source": [
    "rxmax1=np.max([x1.max()-x1av,x1av-x1.min()])\n",
    "rymax1=np.max([y1.max()-y1av,y1av-y1.min()])\n",
    "print(\"rmax_x1= = {:2.2f}, rmax_y1={:2.4f}\".format(rxmax1,rymax1))"
   ]
  },
  {
   "cell_type": "code",
   "execution_count": 864,
   "metadata": {},
   "outputs": [],
   "source": [
    "# 600 nm\n",
    "x2=Xfinal[selected_indexes2[0]]\n",
    "y2=Yfinal[selected_indexes2[0]]\n",
    "x2av,x2std,x2min,x2max,x2wdt=GetInfo(x2)\n",
    "y2av,y2std,y2min,y2max,y2wdt=GetInfo(y2)"
   ]
  },
  {
   "cell_type": "code",
   "execution_count": 865,
   "metadata": {},
   "outputs": [
    {
     "name": "stdout",
     "output_type": "stream",
     "text": [
      "fwhm_x2= = 0.32, fwhm_y2=0.0908\n"
     ]
    }
   ],
   "source": [
    "fwhmx2=ComputeFWHM(x2-x2av,nbins=11,thetitle=\"FWHM x2\",flagplot=False)\n",
    "fwhmy2=ComputeFWHM(y2-y2av,nbins=11,thetitle=\"FWHM y2\",flagplot=False)\n",
    "print(\"fwhm_x2= = {:2.2f}, fwhm_y2={:2.4f}\".format(fwhmx2,fwhmy2))"
   ]
  },
  {
   "cell_type": "code",
   "execution_count": 866,
   "metadata": {},
   "outputs": [
    {
     "name": "stdout",
     "output_type": "stream",
     "text": [
      "rmax_x2= = 0.21, rmax_y2=0.0624\n"
     ]
    }
   ],
   "source": [
    "rxmax2=np.max([x2.max()-x2av,x2av-x2.min()])\n",
    "rymax2=np.max([y2.max()-y2av,y2av-y2.min()])\n",
    "print(\"rmax_x2= = {:2.2f}, rmax_y2={:2.4f}\".format(rxmax2,rymax2))"
   ]
  },
  {
   "cell_type": "code",
   "execution_count": 867,
   "metadata": {},
   "outputs": [],
   "source": [
    "# 800 nm\n",
    "x3=Xfinal[selected_indexes3[0]]\n",
    "y3=Yfinal[selected_indexes3[0]]\n",
    "x3av,x3std,x3min,x3max,x3wdt=GetInfo(x3)\n",
    "y3av,y3std,y3min,y3max,y3wdt=GetInfo(y3)"
   ]
  },
  {
   "cell_type": "code",
   "execution_count": 868,
   "metadata": {},
   "outputs": [
    {
     "name": "stdout",
     "output_type": "stream",
     "text": [
      "fwhm_x3= = 0.60, fwhm_y3=0.1674\n"
     ]
    }
   ],
   "source": [
    "fwhmx3=ComputeFWHM(x3-x3av,nbins=11,thetitle=\"FWHM x3\",flagplot=False)\n",
    "fwhmy3=ComputeFWHM(y3-y3av,nbins=11,thetitle=\"FWHM y3\",flagplot=False)\n",
    "print(\"fwhm_x3= = {:2.2f}, fwhm_y3={:2.4f}\".format(fwhmx3,fwhmy3))"
   ]
  },
  {
   "cell_type": "code",
   "execution_count": 869,
   "metadata": {},
   "outputs": [
    {
     "name": "stdout",
     "output_type": "stream",
     "text": [
      "rmax_x3= = 0.40, rmax_y3=0.1151\n"
     ]
    }
   ],
   "source": [
    "rxmax3=np.max([x3.max()-x3av,x3av-x3.min()])\n",
    "rymax3=np.max([y3.max()-y3av,y3av-y3.min()])\n",
    "print(\"rmax_x3= = {:2.2f}, rmax_y3={:2.4f}\".format(rxmax3,rymax3))"
   ]
  },
  {
   "cell_type": "code",
   "execution_count": 870,
   "metadata": {},
   "outputs": [],
   "source": [
    "# 1000 nm\n",
    "x4=Xfinal[selected_indexes4[0]]\n",
    "y4=Yfinal[selected_indexes4[0]]\n",
    "x4av,x4std,x4min,x4max,x4wdt=GetInfo(x4)\n",
    "y4av,y4std,y4min,y4max,y4wdt=GetInfo(y4)"
   ]
  },
  {
   "cell_type": "code",
   "execution_count": 871,
   "metadata": {},
   "outputs": [
    {
     "name": "stdout",
     "output_type": "stream",
     "text": [
      "fwhm_x4= = 1.02, fwhm_y4=0.2748\n"
     ]
    }
   ],
   "source": [
    "fwhmx4=ComputeFWHM(x4-x4av,nbins=11,thetitle=\"FWHM x4\",flagplot=False)\n",
    "fwhmy4=ComputeFWHM(y4-y4av,nbins=11,thetitle=\"FWHM y4\",flagplot=False)\n",
    "print(\"fwhm_x4= = {:2.2f}, fwhm_y4={:2.4f}\".format(fwhmx4,fwhmy4))"
   ]
  },
  {
   "cell_type": "code",
   "execution_count": 872,
   "metadata": {},
   "outputs": [
    {
     "name": "stdout",
     "output_type": "stream",
     "text": [
      "rmax_x4= = 0.67, rmax_y4=0.1889\n"
     ]
    }
   ],
   "source": [
    "rxmax4=np.max([x4.max()-x4av,x4av-x4.min()])\n",
    "rymax4=np.max([y4.max()-y4av,y4av-y4.min()])\n",
    "print(\"rmax_x4= = {:2.2f}, rmax_y4={:2.4f}\".format(rxmax4,rymax4))"
   ]
  },
  {
   "cell_type": "code",
   "execution_count": 873,
   "metadata": {},
   "outputs": [],
   "source": [
    "# Pack the four colors\n",
    "xav=np.array([x1av,x2av,x3av,x4av])\n",
    "xstd=np.array([x1std,x2std,x3std,x4std])\n",
    "xmin=np.array([x1min,x2min,x3min,x4min])\n",
    "xmax=np.array([x1max,x2max,x3max,x4max])\n",
    "xwdt=np.array([x1wdt,x2wdt,x3wdt,x4wdt])\n",
    "xfwhm=np.array([fwhmx1,fwhmx2,fwhmx3,fwhmx4])\n",
    "xrmax=np.array([rxmax1,rxmax2,rxmax3,rxmax4])\n",
    "yav=np.array([y1av,y2av,y3av,y4av])\n",
    "ystd=np.array([y1std,y2std,y3std,y4std])\n",
    "ymin=np.array([y1min,y2min,y3min,y4min])\n",
    "ymax=np.array([y1max,y2max,y3max,y4max])\n",
    "ywdt=np.array([y1wdt,y2wdt,y3wdt,y4wdt])\n",
    "yfwhm=np.array([fwhmy1,fwhmy2,fwhmy3,fwhmy4])\n",
    "yrmax=np.array([rymax1,rymax2,rymax3,rymax4])"
   ]
  },
  {
   "cell_type": "code",
   "execution_count": 874,
   "metadata": {},
   "outputs": [],
   "source": [
    "dataout = {'xav': xav,'xstd' :xstd,'xmin' :xmin,'xmax' :xmax,'xwdt':xwdt,'xfwhm':xfwhm,'xrmax':xrmax,\n",
    "           'yav': yav,'ystd' :ystd,'ymin' :ymin,'ymax' :ymax,'ywdt':ywdt,'yfwhm':yfwhm,'yrmax':yrmax}"
   ]
  },
  {
   "cell_type": "code",
   "execution_count": 875,
   "metadata": {},
   "outputs": [],
   "source": [
    "df_out = pd.DataFrame(dataout, index = ['400nm', '600nm', '800nm', '1000nm'])"
   ]
  },
  {
   "cell_type": "code",
   "execution_count": 876,
   "metadata": {},
   "outputs": [
    {
     "data": {
      "text/html": [
       "<div>\n",
       "<style scoped>\n",
       "    .dataframe tbody tr th:only-of-type {\n",
       "        vertical-align: middle;\n",
       "    }\n",
       "\n",
       "    .dataframe tbody tr th {\n",
       "        vertical-align: top;\n",
       "    }\n",
       "\n",
       "    .dataframe thead th {\n",
       "        text-align: right;\n",
       "    }\n",
       "</style>\n",
       "<table border=\"1\" class=\"dataframe\">\n",
       "  <thead>\n",
       "    <tr style=\"text-align: right;\">\n",
       "      <th></th>\n",
       "      <th>xav</th>\n",
       "      <th>xstd</th>\n",
       "      <th>xmin</th>\n",
       "      <th>xmax</th>\n",
       "      <th>xwdt</th>\n",
       "      <th>xfwhm</th>\n",
       "      <th>xrmax</th>\n",
       "      <th>yav</th>\n",
       "      <th>ystd</th>\n",
       "      <th>ymin</th>\n",
       "      <th>ymax</th>\n",
       "      <th>ywdt</th>\n",
       "      <th>yfwhm</th>\n",
       "      <th>yrmax</th>\n",
       "    </tr>\n",
       "  </thead>\n",
       "  <tbody>\n",
       "    <tr>\n",
       "      <th>400nm</th>\n",
       "      <td>9.407632</td>\n",
       "      <td>0.042186</td>\n",
       "      <td>9.33769</td>\n",
       "      <td>9.50243</td>\n",
       "      <td>0.16474</td>\n",
       "      <td>0.134787</td>\n",
       "      <td>0.094798</td>\n",
       "      <td>1.713307e-19</td>\n",
       "      <td>0.014076</td>\n",
       "      <td>-0.02759</td>\n",
       "      <td>0.02759</td>\n",
       "      <td>0.05518</td>\n",
       "      <td>0.040131</td>\n",
       "      <td>0.02759</td>\n",
       "    </tr>\n",
       "    <tr>\n",
       "      <th>600nm</th>\n",
       "      <td>14.349634</td>\n",
       "      <td>0.098687</td>\n",
       "      <td>14.17668</td>\n",
       "      <td>14.56329</td>\n",
       "      <td>0.38661</td>\n",
       "      <td>0.316317</td>\n",
       "      <td>0.213656</td>\n",
       "      <td>-1.541976e-18</td>\n",
       "      <td>0.032135</td>\n",
       "      <td>-0.06244</td>\n",
       "      <td>0.06244</td>\n",
       "      <td>0.12488</td>\n",
       "      <td>0.090822</td>\n",
       "      <td>0.06244</td>\n",
       "    </tr>\n",
       "    <tr>\n",
       "      <th>800nm</th>\n",
       "      <td>19.605795</td>\n",
       "      <td>0.186370</td>\n",
       "      <td>19.27116</td>\n",
       "      <td>20.00213</td>\n",
       "      <td>0.73097</td>\n",
       "      <td>0.598066</td>\n",
       "      <td>0.396335</td>\n",
       "      <td>1.884638e-18</td>\n",
       "      <td>0.059026</td>\n",
       "      <td>-0.11510</td>\n",
       "      <td>0.11510</td>\n",
       "      <td>0.23020</td>\n",
       "      <td>0.167418</td>\n",
       "      <td>0.11510</td>\n",
       "    </tr>\n",
       "    <tr>\n",
       "      <th>1000nm</th>\n",
       "      <td>25.336103</td>\n",
       "      <td>0.316623</td>\n",
       "      <td>24.76065</td>\n",
       "      <td>26.00332</td>\n",
       "      <td>1.24267</td>\n",
       "      <td>1.016730</td>\n",
       "      <td>0.667217</td>\n",
       "      <td>4.797260e-18</td>\n",
       "      <td>0.096731</td>\n",
       "      <td>-0.18892</td>\n",
       "      <td>0.18892</td>\n",
       "      <td>0.37784</td>\n",
       "      <td>0.274793</td>\n",
       "      <td>0.18892</td>\n",
       "    </tr>\n",
       "  </tbody>\n",
       "</table>\n",
       "</div>"
      ],
      "text/plain": [
       "              xav      xstd      xmin      xmax     xwdt     xfwhm     xrmax  \\\n",
       "400nm    9.407632  0.042186   9.33769   9.50243  0.16474  0.134787  0.094798   \n",
       "600nm   14.349634  0.098687  14.17668  14.56329  0.38661  0.316317  0.213656   \n",
       "800nm   19.605795  0.186370  19.27116  20.00213  0.73097  0.598066  0.396335   \n",
       "1000nm  25.336103  0.316623  24.76065  26.00332  1.24267  1.016730  0.667217   \n",
       "\n",
       "                 yav      ystd     ymin     ymax     ywdt     yfwhm    yrmax  \n",
       "400nm   1.713307e-19  0.014076 -0.02759  0.02759  0.05518  0.040131  0.02759  \n",
       "600nm  -1.541976e-18  0.032135 -0.06244  0.06244  0.12488  0.090822  0.06244  \n",
       "800nm   1.884638e-18  0.059026 -0.11510  0.11510  0.23020  0.167418  0.11510  \n",
       "1000nm  4.797260e-18  0.096731 -0.18892  0.18892  0.37784  0.274793  0.18892  "
      ]
     },
     "execution_count": 876,
     "metadata": {},
     "output_type": "execute_result"
    }
   ],
   "source": [
    "df_out.head()"
   ]
  },
  {
   "cell_type": "code",
   "execution_count": 877,
   "metadata": {},
   "outputs": [],
   "source": [
    "df_out.to_excel(outputdata_excel)"
   ]
  },
  {
   "cell_type": "code",
   "execution_count": 878,
   "metadata": {},
   "outputs": [
    {
     "data": {
      "image/png": "[encoded data removed]",
      "text/plain": [
       "<Figure size 576x576 with 1 Axes>"
      ]
     },
     "metadata": {
      "needs_background": "light"
     },
     "output_type": "display_data"
    }
   ],
   "source": [
    "plt.figure(figsize=(8,8))\n",
    "plt.axhline(y=0,color=\"k\")\n",
    "plt.axvline(x=0,color=\"k\")\n",
    "plt.plot(x1,y1,\"b.\")\n",
    "plt.plot(x2,y2,\"g.\")\n",
    "plt.plot(x3,y3,\"r.\")\n",
    "plt.plot(x4,y4,\"k.\")\n",
    "\n",
    "plt.xlim(-Det_size/2,Det_size/2.)\n",
    "plt.ylim(-Det_size/2,Det_size/2)\n",
    "plt.grid(True)\n",
    "plt.xlabel(\"x (mm)\",fontweight='bold')\n",
    "plt.ylabel(\"y (mm)\",fontweight='bold')\n",
    "\n",
    "plt.title(fulltitle1,fontsize=16,fontweight='bold')\n",
    "plt.savefig(figname1)"
   ]
  },
  {
   "cell_type": "code",
   "execution_count": 879,
   "metadata": {},
   "outputs": [
    {
     "data": {
      "text/plain": [
       "0     9.40726\n",
       "1     9.46125\n",
       "2     9.44098\n",
       "3     9.42225\n",
       "4     9.40505\n",
       "       ...   \n",
       "76    9.40505\n",
       "77    9.38937\n",
       "78    9.37518\n",
       "79    9.36249\n",
       "80    9.40726\n",
       "Name: Xfinal, Length: 81, dtype: float64"
      ]
     },
     "execution_count": 879,
     "metadata": {},
     "output_type": "execute_result"
    }
   ],
   "source": [
    "x1"
   ]
  },
  {
   "cell_type": "code",
   "execution_count": 880,
   "metadata": {},
   "outputs": [
    {
     "data": {
      "text/plain": [
       "9.40111442228805"
      ]
     },
     "execution_count": 880,
     "metadata": {},
     "output_type": "execute_result"
    }
   ],
   "source": [
    "Dispersion(400*1e-6,aeff,Filt_D*m_to_mm)"
   ]
  },
  {
   "cell_type": "code",
   "execution_count": 881,
   "metadata": {},
   "outputs": [
    {
     "data": {
      "text/plain": [
       "81     14.34879\n",
       "82     14.47229\n",
       "83     14.42744\n",
       "84     14.38512\n",
       "85     14.34530\n",
       "         ...   \n",
       "157    14.34530\n",
       "158    14.30795\n",
       "159    14.27304\n",
       "160    14.24055\n",
       "161    14.34879\n",
       "Name: Xfinal, Length: 81, dtype: float64"
      ]
     },
     "execution_count": 881,
     "metadata": {},
     "output_type": "execute_result"
    }
   ],
   "source": [
    "x2"
   ]
  },
  {
   "cell_type": "code",
   "execution_count": 882,
   "metadata": {},
   "outputs": [
    {
     "data": {
      "text/plain": [
       "162    19.60401\n",
       "163    19.83480\n",
       "164    19.75238\n",
       "165    19.67380\n",
       "166    19.59900\n",
       "         ...   \n",
       "238    19.59900\n",
       "239    19.52792\n",
       "240    19.46051\n",
       "241    19.39670\n",
       "242    19.60401\n",
       "Name: Xfinal, Length: 81, dtype: float64"
      ]
     },
     "execution_count": 882,
     "metadata": {},
     "output_type": "execute_result"
    }
   ],
   "source": [
    "x3"
   ]
  },
  {
   "cell_type": "code",
   "execution_count": 883,
   "metadata": {},
   "outputs": [
    {
     "data": {
      "text/plain": [
       "243    25.33248\n",
       "244    25.72260\n",
       "245    25.58457\n",
       "246    25.45226\n",
       "247    25.32557\n",
       "         ...   \n",
       "319    25.32557\n",
       "320    25.20437\n",
       "321    25.08854\n",
       "322    24.97799\n",
       "323    25.33248\n",
       "Name: Xfinal, Length: 81, dtype: float64"
      ]
     },
     "execution_count": 883,
     "metadata": {},
     "output_type": "execute_result"
    }
   ],
   "source": [
    "x4"
   ]
  },
  {
   "cell_type": "code",
   "execution_count": 884,
   "metadata": {},
   "outputs": [
    {
     "data": {
      "text/plain": [
       "400"
      ]
     },
     "execution_count": 884,
     "metadata": {},
     "output_type": "execute_result"
    }
   ],
   "source": [
    "Neff"
   ]
  },
  {
   "cell_type": "code",
   "execution_count": 885,
   "metadata": {},
   "outputs": [],
   "source": [
    "def ShowCircle(x, y, radius):\n",
    "    \n",
    "    circle = Circle((x, y), radius, linewidth=1,edgecolor='grey', facecolor=(0, 0, 0, .0125))\n",
    "    return circle"
   ]
  },
  {
   "cell_type": "code",
   "execution_count": 886,
   "metadata": {},
   "outputs": [],
   "source": [
    "def Showscale(x,y,w,label,ax):\n",
    "    xmin=x-w/2\n",
    "    xmax=x+w/2\n",
    "    ymin=y-w/2\n",
    "    ymax=y+w/2\n",
    "    xscale=xmax-xmin\n",
    "    yscale=ymax-ymin\n",
    "    ax.axhline(y=y,color=\"k\")\n",
    "    ax.axvline(x=x,color=\"k\")\n",
    "    ax.plot([xmin+xscale*.1,xmin+xscale*.1+wdt/10.],[ymin+yscale*0.8,ymin+yscale*0.8],'k-',lw=2)\n",
    "    ax.text(xmin+xscale*.1, ymin+yscale*0.85, label,fontsize=16, fontweight='bold')"
   ]
  },
  {
   "cell_type": "code",
   "execution_count": 887,
   "metadata": {},
   "outputs": [],
   "source": [
    "def Showscale2(x,y,w,label,ax):\n",
    "    xmin=x-w/2\n",
    "    xmax=x+w/2\n",
    "    ymin=y-w/2\n",
    "    ymax=y+w/2\n",
    "    xscale=xmax-xmin\n",
    "    yscale=ymax-ymin\n",
    "    ax.axhline(y=y,color=\"k\")\n",
    "    ax.axvline(x=x,color=\"k\")\n",
    "    ax.plot([xmax-xscale*.3,xmax-xscale*.3+wdt/10.],[ymin+yscale*0.1,ymin+yscale*0.1],'k-',lw=2)\n",
    "    ax.text(xmax-xscale*.3, ymin+yscale*0.15, label,fontsize=20, fontweight='bold')"
   ]
  },
  {
   "cell_type": "code",
   "execution_count": 888,
   "metadata": {},
   "outputs": [],
   "source": [
    "def Showscale3(x,y,w,wd,label,ax):\n",
    "    \"\"\"\n",
    "        x,y,w : relative to the image\n",
    "        wd : length of the label\n",
    "    \"\"\"\n",
    "    xmin=x-w/2\n",
    "    xmax=x+w/2\n",
    "    ymin=y-w/2\n",
    "    ymax=y+w/2\n",
    "    xscale=xmax-xmin\n",
    "    yscale=ymax-ymin\n",
    "    #ax.axhline(y=y,color=\"k\")\n",
    "    #ax.axvline(x=x,color=\"k\")\n",
    "    ax.plot([xmax-xscale*.3,xmax-xscale*.3+wd],[ymin+yscale*0.1,ymin+yscale*0.1],'k-',lw=2)\n",
    "    ax.text(xmax-xscale*.3, ymin+yscale*0.15, label,fontsize=20, fontweight='bold')"
   ]
  },
  {
   "cell_type": "code",
   "execution_count": 889,
   "metadata": {},
   "outputs": [],
   "source": [
    "def Showstat(x,y,w,xstd,ystd,ax):\n",
    "    \n",
    "    xmin=x-w/2\n",
    "    xmax=x+w/2\n",
    "    ymin=y-w/2\n",
    "    ymax=y+w/2\n",
    "    xscale=xmax-xmin\n",
    "    yscale=ymax-ymin\n",
    "    stat_str_x=\"$\\\\sigma_x=${:2.2f} $\\\\mu$ m\".format(xstd*1000)\n",
    "    stat_str_y=\"$\\\\sigma_y=${:2.2f} $\\\\mu$ m\".format(ystd*1000)\n",
    "    print(stat_str_x)\n",
    "    ax.text(xmax-xscale*.4, ymin+yscale*0.85, stat_str_x,fontsize=16, fontweight='bold')\n",
    "    ax.text(xmax-xscale*.4, ymin+yscale*0.80, stat_str_y,fontsize=16, fontweight='bold')"
   ]
  },
  {
   "cell_type": "code",
   "execution_count": 890,
   "metadata": {},
   "outputs": [],
   "source": [
    "def Showstat2(x,y,w,xstd,ystd,ax):\n",
    "    \n",
    "    xmin=x-w/2\n",
    "    xmax=x+w/2\n",
    "    ymin=y-w/2\n",
    "    ymax=y+w/2\n",
    "    xscale=xmax-xmin\n",
    "    yscale=ymax-ymin\n",
    "    stat_str_x=\"$\\\\sigma_x=${:2.2f} $\\\\mu$ m\".format(xstd*1000)\n",
    "    stat_str_y=\"$\\\\sigma_y=${:2.2f} $\\\\mu$ m\".format(ystd*1000)\n",
    "    ax.text(xmin+xscale*.01, ymin+yscale*0.85, stat_str_x,fontsize=20, fontweight='bold')\n",
    "    ax.text(xmin+xscale*.01, ymin+yscale*0.75, stat_str_y,fontsize=20, fontweight='bold')"
   ]
  },
  {
   "cell_type": "code",
   "execution_count": 891,
   "metadata": {},
   "outputs": [],
   "source": [
    "def Showstat3(x,y,w,fwx,fwy,ax):\n",
    "    \n",
    "    xmin=x-w/2\n",
    "    xmax=x+w/2\n",
    "    ymin=y-w/2\n",
    "    ymax=y+w/2\n",
    "    xscale=xmax-xmin\n",
    "    yscale=ymax-ymin\n",
    "    stat_str_x=\"fwhm$_x=${:2.0f} $\\\\mu m$\".format(fwx*1000)\n",
    "    stat_str_y=\"fwhm$_y=${:2.0f} $\\\\mu m$\".format(fwy*1000)\n",
    "    ax.text(xmin+xscale*.01, ymin+yscale*0.85, stat_str_x,fontsize=20, fontweight='bold')\n",
    "    ax.text(xmin+xscale*.01, ymin+yscale*0.75, stat_str_y,fontsize=20, fontweight='bold')"
   ]
  },
  {
   "cell_type": "code",
   "execution_count": 892,
   "metadata": {},
   "outputs": [],
   "source": [
    "def Showstat4(x,y,w,fwx,fwy,ax):\n",
    "    \n",
    "    xmin=x-w/2\n",
    "    xmax=x+w/2\n",
    "    ymin=y-w/2\n",
    "    ymax=y+w/2\n",
    "    xscale=xmax-xmin\n",
    "    yscale=ymax-ymin\n",
    "    stat_str_x=\"fwhm$_u=${:2.0f} $\\\\mu m$\".format(fwx*1000)\n",
    "    stat_str_y=\"fwhm$_v=${:2.0f} $\\\\mu m$\".format(fwy*1000)\n",
    "    ax.text(xmin+xscale*.01, ymin+yscale*0.85, stat_str_x,fontsize=20, fontweight='bold')\n",
    "    ax.text(xmin+xscale*.01, ymin+yscale*0.75, stat_str_y,fontsize=20, fontweight='bold')"
   ]
  },
  {
   "cell_type": "code",
   "execution_count": 893,
   "metadata": {},
   "outputs": [],
   "source": [
    "def GetStatStr(fwx,fwy):\n",
    "    stat_str_x=\"fwhm$_x=${:2.0f} $\\\\mu m$\".format(fwx*1000)\n",
    "    stat_str_y=\"fwhm$_y=${:2.0f} $\\\\mu m$\".format(fwy*1000)\n",
    "    fwhm_str=\"fwhm$_x=${:2.0f} $\\\\mu m$   \\\\  fwhm$_y=${:2.0f} $\\\\mu m$ \".format(fwx*1000,fwy*1000)\n",
    "    \n",
    "    textstr = '\\n'.join((\n",
    "    r'$fwhm_x=%.0f~\\mu m$' % (fwx*1000, ),\n",
    "    r'$fwhm_y=%.0f~\\mu m$' % (fwy*1000, )))\n",
    "    return textstr"
   ]
  },
  {
   "cell_type": "code",
   "execution_count": 894,
   "metadata": {},
   "outputs": [],
   "source": [
    "def GetStatStr2(fwx,fwy):\n",
    "    stat_str_x=\"fwhm$_u=${:2.0f} $\\\\mu m$\".format(fwx*1000)\n",
    "    stat_str_y=\"fwhm$_v=${:2.0f} $\\\\mu m$\".format(fwy*1000)\n",
    "    fwhm_str=\"fwhm$_u=${:2.0f} $\\\\mu m$   \\\\  fwhm$_v=${:2.0f} $\\\\mu m$ \".format(fwx*1000,fwy*1000)\n",
    "    \n",
    "    textstr = '\\n'.join((\n",
    "    r'$fwhm_u=%.0f~\\mu m$' % (fwx*1000, ),\n",
    "    r'$fwhm_v=%.0f~\\mu m$' % (fwy*1000, )))\n",
    "    return textstr"
   ]
  },
  {
   "cell_type": "code",
   "execution_count": 895,
   "metadata": {},
   "outputs": [],
   "source": [
    "wdt=1.40  # width 1.4 mm to cope with total width for Ronchi  400 of 1.4 mm\n",
    "scalelabel=\"140 $\\mu$m\"\n",
    "xmin=x1av-wdt\n",
    "xmax=x1av+wdt\n",
    "ymin=y1av-wdt\n",
    "ymax=y1av+wdt\n",
    "xscale=xmax-xmin\n",
    "yscale=ymax-ymin"
   ]
  },
  {
   "cell_type": "code",
   "execution_count": 896,
   "metadata": {},
   "outputs": [],
   "source": [
    "seeing_radius=1./pltscale/2. # in mm\n",
    "seeing_str=\"seeing 1\\\" fwhm ({:2.0f}  $\\mu m$) \".format(seeing_radius*2000)\n",
    "seeing_str1=\"seeing 1\\\" \"\n",
    "seeing_str2=\"fwhm = {:2.0f} $\\mu m$\".format(seeing_radius*2000)"
   ]
  },
  {
   "cell_type": "code",
   "execution_count": 897,
   "metadata": {},
   "outputs": [
    {
     "data": {
      "text/plain": [
       "'seeing 1\" fwhm (61  $\\\\mu m$) '"
      ]
     },
     "execution_count": 897,
     "metadata": {},
     "output_type": "execute_result"
    }
   ],
   "source": [
    "seeing_str"
   ]
  },
  {
   "cell_type": "code",
   "execution_count": 898,
   "metadata": {},
   "outputs": [
    {
     "data": {
      "text/plain": [
       "0.03054323321940223"
      ]
     },
     "execution_count": 898,
     "metadata": {},
     "output_type": "execute_result"
    }
   ],
   "source": [
    "seeing_radius"
   ]
  },
  {
   "cell_type": "code",
   "execution_count": 899,
   "metadata": {
    "scrolled": false
   },
   "outputs": [
    {
     "name": "stdout",
     "output_type": "stream",
     "text": [
      "$\\sigma_x=$42.19 $\\mu$ m\n",
      "$\\sigma_x=$98.69 $\\mu$ m\n",
      "$\\sigma_x=$186.37 $\\mu$ m\n",
      "$\\sigma_x=$316.62 $\\mu$ m\n"
     ]
    },
    {
     "data": {
      "image/png": "[encoded data removed]",
      "text/plain": [
       "<Figure size 936x936 with 4 Axes>"
      ]
     },
     "metadata": {
      "needs_background": "light"
     },
     "output_type": "display_data"
    }
   ],
   "source": [
    "f, ((ax1, ax2), (ax3, ax4)) = plt.subplots(2, 2)\n",
    "ax1.plot(x1, y1,'bo')\n",
    "\n",
    "Showscale(x1av,y1av,wdt,scalelabel,ax1)\n",
    "Showstat(x1av,y1av,wdt,x1std,y1std,ax1)\n",
    "\n",
    "x1calc=Dispersion(400*1e-6,aeff,Filt_D*m_to_mm)\n",
    "y1calc=0\n",
    "\n",
    "\n",
    "#ax1.set_xlim(x1av-wdt/2,x1av+wdt/2)\n",
    "#ax1.set_ylim(y1av-wdt/2,y1av+wdt/2)\n",
    "\n",
    "ax1.set_xlim(x1calc-wdt/2,x1calc+wdt/2)\n",
    "ax1.set_ylim(y1calc-wdt/2,y1calc+wdt/2)\n",
    "\n",
    "#circle1=ShowCircle(x1av, x1av, seeing_radius)\n",
    "circle1 = Circle((x1av, y1av), seeing_radius, linewidth=2,edgecolor='grey', facecolor=(0, 0, 0, .0125))\n",
    "ax1.add_artist(circle1)\n",
    "#circle1 = Circle(x1av-wdt*(1./4.), y1av-wdt*(1./4.+1./8.), seeing_radius, linewidth=2,edgecolor='grey', facecolor=(0, 0, 0, .0125))\n",
    "#ax1.add_artist(circle1)\n",
    "#ax1.text(x1av-wdt*(1/2-1/10),y1av-wdt*(1/4-2/8),seeing_str,fontsize=16, fontweight='bold')\n",
    "\n",
    "\n",
    "ax1.set_title('Focal Point Spread : $\\lambda=400$nm',fontweight='bold')\n",
    "ax1.set_xlabel('x (mm)',fontweight='bold')\n",
    "ax1.set_ylabel('y (mm)',fontweight='bold')\n",
    "ax1.set_aspect(\"equal\")\n",
    "ax1.grid()\n",
    "#----\n",
    "ax2.plot(x2, y2,'go')\n",
    "Showscale(x2av,y2av,wdt,scalelabel,ax2)\n",
    "Showstat(x2av,y2av,wdt,x2std,y2std,ax2)\n",
    "\n",
    "x2calc=Dispersion(600*1e-6,aeff,Filt_D*m_to_mm)\n",
    "y2calc=0\n",
    "\n",
    "\n",
    "#ShowCircle(x2av, x2av, seeing_radius,ax2)\n",
    "circle2 = Circle((x2av, y2av), seeing_radius, linewidth=2,edgecolor='grey', facecolor=(0, 0, 0, .0125))\n",
    "ax2.add_artist(circle2)\n",
    "#ax2.set_xlim(x2av-wdt/2,x2av+wdt/2)\n",
    "#ax2.set_ylim(y2av-wdt/2,y2av+wdt/2)\n",
    "\n",
    "ax2.set_xlim(x2calc-wdt/2,x2calc+wdt/2)\n",
    "ax2.set_ylim(y2calc-wdt/2,y2calc+wdt/2)\n",
    "\n",
    "ax2.set_xlabel('x (mm)',fontweight='bold')\n",
    "ax2.set_ylabel('y (mm)',fontweight='bold')\n",
    "ax2.grid()\n",
    "ax2.set_aspect(\"equal\")\n",
    "ax2.set_title('Focal Point Spread : $\\lambda=600$nm',fontweight='bold')\n",
    "#--------\n",
    "\n",
    "x3calc=Dispersion(800*1e-6,aeff,Filt_D*m_to_mm)\n",
    "y3calc=0\n",
    "\n",
    "\n",
    "\n",
    "ax3.plot(x3, y3,'ro')\n",
    "Showscale(x3av,y3av,wdt,scalelabel,ax3)\n",
    "Showstat(x3av,y3av,wdt,x3std,y3std,ax3)\n",
    "circle3 = Circle((x3av, y3av), seeing_radius, linewidth=2,edgecolor='grey', facecolor=(0, 0, 0, .0125))\n",
    "ax3.add_artist(circle3)\n",
    "#ax3.set_xlim(x3av-wdt/2,x3av+wdt/2)\n",
    "#ax3.set_ylim(y3av-wdt/2,y3av+wdt/2)\n",
    "\n",
    "ax3.set_xlim(x3calc-wdt/2,x3calc+wdt/2)\n",
    "ax3.set_ylim(y3calc-wdt/2,y3calc+wdt/2)\n",
    "\n",
    "ax3.set_xlabel('x (mm)',fontweight='bold')\n",
    "ax3.set_ylabel('y (mm)',fontweight='bold')\n",
    "ax3.grid()\n",
    "ax3.set_aspect(\"equal\")\n",
    "ax3.set_title('Focal Point Spread : $\\lambda=800$nm',fontweight='bold')\n",
    "\n",
    "\n",
    "\n",
    "\n",
    "#-----\n",
    "\n",
    "x4calc=Dispersion(1000*1e-6,aeff,Filt_D*m_to_mm)\n",
    "y4calc=0\n",
    "\n",
    "\n",
    "ax4.plot(x4, y4,'ko')\n",
    "Showscale(x4av,y4av,wdt,scalelabel,ax4)\n",
    "Showstat(x4av,y4av,wdt,x4std,y4std,ax4)\n",
    "circle4 = Circle((x4av, y4av), seeing_radius, linewidth=2,edgecolor='grey', facecolor=(0, 0, 0, .0125))\n",
    "ax4.add_artist(circle4)\n",
    "#ax4.set_xlim(x4av-wdt/2,x4av+wdt/2)\n",
    "#ax4.set_ylim(y4av-wdt/2,y4av+wdt/2)\n",
    "\n",
    "ax4.set_xlim(x4calc-wdt/2,x4calc+wdt/2)\n",
    "ax4.set_ylim(y4calc-wdt/2,y4calc+wdt/2)\n",
    "\n",
    "ax4.set_xlabel('x (mm)',fontweight='bold')\n",
    "ax4.set_ylabel('y (mm)',fontweight='bold')\n",
    "ax4.grid()\n",
    "ax4.set_aspect(\"equal\")\n",
    "ax4.set_title('Focal Point Spread : $\\lambda=1\\mu$m',fontweight='bold')\n",
    "\n",
    "plt.suptitle(fulltitle2,fontsize=16,fontweight='bold',y=1.02)\n",
    "plt.tight_layout()\n",
    "plt.savefig(figname2)"
   ]
  },
  {
   "cell_type": "code",
   "execution_count": 900,
   "metadata": {},
   "outputs": [
    {
     "data": {
      "text/plain": [
       "'seeing 1\" fwhm (61  $\\\\mu m$) '"
      ]
     },
     "execution_count": 900,
     "metadata": {},
     "output_type": "execute_result"
    }
   ],
   "source": [
    "seeing_str"
   ]
  },
  {
   "cell_type": "code",
   "execution_count": 901,
   "metadata": {},
   "outputs": [],
   "source": [
    "if  FLAG_R400:\n",
    " \n",
    "    fwhmx1=FWHMX_R400_SIMBEAM[0] \n",
    "    fwhmy1=FWHMY_R400_SIMBEAM[0] \n",
    "    \n",
    "    fwhmx2=FWHMX_R400_SIMBEAM[1] \n",
    "    fwhmy2=FWHMY_R400_SIMBEAM[1] \n",
    "\n",
    "    fwhmx3=FWHMX_R400_SIMBEAM[2] \n",
    "    fwhmy3=FWHMY_R400_SIMBEAM[2] \n",
    "    \n",
    "    fwhmx4=FWHMX_R400_SIMBEAM[3] \n",
    "    fwhmy4=FWHMY_R400_SIMBEAM[3] \n",
    "\n",
    "elif  FLAG_R300:\n",
    "    \n",
    "    fwhmx1=FWHMX_R300_SIMBEAM[0] \n",
    "    fwhmy1=FWHMY_R300_SIMBEAM[0] \n",
    "    \n",
    "    fwhmx2=FWHMX_R300_SIMBEAM[1] \n",
    "    fwhmy2=FWHMY_R300_SIMBEAM[1] \n",
    "\n",
    "    fwhmx3=FWHMX_R300_SIMBEAM[2] \n",
    "    fwhmy3=FWHMY_R300_SIMBEAM[2] \n",
    "    \n",
    "    fwhmx4=FWHMX_R300_SIMBEAM[3] \n",
    "    fwhmy4=FWHMY_R300_SIMBEAM[3]\n",
    "    \n",
    "elif  FLAG_HOE:  \n",
    "    \n",
    "    fwhmx1=FWHMX_HOE_SIMBEAM[0] \n",
    "    fwhmy1=FWHMY_HOE_SIMBEAM[0] \n",
    "    \n",
    "    fwhmx2=FWHMX_HOE_SIMBEAM[1] \n",
    "    fwhmy2=FWHMY_HOE_SIMBEAM[1] \n",
    "\n",
    "    fwhmx3=FWHMX_HOE_SIMBEAM[2] \n",
    "    fwhmy3=FWHMY_HOE_SIMBEAM[2] \n",
    "    \n",
    "    fwhmx4=FWHMX_HOE_SIMBEAM[3] \n",
    "    fwhmy4=FWHMY_HOE_SIMBEAM[3]\n"
   ]
  },
  {
   "cell_type": "code",
   "execution_count": 902,
   "metadata": {},
   "outputs": [
    {
     "data": {
      "image/png": "[encoded data removed]",
      "text/plain": [
       "<Figure size 1296x432 with 4 Axes>"
      ]
     },
     "metadata": {
      "needs_background": "light"
     },
     "output_type": "display_data"
    }
   ],
   "source": [
    "f, ((ax1, ax2, ax3, ax4)) = plt.subplots(1, 4,figsize=(18,6),sharey=True)\n",
    "#-----\n",
    "ax1.plot(x1, y1,'bo')\n",
    "#Showscale2(x1av,y1av,wdt,scalelabel,ax1)\n",
    "Showscale3(x1av,y1av,wdt,0.2,\"$200 \\mu m$\",ax1)\n",
    "#Showstat2(x1av,y1av,wdt,x1std,y1std,ax1)\n",
    "Showstat4(x1av,y1av,wdt,fwhmx1,fwhmy1,ax1)\n",
    "circle1 = Circle((x1av-wdt/4, y1av-wdt/2*3/4), seeing_radius, linewidth=3,edgecolor='black', facecolor=(0, 0, 0, .0125))\n",
    "ax1.text(x1av-wdt/2*(1-1/5), y1av-wdt/2*3/4*(1-2/5),seeing_str1,fontsize=16, fontweight='bold')\n",
    "ax1.text(x1av-wdt/2*(1-1/5), y1av-wdt/2*3/4*(1-1/5),seeing_str2,fontsize=16, fontweight='bold')\n",
    "ax1.add_artist(circle1)\n",
    "ax1.set_xlim(x1av-wdt/2,x1av+wdt/2)\n",
    "ax1.set_ylim(y1av-wdt/2,y1av+wdt/2)\n",
    "ax1.set_title('$\\lambda=400 nm$',fontweight='bold',color=\"b\",fontsize=20)\n",
    "ax1.set_xlabel('u (mm)',fontweight='bold',fontsize=20)\n",
    "ax1.set_ylabel('v (mm)',fontweight='bold',fontsize=20)\n",
    "ax1.set_aspect('equal')\n",
    "#ax1.grid()\n",
    "#----\n",
    "ax2.plot(x2, y2,'go')\n",
    "#Showscale2(x2av,y2av,wdt,scalelabel,ax2)\n",
    "Showscale3(x2av,y2av,wdt,0.2,\"$200 \\mu m$\",ax2)\n",
    "#Showstat2(x2av,y2av,wdt,x2std,y2std,ax2)  # plot std\n",
    "Showstat4(x2av,y2av,wdt,fwhmx2,fwhmy2,ax2) # plot fwhm\n",
    "#circle2 = Circle((x2av-wdt/4, y2av-wdt/2*3/4), seeing_radius, linewidth=2,edgecolor='grey', facecolor=(0, 0, 0, .0125))\n",
    "#ax2.text(x2av-wdt/2*(1-1/5), y2av-wdt/2*3/4*(1-1/5),seeing_str,fontsize=16, fontweight='bold')\n",
    "#ax2.add_artist(circle2)\n",
    "ax2.set_xlim(x2av-wdt/2,x2av+wdt/2)\n",
    "ax2.set_ylim(y2av-wdt/2,y2av+wdt/2)\n",
    "ax2.set_xlabel('u (mm)',fontweight='bold',fontsize=20)\n",
    "#ax2.set_ylabel('y (mm)',fontweight='bold')\n",
    "#ax2.grid()\n",
    "ax2.set_aspect('equal')\n",
    "ax2.set_title('$\\lambda=600 nm$',fontweight='bold',color=\"g\",fontsize=20)\n",
    "#--------\n",
    "ax3.plot(x3, y3,'ro')\n",
    "#Showscale2(x3av,y3av,wdt,scalelabel,ax3)\n",
    "Showscale3(x3av,y3av,wdt,0.2,\"$200 \\mu m$\",ax3)\n",
    "#Showstat2(x3av,y3av,wdt,x3std,y3std,ax3) # plot sigma\n",
    "Showstat4(x3av,y3av,wdt,fwhmx3,fwhmy3,ax3) # plot fwhm\n",
    "#circle3 = Circle((x3av-wdt/4, y3av-wdt/2*3/4), seeing_radius, linewidth=2,edgecolor='grey', facecolor=(0, 0, 0, .0125))\n",
    "#ax3.text(x3av-wdt/2*(1-1/5), y3av-wdt/2*3/4*(1-1/5),seeing_str,fontsize=16, fontweight='bold')\n",
    "#ax3.add_artist(circle3)\n",
    "ax3.set_xlim(x3av-wdt/2,x3av+wdt/2)\n",
    "ax3.set_ylim(y3av-wdt/2,y3av+wdt/2)\n",
    "ax3.set_xlabel('u (mm)',fontweight='bold',fontsize=20)\n",
    "#ax3.set_ylabel('y (mm)',fontweight='bold')\n",
    "#ax3.grid()\n",
    "ax3.set_aspect('equal')\n",
    "ax3.set_title('$\\lambda=800 nm$',fontweight='bold',color=\"r\",fontsize=20)\n",
    "#-----\n",
    "ax4.plot(x4, y4,'ko')\n",
    "#Showscale2(x4av,y4av,wdt,scalelabel,ax4)\n",
    "Showscale3(x4av,y4av,wdt,0.2,\"$200 \\mu m$\",ax4)\n",
    "#Showstat2(x4av,y4av,wdt,x4std,y4std,ax4) # plt sigma\n",
    "Showstat4(x4av,y4av,wdt,fwhmx4,fwhmy4,ax4) # plot fwhm\n",
    "#circle4 = Circle((x4av-wdt/4, y4av-wdt/2*3/4), seeing_radius, linewidth=2,edgecolor='grey', facecolor=(0, 0, 0, .0125))\n",
    "#ax4.text(x4av-wdt/2*(1-1/5), y4av-wdt/2*3/4*(1-1/5),seeing_str,fontsize=16, fontweight='bold')\n",
    "#ax4.add_artist(circle4)\n",
    "ax4.set_xlim(x4av-wdt/2,x4av+wdt/2)\n",
    "ax4.set_ylim(y4av-wdt/2,y4av+wdt/2)\n",
    "ax4.set_xlabel('u (mm)',fontweight='bold',fontsize=20)\n",
    "ax4.set_aspect('equal')\n",
    "#ax4.set_ylabel('y (mm)',fontweight='bold')\n",
    "#ax4.grid()\n",
    "ax4.set_title('$\\lambda=1\\mu m$',fontweight='bold',color=\"k\",fontsize=20)\n",
    "#plt.suptitle(fulltitle2,fontsize=16,fontweight='bold',y=1.02)\n",
    "\n",
    "\n",
    "plt.tight_layout()\n",
    "plt.subplots_adjust(wspace=0.05)\n",
    "plt.savefig(figname3)"
   ]
  },
  {
   "cell_type": "code",
   "execution_count": 903,
   "metadata": {},
   "outputs": [],
   "source": [
    "seeing_str='\\n'.join((\n",
    "    r'{}'.format(seeing_str1),\n",
    "    r'{}'.format(seeing_str2)))"
   ]
  },
  {
   "cell_type": "code",
   "execution_count": 904,
   "metadata": {},
   "outputs": [
    {
     "name": "stdout",
     "output_type": "stream",
     "text": [
      "x1av-x1calc= 0.006517923390958913\n",
      "x2av-x2calc= 0.010543878386341632\n",
      "x3av-x3calc= 0.015699830462423847\n",
      "x4av-x4calc= 0.022827572131056684\n"
     ]
    },
    {
     "data": {
      "image/png": "[encoded data removed]",
      "text/plain": [
       "<Figure size 1296x432 with 4 Axes>"
      ]
     },
     "metadata": {
      "needs_background": "light"
     },
     "output_type": "display_data"
    }
   ],
   "source": [
    "f, ((ax1, ax2, ax3, ax4)) = plt.subplots(1, 4,figsize=(18,6),sharey=True)\n",
    "#-----\n",
    "ax1.plot(x1, y1,'bo')\n",
    "\n",
    "x1calc=Dispersion(400*1e-6,aeff,Filt_D*m_to_mm)\n",
    "y1calc=0\n",
    "\n",
    "\n",
    "ob = AnchoredHScaleBar(size=0.2, label=\"200$\\mu$m\", loc=4, frameon=False,pad=0.6,sep=4, linekw=dict(color=\"crimson\"),textkw=dict(color=\"black\",fontsize=20)) \n",
    "ax1.add_artist(ob) \n",
    "stat_str=GetStatStr2(fwhmx1,fwhmy1)\n",
    "#props = dict(boxstyle='round', facecolor='white', alpha=0.5)\n",
    "props = dict(boxstyle='round',edgecolor=\"w\",facecolor=\"w\", alpha=0.5)\n",
    "# place a text box in upper left in axes coords\n",
    "ax1.text(0.05, 0.95, stat_str, transform=ax1.transAxes, fontsize=22,fontweight='bold',verticalalignment='top', bbox=props)\n",
    "ax1.text(0.05, 0.35, seeing_str, transform=ax1.transAxes, fontsize=22,verticalalignment='top', bbox=props)\n",
    "circle1 = Circle((x1av-wdt/4, y1av-wdt/2*3/4), seeing_radius, linewidth=3,edgecolor='black', facecolor=(0, 0, 0, .0125))\n",
    "ax1.add_artist(circle1)\n",
    "\n",
    "#ax1.set_xlim(x1av-wdt/2,x1av+wdt/2)\n",
    "#ax1.set_ylim(y1av-wdt/2,y1av+wdt/2)\n",
    "\n",
    "ax1.set_xlim(x1calc-wdt/2,x1calc+wdt/2)\n",
    "ax1.set_ylim(y1calc-wdt/2,y1calc+wdt/2)\n",
    "ax1.scatter(x1av,y1av,marker=\"+\",s=50,color=\"grey\")\n",
    "ax1.axvline(x=x1calc,color=\"grey\")\n",
    "ax1.axhline(y=y1calc,color=\"grey\")\n",
    "\n",
    "print(\"x1av-x1calc=\",x1av-x1calc)\n",
    "\n",
    "\n",
    "ax1.set_title('$\\lambda=400 nm$',fontweight='bold',color=\"b\",fontsize=22)\n",
    "ax1.set_xlabel('u (mm)',fontweight='bold',fontsize=22)\n",
    "ax1.set_ylabel('v (mm)',fontweight='bold',fontsize=22)\n",
    "ax1.set_aspect('equal')\n",
    "#ax1.grid()\n",
    "#----\n",
    "ax2.plot(x2, y2,'go')\n",
    "\n",
    "x2calc=Dispersion(600*1e-6,aeff,Filt_D*m_to_mm)\n",
    "y2calc=0\n",
    "\n",
    "ob = AnchoredHScaleBar(size=0.2, label=\"200$\\mu$m\", loc=4, frameon=False,pad=0.6,sep=4, linekw=dict(color=\"crimson\"),textkw=dict(color=\"black\",fontsize=20)) \n",
    "ax2.add_artist(ob) \n",
    "stat_str=GetStatStr2(fwhmx2,fwhmy2)\n",
    "props = dict(boxstyle='round',edgecolor=\"w\",facecolor=\"w\", alpha=0.5)\n",
    "# place a text box in upper left in axes coords\n",
    "ax2.text(0.05, 0.95, stat_str, transform=ax2.transAxes, fontsize=22,fontweight='bold',verticalalignment='top', bbox=props)\n",
    "\n",
    "#ax2.set_xlim(x2av-wdt/2,x2av+wdt/2)\n",
    "#ax2.set_ylim(y2av-wdt/2,y2av+wdt/2)\n",
    "\n",
    "ax2.set_xlim(x2calc-wdt/2,x2calc+wdt/2)\n",
    "ax2.set_ylim(y2calc-wdt/2,y2calc+wdt/2)\n",
    "ax2.axvline(x=x2calc,color=\"grey\")\n",
    "ax2.axhline(y=y2calc,color=\"grey\")\n",
    "print(\"x2av-x2calc=\",x2av-x2calc)\n",
    "\n",
    "ax2.set_xlabel('u (mm)',fontweight='bold',fontsize=22)\n",
    "ax2.set_aspect('equal')\n",
    "ax2.set_title('$\\lambda=600 nm$',fontweight='bold',color=\"g\",fontsize=22)\n",
    "#--------\n",
    "ax3.plot(x3, y3,'ro')\n",
    "\n",
    "x3calc=Dispersion(800*1e-6,aeff,Filt_D*m_to_mm)\n",
    "y3calc=0\n",
    "\n",
    "ob = AnchoredHScaleBar(size=0.2, label=\"200$\\mu$m\", loc=4, frameon=False,pad=0.6,sep=4, linekw=dict(color=\"crimson\"),textkw=dict(color=\"black\",fontsize=20)) \n",
    "ax3.add_artist(ob) \n",
    "stat_str=GetStatStr2(fwhmx3,fwhmy3)\n",
    "props = dict(boxstyle='round',edgecolor=\"w\",facecolor=\"w\", alpha=0.5)\n",
    "# place a text box in upper left in axes coords\n",
    "ax3.text(0.05, 0.95, stat_str, transform=ax3.transAxes, fontsize=22,fontweight='bold',verticalalignment='top', bbox=props)\n",
    "\n",
    "#ax3.set_xlim(x3av-wdt/2,x3av+wdt/2)\n",
    "#ax3.set_ylim(y3av-wdt/2,y3av+wdt/2)\n",
    "ax3.set_xlim(x3calc-wdt/2,x3calc+wdt/2)\n",
    "ax3.set_ylim(y3calc-wdt/2,y3calc+wdt/2)\n",
    "ax3.axvline(x=x3calc,color=\"grey\")\n",
    "ax3.axhline(y=y3calc,color=\"grey\")\n",
    "print(\"x3av-x3calc=\",x3av-x3calc)\n",
    "\n",
    "\n",
    "ax3.set_xlabel('u (mm)',fontweight='bold',fontsize=22)\n",
    "#ax3.set_ylabel('y (mm)',fontweight='bold')\n",
    "#ax3.grid()\n",
    "ax3.set_aspect('equal')\n",
    "ax3.set_title('$\\lambda=800 nm$',fontweight='bold',color=\"r\",fontsize=22)\n",
    "#-----\n",
    "\n",
    "ax4.plot(x4, y4,'ko')\n",
    "\n",
    "x4calc=Dispersion(1000*1e-6,aeff,Filt_D*m_to_mm)\n",
    "y4calc=0\n",
    "\n",
    "\n",
    "ob = AnchoredHScaleBar(size=0.2, label=\"200$\\mu$m\", loc=4, frameon=False,pad=0.6,sep=4, linekw=dict(color=\"crimson\"),textkw=dict(color=\"black\",fontsize=20)) \n",
    "ax4.add_artist(ob) \n",
    "stat_str=GetStatStr2(fwhmx4,fwhmy4)\n",
    "props = dict(boxstyle='round',edgecolor=\"w\",facecolor=\"w\", alpha=0.5)\n",
    "# place a text box in upper left in axes coords\n",
    "ax4.text(0.05, 0.95, stat_str, transform=ax4.transAxes, fontsize=22,fontweight='bold',verticalalignment='top', bbox=props)\n",
    "\n",
    "#ax4.set_xlim(x4av-wdt/2,x4av+wdt/2)\n",
    "#ax4.set_ylim(y4av-wdt/2,y4av+wdt/2)\n",
    "ax4.set_xlim(x4calc-wdt/2,x4calc+wdt/2)\n",
    "ax4.set_ylim(y4calc-wdt/2,y4calc+wdt/2)\n",
    "ax4.axvline(x=x4calc,color=\"grey\")\n",
    "ax4.axhline(y=y4calc,color=\"grey\")\n",
    "print(\"x4av-x4calc=\",x4av-x4calc)\n",
    "\n",
    "ax4.set_xlabel('u (mm)',fontweight='bold',fontsize=22)\n",
    "ax4.set_aspect('equal')\n",
    "#ax4.set_ylabel('y (mm)',fontweight='bold')\n",
    "#ax4.grid()\n",
    "ax4.set_title('$\\lambda=1\\mu m$',fontweight='bold',color=\"k\",fontsize=22)\n",
    "#plt.suptitle(fulltitle2,fontsize=16,fontweight='bold',y=1.02)\n",
    "\n",
    "\n",
    "plt.tight_layout()\n",
    "plt.subplots_adjust(wspace=0.05)\n",
    "plt.savefig(figname3)"
   ]
  },
  {
   "cell_type": "code",
   "execution_count": 905,
   "metadata": {},
   "outputs": [
    {
     "data": {
      "text/plain": [
       "'R400_PSF_Beam4_Rayfile_484_allwl_m00_m00_v2.pdf'"
      ]
     },
     "execution_count": 905,
     "metadata": {},
     "output_type": "execute_result"
    }
   ],
   "source": [
    "figname3"
   ]
  },
  {
   "cell_type": "code",
   "execution_count": 906,
   "metadata": {},
   "outputs": [
    {
     "data": {
      "text/plain": [
       "array(['400nm', '600nm', '800nm', '1000nm'], dtype=object)"
      ]
     },
     "execution_count": 906,
     "metadata": {},
     "output_type": "execute_result"
    }
   ],
   "source": [
    "df_out.index.values"
   ]
  },
  {
   "cell_type": "markdown",
   "metadata": {},
   "source": [
    "# Interpolate"
   ]
  },
  {
   "cell_type": "code",
   "execution_count": 907,
   "metadata": {},
   "outputs": [],
   "source": [
    "def find_nearest_idx(array, value):\n",
    "    array = np.asarray(array)\n",
    "    idx = (np.abs(array - value)).argmin()\n",
    "    return idx"
   ]
  },
  {
   "cell_type": "code",
   "execution_count": 908,
   "metadata": {},
   "outputs": [],
   "source": [
    "from scipy.interpolate import interp1d"
   ]
  },
  {
   "cell_type": "code",
   "execution_count": 909,
   "metadata": {},
   "outputs": [],
   "source": [
    "X=df_out.index.values\n",
    "Y=df_out['xstd'].values*1000 # in microns units"
   ]
  },
  {
   "cell_type": "code",
   "execution_count": 910,
   "metadata": {},
   "outputs": [],
   "source": [
    "X=np.array([400.,600.,800.,1000.])"
   ]
  },
  {
   "cell_type": "code",
   "execution_count": 911,
   "metadata": {},
   "outputs": [],
   "source": [
    "f = interp1d(X, Y, kind='cubic')"
   ]
  },
  {
   "cell_type": "code",
   "execution_count": 912,
   "metadata": {},
   "outputs": [],
   "source": [
    "Xint=np.linspace(X[0],X[-1],100)\n",
    "Yint=f(Xint)"
   ]
  },
  {
   "cell_type": "code",
   "execution_count": 913,
   "metadata": {
    "scrolled": false
   },
   "outputs": [
    {
     "data": {
      "image/png": "[encoded data removed]",
      "text/plain": [
       "<Figure size 864x576 with 1 Axes>"
      ]
     },
     "metadata": {
      "needs_background": "light"
     },
     "output_type": "display_data"
    }
   ],
   "source": [
    "plt.figure(figsize=(12,8))\n",
    "plt.plot(X,Y,'ro')\n",
    "plt.plot(Xint,Yint,\"r--\")\n",
    "plt.title(\" Beam spot RMS (dispersion axis) \")\n",
    "plt.xlabel(\"$\\lambda$\")\n",
    "plt.ylabel(\"$\\sigma_x$ ($\\mu \\, m$)\")\n",
    "plt.grid()"
   ]
  },
  {
   "cell_type": "code",
   "execution_count": 914,
   "metadata": {},
   "outputs": [],
   "source": [
    "idx=find_nearest_idx(Xint,750)"
   ]
  },
  {
   "cell_type": "code",
   "execution_count": 915,
   "metadata": {},
   "outputs": [
    {
     "data": {
      "text/plain": [
       "161.63755623706732"
      ]
     },
     "execution_count": 915,
     "metadata": {},
     "output_type": "execute_result"
    }
   ],
   "source": [
    "Yint[idx]"
   ]
  },
  {
   "cell_type": "code",
   "execution_count": 916,
   "metadata": {},
   "outputs": [
    {
     "data": {
      "text/plain": [
       "2.650855922287904"
      ]
     },
     "execution_count": 916,
     "metadata": {},
     "output_type": "execute_result"
    }
   ],
   "source": [
    "Yint[idx]*16.4/1000"
   ]
  },
  {
   "cell_type": "code",
   "execution_count": 917,
   "metadata": {},
   "outputs": [],
   "source": [
    "idx=find_nearest_idx(Xint,1000)"
   ]
  },
  {
   "cell_type": "code",
   "execution_count": 918,
   "metadata": {},
   "outputs": [
    {
     "data": {
      "text/plain": [
       "316.6228047721986"
      ]
     },
     "execution_count": 918,
     "metadata": {},
     "output_type": "execute_result"
    }
   ],
   "source": [
    "Yint[idx]"
   ]
  },
  {
   "cell_type": "code",
   "execution_count": 919,
   "metadata": {},
   "outputs": [
    {
     "data": {
      "text/plain": [
       "5.192613998264057"
      ]
     },
     "execution_count": 919,
     "metadata": {},
     "output_type": "execute_result"
    }
   ],
   "source": [
    "Yint[idx]*16.4/1000"
   ]
  },
  {
   "cell_type": "code",
   "execution_count": null,
   "metadata": {},
   "outputs": [],
   "source": []
  }
 ],
 "metadata": {
  "anaconda-cloud": {},
  "kernelspec": {
   "display_name": "Python 3",
   "language": "python",
   "name": "python3"
  },
  "language_info": {
   "codemirror_mode": {
    "name": "ipython",
    "version": 3
   },
   "file_extension": ".py",
   "mimetype": "text/x-python",
   "name": "python",
   "nbconvert_exporter": "python",
   "pygments_lexer": "ipython3",
   "version": "3.8.5"
  },
  "toc": {
   "nav_menu": {},
   "number_sections": true,
   "sideBar": true,
   "skip_h1_title": false,
   "toc_cell": false,
   "toc_position": {},
   "toc_section_display": "block",
   "toc_window_display": false
  }
 },
 "nbformat": 4,
 "nbformat_minor": 2
}
