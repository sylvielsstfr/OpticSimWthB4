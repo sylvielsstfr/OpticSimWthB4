{
 "cells": [
  {
   "cell_type": "code",
   "execution_count": 1,
   "metadata": {},
   "outputs": [],
   "source": [
    "%matplotlib inline"
   ]
  },
  {
   "cell_type": "markdown",
   "metadata": {},
   "source": [
    "\n",
    "# Nested Gridspecs\n",
    "\n",
    "\n",
    "GridSpecs can be nested, so that a subplot from a parent GridSpec can\n",
    "set the position for a nested grid of subplots.\n"
   ]
  },
  {
   "cell_type": "code",
   "execution_count": 2,
   "metadata": {},
   "outputs": [
    {
     "data": {
      "image/png": "[encoded data removed]",
      "text/plain": [
       "<Figure size 432x288 with 6 Axes>"
      ]
     },
     "metadata": {},
     "output_type": "display_data"
    }
   ],
   "source": [
    "import matplotlib.pyplot as plt\n",
    "import matplotlib.gridspec as gridspec\n",
    "\n",
    "\n",
    "def format_axes(fig):\n",
    "    for i, ax in enumerate(fig.axes):\n",
    "        ax.text(0.5, 0.5, \"ax%d\" % (i+1), va=\"center\", ha=\"center\")\n",
    "        ax.tick_params(labelbottom=False, labelleft=False)\n",
    "\n",
    "\n",
    "# gridspec inside gridspec\n",
    "f = plt.figure()\n",
    "\n",
    "gs0 = gridspec.GridSpec(1, 2, figure=f)\n",
    "\n",
    "gs00 = gridspec.GridSpecFromSubplotSpec(3, 3, subplot_spec=gs0[0])\n",
    "\n",
    "ax1 = f.add_subplot(gs00[:-1, :])\n",
    "ax2 = f.add_subplot(gs00[-1, :-1])\n",
    "ax3 = f.add_subplot(gs00[-1, -1])\n",
    "\n",
    "# the following syntax does the same as the GridSpecFromSubplotSpec call above:\n",
    "gs01 = gs0[1].subgridspec(3, 3)\n",
    "\n",
    "ax4 = f.add_subplot(gs01[:, :-1])\n",
    "ax5 = f.add_subplot(gs01[:-1, -1])\n",
    "ax6 = f.add_subplot(gs01[-1, -1])\n",
    "\n",
    "plt.suptitle(\"GridSpec Inside GridSpec\")\n",
    "format_axes(f)\n",
    "\n",
    "plt.show()"
   ]
  }
 ],
 "metadata": {
  "kernelspec": {
   "display_name": "Python 3",
   "language": "python",
   "name": "python3"
  },
  "language_info": {
   "codemirror_mode": {
    "name": "ipython",
    "version": 3
   },
   "file_extension": ".py",
   "mimetype": "text/x-python",
   "name": "python",
   "nbconvert_exporter": "python",
   "pygments_lexer": "ipython3",
   "version": "3.7.6"
  },
  "toc": {
   "nav_menu": {},
   "number_sections": true,
   "sideBar": true,
   "skip_h1_title": false,
   "toc_cell": false,
   "toc_position": {},
   "toc_section_display": "block",
   "toc_window_display": false
  }
 },
 "nbformat": 4,
 "nbformat_minor": 1
}
